{
 "cells": [
  {
   "cell_type": "markdown",
   "id": "78c6b62d",
   "metadata": {},
   "source": [
    "https://www.kaggle.com/c/word2vec-nlp-tutorial\n"
   ]
  },
  {
   "cell_type": "markdown",
   "id": "5896804d",
   "metadata": {},
   "source": [
    "# 진행할 것"
   ]
  },
  {
   "cell_type": "markdown",
   "id": "3fe4eb22",
   "metadata": {},
   "source": [
    "* 데이터의 크기 확인\n",
    "* 데이터의 수를 확인\n",
    "* 각 리뷰의 문자 길이\n",
    "* 많이 사용되는 단어\n",
    "* 타겟 : 극/부정의 분포\n",
    "* 각 리부에 사용되는 단어의 수\n",
    "* 특수문자, 대문자, 소문자 등에 대한 비율 -> 전처리"
   ]
  },
  {
   "cell_type": "code",
   "execution_count": 1,
   "id": "e8ba8854",
   "metadata": {},
   "outputs": [],
   "source": [
    "import numpy as np\n",
    "import pandas as pd\n",
    "import seaborn as sns\n",
    "import matplotlib.pyplot as plt\n",
    "%matplotlib inline\n"
   ]
  },
  {
   "cell_type": "markdown",
   "id": "db4eb008",
   "metadata": {},
   "source": [
    "* 코드로 압축 파일 해제하는 방법"
   ]
  },
  {
   "cell_type": "code",
   "execution_count": 2,
   "id": "e4e9b5f8",
   "metadata": {},
   "outputs": [],
   "source": [
    "import os # 운영체제 관련\n",
    "import zipfile # 압축 파일 처리 관련"
   ]
  },
  {
   "cell_type": "code",
   "execution_count": 3,
   "id": "3ed6ac01",
   "metadata": {},
   "outputs": [],
   "source": [
    "# 압축을 풀려고 하는 파일이 있는 폴더 경로\n",
    "DATA_IN_PATH = \"./data/\"\n",
    "\n",
    "# 압축을 풀고자 하는 파일 이름 리스트\n",
    "file_list = [\"labeledTrainData.tsv.zip\", \"unlabeledTrainData.tsv.zip\", \"testData.tsv.zip\"]\n",
    "\n",
    "for file in file_list:\n",
    "    zip_ref = zipfile.ZipFile(DATA_IN_PATH +file, \"r\" ) #압축 풀 파일 경로\n",
    "    zip_ref.extractall(DATA_IN_PATH)  # 풀어서 어디에 둘지 폴더 경로\n",
    "    zip_ref.close()\n"
   ]
  },
  {
   "cell_type": "markdown",
   "id": "33e17c35",
   "metadata": {},
   "source": [
    "* 데이터 불러와서 확인"
   ]
  },
  {
   "cell_type": "code",
   "execution_count": 4,
   "id": "e23aec39",
   "metadata": {},
   "outputs": [
    {
     "name": "stdout",
     "output_type": "stream",
     "text": [
      "labeledTrainData.tsv          12288\n",
      "testData.tsv                  12288\n",
      "unlabeledTrainData.tsv        12288\n"
     ]
    }
   ],
   "source": [
    "for file in os.listdir(DATA_IN_PATH):\n",
    "    if \"tsv\" in file and \"zip\" not in file:\n",
    "        print(file.ljust(30) + str(os.path.getsize(DATA_IN_PATH)))"
   ]
  },
  {
   "cell_type": "markdown",
   "id": "4688e00c",
   "metadata": {},
   "source": [
    "* DF로 tsv -> csv 동일한데, 구분자를 tab 사용.  read_csv(del=>)"
   ]
  },
  {
   "cell_type": "code",
   "execution_count": 5,
   "id": "c8d0d611",
   "metadata": {},
   "outputs": [
    {
     "data": {
      "text/html": [
       "<div>\n",
       "<style scoped>\n",
       "    .dataframe tbody tr th:only-of-type {\n",
       "        vertical-align: middle;\n",
       "    }\n",
       "\n",
       "    .dataframe tbody tr th {\n",
       "        vertical-align: top;\n",
       "    }\n",
       "\n",
       "    .dataframe thead th {\n",
       "        text-align: right;\n",
       "    }\n",
       "</style>\n",
       "<table border=\"1\" class=\"dataframe\">\n",
       "  <thead>\n",
       "    <tr style=\"text-align: right;\">\n",
       "      <th></th>\n",
       "      <th>id</th>\n",
       "      <th>sentiment</th>\n",
       "      <th>review</th>\n",
       "    </tr>\n",
       "  </thead>\n",
       "  <tbody>\n",
       "    <tr>\n",
       "      <th>0</th>\n",
       "      <td>\"5814_8\"</td>\n",
       "      <td>1</td>\n",
       "      <td>\"With all this stuff going down at the moment ...</td>\n",
       "    </tr>\n",
       "    <tr>\n",
       "      <th>1</th>\n",
       "      <td>\"2381_9\"</td>\n",
       "      <td>1</td>\n",
       "      <td>\"\\\"The Classic War of the Worlds\\\" by Timothy ...</td>\n",
       "    </tr>\n",
       "    <tr>\n",
       "      <th>2</th>\n",
       "      <td>\"7759_3\"</td>\n",
       "      <td>0</td>\n",
       "      <td>\"The film starts with a manager (Nicholas Bell...</td>\n",
       "    </tr>\n",
       "    <tr>\n",
       "      <th>3</th>\n",
       "      <td>\"3630_4\"</td>\n",
       "      <td>0</td>\n",
       "      <td>\"It must be assumed that those who praised thi...</td>\n",
       "    </tr>\n",
       "    <tr>\n",
       "      <th>4</th>\n",
       "      <td>\"9495_8\"</td>\n",
       "      <td>1</td>\n",
       "      <td>\"Superbly trashy and wondrously unpretentious ...</td>\n",
       "    </tr>\n",
       "  </tbody>\n",
       "</table>\n",
       "</div>"
      ],
      "text/plain": [
       "         id  sentiment                                             review\n",
       "0  \"5814_8\"          1  \"With all this stuff going down at the moment ...\n",
       "1  \"2381_9\"          1  \"\\\"The Classic War of the Worlds\\\" by Timothy ...\n",
       "2  \"7759_3\"          0  \"The film starts with a manager (Nicholas Bell...\n",
       "3  \"3630_4\"          0  \"It must be assumed that those who praised thi...\n",
       "4  \"9495_8\"          1  \"Superbly trashy and wondrously unpretentious ..."
      ]
     },
     "execution_count": 5,
     "metadata": {},
     "output_type": "execute_result"
    }
   ],
   "source": [
    "\n",
    "train_data = pd.read_csv(DATA_IN_PATH + \"labeledTrainData.tsv\", header=0 , delimiter=\"\\t\", quoting=3)\n",
    "train_data.head()\n"
   ]
  },
  {
   "cell_type": "markdown",
   "id": "4f1f9052",
   "metadata": {},
   "source": [
    "* 데이터 수 확인"
   ]
  },
  {
   "cell_type": "code",
   "execution_count": 6,
   "id": "47a947a0",
   "metadata": {},
   "outputs": [
    {
     "data": {
      "text/plain": [
       "25000"
      ]
     },
     "execution_count": 6,
     "metadata": {},
     "output_type": "execute_result"
    }
   ],
   "source": [
    "len(train_data)"
   ]
  },
  {
   "cell_type": "markdown",
   "id": "3ae7b564",
   "metadata": {},
   "source": [
    "* 각 리뷰의 문자 길이 값"
   ]
  },
  {
   "cell_type": "code",
   "execution_count": 7,
   "id": "1e8df860",
   "metadata": {},
   "outputs": [
    {
     "data": {
      "text/plain": [
       "0    2304\n",
       "1     948\n",
       "2    2451\n",
       "3    2247\n",
       "4    2233\n",
       "Name: review, dtype: int64"
      ]
     },
     "execution_count": 7,
     "metadata": {},
     "output_type": "execute_result"
    }
   ],
   "source": [
    "# train_length = train_data[\"review\"].apply(lambda x : len(x))\n",
    "train_length = train_data[\"review\"].apply(len)\n",
    "train_length.head()"
   ]
  },
  {
   "cell_type": "markdown",
   "id": "00e4870b",
   "metadata": {},
   "source": [
    "* 각 리뷰별 단어 수 그래프"
   ]
  },
  {
   "cell_type": "code",
   "execution_count": 8,
   "id": "c3ff87ad",
   "metadata": {},
   "outputs": [
    {
     "name": "stderr",
     "output_type": "stream",
     "text": [
      "<ipython-input-8-42d39a46e827>:11: MatplotlibDeprecationWarning: The 'nonposy' parameter of __init__() has been renamed 'nonpositive' since Matplotlib 3.3; support for the old name will be dropped two minor releases later.\n",
      "  plt.yscale('log', nonposy='clip')\n"
     ]
    },
    {
     "data": {
      "text/plain": [
       "Text(0, 0.5, 'Number of review')"
      ]
     },
     "execution_count": 8,
     "metadata": {},
     "output_type": "execute_result"
    },
    {
     "data": {
      "image/png": "[encoded data removed]",
      "text/plain": [
       "<Figure size 864x360 with 1 Axes>"
      ]
     },
     "metadata": {
      "needs_background": "light"
     },
     "output_type": "display_data"
    }
   ],
   "source": [
    "# 그래프에 대한 이미지 사이즈 선언\n",
    "# figsize: (가로, 세로) 형태의 튜플로 입력\n",
    "plt.figure(figsize=(12, 5))\n",
    "# 히스토그램 선언\n",
    "# bins: 히스토그램 값들에 대한 버켓 범위\n",
    "# range: x축 값의 범위\n",
    "# alpha: 그래프 색상 투명도\n",
    "# color: 그래프 색상\n",
    "# label: 그래프에 대한 라벨\n",
    "plt.hist(train_length, bins=200, alpha=0.5, color= 'r', label='word')\n",
    "plt.yscale('log', nonposy='clip')\n",
    "# 그래프 제목\n",
    "plt.title('Log-Histogram of length of review')\n",
    "# 그래프 x 축 라벨\n",
    "plt.xlabel('Length of review')\n",
    "# 그래프 y 축 라벨\n",
    "plt.ylabel('Number of review')\n"
   ]
  },
  {
   "cell_type": "markdown",
   "id": "0d11a8e6",
   "metadata": {},
   "source": [
    "-> 대부분의 리뷰가 거의  6000자 이하로 작성됨. .. 대다수가 1000~6000 사이인듯"
   ]
  },
  {
   "cell_type": "markdown",
   "id": "aaec450b",
   "metadata": {},
   "source": [
    "-> 글자수가 8000,10000이상인 것들은 이상치.. 너무 좋아서 흥분해서 길게 or 너무 화나서 흥분해서 길게"
   ]
  },
  {
   "cell_type": "code",
   "execution_count": 9,
   "id": "4517a926",
   "metadata": {},
   "outputs": [
    {
     "name": "stdout",
     "output_type": "stream",
     "text": [
      "리뷰 최대 길이 13710\n",
      "리뷰 최소 길이 54\n",
      "리뷰 평균 길이 1329.71056\n",
      "리뷰 길이 표준편차 1005.2191407969154\n",
      "리뷰 길이 중앙값 983.0\n",
      "리뷰 길이 사분위 25: 705.0\n",
      "리뷰 길이 사분위 75: 1619.0\n"
     ]
    }
   ],
   "source": [
    "print(\"리뷰 최대 길이\",np.max(train_length))\n",
    "print(\"리뷰 최소 길이\",np.min(train_length))\n",
    "print(\"리뷰 평균 길이\",np.mean(train_length))\n",
    "print(\"리뷰 길이 표준편차\",np.std(train_length))\n",
    "print(\"리뷰 길이 중앙값\",np.median(train_length))\n",
    "\n",
    "print(\"리뷰 길이 사분위 25:\",np.percentile(train_length, 25))\n",
    "print(\"리뷰 길이 사분위 75:\",np.percentile(train_length, 75) )\n"
   ]
  },
  {
   "cell_type": "code",
   "execution_count": 10,
   "id": "1700d961",
   "metadata": {},
   "outputs": [
    {
     "data": {
      "text/plain": [
       "<AxesSubplot:>"
      ]
     },
     "execution_count": 10,
     "metadata": {},
     "output_type": "execute_result"
    },
    {
     "data": {
      "image/png": "[encoded data removed]",
      "text/plain": [
       "<Figure size 432x288 with 1 Axes>"
      ]
     },
     "metadata": {
      "needs_background": "light"
     },
     "output_type": "display_data"
    }
   ],
   "source": [
    "sns.boxplot(data=train_length)\n"
   ]
  },
  {
   "cell_type": "markdown",
   "id": "39587a4f",
   "metadata": {},
   "source": [
    "* 가장 많이 사용되는 단어는?"
   ]
  },
  {
   "cell_type": "code",
   "execution_count": 11,
   "id": "78f5e32e",
   "metadata": {},
   "outputs": [],
   "source": [
    "from wordcloud import WordCloud\n"
   ]
  },
  {
   "cell_type": "code",
   "execution_count": 12,
   "id": "4716fa7e",
   "metadata": {},
   "outputs": [
    {
     "data": {
      "text/plain": [
       "<matplotlib.image.AxesImage at 0x1f139bc0610>"
      ]
     },
     "execution_count": 12,
     "metadata": {},
     "output_type": "execute_result"
    },
    {
     "data": {
      "image/png": "[encoded data removed]",
      "text/plain": [
       "<Figure size 432x288 with 1 Axes>"
      ]
     },
     "metadata": {
      "needs_background": "light"
     },
     "output_type": "display_data"
    }
   ],
   "source": [
    "# 여기서는 text 단순히 띄어쓰기를 기준으로 word cloud만들기 - > 전처리 x\n",
    "cloud = WordCloud(\n",
    "    width=1000,\n",
    "    height = 1000, #글꼴, 배경, mask\n",
    "    \n",
    ").generate(\" \".join(train_data[\"review\"]))\n",
    "plt.imshow(cloud)\n"
   ]
  },
  {
   "cell_type": "markdown",
   "id": "7b2f8b32",
   "metadata": {},
   "source": [
    "-> br 이라는 html상의 tag들이 텍스트 데이터 안에 들어있다. -> 지워야 함. "
   ]
  },
  {
   "cell_type": "markdown",
   "id": "3418ffea",
   "metadata": {},
   "source": [
    "* target : 긍정/부정"
   ]
  },
  {
   "cell_type": "code",
   "execution_count": 13,
   "id": "659a1b59",
   "metadata": {},
   "outputs": [
    {
     "data": {
      "text/plain": [
       "<AxesSubplot:xlabel='sentiment', ylabel='count'>"
      ]
     },
     "execution_count": 13,
     "metadata": {},
     "output_type": "execute_result"
    },
    {
     "data": {
      "image/png": "[encoded data removed]",
      "text/plain": [
       "<Figure size 432x288 with 1 Axes>"
      ]
     },
     "metadata": {
      "needs_background": "light"
     },
     "output_type": "display_data"
    }
   ],
   "source": [
    "sns.countplot(data = train_data, x=\"sentiment\")\n"
   ]
  },
  {
   "cell_type": "code",
   "execution_count": 14,
   "id": "c3fb1492",
   "metadata": {},
   "outputs": [
    {
     "data": {
      "text/plain": [
       "0    12500\n",
       "1    12500\n",
       "Name: sentiment, dtype: int64"
      ]
     },
     "execution_count": 14,
     "metadata": {},
     "output_type": "execute_result"
    }
   ],
   "source": [
    "train_data[\"sentiment\"].value_counts()\n"
   ]
  },
  {
   "cell_type": "markdown",
   "id": "eb7f31c4",
   "metadata": {},
   "source": [
    "* 리뷰 단어 수 분포"
   ]
  },
  {
   "cell_type": "code",
   "execution_count": 15,
   "id": "537c7b37",
   "metadata": {},
   "outputs": [
    {
     "data": {
      "text/plain": [
       "0        433\n",
       "1        158\n",
       "2        378\n",
       "3        379\n",
       "4        367\n",
       "        ... \n",
       "24995     95\n",
       "24996    174\n",
       "24997    127\n",
       "24998    197\n",
       "24999    184\n",
       "Name: review, Length: 25000, dtype: int64"
      ]
     },
     "execution_count": 15,
     "metadata": {},
     "output_type": "execute_result"
    }
   ],
   "source": [
    "train_word_counts = train_data[\"review\"].apply(lambda x : len(x.split(\" \")))\n",
    "train_word_counts\n"
   ]
  },
  {
   "cell_type": "code",
   "execution_count": 16,
   "id": "6d1e4360",
   "metadata": {},
   "outputs": [
    {
     "name": "stderr",
     "output_type": "stream",
     "text": [
      "<ipython-input-16-85d52b889cc4>:4: MatplotlibDeprecationWarning: The 'nonposy' parameter of __init__() has been renamed 'nonpositive' since Matplotlib 3.3; support for the old name will be dropped two minor releases later.\n",
      "  plt.yscale('log', nonposy='clip')\n"
     ]
    },
    {
     "data": {
      "text/plain": [
       "Text(0, 0.5, 'Number of reviews')"
      ]
     },
     "execution_count": 16,
     "metadata": {},
     "output_type": "execute_result"
    },
    {
     "data": {
      "image/png": "[encoded data removed]",
      "text/plain": [
       "<Figure size 1080x720 with 1 Axes>"
      ]
     },
     "metadata": {
      "needs_background": "light"
     },
     "output_type": "display_data"
    }
   ],
   "source": [
    "plt.figure(figsize=(15, 10))\n",
    "plt.hist(train_word_counts, bins=50, facecolor='r',label='train')\n",
    "plt.title('Log-Histogram of word count in review', fontsize=15)\n",
    "plt.yscale('log', nonposy='clip')\n",
    "plt.legend()\n",
    "plt.xlabel('Number of words', fontsize=15)\n",
    "plt.ylabel('Number of reviews', fontsize=15)\n"
   ]
  },
  {
   "cell_type": "markdown",
   "id": "cc27df74",
   "metadata": {},
   "source": [
    "-> 리뷰 하나에 단어 (띄어쓰기 기준) 가 1000개로 구성됨. 200 전후가 가장 많음."
   ]
  },
  {
   "cell_type": "code",
   "execution_count": 17,
   "id": "00eca3f1",
   "metadata": {},
   "outputs": [
    {
     "name": "stdout",
     "output_type": "stream",
     "text": [
      "리뷰 단어 최대 길이 값 2470\n",
      "리뷰 단어 최소 길이 값 10\n",
      "리뷰 단어 평균 길이 값 233.78624\n",
      "리뷰 단어 표준편차 길이 값 173.74237015380743\n",
      "리뷰 단어 중앙값 값 174.0\n",
      "리뷰 사분위 25 127.0\n",
      "리뷰 사분위 75 284.0\n"
     ]
    }
   ],
   "source": [
    "print(\"리뷰 단어 최대 길이 값\", np.max(train_word_counts))\n",
    "print(\"리뷰 단어 최소 길이 값\", np.min(train_word_counts))\n",
    "print(\"리뷰 단어 평균 길이 값\", np.mean(train_word_counts))\n",
    "print(\"리뷰 단어 표준편차 길이 값\", np.std(train_word_counts))\n",
    "print(\"리뷰 단어 중앙값 값\", np.median(train_word_counts))\n",
    "\n",
    "print(\"리뷰 사분위 25\",np.percentile(train_word_counts, 25) )\n",
    "print(\"리뷰 사분위 75\",np.percentile(train_word_counts, 75) )\n"
   ]
  },
  {
   "cell_type": "markdown",
   "id": "3fd9ca52",
   "metadata": {},
   "source": [
    "* 특수문자, 대소문자 비율"
   ]
  },
  {
   "cell_type": "code",
   "execution_count": 18,
   "id": "d7a7ec90",
   "metadata": {},
   "outputs": [
    {
     "data": {
      "text/plain": [
       "0.29552"
      ]
     },
     "execution_count": 18,
     "metadata": {},
     "output_type": "execute_result"
    }
   ],
   "source": [
    "# 25000개의 리뷰 중에서 리뷰에 ? 가 있는 리뷰는 몇 %일까?\n",
    "qmarks = np.mean(train_data['review'].apply(lambda x : \"?\" in x))\n",
    "qmarks"
   ]
  },
  {
   "cell_type": "code",
   "execution_count": 19,
   "id": "130e0174",
   "metadata": {},
   "outputs": [
    {
     "data": {
      "text/plain": [
       "0.99688"
      ]
     },
     "execution_count": 19,
     "metadata": {},
     "output_type": "execute_result"
    }
   ],
   "source": [
    "# 25000개의 리뷰 중에서 .(마침표) 가 있는 리뷰는 몇 %인가?\n",
    "fullstop = np.mean(train_data['review'].apply(lambda x : \".\" in x))\n",
    "fullstop"
   ]
  },
  {
   "cell_type": "code",
   "execution_count": 20,
   "id": "069a64d4",
   "metadata": {},
   "outputs": [
    {
     "data": {
      "text/plain": [
       "0.0"
      ]
     },
     "execution_count": 20,
     "metadata": {},
     "output_type": "execute_result"
    }
   ],
   "source": [
    "# 제일 첫 글자가 대문자로 작성된 것, 리뷰 시작을 대문자로 한 거는 몇 %?\n",
    "capital_first = np.mean(train_data[\"review\"].apply(lambda x :x[0].isupper() ))\n",
    "capital_first\n"
   ]
  },
  {
   "cell_type": "code",
   "execution_count": 21,
   "id": "475a2e21",
   "metadata": {
    "scrolled": true
   },
   "outputs": [
    {
     "data": {
      "text/plain": [
       "'\"With all this stuff going down at the moment with MJ i\\'ve started listening to his music, watching the odd documentary here and there, watched The Wiz and watched Moonwalker again. Maybe i just want to get a certain insight into this guy who i thought was really cool in the eighties just to maybe make up my mind whether he is guilty or innocent. Moonwalker is part biography, part feature film which i remember going to see at the cinema when it was originally released. Some of it has subtle messages about MJ\\'s feeling towards the press and also the obvious message of drugs are bad m\\'kay.<br /><br />Visually impressive but of course this is all about Michael Jackson so unless you remotely like MJ in anyway then you are going to hate this and find it boring. Some may call MJ an egotist for consenting to the making of this movie BUT MJ and most of his fans would say that he made it for the fans which if true is really nice of him.<br /><br />The actual feature film bit when it finally starts is only on for 20 minutes or so excluding the Smooth Criminal sequence and Joe Pesci is convincing as a psychopathic all powerful drug lord. Why he wants MJ dead so bad is beyond me. Because MJ overheard his plans? Nah, Joe Pesci\\'s character ranted that he wanted people to know it is he who is supplying drugs etc so i dunno, maybe he just hates MJ\\'s music.<br /><br />Lots of cool things in this like MJ turning into a car and a robot and the whole Speed Demon sequence. Also, the director must have had the patience of a saint when it came to filming the kiddy Bad sequence as usually directors hate working with one kid let alone a whole bunch of them performing a complex dance scene.<br /><br />Bottom line, this movie is for people who like MJ on one level or another (which i think is most people). If not, then stay away. It does try and give off a wholesome message and ironically MJ\\'s bestest buddy in this movie is a girl! Michael Jackson is truly one of the most talented people ever to grace this planet but is he guilty? Well, with all the attention i\\'ve gave this subject....hmmm well i don\\'t know because people can be different behind closed doors, i know this for a fact. He is either an extremely nice but stupid guy or one of the most sickest liars. I hope he is not the latter.\"'"
      ]
     },
     "execution_count": 21,
     "metadata": {},
     "output_type": "execute_result"
    }
   ],
   "source": [
    "train_data[\"review\"][0]"
   ]
  },
  {
   "cell_type": "markdown",
   "id": "4bab9435",
   "metadata": {},
   "source": [
    "-> 특수문자가 있어서 특수문자 처리에 대한 고민, 지울지, 의미를 부여할지..\n",
    "\n",
    "-> 대소문자가 섞여있어서 통일도 해야함. "
   ]
  },
  {
   "cell_type": "markdown",
   "id": "1def29a9",
   "metadata": {},
   "source": [
    "* 데이터 전처리"
   ]
  },
  {
   "cell_type": "code",
   "execution_count": 22,
   "id": "ee30d08d",
   "metadata": {},
   "outputs": [],
   "source": [
    "import re\n",
    "import json # -> dict처럼 key-value로 쉽게 처리\n",
    "\n",
    "import pandas as pd\n",
    "import numpy as np\n",
    "\n",
    "# html 상의 tag --> BeautifulSoup\n",
    "from bs4 import BeautifulSoup\n",
    "\n",
    "# 불필요한 용어들 제거 -> stopwords -> 자체 구축한 것을 쓰는 것이 아니라 nltk에서 가져와서 사용\n",
    "from nltk.corpus import stopwords\n",
    "\n",
    "# 비정형 데이터의 수치화 과정\n",
    "from tensorflow.python.keras.preprocessing.sequence import pad_sequences\n",
    "from tensorflow.python.keras.preprocessing.text import Tokenizer\n"
   ]
  },
  {
   "cell_type": "code",
   "execution_count": 23,
   "id": "d2712526",
   "metadata": {},
   "outputs": [
    {
     "data": {
      "text/html": [
       "<div>\n",
       "<style scoped>\n",
       "    .dataframe tbody tr th:only-of-type {\n",
       "        vertical-align: middle;\n",
       "    }\n",
       "\n",
       "    .dataframe tbody tr th {\n",
       "        vertical-align: top;\n",
       "    }\n",
       "\n",
       "    .dataframe thead th {\n",
       "        text-align: right;\n",
       "    }\n",
       "</style>\n",
       "<table border=\"1\" class=\"dataframe\">\n",
       "  <thead>\n",
       "    <tr style=\"text-align: right;\">\n",
       "      <th></th>\n",
       "      <th>id</th>\n",
       "      <th>sentiment</th>\n",
       "      <th>review</th>\n",
       "    </tr>\n",
       "  </thead>\n",
       "  <tbody>\n",
       "    <tr>\n",
       "      <th>0</th>\n",
       "      <td>\"5814_8\"</td>\n",
       "      <td>1</td>\n",
       "      <td>\"With all this stuff going down at the moment ...</td>\n",
       "    </tr>\n",
       "    <tr>\n",
       "      <th>1</th>\n",
       "      <td>\"2381_9\"</td>\n",
       "      <td>1</td>\n",
       "      <td>\"\\\"The Classic War of the Worlds\\\" by Timothy ...</td>\n",
       "    </tr>\n",
       "    <tr>\n",
       "      <th>2</th>\n",
       "      <td>\"7759_3\"</td>\n",
       "      <td>0</td>\n",
       "      <td>\"The film starts with a manager (Nicholas Bell...</td>\n",
       "    </tr>\n",
       "    <tr>\n",
       "      <th>3</th>\n",
       "      <td>\"3630_4\"</td>\n",
       "      <td>0</td>\n",
       "      <td>\"It must be assumed that those who praised thi...</td>\n",
       "    </tr>\n",
       "    <tr>\n",
       "      <th>4</th>\n",
       "      <td>\"9495_8\"</td>\n",
       "      <td>1</td>\n",
       "      <td>\"Superbly trashy and wondrously unpretentious ...</td>\n",
       "    </tr>\n",
       "  </tbody>\n",
       "</table>\n",
       "</div>"
      ],
      "text/plain": [
       "         id  sentiment                                             review\n",
       "0  \"5814_8\"          1  \"With all this stuff going down at the moment ...\n",
       "1  \"2381_9\"          1  \"\\\"The Classic War of the Worlds\\\" by Timothy ...\n",
       "2  \"7759_3\"          0  \"The film starts with a manager (Nicholas Bell...\n",
       "3  \"3630_4\"          0  \"It must be assumed that those who praised thi...\n",
       "4  \"9495_8\"          1  \"Superbly trashy and wondrously unpretentious ..."
      ]
     },
     "execution_count": 23,
     "metadata": {},
     "output_type": "execute_result"
    }
   ],
   "source": [
    "# 데이터 다시 불러옴 -> 전처리 하려고\n",
    "train_data = pd.read_csv(DATA_IN_PATH + \"labeledTrainData.tsv\", header=0 , delimiter=\"\\t\", quoting=3)\n",
    "train_data.head()\n"
   ]
  },
  {
   "cell_type": "code",
   "execution_count": 24,
   "id": "0dfd3aec",
   "metadata": {},
   "outputs": [
    {
     "data": {
      "text/plain": [
       "'\"With all this stuff going down at the moment with MJ i\\'ve started listening to his music, watching the odd documentary here and there, watched The Wiz and watched Moonwalker again. Maybe i just want to get a certain insight into this guy who i thought was really cool in the eighties just to maybe make up my mind whether he is guilty or innocent. Moonwalker is part biography, part feature film which i remember going to see at the cinema when it was originally released. Some of it has subtle messages about MJ\\'s feeling towards the press and also the obvious message of drugs are bad m\\'kay.<br /><br />Visually impressive but of course this is all about Michael Jackson so unless you remotely like MJ in anyway then you are going to hate this and find it boring. Some may call MJ an egotist for consenting to the making of this movie BUT MJ and most of his fans would say that he made it for the fans which if true is really nice of him.<br /><br />The actual feature film bit when it finally starts is only on for 20 minutes or so excluding the Smooth Criminal sequence and Joe Pesci is convincing as a psychopathic all powerful drug lord. Why he wants MJ dead so bad is beyond me. Because MJ overheard his plans? Nah, Joe Pesci\\'s character ranted that he wanted people to know it is he who is supplying drugs etc so i dunno, maybe he just hates MJ\\'s music.<br /><br />Lots of cool things in this like MJ turning into a car and a robot and the whole Speed Demon sequence. Also, the director must have had the patience of a saint when it came to filming the kiddy Bad sequence as usually directors hate working with one kid let alone a whole bunch of them performing a complex dance scene.<br /><br />Bottom line, this movie is for people who like MJ on one level or another (which i think is most people). If not, then stay away. It does try and give off a wholesome message and ironically MJ\\'s bestest buddy in this movie is a girl! Michael Jackson is truly one of the most talented people ever to grace this planet but is he guilty? Well, with all the attention i\\'ve gave this subject....hmmm well i don\\'t know because people can be different behind closed doors, i know this for a fact. He is either an extremely nice but stupid guy or one of the most sickest liars. I hope he is not the latter.\"'"
      ]
     },
     "execution_count": 24,
     "metadata": {},
     "output_type": "execute_result"
    }
   ],
   "source": [
    "train_data[\"review\"][0]"
   ]
  },
  {
   "cell_type": "markdown",
   "id": "3c29317e",
   "metadata": {},
   "source": [
    "* tag값 지우기"
   ]
  },
  {
   "cell_type": "code",
   "execution_count": 25,
   "id": "33a327b8",
   "metadata": {},
   "outputs": [
    {
     "data": {
      "text/plain": [
       "' With all this stuff going down at the moment with MJ i ve started listening to his music  watching the odd documentary here and there  watched The Wiz and watched Moonwalker again  Maybe i just want to get a certain insight into this guy who i thought was really cool in the eighties just to maybe make up my mind whether he is guilty or innocent  Moonwalker is part biography  part feature film which i remember going to see at the cinema when it was originally released  Some of it has subtle messages about MJ s feeling towards the press and also the obvious message of drugs are bad m kay Visually impressive but of course this is all about Michael Jackson so unless you remotely like MJ in anyway then you are going to hate this and find it boring  Some may call MJ an egotist for consenting to the making of this movie BUT MJ and most of his fans would say that he made it for the fans which if true is really nice of him The actual feature film bit when it finally starts is only on for    minutes or so excluding the Smooth Criminal sequence and Joe Pesci is convincing as a psychopathic all powerful drug lord  Why he wants MJ dead so bad is beyond me  Because MJ overheard his plans  Nah  Joe Pesci s character ranted that he wanted people to know it is he who is supplying drugs etc so i dunno  maybe he just hates MJ s music Lots of cool things in this like MJ turning into a car and a robot and the whole Speed Demon sequence  Also  the director must have had the patience of a saint when it came to filming the kiddy Bad sequence as usually directors hate working with one kid let alone a whole bunch of them performing a complex dance scene Bottom line  this movie is for people who like MJ on one level or another  which i think is most people   If not  then stay away  It does try and give off a wholesome message and ironically MJ s bestest buddy in this movie is a girl  Michael Jackson is truly one of the most talented people ever to grace this planet but is he guilty  Well  with all the attention i ve gave this subject    hmmm well i don t know because people can be different behind closed doors  i know this for a fact  He is either an extremely nice but stupid guy or one of the most sickest liars  I hope he is not the latter  '"
      ]
     },
     "execution_count": 25,
     "metadata": {},
     "output_type": "execute_result"
    }
   ],
   "source": [
    "temp = train_data[\"review\"][0]\n",
    "temp_text = BeautifulSoup(temp,\"html5lib\").get_text() # html 태그를 지우고 순수 text만 남김\n",
    "temp_text = re.sub(\"[^a-zA-Z]\", \" \",temp_text) # 알파벳만 남기고 싶음!!!!\n",
    "temp_text\n"
   ]
  },
  {
   "cell_type": "markdown",
   "id": "f232e937",
   "metadata": {},
   "source": [
    "* 샘플로 stop_words 처리"
   ]
  },
  {
   "cell_type": "code",
   "execution_count": 26,
   "id": "a43e915b",
   "metadata": {
    "scrolled": true
   },
   "outputs": [
    {
     "name": "stdout",
     "output_type": "stream",
     "text": [
      "['stuff', 'going', 'moment', 'mj', 'started', 'listening', 'music', 'watching', 'odd', 'documentary', 'watched', 'wiz', 'watched', 'moonwalker', 'maybe', 'want', 'get', 'certain', 'insight', 'guy', 'thought', 'really', 'cool', 'eighties', 'maybe', 'make', 'mind', 'whether', 'guilty', 'innocent', 'moonwalker', 'part', 'biography', 'part', 'feature', 'film', 'remember', 'going', 'see', 'cinema', 'originally', 'released', 'subtle', 'messages', 'mj', 'feeling', 'towards', 'press', 'also', 'obvious', 'message', 'drugs', 'bad', 'kay', 'visually', 'impressive', 'course', 'michael', 'jackson', 'unless', 'remotely', 'like', 'mj', 'anyway', 'going', 'hate', 'find', 'boring', 'may', 'call', 'mj', 'egotist', 'consenting', 'making', 'movie', 'mj', 'fans', 'would', 'say', 'made', 'fans', 'true', 'really', 'nice', 'actual', 'feature', 'film', 'bit', 'finally', 'starts', 'minutes', 'excluding', 'smooth', 'criminal', 'sequence', 'joe', 'pesci', 'convincing', 'psychopathic', 'powerful', 'drug', 'lord', 'wants', 'mj', 'dead', 'bad', 'beyond', 'mj', 'overheard', 'plans', 'nah', 'joe', 'pesci', 'character', 'ranted', 'wanted', 'people', 'know', 'supplying', 'drugs', 'etc', 'dunno', 'maybe', 'hates', 'mj', 'music', 'lots', 'cool', 'things', 'like', 'mj', 'turning', 'car', 'robot', 'whole', 'speed', 'demon', 'sequence', 'also', 'director', 'must', 'patience', 'saint', 'came', 'filming', 'kiddy', 'bad', 'sequence', 'usually', 'directors', 'hate', 'working', 'one', 'kid', 'let', 'alone', 'whole', 'bunch', 'performing', 'complex', 'dance', 'scene', 'bottom', 'line', 'movie', 'people', 'like', 'mj', 'one', 'level', 'another', 'think', 'people', 'stay', 'away', 'try', 'give', 'wholesome', 'message', 'ironically', 'mj', 'bestest', 'buddy', 'movie', 'girl', 'michael', 'jackson', 'truly', 'one', 'talented', 'people', 'ever', 'grace', 'planet', 'guilty', 'well', 'attention', 'gave', 'subject', 'hmmm', 'well', 'know', 'people', 'different', 'behind', 'closed', 'doors', 'know', 'fact', 'either', 'extremely', 'nice', 'stupid', 'guy', 'one', 'sickest', 'liars', 'hope', 'latter']\n"
     ]
    }
   ],
   "source": [
    "stop_words = set(stopwords.words(\"english\"))\n",
    "temp_text = temp_text.lower()\n",
    "words = temp_text.split() # 기본적으로 리턴이 리스트와 같은 형식..\n",
    "words = [ w for w in words if not w in stop_words] \n",
    "print(words)"
   ]
  },
  {
   "cell_type": "code",
   "execution_count": 27,
   "id": "94518ba5",
   "metadata": {},
   "outputs": [
    {
     "name": "stdout",
     "output_type": "stream",
     "text": [
      "stuff going moment mj started listening music watching odd documentary watched wiz watched moonwalker maybe want get certain insight guy thought really cool eighties maybe make mind whether guilty innocent moonwalker part biography part feature film remember going see cinema originally released subtle messages mj feeling towards press also obvious message drugs bad kay visually impressive course michael jackson unless remotely like mj anyway going hate find boring may call mj egotist consenting making movie mj fans would say made fans true really nice actual feature film bit finally starts minutes excluding smooth criminal sequence joe pesci convincing psychopathic powerful drug lord wants mj dead bad beyond mj overheard plans nah joe pesci character ranted wanted people know supplying drugs etc dunno maybe hates mj music lots cool things like mj turning car robot whole speed demon sequence also director must patience saint came filming kiddy bad sequence usually directors hate working one kid let alone whole bunch performing complex dance scene bottom line movie people like mj one level another think people stay away try give wholesome message ironically mj bestest buddy movie girl michael jackson truly one talented people ever grace planet guilty well attention gave subject hmmm well know people different behind closed doors know fact either extremely nice stupid guy one sickest liars hope latter\n"
     ]
    }
   ],
   "source": [
    "clean_review = \" \".join(words)\n",
    "print(clean_review)"
   ]
  },
  {
   "cell_type": "markdown",
   "id": "08a267b0",
   "metadata": {},
   "source": [
    "* 전처리 함수 만들기"
   ]
  },
  {
   "cell_type": "code",
   "execution_count": 28,
   "id": "4b5171cb",
   "metadata": {},
   "outputs": [],
   "source": [
    "# 전처리 함수 : stopwords는 옵션으로 처리\n",
    "def preprocessing(review, remove_stopwords=False):\n",
    "    # 1. html 테그 제거..\n",
    "    review_text = BeautifulSoup(review, \"html5lib\").get_text()\n",
    "    # 2. 특수문자 숫자 이런거 제외하고 오로지 알파벳으로 된 것들만..\n",
    "    review_text = re.sub(\"[^a-zA-Z]\", \" \",review_text)\n",
    "    # 3. 소문자로 통일하는 과정.. -> 공백을 기준으로 분리!!!!\n",
    "    words = review_text.lower().split()\n",
    "    \n",
    "    # 4. 불필요한 단어 제거 :ㅣ stop_words -> 선택\n",
    "    if remove_stopwords:\n",
    "        stop_words = set(stopwords.words(\"english\"))\n",
    "        words = [ w for w in words if not w in stop_words]\n",
    "        # 다시 합쳐서..\n",
    "        clean_review = \" \".join(words) # words는 불용어 처리가 된 것.\n",
    "    else:\n",
    "        clean_review = \" \".join(words) # words 는 불용어 처리가 안 된 것..\n",
    "    \n",
    "    ##### step 1~ 4 \n",
    "    return clean_review\n",
    "\n",
    "\n",
    "    \n",
    "    "
   ]
  },
  {
   "cell_type": "code",
   "execution_count": 29,
   "id": "4aa20899",
   "metadata": {},
   "outputs": [
    {
     "data": {
      "text/plain": [
       "'stuff going moment mj started listening music watching odd documentary watched wiz watched moonwalker maybe want get certain insight guy thought really cool eighties maybe make mind whether guilty innocent moonwalker part biography part feature film remember going see cinema originally released subtle messages mj feeling towards press also obvious message drugs bad kay visually impressive course michael jackson unless remotely like mj anyway going hate find boring may call mj egotist consenting making movie mj fans would say made fans true really nice actual feature film bit finally starts minutes excluding smooth criminal sequence joe pesci convincing psychopathic powerful drug lord wants mj dead bad beyond mj overheard plans nah joe pesci character ranted wanted people know supplying drugs etc dunno maybe hates mj music lots cool things like mj turning car robot whole speed demon sequence also director must patience saint came filming kiddy bad sequence usually directors hate working one kid let alone whole bunch performing complex dance scene bottom line movie people like mj one level another think people stay away try give wholesome message ironically mj bestest buddy movie girl michael jackson truly one talented people ever grace planet guilty well attention gave subject hmmm well know people different behind closed doors know fact either extremely nice stupid guy one sickest liars hope latter'"
      ]
     },
     "execution_count": 29,
     "metadata": {},
     "output_type": "execute_result"
    }
   ],
   "source": [
    "# 위의 것들을 바탕으로 데이터 처리\n",
    "clean_train_reviews = []\n",
    "for review in train_data[\"review\"]:\n",
    "    clean_train_reviews.append(preprocessing(review, remove_stopwords=True))\n",
    "clean_train_reviews[0]\n"
   ]
  },
  {
   "cell_type": "markdown",
   "id": "c00e4684",
   "metadata": {},
   "source": [
    "* DF로 처리해보기"
   ]
  },
  {
   "cell_type": "code",
   "execution_count": 30,
   "id": "af324cef",
   "metadata": {},
   "outputs": [
    {
     "data": {
      "text/html": [
       "<div>\n",
       "<style scoped>\n",
       "    .dataframe tbody tr th:only-of-type {\n",
       "        vertical-align: middle;\n",
       "    }\n",
       "\n",
       "    .dataframe tbody tr th {\n",
       "        vertical-align: top;\n",
       "    }\n",
       "\n",
       "    .dataframe thead th {\n",
       "        text-align: right;\n",
       "    }\n",
       "</style>\n",
       "<table border=\"1\" class=\"dataframe\">\n",
       "  <thead>\n",
       "    <tr style=\"text-align: right;\">\n",
       "      <th></th>\n",
       "      <th>review</th>\n",
       "      <th>sentiment</th>\n",
       "    </tr>\n",
       "  </thead>\n",
       "  <tbody>\n",
       "    <tr>\n",
       "      <th>0</th>\n",
       "      <td>stuff going moment mj started listening music ...</td>\n",
       "      <td>1</td>\n",
       "    </tr>\n",
       "    <tr>\n",
       "      <th>1</th>\n",
       "      <td>classic war worlds timothy hines entertaining ...</td>\n",
       "      <td>1</td>\n",
       "    </tr>\n",
       "    <tr>\n",
       "      <th>2</th>\n",
       "      <td>film starts manager nicholas bell giving welco...</td>\n",
       "      <td>0</td>\n",
       "    </tr>\n",
       "    <tr>\n",
       "      <th>3</th>\n",
       "      <td>must assumed praised film greatest filmed oper...</td>\n",
       "      <td>0</td>\n",
       "    </tr>\n",
       "    <tr>\n",
       "      <th>4</th>\n",
       "      <td>superbly trashy wondrously unpretentious explo...</td>\n",
       "      <td>1</td>\n",
       "    </tr>\n",
       "  </tbody>\n",
       "</table>\n",
       "</div>"
      ],
      "text/plain": [
       "                                              review  sentiment\n",
       "0  stuff going moment mj started listening music ...          1\n",
       "1  classic war worlds timothy hines entertaining ...          1\n",
       "2  film starts manager nicholas bell giving welco...          0\n",
       "3  must assumed praised film greatest filmed oper...          0\n",
       "4  superbly trashy wondrously unpretentious explo...          1"
      ]
     },
     "execution_count": 30,
     "metadata": {},
     "output_type": "execute_result"
    }
   ],
   "source": [
    "clean_train_df = pd.DataFrame({\"review\" : clean_train_reviews, \"sentiment\":train_data[\"sentiment\"]})\n",
    "clean_train_df.head()\n"
   ]
  },
  {
   "cell_type": "markdown",
   "id": "abf1d408",
   "metadata": {},
   "source": [
    "* 지금까지 리뷰에서 기본적으로 필요한 단어들만 모아두는 것을 함, 이제는 이 비정형 데이터 리뷰를 정형데이터로 변환할 것.  -> 편하게 하기 위해 keras 에 있는 전처리 함수를 사용할 것"
   ]
  },
  {
   "cell_type": "code",
   "execution_count": 31,
   "id": "a7bebbce",
   "metadata": {},
   "outputs": [],
   "source": [
    "# 쪼개야 할 것임.\n",
    "\n",
    "tokenizer = Tokenizer()\n",
    "tokenizer.fit_on_texts(clean_train_reviews) # 어떤 단어를 몇 번으로 할지..\n",
    "text_sequences = tokenizer.texts_to_sequences(clean_train_reviews) # 단어들을 숫자들로..\n"
   ]
  },
  {
   "cell_type": "code",
   "execution_count": 32,
   "id": "dc12c35c",
   "metadata": {},
   "outputs": [
    {
     "name": "stdout",
     "output_type": "stream",
     "text": [
      "[404, 70, 419, 8815, 506, 2456, 115, 54, 873, 516, 178, 18686, 178, 11242, 165, 78, 14, 662, 2457, 117, 92, 10, 499, 4074, 165, 22, 210, 581, 2333, 1194, 11242, 71, 4826, 71, 635, 2, 253, 70, 11, 302, 1663, 486, 1144, 3265, 8815, 411, 793, 3342, 17, 441, 600, 1500, 15, 4424, 1851, 998, 146, 342, 1442, 743, 2424, 4, 8815, 418, 70, 637, 69, 237, 94, 541, 8815, 26055, 26056, 120, 1, 8815, 323, 8, 47, 20, 323, 167, 10, 207, 633, 635, 2, 116, 291, 382, 121, 15535, 3315, 1501, 574, 734, 10013, 923, 11578, 822, 1239, 1408, 360, 8815, 221, 15, 576, 8815, 22224, 2274, 13426, 734, 10013, 27, 28606, 340, 16, 41, 18687, 1500, 388, 11243, 165, 3962, 8815, 115, 627, 499, 79, 4, 8815, 1430, 380, 2163, 114, 1919, 2503, 574, 17, 60, 100, 4875, 5100, 260, 1268, 26057, 15, 574, 493, 744, 637, 631, 3, 394, 164, 446, 114, 615, 3266, 1160, 684, 48, 1175, 224, 1, 16, 4, 8815, 3, 507, 62, 25, 16, 640, 133, 231, 95, 7426, 600, 3439, 8815, 37248, 1864, 1, 128, 342, 1442, 247, 3, 865, 16, 42, 1487, 997, 2333, 12, 549, 386, 717, 6920, 12, 41, 16, 158, 362, 4392, 3388, 41, 87, 225, 438, 207, 254, 117, 3, 18688, 18689, 316, 1356]\n"
     ]
    }
   ],
   "source": [
    "print(text_sequences[0]) # 텍스트를 숫자로. 수치화,, 모델 돌리기 위해.."
   ]
  },
  {
   "cell_type": "markdown",
   "id": "31bf6516",
   "metadata": {},
   "source": [
    "* 어느 숫자가 어느 단어인지 확인"
   ]
  },
  {
   "cell_type": "code",
   "execution_count": 33,
   "id": "a2d414dd",
   "metadata": {},
   "outputs": [
    {
     "name": "stdout",
     "output_type": "stream",
     "text": [
      "74066\n"
     ]
    }
   ],
   "source": [
    "word_vocab = tokenizer.word_index\n",
    "word_vocab[\"<PAD>\"]=0\n",
    "print(len(word_vocab)) # word_vocab 파이썬 dict구조"
   ]
  },
  {
   "cell_type": "code",
   "execution_count": 34,
   "id": "b06fabfa",
   "metadata": {},
   "outputs": [],
   "source": [
    "# 위의 함수들은 시간이 걸림, 나중에 위의 과정을 다시 안거치고 출력\n",
    "# json 패키지를 이용해서 출력하고, 필요하면 로드해서 사용할 수 있도록 수치화 과정에서 사용한 단어들의 룰 집합!!!!!\n",
    "data_config = {}\n",
    "data_config[\"vocab\"] = word_vocab\n",
    "data_config[\"vocab_size\"] = len(word_vocab)\n"
   ]
  },
  {
   "cell_type": "markdown",
   "id": "6c3df4c8",
   "metadata": {},
   "source": [
    "* 리뷰 수치화할때 리뷰마다 차원이 다 다르기 때문에 특정 기준으로 표현해야 함.(여기서는 앞에 EDA 한 단어 분포 보고 중앙값으로 선정)"
   ]
  },
  {
   "cell_type": "code",
   "execution_count": 35,
   "id": "266b438a",
   "metadata": {},
   "outputs": [
    {
     "data": {
      "text/plain": [
       "(25000, 174)"
      ]
     },
     "execution_count": 35,
     "metadata": {},
     "output_type": "execute_result"
    }
   ],
   "source": [
    "MAX_SEQUENCE_LENGHT = 174 # 주어진 데이터를 보고 기준선정\n",
    "\n",
    "train_inputs = pad_sequences(text_sequences, maxlen=MAX_SEQUENCE_LENGHT, padding=\"post\")\n",
    "train_inputs.shape\n"
   ]
  },
  {
   "cell_type": "markdown",
   "id": "7d874040",
   "metadata": {},
   "source": [
    "* 정답지 추출"
   ]
  },
  {
   "cell_type": "code",
   "execution_count": 36,
   "id": "98a93826",
   "metadata": {},
   "outputs": [
    {
     "name": "stdout",
     "output_type": "stream",
     "text": [
      "(25000,)\n"
     ]
    }
   ],
   "source": [
    "train_labels = np.array(train_data[\"sentiment\"])\n",
    "print(train_labels.shape)"
   ]
  },
  {
   "cell_type": "markdown",
   "id": "7588acc4",
   "metadata": {},
   "source": [
    "* 전처리 한 결과들 저장"
   ]
  },
  {
   "cell_type": "code",
   "execution_count": 37,
   "id": "bc89d4bb",
   "metadata": {},
   "outputs": [],
   "source": [
    "#처리한 것들을 저장할 폴더 경로\n",
    "DATA_OUT_PATH = \"./data/\"\n",
    "\n",
    "# 처리한 데이터들을 저장할 파일들\n",
    "TRAIN_INPUT_DATA = \"train_input.npy\"  #숫자만\n",
    "TRAIN_LABEL_DATA = \"train_label.npy\"  # 숫자만\n",
    "TRAIN_CLEAN_DATA = \"train_clean.csv\" # 리뷰 정제된 귿\n",
    "DATA_CONFIGS = \"data_config.json\" # 수치화 하는 과정에서 사용한 룰!!!\n"
   ]
  },
  {
   "cell_type": "code",
   "execution_count": 38,
   "id": "84095ca4",
   "metadata": {},
   "outputs": [],
   "source": [
    "# 출력으로 내보낼 공간의 폴더가 실제 있/없? -> 없으면 만들게\n",
    "# import os\n",
    "\n",
    "if not os.path.exists(DATA_OUT_PATH):\n",
    "    #없다면 만들어라\n",
    "    os.makedirs(DATA_OUT_PATH)"
   ]
  },
  {
   "cell_type": "code",
   "execution_count": 39,
   "id": "02c6eaeb",
   "metadata": {},
   "outputs": [],
   "source": [
    "# 전처리한 것들 데이터 저장\n",
    "np.save(open(DATA_OUT_PATH + TRAIN_INPUT_DATA, \"wb\"), train_inputs)\n",
    "np.save(open(DATA_OUT_PATH + TRAIN_LABEL_DATA, \"wb\"), train_labels)\n",
    "\n",
    "# 정제한 데이터의 글\n",
    "clean_train_df.to_csv(DATA_OUT_PATH + TRAIN_CLEAN_DATA, index = False)\n",
    "\n",
    "# 정제하고 숫자로 표현하는 과정에서 사용한 룰\n",
    "json.dump(data_config, open(DATA_OUT_PATH+DATA_CONFIGS, \"w\"), ensure_ascii=False)\n"
   ]
  },
  {
   "cell_type": "markdown",
   "id": "987fe8c0",
   "metadata": {},
   "source": [
    "* Test 에 대해서도 위의 기준대로 적용"
   ]
  },
  {
   "cell_type": "code",
   "execution_count": 40,
   "id": "68177685",
   "metadata": {},
   "outputs": [
    {
     "data": {
      "text/html": [
       "<div>\n",
       "<style scoped>\n",
       "    .dataframe tbody tr th:only-of-type {\n",
       "        vertical-align: middle;\n",
       "    }\n",
       "\n",
       "    .dataframe tbody tr th {\n",
       "        vertical-align: top;\n",
       "    }\n",
       "\n",
       "    .dataframe thead th {\n",
       "        text-align: right;\n",
       "    }\n",
       "</style>\n",
       "<table border=\"1\" class=\"dataframe\">\n",
       "  <thead>\n",
       "    <tr style=\"text-align: right;\">\n",
       "      <th></th>\n",
       "      <th>id</th>\n",
       "      <th>review</th>\n",
       "    </tr>\n",
       "  </thead>\n",
       "  <tbody>\n",
       "    <tr>\n",
       "      <th>0</th>\n",
       "      <td>\"12311_10\"</td>\n",
       "      <td>\"Naturally in a film who's main themes are of ...</td>\n",
       "    </tr>\n",
       "    <tr>\n",
       "      <th>1</th>\n",
       "      <td>\"8348_2\"</td>\n",
       "      <td>\"This movie is a disaster within a disaster fi...</td>\n",
       "    </tr>\n",
       "    <tr>\n",
       "      <th>2</th>\n",
       "      <td>\"5828_4\"</td>\n",
       "      <td>\"All in all, this is a movie for kids. We saw ...</td>\n",
       "    </tr>\n",
       "    <tr>\n",
       "      <th>3</th>\n",
       "      <td>\"7186_2\"</td>\n",
       "      <td>\"Afraid of the Dark left me with the impressio...</td>\n",
       "    </tr>\n",
       "    <tr>\n",
       "      <th>4</th>\n",
       "      <td>\"12128_7\"</td>\n",
       "      <td>\"A very accurate depiction of small time mob l...</td>\n",
       "    </tr>\n",
       "  </tbody>\n",
       "</table>\n",
       "</div>"
      ],
      "text/plain": [
       "           id                                             review\n",
       "0  \"12311_10\"  \"Naturally in a film who's main themes are of ...\n",
       "1    \"8348_2\"  \"This movie is a disaster within a disaster fi...\n",
       "2    \"5828_4\"  \"All in all, this is a movie for kids. We saw ...\n",
       "3    \"7186_2\"  \"Afraid of the Dark left me with the impressio...\n",
       "4   \"12128_7\"  \"A very accurate depiction of small time mob l..."
      ]
     },
     "execution_count": 40,
     "metadata": {},
     "output_type": "execute_result"
    }
   ],
   "source": [
    "test_data = pd.read_csv(DATA_IN_PATH + \"testData.tsv\", header=0, delimiter=\"\\t\", quoting=3)\n",
    "test_data.head()\n"
   ]
  },
  {
   "cell_type": "code",
   "execution_count": 41,
   "id": "20a5b7c7",
   "metadata": {},
   "outputs": [],
   "source": [
    "# train과 동일한 기준으로 전처리를 수행을 함!!!!!\n",
    "clean_test_reviews = []\n",
    "for review in test_data[\"review\"]:\n",
    "    clean_test_reviews.append(preprocessing(review, remove_stopwords=True))\n",
    "\n",
    "# DF로 합쳐두기 -> 정제한 리뷰에 대해서..그리고 최종 제출을 위한 test_id값 미리 체크\n",
    "clean_test_df = pd.DataFrame({\"review\":clean_test_reviews, \"id\":test_data[\"id\"]})\n",
    "test_id = np.array(test_data[\"id\"])\n",
    "\n",
    "###################################################################\n",
    "# 주어진 것들을 숫자데이터로 변환!!!\n",
    "# 단!!!) 주의!!!!--> train 에 대해서 한 그 규칙 그대로 test에 적용!!!!\n",
    "#  여기서는 test 데이터로 절대로 fit_on_text를 하면 안 됨!!!!!!\n",
    "############################\n",
    "text_sequences = tokenizer.texts_to_sequences(clean_test_reviews) # 단어들을 숫자들로..\n",
    "test_inputs = pad_sequences(text_sequences, maxlen=MAX_SEQUENCE_LENGHT, padding=\"post\")"
   ]
  },
  {
   "cell_type": "markdown",
   "id": "5ed21db6",
   "metadata": {},
   "source": [
    "* test 데이터 변형한것 출력"
   ]
  },
  {
   "cell_type": "code",
   "execution_count": 42,
   "id": "3884a5a7",
   "metadata": {},
   "outputs": [],
   "source": [
    "TEST_INPUT_DATA = \"test_input.npy\" # 전처리가 되고, 단어들이 숫자까지(최대 175개로) -> 기준은 train과 같은 기준으로!!!\n",
    "TEST_CLEAN_DATA = \"test_clean.csv\" # 전처리를 한 실제 review 문장에 대한 것..\n",
    "TEST_ID_DATA = \"test_id.npy\"\n",
    "\n",
    "np.save(open(DATA_OUT_PATH +TEST_INPUT_DATA , \"wb\"), test_inputs)\n",
    "np.save(open(DATA_OUT_PATH +TEST_ID_DATA , \"wb\"), test_id)\n",
    "clean_test_df.to_csv(DATA_OUT_PATH + TEST_CLEAN_DATA, index=False)\n"
   ]
  },
  {
   "cell_type": "markdown",
   "id": "3759be08",
   "metadata": {},
   "source": [
    "* 다 숫자로 변형됐으니 , Model만들어서 돌릴수 있음. 지금은 RF"
   ]
  },
  {
   "cell_type": "code",
   "execution_count": 43,
   "id": "30f6e150",
   "metadata": {},
   "outputs": [],
   "source": [
    "# 기존에 머신러닝을 위해 필요했던 모듈과 동일\n",
    "from sklearn.model_selection import train_test_split\n",
    "from sklearn.ensemble import RandomForestClassifier\n",
    "\n",
    "# 리뷰에 대한 수치 데이터를 feature화 -> 텍스트 데이터 처리를 위해 추가\n",
    "from sklearn.feature_extraction.text import CountVectorizer\n"
   ]
  },
  {
   "cell_type": "markdown",
   "id": "0c81ecd9",
   "metadata": {},
   "source": [
    "![CV](data/02z.png)\n"
   ]
  },
  {
   "cell_type": "markdown",
   "id": "6b54162c",
   "metadata": {},
   "source": [
    "* 모델을 돌리기 위해 저장한 폴더에서 다시 불러오기"
   ]
  },
  {
   "cell_type": "code",
   "execution_count": 44,
   "id": "287cb69d",
   "metadata": {},
   "outputs": [
    {
     "data": {
      "text/html": [
       "<div>\n",
       "<style scoped>\n",
       "    .dataframe tbody tr th:only-of-type {\n",
       "        vertical-align: middle;\n",
       "    }\n",
       "\n",
       "    .dataframe tbody tr th {\n",
       "        vertical-align: top;\n",
       "    }\n",
       "\n",
       "    .dataframe thead th {\n",
       "        text-align: right;\n",
       "    }\n",
       "</style>\n",
       "<table border=\"1\" class=\"dataframe\">\n",
       "  <thead>\n",
       "    <tr style=\"text-align: right;\">\n",
       "      <th></th>\n",
       "      <th>review</th>\n",
       "      <th>sentiment</th>\n",
       "    </tr>\n",
       "  </thead>\n",
       "  <tbody>\n",
       "    <tr>\n",
       "      <th>0</th>\n",
       "      <td>stuff going moment mj started listening music ...</td>\n",
       "      <td>1</td>\n",
       "    </tr>\n",
       "    <tr>\n",
       "      <th>1</th>\n",
       "      <td>classic war worlds timothy hines entertaining ...</td>\n",
       "      <td>1</td>\n",
       "    </tr>\n",
       "    <tr>\n",
       "      <th>2</th>\n",
       "      <td>film starts manager nicholas bell giving welco...</td>\n",
       "      <td>0</td>\n",
       "    </tr>\n",
       "    <tr>\n",
       "      <th>3</th>\n",
       "      <td>must assumed praised film greatest filmed oper...</td>\n",
       "      <td>0</td>\n",
       "    </tr>\n",
       "    <tr>\n",
       "      <th>4</th>\n",
       "      <td>superbly trashy wondrously unpretentious explo...</td>\n",
       "      <td>1</td>\n",
       "    </tr>\n",
       "  </tbody>\n",
       "</table>\n",
       "</div>"
      ],
      "text/plain": [
       "                                              review  sentiment\n",
       "0  stuff going moment mj started listening music ...          1\n",
       "1  classic war worlds timothy hines entertaining ...          1\n",
       "2  film starts manager nicholas bell giving welco...          0\n",
       "3  must assumed praised film greatest filmed oper...          0\n",
       "4  superbly trashy wondrously unpretentious explo...          1"
      ]
     },
     "execution_count": 44,
     "metadata": {},
     "output_type": "execute_result"
    }
   ],
   "source": [
    "# DATA_IN_PATH = \"./data2/\"\n",
    "# DATA_OUT_PATH = \"./data_out/\"\n",
    "train_data = pd.read_csv(DATA_OUT_PATH+TRAIN_CLEAN_DATA)\n",
    "train_data.head()"
   ]
  },
  {
   "cell_type": "code",
   "execution_count": 45,
   "id": "34843a81",
   "metadata": {},
   "outputs": [],
   "source": [
    "reviews = list(train_data[\"review\"])\n",
    "y = np.array(train_data[\"sentiment\"])"
   ]
  },
  {
   "cell_type": "markdown",
   "id": "5a2171bc",
   "metadata": {},
   "source": [
    "* CountVectorize"
   ]
  },
  {
   "cell_type": "code",
   "execution_count": 46,
   "id": "7ab315a4",
   "metadata": {},
   "outputs": [],
   "source": [
    "from sklearn.feature_extraction.text import CountVectorizer"
   ]
  },
  {
   "cell_type": "code",
   "execution_count": 47,
   "id": "a3d66976",
   "metadata": {},
   "outputs": [
    {
     "name": "stdout",
     "output_type": "stream",
     "text": [
      "(25000, 5000)\n"
     ]
    }
   ],
   "source": [
    "vectoizer = CountVectorizer(analyzer=\"word\", max_features=5000)\n",
    "train_data_features =  vectoizer.fit_transform(reviews)\n",
    "print(train_data_features.shape)"
   ]
  },
  {
   "cell_type": "markdown",
   "id": "0959d8b9",
   "metadata": {},
   "source": [
    "* train -> test/val"
   ]
  },
  {
   "cell_type": "code",
   "execution_count": 48,
   "id": "edd6bccb",
   "metadata": {},
   "outputs": [],
   "source": [
    "from sklearn.model_selection import train_test_split"
   ]
  },
  {
   "cell_type": "code",
   "execution_count": 49,
   "id": "86a217f2",
   "metadata": {},
   "outputs": [],
   "source": [
    "train_input, eval_input, train_label, eval_label = train_test_split(train_data_features, y, test_size=0.2, random_state=1234)\n"
   ]
  },
  {
   "cell_type": "code",
   "execution_count": 50,
   "id": "d0ddb644",
   "metadata": {},
   "outputs": [
    {
     "data": {
      "text/plain": [
       "(20000, 5000)"
      ]
     },
     "execution_count": 50,
     "metadata": {},
     "output_type": "execute_result"
    }
   ],
   "source": [
    "train_input.shape"
   ]
  },
  {
   "cell_type": "code",
   "execution_count": 51,
   "id": "822e0834",
   "metadata": {},
   "outputs": [
    {
     "data": {
      "text/plain": [
       "(5000, 5000)"
      ]
     },
     "execution_count": 51,
     "metadata": {},
     "output_type": "execute_result"
    }
   ],
   "source": [
    "eval_input.shape"
   ]
  },
  {
   "cell_type": "markdown",
   "id": "2e1dd517",
   "metadata": {},
   "source": [
    "* RF"
   ]
  },
  {
   "cell_type": "code",
   "execution_count": 52,
   "id": "d9ab6581",
   "metadata": {},
   "outputs": [
    {
     "data": {
      "text/plain": [
       "RandomForestClassifier()"
      ]
     },
     "execution_count": 52,
     "metadata": {},
     "output_type": "execute_result"
    }
   ],
   "source": [
    "rf_model = RandomForestClassifier(n_estimators=100)\n",
    "rf_model.fit(train_input, train_label)"
   ]
  },
  {
   "cell_type": "code",
   "execution_count": 53,
   "id": "ee26b1de",
   "metadata": {},
   "outputs": [],
   "source": [
    "# eval -> accuracy로 평가!!\n",
    "from sklearn.metrics import accuracy_score"
   ]
  },
  {
   "cell_type": "code",
   "execution_count": 54,
   "id": "52807712",
   "metadata": {},
   "outputs": [
    {
     "data": {
      "text/plain": [
       "0.8414"
      ]
     },
     "execution_count": 54,
     "metadata": {},
     "output_type": "execute_result"
    }
   ],
   "source": [
    "y_pred = rf_model.predict(eval_input)\n",
    "accuracy_score(y_pred, eval_label)"
   ]
  },
  {
   "cell_type": "code",
   "execution_count": null,
   "id": "11839ce6",
   "metadata": {},
   "outputs": [],
   "source": []
  }
 ],
 "metadata": {
  "kernelspec": {
   "display_name": "Python 3",
   "language": "python",
   "name": "python3"
  },
  "language_info": {
   "codemirror_mode": {
    "name": "ipython",
    "version": 3
   },
   "file_extension": ".py",
   "mimetype": "text/x-python",
   "name": "python",
   "nbconvert_exporter": "python",
   "pygments_lexer": "ipython3",
   "version": "3.8.8"
  }
 },
 "nbformat": 4,
 "nbformat_minor": 5
}
