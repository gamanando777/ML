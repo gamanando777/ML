{
 "cells": [
  {
   "cell_type": "code",
   "execution_count": 1,
   "id": "ed8bb24e",
   "metadata": {},
   "outputs": [],
   "source": [
    "import numpy as np\n",
    "import pandas as pd\n",
    "\n",
    "import matplotlib.pyplot as plt\n",
    "import time\n",
    "%matplotlib inline"
   ]
  },
  {
   "cell_type": "markdown",
   "id": "5d6bcd1a",
   "metadata": {},
   "source": [
    "* train.csv 파일 불러오기"
   ]
  },
  {
   "cell_type": "code",
   "execution_count": 26,
   "id": "80f3ddc3",
   "metadata": {},
   "outputs": [
    {
     "name": "stdout",
     "output_type": "stream",
     "text": [
      "Process Time :21.13416051864624\n",
      "42000\n"
     ]
    }
   ],
   "source": [
    "t1 = time.time()\n",
    "mnist_train_data_path = \"data/train.csv\"\n",
    "# pd.read_csv와 유사한데, 조금 다른 부분이 있어서... sep = \",\", header=None, \n",
    "# 1개의 픽셀의 데이터가 -0~255-> 8비트 데이터입니다1!!!\n",
    "train = np.genfromtxt(mnist_train_data_path, delimiter=\",\", skip_header =1 ).astype(np.dtype(\"uint8\"))\n",
    "t2 = time.time()\n",
    "print(\"Process Time :\" + str(t2-t1))\n",
    "print(len(train)) # 데이터 갯수...."
   ]
  },
  {
   "cell_type": "code",
   "execution_count": 4,
   "id": "c222f143",
   "metadata": {},
   "outputs": [
    {
     "data": {
      "text/plain": [
       "(42000, 785)"
      ]
     },
     "execution_count": 4,
     "metadata": {},
     "output_type": "execute_result"
    }
   ],
   "source": [
    "train.shape"
   ]
  },
  {
   "cell_type": "markdown",
   "id": "15ce823a",
   "metadata": {},
   "source": [
    "* test.csv 불러오기"
   ]
  },
  {
   "cell_type": "code",
   "execution_count": 27,
   "id": "f5bac809",
   "metadata": {},
   "outputs": [
    {
     "name": "stdout",
     "output_type": "stream",
     "text": [
      "Process Time :13.889742136001587\n",
      "28000\n"
     ]
    }
   ],
   "source": [
    "t1 = time.time()\n",
    "mnist_test_data_path = \"data/test.csv\"\n",
    "# pd.read_csv와 유사한데, 조금 다른 부분이 있어서... sep = \",\", header=None, \n",
    "# 1개의 픽셀의 데이터가 -0~255-> 8비트 데이터입니다1!!!\n",
    "test = np.genfromtxt(mnist_test_data_path, delimiter=\",\", skip_header =1 ).astype(np.dtype(\"uint8\"))\n",
    "t2 = time.time()\n",
    "print(\"Process Time :\" + str(t2-t1))\n",
    "print(len(test)) # 데이터 갯수...."
   ]
  },
  {
   "cell_type": "code",
   "execution_count": 6,
   "id": "0676cac5",
   "metadata": {},
   "outputs": [
    {
     "data": {
      "text/plain": [
       "(28000, 784)"
      ]
     },
     "execution_count": 6,
     "metadata": {},
     "output_type": "execute_result"
    }
   ],
   "source": [
    "test.shape"
   ]
  },
  {
   "cell_type": "markdown",
   "id": "906b3393",
   "metadata": {},
   "source": [
    "* train 데이터의 컬럼에는 뭐가 섞여 있나요? --> 정답지와 문제지.....\n",
    "----> 분리를!!!"
   ]
  },
  {
   "cell_type": "code",
   "execution_count": 28,
   "id": "094d79c9",
   "metadata": {},
   "outputs": [
    {
     "name": "stdout",
     "output_type": "stream",
     "text": [
      "(42000, 784)\n",
      "(42000,)\n"
     ]
    }
   ],
   "source": [
    "# train --> 모의고사 문제와 정답지가 같이 존재!!!!!!!!!!!! -> 2차원 데이터1!!!-> 가로/세로의 관점으로 각각 바라보기!!!!\n",
    "# 모의고사 문제만!!! label이 맨 앞0열에 있음.\n",
    "train_data = train[:,1:]\n",
    "# 모의고사 정답만!!!!\n",
    "train_labels = train[:,0]\n",
    "\n",
    "# 확인\n",
    "print(train_data.shape)\n",
    "print(train_labels.shape)"
   ]
  },
  {
   "cell_type": "markdown",
   "id": "c1b1d8b0",
   "metadata": {},
   "source": [
    "* 0~9까지 모의고사 정답지의 선지의 분포가 어떻게 되는지 확인!!!!!"
   ]
  },
  {
   "cell_type": "code",
   "execution_count": 7,
   "id": "7cb4d339",
   "metadata": {},
   "outputs": [
    {
     "name": "stdout",
     "output_type": "stream",
     "text": [
      "[0 1 2 3 4 5 6 7 8 9] [4132 4684 4177 4351 4072 3795 4137 4401 4063 4188]\n"
     ]
    }
   ],
   "source": [
    "cat, cnt  = np.unique(train_labels, return_counts=True) # 유니크한 값 뭐가...몇 개 인가...\n",
    "print(cat, cnt)"
   ]
  },
  {
   "cell_type": "markdown",
   "id": "9bdf1630",
   "metadata": {},
   "source": [
    "* 실제 데이터를 보는 간단한 방법 : 히트맵"
   ]
  },
  {
   "cell_type": "code",
   "execution_count": 8,
   "id": "32bca1f9",
   "metadata": {},
   "outputs": [],
   "source": [
    "import seaborn as sns"
   ]
  },
  {
   "cell_type": "code",
   "execution_count": 12,
   "id": "f10ed926",
   "metadata": {
    "collapsed": true
   },
   "outputs": [
    {
     "data": {
      "text/plain": [
       "array([  0,   0,   0,   0,   0,   0,   0,   0,   0,   0,   0,   0,   0,\n",
       "         0,   0,   0,   0,   0,   0,   0,   0,   0,   0,   0,   0,   0,\n",
       "         0,   0,   0,   0,   0,   0,   0,   0,   0,   0,   0,   0,   0,\n",
       "         0,   0,   0,   0,   0,   0,   0,   0,   0,   0,   0,   0,   0,\n",
       "         0,   0,   0,   0,   0,   0,   0,   0,   0,   0,   0,   0,   0,\n",
       "         0,   0,   0,   0,   0,   0,   0,   0,   0,   0,   0,   0,   0,\n",
       "         0,   0,   0,   0,   0,   0,   0,   0,   0,   0,   0,   0,   0,\n",
       "         0,   0,   0,   0,   0,   0,   0,   0,   0,   0,   0,   0,   0,\n",
       "         0,   0,   0,   0,   0,   0,   0,   0,   0,   0,   0,   0,   0,\n",
       "         0,   0,   0,   0,   0,   0,   0,   0,   0,   0,   0,   0,   0,\n",
       "         0,   0, 188, 255,  94,   0,   0,   0,   0,   0,   0,   0,   0,\n",
       "         0,   0,   0,   0,   0,   0,   0,   0,   0,   0,   0,   0,   0,\n",
       "         0,   0,   0, 191, 250, 253,  93,   0,   0,   0,   0,   0,   0,\n",
       "         0,   0,   0,   0,   0,   0,   0,   0,   0,   0,   0,   0,   0,\n",
       "         0,   0,   0,   0, 123, 248, 253, 167,  10,   0,   0,   0,   0,\n",
       "         0,   0,   0,   0,   0,   0,   0,   0,   0,   0,   0,   0,   0,\n",
       "         0,   0,   0,   0,   0,  80, 247, 253, 208,  13,   0,   0,   0,\n",
       "         0,   0,   0,   0,   0,   0,   0,   0,   0,   0,   0,   0,   0,\n",
       "         0,   0,   0,   0,   0,   0,  29, 207, 253, 235,  77,   0,   0,\n",
       "         0,   0,   0,   0,   0,   0,   0,   0,   0,   0,   0,   0,   0,\n",
       "         0,   0,   0,   0,   0,   0,   0,  54, 209, 253, 253,  88,   0,\n",
       "         0,   0,   0,   0,   0,   0,   0,   0,   0,   0,   0,   0,   0,\n",
       "         0,   0,   0,   0,   0,   0,   0,   0,  93, 254, 253, 238, 170,\n",
       "        17,   0,   0,   0,   0,   0,   0,   0,   0,   0,   0,   0,   0,\n",
       "         0,   0,   0,   0,   0,   0,   0,   0,   0,  23, 210, 254, 253,\n",
       "       159,   0,   0,   0,   0,   0,   0,   0,   0,   0,   0,   0,   0,\n",
       "         0,   0,   0,   0,   0,   0,   0,   0,   0,   0,  16, 209, 253,\n",
       "       254, 240,  81,   0,   0,   0,   0,   0,   0,   0,   0,   0,   0,\n",
       "         0,   0,   0,   0,   0,   0,   0,   0,   0,   0,   0,   0,  27,\n",
       "       253, 253, 254,  13,   0,   0,   0,   0,   0,   0,   0,   0,   0,\n",
       "         0,   0,   0,   0,   0,   0,   0,   0,   0,   0,   0,   0,   0,\n",
       "        20, 206, 254, 254, 198,   7,   0,   0,   0,   0,   0,   0,   0,\n",
       "         0,   0,   0,   0,   0,   0,   0,   0,   0,   0,   0,   0,   0,\n",
       "         0,   0, 168, 253, 253, 196,   7,   0,   0,   0,   0,   0,   0,\n",
       "         0,   0,   0,   0,   0,   0,   0,   0,   0,   0,   0,   0,   0,\n",
       "         0,   0,   0,  20, 203, 253, 248,  76,   0,   0,   0,   0,   0,\n",
       "         0,   0,   0,   0,   0,   0,   0,   0,   0,   0,   0,   0,   0,\n",
       "         0,   0,   0,   0,  22, 188, 253, 245,  93,   0,   0,   0,   0,\n",
       "         0,   0,   0,   0,   0,   0,   0,   0,   0,   0,   0,   0,   0,\n",
       "         0,   0,   0,   0,   0,   0, 103, 253, 253, 191,   0,   0,   0,\n",
       "         0,   0,   0,   0,   0,   0,   0,   0,   0,   0,   0,   0,   0,\n",
       "         0,   0,   0,   0,   0,   0,   0,  89, 240, 253, 195,  25,   0,\n",
       "         0,   0,   0,   0,   0,   0,   0,   0,   0,   0,   0,   0,   0,\n",
       "         0,   0,   0,   0,   0,   0,   0,   0,  15, 220, 253, 253,  80,\n",
       "         0,   0,   0,   0,   0,   0,   0,   0,   0,   0,   0,   0,   0,\n",
       "         0,   0,   0,   0,   0,   0,   0,   0,   0,   0,  94, 253, 253,\n",
       "       253,  94,   0,   0,   0,   0,   0,   0,   0,   0,   0,   0,   0,\n",
       "         0,   0,   0,   0,   0,   0,   0,   0,   0,   0,   0,   0,  89,\n",
       "       251, 253, 250, 131,   0,   0,   0,   0,   0,   0,   0,   0,   0,\n",
       "         0,   0,   0,   0,   0,   0,   0,   0,   0,   0,   0,   0,   0,\n",
       "         0,   0, 214, 218,  95,   0,   0,   0,   0,   0,   0,   0,   0,\n",
       "         0,   0,   0,   0,   0,   0,   0,   0,   0,   0,   0,   0,   0,\n",
       "         0,   0,   0,   0,   0,   0,   0,   0,   0,   0,   0,   0,   0,\n",
       "         0,   0,   0,   0,   0,   0,   0,   0,   0,   0,   0,   0,   0,\n",
       "         0,   0,   0,   0,   0,   0,   0,   0,   0,   0,   0,   0,   0,\n",
       "         0,   0,   0,   0,   0,   0,   0,   0,   0,   0,   0,   0,   0,\n",
       "         0,   0,   0,   0,   0,   0,   0,   0,   0,   0,   0,   0,   0,\n",
       "         0,   0,   0,   0,   0,   0,   0,   0,   0,   0,   0,   0,   0,\n",
       "         0,   0,   0,   0,   0,   0,   0,   0,   0,   0,   0,   0,   0,\n",
       "         0,   0,   0,   0,   0,   0,   0,   0,   0,   0,   0,   0,   0,\n",
       "         0,   0,   0,   0], dtype=uint8)"
      ]
     },
     "execution_count": 12,
     "metadata": {},
     "output_type": "execute_result"
    }
   ],
   "source": [
    "train_data[0]"
   ]
  },
  {
   "cell_type": "code",
   "execution_count": 11,
   "id": "07a47f78",
   "metadata": {},
   "outputs": [
    {
     "name": "stdout",
     "output_type": "stream",
     "text": [
      "1\n"
     ]
    },
    {
     "data": {
      "image/png": "[encoded data removed]",
      "text/plain": [
       "<Figure size 432x288 with 2 Axes>"
      ]
     },
     "metadata": {
      "needs_background": "light"
     },
     "output_type": "display_data"
    }
   ],
   "source": [
    "idx = 0\n",
    "\n",
    "# 1줄 데이터--> 1차원 데이터\n",
    "sns.heatmap(np.reshape(train_data[idx], (28,28)))\n",
    "print(train_labels[idx])"
   ]
  },
  {
   "cell_type": "markdown",
   "id": "df9db798",
   "metadata": {},
   "source": [
    "* 사용할 모델은 knn만!!!"
   ]
  },
  {
   "cell_type": "code",
   "execution_count": 9,
   "id": "9fbc829d",
   "metadata": {},
   "outputs": [],
   "source": [
    "from sklearn.neighbors import KNeighborsClassifier # sickit learn 해당 모델을 명확하게 분류!!! 회귀!!!! 다른용도인지.!!!!!!\n",
    "# 명확하게 사용할 모델을 불어와야 함!!!!!!!\n",
    "from sklearn.metrics import accuracy_score # 자동 채점기---> accuracy 값을 알려주는....."
   ]
  },
  {
   "cell_type": "code",
   "execution_count": 13,
   "id": "b6b22721",
   "metadata": {},
   "outputs": [
    {
     "name": "stdout",
     "output_type": "stream",
     "text": [
      "0.005992412567138672\n"
     ]
    },
    {
     "data": {
      "text/plain": [
       "array([2, 0, 9, 9, 3], dtype=uint8)"
      ]
     },
     "execution_count": 13,
     "metadata": {},
     "output_type": "execute_result"
    }
   ],
   "source": [
    "t1 =time.time()\n",
    "\n",
    "# 1) 모델 불러오기!!!!-> 모델 불러오면서 파라미터도 세팅을 동시에...\n",
    "knn = KNeighborsClassifier(n_neighbors=3, n_jobs=-1)\n",
    "\n",
    "# 2) 학습\n",
    "knn. fit(train_data, train_labels)\n",
    "\n",
    "t2 = time.time()\n",
    "print(str(t2-t1))\n",
    "\n",
    "# 3) 학습한 모델을 가지고 예측!!!\n",
    "pred = knn.predict(test)\n",
    "\n",
    "# 4) --> 이 채점을...실제 kaggle에 올려야지만 가능함!!!!!!!!!!!!!!\n",
    "pred[:5]"
   ]
  },
  {
   "cell_type": "code",
   "execution_count": 11,
   "id": "836382f3",
   "metadata": {},
   "outputs": [
    {
     "data": {
      "text/plain": [
       "(28000,)"
      ]
     },
     "execution_count": 11,
     "metadata": {},
     "output_type": "execute_result"
    }
   ],
   "source": [
    "pred.shape"
   ]
  },
  {
   "cell_type": "markdown",
   "id": "dcb84e9f",
   "metadata": {},
   "source": [
    "* 실제 kaggle에 제출하기 위한 양식 만들기!!! -> 시험지에 문제는 풀었고, OMR 카드에 마킹한다!!!"
   ]
  },
  {
   "cell_type": "code",
   "execution_count": 14,
   "id": "92298cd8",
   "metadata": {},
   "outputs": [],
   "source": [
    "img_id= []\n",
    "# 1~28000까지의 연속되는 숫자 ---> range\n",
    "for i in range(1, len(test)+1,1):\n",
    "    img_id.append(i)\n",
    "# img_id 리스트에 1~28000가지 숫자가 기입이 됨!!!!\n",
    "\n",
    "pre_MNIST = pd.DataFrame({\n",
    "    \"ImageId\" : img_id,\n",
    "    \"Label\" : pred\n",
    "})\n",
    "# 컬럼은 ImageID, Label--> 2개의 컬럼!!!\n",
    "\n",
    "out_path = \"mnist_test.csv\"\n",
    "pre_MNIST.to_csv(out_path, index=False)"
   ]
  },
  {
   "cell_type": "markdown",
   "id": "f4b43bc8",
   "metadata": {},
   "source": [
    "* 784개의 특징을 가지고 하는 것 보다는...테두리 등에 거의 0으로 의미 없는 것들이 있으니..pca로 한 번 줄여서 제출해 보세요!!!!!!!!\n",
    "지금 같이 한 경우 이외에 본인이 생각한 대로 2번 정도 하셔서\n",
    "업로드를 해보시길 바랍니다!!!"
   ]
  },
  {
   "cell_type": "markdown",
   "id": "8b335025",
   "metadata": {},
   "source": [
    "# PCA"
   ]
  },
  {
   "cell_type": "code",
   "execution_count": 15,
   "id": "92bafc73",
   "metadata": {},
   "outputs": [],
   "source": [
    "from sklearn.decomposition import PCA"
   ]
  },
  {
   "cell_type": "code",
   "execution_count": 16,
   "id": "923beded",
   "metadata": {},
   "outputs": [],
   "source": [
    "num_comp = 40\n",
    "pca = PCA(n_components = num_comp) # 셋팅만"
   ]
  },
  {
   "cell_type": "code",
   "execution_count": 17,
   "id": "8eeb1d61",
   "metadata": {},
   "outputs": [
    {
     "data": {
      "text/plain": [
       "PCA(n_components=40)"
      ]
     },
     "execution_count": 17,
     "metadata": {},
     "output_type": "execute_result"
    }
   ],
   "source": [
    "pca.fit(train_data) # pca에 자동 업데이트(변동성이 큰 40개 부분만)"
   ]
  },
  {
   "cell_type": "code",
   "execution_count": 18,
   "id": "8382c8c2",
   "metadata": {},
   "outputs": [
    {
     "data": {
      "text/plain": [
       "0.7871290538309348"
      ]
     },
     "execution_count": 18,
     "metadata": {},
     "output_type": "execute_result"
    }
   ],
   "source": [
    "np.sum(pca.explained_variance_ratio_)  # 변동성이 큰 40개 부분으로 78%정도 설명할 수 있음. "
   ]
  },
  {
   "cell_type": "code",
   "execution_count": null,
   "id": "2f927235",
   "metadata": {},
   "outputs": [],
   "source": [
    "# 이제 784개를 40개의 피처로 줄이자.\n",
    "# 기준은 train\n",
    "# 변경대상은 train, test"
   ]
  },
  {
   "cell_type": "code",
   "execution_count": 19,
   "id": "d317a56e",
   "metadata": {},
   "outputs": [
    {
     "name": "stdout",
     "output_type": "stream",
     "text": [
      "(42000, 40)\n"
     ]
    }
   ],
   "source": [
    "train_ext = pca.fit_transform(train_data)\n",
    "print(train_ext.shape)"
   ]
  },
  {
   "cell_type": "code",
   "execution_count": 33,
   "id": "a2e92f99",
   "metadata": {
    "scrolled": true
   },
   "outputs": [
    {
     "name": "stdout",
     "output_type": "stream",
     "text": [
      "(28000, 40)\n"
     ]
    }
   ],
   "source": [
    "test_ext = pca.transform(test)\n",
    "print(test_ext.shape)"
   ]
  },
  {
   "cell_type": "markdown",
   "id": "666755fb",
   "metadata": {},
   "source": [
    "# 정규화 작업"
   ]
  },
  {
   "cell_type": "code",
   "execution_count": 25,
   "id": "6f59c8d8",
   "metadata": {},
   "outputs": [],
   "source": [
    "from sklearn.preprocessing import MinMaxScaler"
   ]
  },
  {
   "cell_type": "code",
   "execution_count": 31,
   "id": "833204ec",
   "metadata": {},
   "outputs": [],
   "source": [
    "min_max_scaler = MinMaxScaler()"
   ]
  },
  {
   "cell_type": "code",
   "execution_count": 34,
   "id": "9b100cd8",
   "metadata": {},
   "outputs": [],
   "source": [
    "# PCA를 적용한 학습용 데이터를 기준으로 minMax 기준.\n",
    "# PCA 적용된 학습용 데이터, PCA가 적용된 실전 데이터를 동일한 기준으로 모두 변경\n",
    "train_norm = min_max_scaler.fit_transform(train_ext)\n",
    "test_norm = min_max_scaler.transform(test_ext)"
   ]
  },
  {
   "cell_type": "code",
   "execution_count": 39,
   "id": "7875a5e6",
   "metadata": {},
   "outputs": [],
   "source": [
    "knn = KNeighborsClassifier(n_neighbors=3,n_jobs=-1)"
   ]
  },
  {
   "cell_type": "code",
   "execution_count": 40,
   "id": "6487fe3a",
   "metadata": {},
   "outputs": [
    {
     "data": {
      "text/plain": [
       "KNeighborsClassifier(n_jobs=-1, n_neighbors=3)"
      ]
     },
     "execution_count": 40,
     "metadata": {},
     "output_type": "execute_result"
    }
   ],
   "source": [
    "# 모의고사 문제, 모의고사 정답지\n",
    "# 모의고사 문제 - PCA 40으로 변형.(정규화 한 문제지)\n",
    "# 정답지는 그대로\n",
    "knn.fit(train_norm, train_labels)"
   ]
  },
  {
   "cell_type": "code",
   "execution_count": 41,
   "id": "6a6365f0",
   "metadata": {},
   "outputs": [
    {
     "data": {
      "text/plain": [
       "array([2, 0, 9, 9, 3], dtype=uint8)"
      ]
     },
     "execution_count": 41,
     "metadata": {},
     "output_type": "execute_result"
    }
   ],
   "source": [
    "knn.predict(test_norm)\n",
    "pred[:5]"
   ]
  },
  {
   "cell_type": "code",
   "execution_count": 42,
   "id": "4302feb7",
   "metadata": {},
   "outputs": [],
   "source": [
    "img_id= []\n",
    "# 1~28000까지의 연속되는 숫자 ---> range\n",
    "for i in range(1, len(test)+1,1):\n",
    "    img_id.append(i)\n",
    "# img_id 리스트에 1~28000가지 숫자가 기입이 됨!!!!\n",
    "\n",
    "pre_MNIST = pd.DataFrame({\n",
    "    \"ImageId\" : img_id,\n",
    "    \"Label\" : pred\n",
    "})\n",
    "# 컬럼은 ImageID, Label--> 2개의 컬럼!!!\n",
    "\n",
    "out_path = \"mnist_test_pca_minmax.csv\"\n",
    "pre_MNIST.to_csv(out_path, index=False)"
   ]
  },
  {
   "cell_type": "code",
   "execution_count": null,
   "id": "e8c6f74b",
   "metadata": {},
   "outputs": [],
   "source": []
  },
  {
   "cell_type": "code",
   "execution_count": null,
   "id": "bed0c10a",
   "metadata": {},
   "outputs": [],
   "source": []
  }
 ],
 "metadata": {
  "kernelspec": {
   "display_name": "Python 3",
   "language": "python",
   "name": "python3"
  },
  "language_info": {
   "codemirror_mode": {
    "name": "ipython",
    "version": 3
   },
   "file_extension": ".py",
   "mimetype": "text/x-python",
   "name": "python",
   "nbconvert_exporter": "python",
   "pygments_lexer": "ipython3",
   "version": "3.8.8"
  },
  "toc": {
   "base_numbering": 1,
   "nav_menu": {},
   "number_sections": true,
   "sideBar": true,
   "skip_h1_title": false,
   "title_cell": "Table of Contents",
   "title_sidebar": "Contents",
   "toc_cell": false,
   "toc_position": {},
   "toc_section_display": true,
   "toc_window_display": false
  },
  "varInspector": {
   "cols": {
    "lenName": 16,
    "lenType": 16,
    "lenVar": 40
   },
   "kernels_config": {
    "python": {
     "delete_cmd_postfix": "",
     "delete_cmd_prefix": "del ",
     "library": "var_list.py",
     "varRefreshCmd": "print(var_dic_list())"
    },
    "r": {
     "delete_cmd_postfix": ") ",
     "delete_cmd_prefix": "rm(",
     "library": "var_list.r",
     "varRefreshCmd": "cat(var_dic_list()) "
    }
   },
   "types_to_exclude": [
    "module",
    "function",
    "builtin_function_or_method",
    "instance",
    "_Feature"
   ],
   "window_display": false
  }
 },
 "nbformat": 4,
 "nbformat_minor": 5
}
