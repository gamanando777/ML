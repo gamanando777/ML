{
 "cells": [
  {
   "cell_type": "markdown",
   "id": "6ddf7930",
   "metadata": {},
   "source": [
    "# 기본적인 사항들.."
   ]
  },
  {
   "cell_type": "code",
   "execution_count": 1,
   "id": "d15c0edc",
   "metadata": {},
   "outputs": [],
   "source": [
    "import numpy as np\n",
    "import pandas as pd\n",
    "import matplotlib.pyplot as plt"
   ]
  },
  {
   "cell_type": "markdown",
   "id": "0e77e1a2",
   "metadata": {},
   "source": [
    "* Q준비) train.csv 파일을 불러오세요 -> train_data 변수로 불러오시면 됩니다.<br>\n",
    "test.csv 파일도 test 변수로 불러오세요."
   ]
  },
  {
   "cell_type": "code",
   "execution_count": 339,
   "id": "e091ac23",
   "metadata": {},
   "outputs": [],
   "source": [
    "train_data = pd.read_csv('data/titanic_train.csv')\n",
    "test = pd.read_csv('data/titanic_test.csv')"
   ]
  },
  {
   "cell_type": "markdown",
   "id": "d8b4f658",
   "metadata": {},
   "source": [
    "Q1) 데이터 정리<br>\n",
    "1-1) Train 데이터에서 Target인 Survived 컬럼을 추출해서,  y_train_data으로, 남은 특징만을 x_train_data 변수로 정리하기<br>\n",
    "1-2) train_test_split을 활용을 x_train_data/y_train_data 를 x_train, y_train을 x_train, x_val, y_train, y_val으로 분리하기(조건 : test비율 0.2, y_train_data의 비율을 유지해서 나눌 것, random_state=1234로 고정)"
   ]
  },
  {
   "cell_type": "code",
   "execution_count": 340,
   "id": "c9cd8904",
   "metadata": {},
   "outputs": [],
   "source": [
    "y_train_data = train_data.loc[:, \"Survived\"]\n",
    "x_train_data = train_data.drop(\"Survived\", axis = 1)"
   ]
  },
  {
   "cell_type": "code",
   "execution_count": 237,
   "id": "cf012f9a",
   "metadata": {},
   "outputs": [],
   "source": [
    "from sklearn.model_selection import train_test_split"
   ]
  },
  {
   "cell_type": "code",
   "execution_count": 341,
   "id": "2d641073",
   "metadata": {},
   "outputs": [],
   "source": [
    "x_train, x_val, y_train, y_val = train_test_split(x_train_data,\n",
    "                                                   y_train_data,\n",
    "                                                   test_size=0.2,\n",
    "                                                  stratify= y_train_data,\n",
    "                                                 random_state=1234)"
   ]
  },
  {
   "cell_type": "markdown",
   "id": "3b4fa41d",
   "metadata": {},
   "source": [
    "* Q2) 위에서 불러온 데이터의 기본적인 사항 체크를 하고, 각 컬럼별로 어느 정도 빈 데이터가 있는지 확인하세요!!"
   ]
  },
  {
   "cell_type": "code",
   "execution_count": 263,
   "id": "03e082ca",
   "metadata": {},
   "outputs": [
    {
     "name": "stdout",
     "output_type": "stream",
     "text": [
      "<class 'pandas.core.frame.DataFrame'>\n",
      "RangeIndex: 891 entries, 0 to 890\n",
      "Data columns (total 11 columns):\n",
      " #   Column       Non-Null Count  Dtype  \n",
      "---  ------       --------------  -----  \n",
      " 0   PassengerId  891 non-null    int64  \n",
      " 1   Pclass       891 non-null    int64  \n",
      " 2   Name         891 non-null    object \n",
      " 3   Sex          891 non-null    object \n",
      " 4   Age          714 non-null    float64\n",
      " 5   SibSp        891 non-null    int64  \n",
      " 6   Parch        891 non-null    int64  \n",
      " 7   Ticket       891 non-null    object \n",
      " 8   Fare         891 non-null    float64\n",
      " 9   Cabin        204 non-null    object \n",
      " 10  Embarked     889 non-null    object \n",
      "dtypes: float64(2), int64(4), object(5)\n",
      "memory usage: 76.7+ KB\n"
     ]
    }
   ],
   "source": [
    "x_train_data.info()"
   ]
  },
  {
   "cell_type": "markdown",
   "id": "2ced6cfc",
   "metadata": {},
   "source": [
    "## 전처리 부분들에 대해서 함수화를 해보자!!! -> 단, 주의하실 부분은 Train데이터를 기준으로 그대로 Test  데이터에 적용할 것!!! 혹 test에서 unseen 데이터가 발생할 경우도 고려해서 코드 작성할 것."
   ]
  },
  {
   "cell_type": "markdown",
   "id": "95a30f79",
   "metadata": {},
   "source": [
    "* Q3) 누락된 데이터를 처리하는 함수를 만드세요.단, 아래의 조건대로 만들어 보세요<br>\n",
    "3-1) Age 컬럼이 누락이 된 것들은 `중앙값`으로 채우세요<br>\n",
    "3-2) Cabin의 경우에는 `N`의 문자값으로 채우세요<br>\n",
    "3-3) Embarked의 경우에는 `X`의 문자값으로 채우세요<br>\n",
    "3-4) Fare의 경우에는 성별로 동일한 그룹에 대해서 평균값으로 채우세요. (예 : 남성에 대한 요금 데이터가 100,200이고, 남성인데 요금이 없는 사람은 150으로 채우고, 여성의 요금 데이터가 100,200,300이면 여성 중에서 요금이 없는 사람은 200으로 채워야 함 -> 즉, 유사한 데이터를 기반으로 채운다.)"
   ]
  },
  {
   "cell_type": "code",
   "execution_count": 342,
   "id": "f614f50a",
   "metadata": {},
   "outputs": [
    {
     "data": {
      "text/html": [
       "<div>\n",
       "<style scoped>\n",
       "    .dataframe tbody tr th:only-of-type {\n",
       "        vertical-align: middle;\n",
       "    }\n",
       "\n",
       "    .dataframe tbody tr th {\n",
       "        vertical-align: top;\n",
       "    }\n",
       "\n",
       "    .dataframe thead th {\n",
       "        text-align: right;\n",
       "    }\n",
       "</style>\n",
       "<table border=\"1\" class=\"dataframe\">\n",
       "  <thead>\n",
       "    <tr style=\"text-align: right;\">\n",
       "      <th></th>\n",
       "      <th>PassengerId</th>\n",
       "      <th>Pclass</th>\n",
       "      <th>Name</th>\n",
       "      <th>Sex</th>\n",
       "      <th>Age</th>\n",
       "      <th>SibSp</th>\n",
       "      <th>Parch</th>\n",
       "      <th>Ticket</th>\n",
       "      <th>Fare</th>\n",
       "      <th>Cabin</th>\n",
       "      <th>Embarked</th>\n",
       "    </tr>\n",
       "  </thead>\n",
       "  <tbody>\n",
       "    <tr>\n",
       "      <th>0</th>\n",
       "      <td>1</td>\n",
       "      <td>3</td>\n",
       "      <td>Braund, Mr. Owen Harris</td>\n",
       "      <td>male</td>\n",
       "      <td>22.0</td>\n",
       "      <td>1</td>\n",
       "      <td>0</td>\n",
       "      <td>A/5 21171</td>\n",
       "      <td>7.2500</td>\n",
       "      <td>NaN</td>\n",
       "      <td>S</td>\n",
       "    </tr>\n",
       "    <tr>\n",
       "      <th>1</th>\n",
       "      <td>2</td>\n",
       "      <td>1</td>\n",
       "      <td>Cumings, Mrs. John Bradley (Florence Briggs Th...</td>\n",
       "      <td>female</td>\n",
       "      <td>38.0</td>\n",
       "      <td>1</td>\n",
       "      <td>0</td>\n",
       "      <td>PC 17599</td>\n",
       "      <td>71.2833</td>\n",
       "      <td>C85</td>\n",
       "      <td>C</td>\n",
       "    </tr>\n",
       "    <tr>\n",
       "      <th>2</th>\n",
       "      <td>3</td>\n",
       "      <td>3</td>\n",
       "      <td>Heikkinen, Miss. Laina</td>\n",
       "      <td>female</td>\n",
       "      <td>26.0</td>\n",
       "      <td>0</td>\n",
       "      <td>0</td>\n",
       "      <td>STON/O2. 3101282</td>\n",
       "      <td>7.9250</td>\n",
       "      <td>NaN</td>\n",
       "      <td>S</td>\n",
       "    </tr>\n",
       "    <tr>\n",
       "      <th>3</th>\n",
       "      <td>4</td>\n",
       "      <td>1</td>\n",
       "      <td>Futrelle, Mrs. Jacques Heath (Lily May Peel)</td>\n",
       "      <td>female</td>\n",
       "      <td>35.0</td>\n",
       "      <td>1</td>\n",
       "      <td>0</td>\n",
       "      <td>113803</td>\n",
       "      <td>53.1000</td>\n",
       "      <td>C123</td>\n",
       "      <td>S</td>\n",
       "    </tr>\n",
       "    <tr>\n",
       "      <th>4</th>\n",
       "      <td>5</td>\n",
       "      <td>3</td>\n",
       "      <td>Allen, Mr. William Henry</td>\n",
       "      <td>male</td>\n",
       "      <td>35.0</td>\n",
       "      <td>0</td>\n",
       "      <td>0</td>\n",
       "      <td>373450</td>\n",
       "      <td>8.0500</td>\n",
       "      <td>NaN</td>\n",
       "      <td>S</td>\n",
       "    </tr>\n",
       "    <tr>\n",
       "      <th>...</th>\n",
       "      <td>...</td>\n",
       "      <td>...</td>\n",
       "      <td>...</td>\n",
       "      <td>...</td>\n",
       "      <td>...</td>\n",
       "      <td>...</td>\n",
       "      <td>...</td>\n",
       "      <td>...</td>\n",
       "      <td>...</td>\n",
       "      <td>...</td>\n",
       "      <td>...</td>\n",
       "    </tr>\n",
       "    <tr>\n",
       "      <th>886</th>\n",
       "      <td>887</td>\n",
       "      <td>2</td>\n",
       "      <td>Montvila, Rev. Juozas</td>\n",
       "      <td>male</td>\n",
       "      <td>27.0</td>\n",
       "      <td>0</td>\n",
       "      <td>0</td>\n",
       "      <td>211536</td>\n",
       "      <td>13.0000</td>\n",
       "      <td>NaN</td>\n",
       "      <td>S</td>\n",
       "    </tr>\n",
       "    <tr>\n",
       "      <th>887</th>\n",
       "      <td>888</td>\n",
       "      <td>1</td>\n",
       "      <td>Graham, Miss. Margaret Edith</td>\n",
       "      <td>female</td>\n",
       "      <td>19.0</td>\n",
       "      <td>0</td>\n",
       "      <td>0</td>\n",
       "      <td>112053</td>\n",
       "      <td>30.0000</td>\n",
       "      <td>B42</td>\n",
       "      <td>S</td>\n",
       "    </tr>\n",
       "    <tr>\n",
       "      <th>888</th>\n",
       "      <td>889</td>\n",
       "      <td>3</td>\n",
       "      <td>Johnston, Miss. Catherine Helen \"Carrie\"</td>\n",
       "      <td>female</td>\n",
       "      <td>NaN</td>\n",
       "      <td>1</td>\n",
       "      <td>2</td>\n",
       "      <td>W./C. 6607</td>\n",
       "      <td>23.4500</td>\n",
       "      <td>NaN</td>\n",
       "      <td>S</td>\n",
       "    </tr>\n",
       "    <tr>\n",
       "      <th>889</th>\n",
       "      <td>890</td>\n",
       "      <td>1</td>\n",
       "      <td>Behr, Mr. Karl Howell</td>\n",
       "      <td>male</td>\n",
       "      <td>26.0</td>\n",
       "      <td>0</td>\n",
       "      <td>0</td>\n",
       "      <td>111369</td>\n",
       "      <td>30.0000</td>\n",
       "      <td>C148</td>\n",
       "      <td>C</td>\n",
       "    </tr>\n",
       "    <tr>\n",
       "      <th>890</th>\n",
       "      <td>891</td>\n",
       "      <td>3</td>\n",
       "      <td>Dooley, Mr. Patrick</td>\n",
       "      <td>male</td>\n",
       "      <td>32.0</td>\n",
       "      <td>0</td>\n",
       "      <td>0</td>\n",
       "      <td>370376</td>\n",
       "      <td>7.7500</td>\n",
       "      <td>NaN</td>\n",
       "      <td>Q</td>\n",
       "    </tr>\n",
       "  </tbody>\n",
       "</table>\n",
       "<p>891 rows × 11 columns</p>\n",
       "</div>"
      ],
      "text/plain": [
       "     PassengerId  Pclass                                               Name  \\\n",
       "0              1       3                            Braund, Mr. Owen Harris   \n",
       "1              2       1  Cumings, Mrs. John Bradley (Florence Briggs Th...   \n",
       "2              3       3                             Heikkinen, Miss. Laina   \n",
       "3              4       1       Futrelle, Mrs. Jacques Heath (Lily May Peel)   \n",
       "4              5       3                           Allen, Mr. William Henry   \n",
       "..           ...     ...                                                ...   \n",
       "886          887       2                              Montvila, Rev. Juozas   \n",
       "887          888       1                       Graham, Miss. Margaret Edith   \n",
       "888          889       3           Johnston, Miss. Catherine Helen \"Carrie\"   \n",
       "889          890       1                              Behr, Mr. Karl Howell   \n",
       "890          891       3                                Dooley, Mr. Patrick   \n",
       "\n",
       "        Sex   Age  SibSp  Parch            Ticket     Fare Cabin Embarked  \n",
       "0      male  22.0      1      0         A/5 21171   7.2500   NaN        S  \n",
       "1    female  38.0      1      0          PC 17599  71.2833   C85        C  \n",
       "2    female  26.0      0      0  STON/O2. 3101282   7.9250   NaN        S  \n",
       "3    female  35.0      1      0            113803  53.1000  C123        S  \n",
       "4      male  35.0      0      0            373450   8.0500   NaN        S  \n",
       "..      ...   ...    ...    ...               ...      ...   ...      ...  \n",
       "886    male  27.0      0      0            211536  13.0000   NaN        S  \n",
       "887  female  19.0      0      0            112053  30.0000   B42        S  \n",
       "888  female   NaN      1      2        W./C. 6607  23.4500   NaN        S  \n",
       "889    male  26.0      0      0            111369  30.0000  C148        C  \n",
       "890    male  32.0      0      0            370376   7.7500   NaN        Q  \n",
       "\n",
       "[891 rows x 11 columns]"
      ]
     },
     "execution_count": 342,
     "metadata": {},
     "output_type": "execute_result"
    }
   ],
   "source": [
    "x_train_data"
   ]
  },
  {
   "cell_type": "code",
   "execution_count": 343,
   "id": "40e2215a",
   "metadata": {},
   "outputs": [
    {
     "name": "stderr",
     "output_type": "stream",
     "text": [
      "C:\\ProgramData\\Anaconda3\\lib\\site-packages\\pandas\\core\\series.py:4463: SettingWithCopyWarning: \n",
      "A value is trying to be set on a copy of a slice from a DataFrame\n",
      "\n",
      "See the caveats in the documentation: https://pandas.pydata.org/pandas-docs/stable/user_guide/indexing.html#returning-a-view-versus-a-copy\n",
      "  return super().fillna(\n"
     ]
    }
   ],
   "source": [
    "x_train_data['Age'].fillna(x_train_data['Age'].median(),inplace=True)\n",
    "\n",
    "x_val['Age'].fillna(x_val['Age'].median(),inplace=True)\n",
    "\n",
    "test['Age'].fillna(test['Age'].median(),inplace=True)\n"
   ]
  },
  {
   "cell_type": "code",
   "execution_count": 344,
   "id": "8a63284a",
   "metadata": {},
   "outputs": [],
   "source": [
    "x_train_data['Cabin'].fillna(\"N\",inplace=True)\n",
    "\n",
    "test['Cabin'].fillna(\"N\",inplace=True)\n",
    "\n",
    "x_val['Cabin'].fillna(\"N\",inplace=True)\n"
   ]
  },
  {
   "cell_type": "code",
   "execution_count": 270,
   "id": "cf127dc7",
   "metadata": {},
   "outputs": [
    {
     "name": "stdout",
     "output_type": "stream",
     "text": [
      "<class 'pandas.core.frame.DataFrame'>\n",
      "RangeIndex: 891 entries, 0 to 890\n",
      "Data columns (total 11 columns):\n",
      " #   Column       Non-Null Count  Dtype  \n",
      "---  ------       --------------  -----  \n",
      " 0   PassengerId  891 non-null    int64  \n",
      " 1   Pclass       891 non-null    int64  \n",
      " 2   Name         891 non-null    object \n",
      " 3   Sex          891 non-null    object \n",
      " 4   Age          891 non-null    float64\n",
      " 5   SibSp        891 non-null    int64  \n",
      " 6   Parch        891 non-null    int64  \n",
      " 7   Ticket       891 non-null    object \n",
      " 8   Fare         891 non-null    float64\n",
      " 9   Cabin        891 non-null    object \n",
      " 10  Embarked     889 non-null    object \n",
      "dtypes: float64(2), int64(4), object(5)\n",
      "memory usage: 76.7+ KB\n"
     ]
    }
   ],
   "source": [
    "x_train_data.info()"
   ]
  },
  {
   "cell_type": "code",
   "execution_count": 345,
   "id": "df281cff",
   "metadata": {},
   "outputs": [],
   "source": [
    "x_train_data['Embarked'].fillna(\"X\",inplace=True)\n",
    "\n",
    "test['Embarked'].fillna(\"X\",inplace=True)\n",
    "\n",
    "x_val['Embarked'].fillna(\"X\",inplace=True)\n"
   ]
  },
  {
   "cell_type": "code",
   "execution_count": 346,
   "id": "dee9227e",
   "metadata": {},
   "outputs": [
    {
     "name": "stdout",
     "output_type": "stream",
     "text": [
      "<class 'pandas.core.frame.DataFrame'>\n",
      "RangeIndex: 891 entries, 0 to 890\n",
      "Data columns (total 11 columns):\n",
      " #   Column       Non-Null Count  Dtype  \n",
      "---  ------       --------------  -----  \n",
      " 0   PassengerId  891 non-null    int64  \n",
      " 1   Pclass       891 non-null    int64  \n",
      " 2   Name         891 non-null    object \n",
      " 3   Sex          891 non-null    object \n",
      " 4   Age          891 non-null    float64\n",
      " 5   SibSp        891 non-null    int64  \n",
      " 6   Parch        891 non-null    int64  \n",
      " 7   Ticket       891 non-null    object \n",
      " 8   Fare         891 non-null    float64\n",
      " 9   Cabin        891 non-null    object \n",
      " 10  Embarked     891 non-null    object \n",
      "dtypes: float64(2), int64(4), object(5)\n",
      "memory usage: 76.7+ KB\n"
     ]
    }
   ],
   "source": [
    "x_train_data.info()"
   ]
  },
  {
   "cell_type": "code",
   "execution_count": 347,
   "id": "405aa1c1",
   "metadata": {},
   "outputs": [
    {
     "name": "stderr",
     "output_type": "stream",
     "text": [
      "<ipython-input-347-199d598a05d8>:3: SettingWithCopyWarning: \n",
      "A value is trying to be set on a copy of a slice from a DataFrame.\n",
      "Try using .loc[row_indexer,col_indexer] = value instead\n",
      "\n",
      "See the caveats in the documentation: https://pandas.pydata.org/pandas-docs/stable/user_guide/indexing.html#returning-a-view-versus-a-copy\n",
      "  x_val[\"old_Fare\"] = x_val[\"Fare\"]\n"
     ]
    }
   ],
   "source": [
    "x_train_data[\"old_Fare\"] = x_train_data[\"Fare\"]\n",
    "\n",
    "x_val[\"old_Fare\"] = x_val[\"Fare\"]"
   ]
  },
  {
   "cell_type": "code",
   "execution_count": 348,
   "id": "37e12882",
   "metadata": {},
   "outputs": [
    {
     "data": {
      "text/plain": [
       "Sex\n",
       "female    44.479818\n",
       "male      25.523893\n",
       "Name: Fare, dtype: float64"
      ]
     },
     "execution_count": 348,
     "metadata": {},
     "output_type": "execute_result"
    }
   ],
   "source": [
    "ref_table = x_train_data.groupby(by = \"Sex\")[\"Fare\"].agg(np.mean)\n",
    "ref_table"
   ]
  },
  {
   "cell_type": "code",
   "execution_count": 349,
   "id": "54381c26",
   "metadata": {},
   "outputs": [
    {
     "name": "stderr",
     "output_type": "stream",
     "text": [
      "<ipython-input-349-fcd2dd1a6b1c>:3: SettingWithCopyWarning: \n",
      "A value is trying to be set on a copy of a slice from a DataFrame.\n",
      "Try using .loc[row_indexer,col_indexer] = value instead\n",
      "\n",
      "See the caveats in the documentation: https://pandas.pydata.org/pandas-docs/stable/user_guide/indexing.html#returning-a-view-versus-a-copy\n",
      "  x_val[\"Fare\"] = x_val.groupby(by=\"Sex\")[\"Fare\"].transform(lambda x : x.fillna(x.mean()))\n"
     ]
    }
   ],
   "source": [
    "x_train_data[\"Fare\"] = x_train_data.groupby(by=\"Sex\")[\"Fare\"].transform(lambda x : x.fillna(x.mean()))\n",
    "\n",
    "x_val[\"Fare\"] = x_val.groupby(by=\"Sex\")[\"Fare\"].transform(lambda x : x.fillna(x.mean()))\n"
   ]
  },
  {
   "cell_type": "code",
   "execution_count": 350,
   "id": "5c5c983e",
   "metadata": {},
   "outputs": [],
   "source": [
    "test[\"old_Fare\"] = test[\"Fare\"]\n",
    "test = pd.merge(test,ref_table, how=\"left\",left_on=\"Sex\", right_on=\"Sex\")"
   ]
  },
  {
   "cell_type": "code",
   "execution_count": 351,
   "id": "6f48e526",
   "metadata": {},
   "outputs": [
    {
     "data": {
      "text/html": [
       "<div>\n",
       "<style scoped>\n",
       "    .dataframe tbody tr th:only-of-type {\n",
       "        vertical-align: middle;\n",
       "    }\n",
       "\n",
       "    .dataframe tbody tr th {\n",
       "        vertical-align: top;\n",
       "    }\n",
       "\n",
       "    .dataframe thead th {\n",
       "        text-align: right;\n",
       "    }\n",
       "</style>\n",
       "<table border=\"1\" class=\"dataframe\">\n",
       "  <thead>\n",
       "    <tr style=\"text-align: right;\">\n",
       "      <th></th>\n",
       "      <th>PassengerId</th>\n",
       "      <th>Pclass</th>\n",
       "      <th>Name</th>\n",
       "      <th>Sex</th>\n",
       "      <th>Age</th>\n",
       "      <th>SibSp</th>\n",
       "      <th>Parch</th>\n",
       "      <th>Ticket</th>\n",
       "      <th>Fare_x</th>\n",
       "      <th>Cabin</th>\n",
       "      <th>Embarked</th>\n",
       "      <th>old_Fare</th>\n",
       "      <th>Fare_y</th>\n",
       "    </tr>\n",
       "  </thead>\n",
       "  <tbody>\n",
       "    <tr>\n",
       "      <th>0</th>\n",
       "      <td>892</td>\n",
       "      <td>3</td>\n",
       "      <td>Kelly, Mr. James</td>\n",
       "      <td>male</td>\n",
       "      <td>34.5</td>\n",
       "      <td>0</td>\n",
       "      <td>0</td>\n",
       "      <td>330911</td>\n",
       "      <td>7.8292</td>\n",
       "      <td>N</td>\n",
       "      <td>Q</td>\n",
       "      <td>7.8292</td>\n",
       "      <td>25.523893</td>\n",
       "    </tr>\n",
       "    <tr>\n",
       "      <th>1</th>\n",
       "      <td>893</td>\n",
       "      <td>3</td>\n",
       "      <td>Wilkes, Mrs. James (Ellen Needs)</td>\n",
       "      <td>female</td>\n",
       "      <td>47.0</td>\n",
       "      <td>1</td>\n",
       "      <td>0</td>\n",
       "      <td>363272</td>\n",
       "      <td>7.0000</td>\n",
       "      <td>N</td>\n",
       "      <td>S</td>\n",
       "      <td>7.0000</td>\n",
       "      <td>44.479818</td>\n",
       "    </tr>\n",
       "    <tr>\n",
       "      <th>2</th>\n",
       "      <td>894</td>\n",
       "      <td>2</td>\n",
       "      <td>Myles, Mr. Thomas Francis</td>\n",
       "      <td>male</td>\n",
       "      <td>62.0</td>\n",
       "      <td>0</td>\n",
       "      <td>0</td>\n",
       "      <td>240276</td>\n",
       "      <td>9.6875</td>\n",
       "      <td>N</td>\n",
       "      <td>Q</td>\n",
       "      <td>9.6875</td>\n",
       "      <td>25.523893</td>\n",
       "    </tr>\n",
       "    <tr>\n",
       "      <th>3</th>\n",
       "      <td>895</td>\n",
       "      <td>3</td>\n",
       "      <td>Wirz, Mr. Albert</td>\n",
       "      <td>male</td>\n",
       "      <td>27.0</td>\n",
       "      <td>0</td>\n",
       "      <td>0</td>\n",
       "      <td>315154</td>\n",
       "      <td>8.6625</td>\n",
       "      <td>N</td>\n",
       "      <td>S</td>\n",
       "      <td>8.6625</td>\n",
       "      <td>25.523893</td>\n",
       "    </tr>\n",
       "    <tr>\n",
       "      <th>4</th>\n",
       "      <td>896</td>\n",
       "      <td>3</td>\n",
       "      <td>Hirvonen, Mrs. Alexander (Helga E Lindqvist)</td>\n",
       "      <td>female</td>\n",
       "      <td>22.0</td>\n",
       "      <td>1</td>\n",
       "      <td>1</td>\n",
       "      <td>3101298</td>\n",
       "      <td>12.2875</td>\n",
       "      <td>N</td>\n",
       "      <td>S</td>\n",
       "      <td>12.2875</td>\n",
       "      <td>44.479818</td>\n",
       "    </tr>\n",
       "  </tbody>\n",
       "</table>\n",
       "</div>"
      ],
      "text/plain": [
       "   PassengerId  Pclass                                          Name     Sex  \\\n",
       "0          892       3                              Kelly, Mr. James    male   \n",
       "1          893       3              Wilkes, Mrs. James (Ellen Needs)  female   \n",
       "2          894       2                     Myles, Mr. Thomas Francis    male   \n",
       "3          895       3                              Wirz, Mr. Albert    male   \n",
       "4          896       3  Hirvonen, Mrs. Alexander (Helga E Lindqvist)  female   \n",
       "\n",
       "    Age  SibSp  Parch   Ticket   Fare_x Cabin Embarked  old_Fare     Fare_y  \n",
       "0  34.5      0      0   330911   7.8292     N        Q    7.8292  25.523893  \n",
       "1  47.0      1      0   363272   7.0000     N        S    7.0000  44.479818  \n",
       "2  62.0      0      0   240276   9.6875     N        Q    9.6875  25.523893  \n",
       "3  27.0      0      0   315154   8.6625     N        S    8.6625  25.523893  \n",
       "4  22.0      1      1  3101298  12.2875     N        S   12.2875  44.479818  "
      ]
     },
     "execution_count": 351,
     "metadata": {},
     "output_type": "execute_result"
    }
   ],
   "source": [
    "test.head()"
   ]
  },
  {
   "cell_type": "code",
   "execution_count": 352,
   "id": "0fd67e04",
   "metadata": {},
   "outputs": [
    {
     "data": {
      "text/html": [
       "<div>\n",
       "<style scoped>\n",
       "    .dataframe tbody tr th:only-of-type {\n",
       "        vertical-align: middle;\n",
       "    }\n",
       "\n",
       "    .dataframe tbody tr th {\n",
       "        vertical-align: top;\n",
       "    }\n",
       "\n",
       "    .dataframe thead th {\n",
       "        text-align: right;\n",
       "    }\n",
       "</style>\n",
       "<table border=\"1\" class=\"dataframe\">\n",
       "  <thead>\n",
       "    <tr style=\"text-align: right;\">\n",
       "      <th></th>\n",
       "      <th>Sex</th>\n",
       "      <th>Fare_x</th>\n",
       "      <th>old_Fare</th>\n",
       "      <th>Fare_y</th>\n",
       "    </tr>\n",
       "  </thead>\n",
       "  <tbody>\n",
       "    <tr>\n",
       "      <th>152</th>\n",
       "      <td>male</td>\n",
       "      <td>NaN</td>\n",
       "      <td>NaN</td>\n",
       "      <td>25.523893</td>\n",
       "    </tr>\n",
       "  </tbody>\n",
       "</table>\n",
       "</div>"
      ],
      "text/plain": [
       "      Sex  Fare_x  old_Fare     Fare_y\n",
       "152  male     NaN       NaN  25.523893"
      ]
     },
     "execution_count": 352,
     "metadata": {},
     "output_type": "execute_result"
    }
   ],
   "source": [
    "test.loc[test[\"Fare_x\"].isnull(),[\"Sex\",\"Fare_x\",\"old_Fare\",\"Fare_y\"]]"
   ]
  },
  {
   "cell_type": "code",
   "execution_count": 353,
   "id": "91e08830",
   "metadata": {},
   "outputs": [],
   "source": [
    "test.loc[test[\"Fare_x\"].isnull(), \"Fare_x\"] = test.loc[test[\"Fare_x\"].isnull(), \"Fare_y\"]\n",
    "\n",
    "# LotFrontage_y 컬럼은 역할 종료 -> 제거\n",
    "test.drop(\"Fare_y\",axis=1, inplace=True)\n",
    "\n",
    "# pd.merge를 하면서 동일 컬럼에 appendix가 부여된 것 처리\n",
    "test.rename(columns={\"Fare_x\" : \"Fare\"}, inplace=True)\n"
   ]
  },
  {
   "cell_type": "code",
   "execution_count": 255,
   "id": "10f02ac8",
   "metadata": {
    "scrolled": true
   },
   "outputs": [
    {
     "data": {
      "text/html": [
       "<div>\n",
       "<style scoped>\n",
       "    .dataframe tbody tr th:only-of-type {\n",
       "        vertical-align: middle;\n",
       "    }\n",
       "\n",
       "    .dataframe tbody tr th {\n",
       "        vertical-align: top;\n",
       "    }\n",
       "\n",
       "    .dataframe thead th {\n",
       "        text-align: right;\n",
       "    }\n",
       "</style>\n",
       "<table border=\"1\" class=\"dataframe\">\n",
       "  <thead>\n",
       "    <tr style=\"text-align: right;\">\n",
       "      <th></th>\n",
       "      <th>PassengerId</th>\n",
       "      <th>Pclass</th>\n",
       "      <th>Name</th>\n",
       "      <th>Sex</th>\n",
       "      <th>Age</th>\n",
       "      <th>SibSp</th>\n",
       "      <th>Parch</th>\n",
       "      <th>Ticket</th>\n",
       "      <th>Fare</th>\n",
       "      <th>Cabin</th>\n",
       "      <th>Embarked</th>\n",
       "      <th>old_Fare</th>\n",
       "    </tr>\n",
       "  </thead>\n",
       "  <tbody>\n",
       "    <tr>\n",
       "      <th>0</th>\n",
       "      <td>892</td>\n",
       "      <td>3</td>\n",
       "      <td>Kelly, Mr. James</td>\n",
       "      <td>male</td>\n",
       "      <td>34.5</td>\n",
       "      <td>0</td>\n",
       "      <td>0</td>\n",
       "      <td>330911</td>\n",
       "      <td>7.8292</td>\n",
       "      <td>N</td>\n",
       "      <td>Q</td>\n",
       "      <td>7.8292</td>\n",
       "    </tr>\n",
       "    <tr>\n",
       "      <th>1</th>\n",
       "      <td>893</td>\n",
       "      <td>3</td>\n",
       "      <td>Wilkes, Mrs. James (Ellen Needs)</td>\n",
       "      <td>female</td>\n",
       "      <td>47.0</td>\n",
       "      <td>1</td>\n",
       "      <td>0</td>\n",
       "      <td>363272</td>\n",
       "      <td>7.0000</td>\n",
       "      <td>N</td>\n",
       "      <td>S</td>\n",
       "      <td>7.0000</td>\n",
       "    </tr>\n",
       "    <tr>\n",
       "      <th>2</th>\n",
       "      <td>894</td>\n",
       "      <td>2</td>\n",
       "      <td>Myles, Mr. Thomas Francis</td>\n",
       "      <td>male</td>\n",
       "      <td>62.0</td>\n",
       "      <td>0</td>\n",
       "      <td>0</td>\n",
       "      <td>240276</td>\n",
       "      <td>9.6875</td>\n",
       "      <td>N</td>\n",
       "      <td>Q</td>\n",
       "      <td>9.6875</td>\n",
       "    </tr>\n",
       "    <tr>\n",
       "      <th>3</th>\n",
       "      <td>895</td>\n",
       "      <td>3</td>\n",
       "      <td>Wirz, Mr. Albert</td>\n",
       "      <td>male</td>\n",
       "      <td>27.0</td>\n",
       "      <td>0</td>\n",
       "      <td>0</td>\n",
       "      <td>315154</td>\n",
       "      <td>8.6625</td>\n",
       "      <td>N</td>\n",
       "      <td>S</td>\n",
       "      <td>8.6625</td>\n",
       "    </tr>\n",
       "    <tr>\n",
       "      <th>4</th>\n",
       "      <td>896</td>\n",
       "      <td>3</td>\n",
       "      <td>Hirvonen, Mrs. Alexander (Helga E Lindqvist)</td>\n",
       "      <td>female</td>\n",
       "      <td>22.0</td>\n",
       "      <td>1</td>\n",
       "      <td>1</td>\n",
       "      <td>3101298</td>\n",
       "      <td>12.2875</td>\n",
       "      <td>N</td>\n",
       "      <td>S</td>\n",
       "      <td>12.2875</td>\n",
       "    </tr>\n",
       "  </tbody>\n",
       "</table>\n",
       "</div>"
      ],
      "text/plain": [
       "   PassengerId  Pclass                                          Name     Sex  \\\n",
       "0          892       3                              Kelly, Mr. James    male   \n",
       "1          893       3              Wilkes, Mrs. James (Ellen Needs)  female   \n",
       "2          894       2                     Myles, Mr. Thomas Francis    male   \n",
       "3          895       3                              Wirz, Mr. Albert    male   \n",
       "4          896       3  Hirvonen, Mrs. Alexander (Helga E Lindqvist)  female   \n",
       "\n",
       "    Age  SibSp  Parch   Ticket     Fare Cabin Embarked  old_Fare  \n",
       "0  34.5      0      0   330911   7.8292     N        Q    7.8292  \n",
       "1  47.0      1      0   363272   7.0000     N        S    7.0000  \n",
       "2  62.0      0      0   240276   9.6875     N        Q    9.6875  \n",
       "3  27.0      0      0   315154   8.6625     N        S    8.6625  \n",
       "4  22.0      1      1  3101298  12.2875     N        S   12.2875  "
      ]
     },
     "execution_count": 255,
     "metadata": {},
     "output_type": "execute_result"
    }
   ],
   "source": [
    "test.head()"
   ]
  },
  {
   "cell_type": "code",
   "execution_count": 280,
   "id": "fdbb717e",
   "metadata": {
    "scrolled": true
   },
   "outputs": [
    {
     "name": "stdout",
     "output_type": "stream",
     "text": [
      "<class 'pandas.core.frame.DataFrame'>\n",
      "RangeIndex: 891 entries, 0 to 890\n",
      "Data columns (total 12 columns):\n",
      " #   Column       Non-Null Count  Dtype  \n",
      "---  ------       --------------  -----  \n",
      " 0   PassengerId  891 non-null    int64  \n",
      " 1   Pclass       891 non-null    int64  \n",
      " 2   Name         891 non-null    object \n",
      " 3   Sex          891 non-null    object \n",
      " 4   Age          891 non-null    float64\n",
      " 5   SibSp        891 non-null    int64  \n",
      " 6   Parch        891 non-null    int64  \n",
      " 7   Ticket       891 non-null    object \n",
      " 8   Fare         891 non-null    float64\n",
      " 9   Cabin        891 non-null    object \n",
      " 10  Embarked     891 non-null    object \n",
      " 11  old_Fare     891 non-null    float64\n",
      "dtypes: float64(3), int64(4), object(5)\n",
      "memory usage: 83.7+ KB\n"
     ]
    }
   ],
   "source": [
    "x_train_data.info()"
   ]
  },
  {
   "cell_type": "markdown",
   "id": "ccfede00",
   "metadata": {},
   "source": [
    "* Q4) 인코딩 처리 함수만드세요. 단, 아래의 조건대로 만들어 보세요! <br>\n",
    "4-1) Name 컬럼에 있는 이름에 대해서는 ,가 있다면 ,맨 앞의 값을 활용하세요\n",
    "(예 : Allen, Mr. William Henry --> Allen으로 값을 처리)<br>\n",
    "4-2) Cabin 컬럼에 있는 값은 맨 앞의 문자만 사용하세요\n",
    "(예 : C123 -> C) <br>\n",
    "4-3) 라벨 인코딩 할 컬럼 : Cabin(단, 위의 조건 처리 4-2후),Name(단, 위의 조건 처리 4-1 후), Embarked <br>\n",
    "4-4) 성별 Sex의 경우는 One hot Encoding 처리(이 데이터는 Unseen이 발생하지 않아서 House Price 처럼 따로 컬럼 정리할 부분은 필요가 없을 것임! 이 차이점을 기억하고, 늘 Unseen으로 Train, test의 변화를 숙지해야 함!!)"
   ]
  },
  {
   "cell_type": "code",
   "execution_count": 118,
   "id": "2650daaa",
   "metadata": {},
   "outputs": [],
   "source": [
    "from sklearn.preprocessing import LabelEncoder\n",
    "from sklearn.preprocessing import OneHotEncoder"
   ]
  },
  {
   "cell_type": "code",
   "execution_count": 222,
   "id": "372e1b30",
   "metadata": {
    "scrolled": true
   },
   "outputs": [
    {
     "data": {
      "text/html": [
       "<div>\n",
       "<style scoped>\n",
       "    .dataframe tbody tr th:only-of-type {\n",
       "        vertical-align: middle;\n",
       "    }\n",
       "\n",
       "    .dataframe tbody tr th {\n",
       "        vertical-align: top;\n",
       "    }\n",
       "\n",
       "    .dataframe thead th {\n",
       "        text-align: right;\n",
       "    }\n",
       "</style>\n",
       "<table border=\"1\" class=\"dataframe\">\n",
       "  <thead>\n",
       "    <tr style=\"text-align: right;\">\n",
       "      <th></th>\n",
       "      <th>PassengerId</th>\n",
       "      <th>Pclass</th>\n",
       "      <th>Name</th>\n",
       "      <th>Sex</th>\n",
       "      <th>Age</th>\n",
       "      <th>SibSp</th>\n",
       "      <th>Parch</th>\n",
       "      <th>Ticket</th>\n",
       "      <th>Fare</th>\n",
       "      <th>Cabin</th>\n",
       "      <th>Embarked</th>\n",
       "      <th>old_Fare</th>\n",
       "    </tr>\n",
       "  </thead>\n",
       "  <tbody>\n",
       "    <tr>\n",
       "      <th>0</th>\n",
       "      <td>1</td>\n",
       "      <td>3</td>\n",
       "      <td>Braund, Mr. Owen Harris</td>\n",
       "      <td>male</td>\n",
       "      <td>22.0</td>\n",
       "      <td>1</td>\n",
       "      <td>0</td>\n",
       "      <td>A/5 21171</td>\n",
       "      <td>7.2500</td>\n",
       "      <td>N</td>\n",
       "      <td>S</td>\n",
       "      <td>7.2500</td>\n",
       "    </tr>\n",
       "    <tr>\n",
       "      <th>1</th>\n",
       "      <td>2</td>\n",
       "      <td>1</td>\n",
       "      <td>Cumings, Mrs. John Bradley (Florence Briggs Th...</td>\n",
       "      <td>female</td>\n",
       "      <td>38.0</td>\n",
       "      <td>1</td>\n",
       "      <td>0</td>\n",
       "      <td>PC 17599</td>\n",
       "      <td>71.2833</td>\n",
       "      <td>C85</td>\n",
       "      <td>C</td>\n",
       "      <td>71.2833</td>\n",
       "    </tr>\n",
       "    <tr>\n",
       "      <th>2</th>\n",
       "      <td>3</td>\n",
       "      <td>3</td>\n",
       "      <td>Heikkinen, Miss. Laina</td>\n",
       "      <td>female</td>\n",
       "      <td>26.0</td>\n",
       "      <td>0</td>\n",
       "      <td>0</td>\n",
       "      <td>STON/O2. 3101282</td>\n",
       "      <td>7.9250</td>\n",
       "      <td>N</td>\n",
       "      <td>S</td>\n",
       "      <td>7.9250</td>\n",
       "    </tr>\n",
       "    <tr>\n",
       "      <th>3</th>\n",
       "      <td>4</td>\n",
       "      <td>1</td>\n",
       "      <td>Futrelle, Mrs. Jacques Heath (Lily May Peel)</td>\n",
       "      <td>female</td>\n",
       "      <td>35.0</td>\n",
       "      <td>1</td>\n",
       "      <td>0</td>\n",
       "      <td>113803</td>\n",
       "      <td>53.1000</td>\n",
       "      <td>C123</td>\n",
       "      <td>S</td>\n",
       "      <td>53.1000</td>\n",
       "    </tr>\n",
       "    <tr>\n",
       "      <th>4</th>\n",
       "      <td>5</td>\n",
       "      <td>3</td>\n",
       "      <td>Allen, Mr. William Henry</td>\n",
       "      <td>male</td>\n",
       "      <td>35.0</td>\n",
       "      <td>0</td>\n",
       "      <td>0</td>\n",
       "      <td>373450</td>\n",
       "      <td>8.0500</td>\n",
       "      <td>N</td>\n",
       "      <td>S</td>\n",
       "      <td>8.0500</td>\n",
       "    </tr>\n",
       "  </tbody>\n",
       "</table>\n",
       "</div>"
      ],
      "text/plain": [
       "   PassengerId  Pclass                                               Name  \\\n",
       "0            1       3                            Braund, Mr. Owen Harris   \n",
       "1            2       1  Cumings, Mrs. John Bradley (Florence Briggs Th...   \n",
       "2            3       3                             Heikkinen, Miss. Laina   \n",
       "3            4       1       Futrelle, Mrs. Jacques Heath (Lily May Peel)   \n",
       "4            5       3                           Allen, Mr. William Henry   \n",
       "\n",
       "      Sex   Age  SibSp  Parch            Ticket     Fare Cabin Embarked  \\\n",
       "0    male  22.0      1      0         A/5 21171   7.2500     N        S   \n",
       "1  female  38.0      1      0          PC 17599  71.2833   C85        C   \n",
       "2  female  26.0      0      0  STON/O2. 3101282   7.9250     N        S   \n",
       "3  female  35.0      1      0            113803  53.1000  C123        S   \n",
       "4    male  35.0      0      0            373450   8.0500     N        S   \n",
       "\n",
       "   old_Fare  \n",
       "0    7.2500  \n",
       "1   71.2833  \n",
       "2    7.9250  \n",
       "3   53.1000  \n",
       "4    8.0500  "
      ]
     },
     "execution_count": 222,
     "metadata": {},
     "output_type": "execute_result"
    }
   ],
   "source": [
    "x_train_data.head()"
   ]
  },
  {
   "cell_type": "code",
   "execution_count": 311,
   "id": "c262e4c7",
   "metadata": {
    "scrolled": false
   },
   "outputs": [
    {
     "data": {
      "text/plain": [
       "0                                Braund, Mr. Owen Harris\n",
       "1      Cumings, Mrs. John Bradley (Florence Briggs Th...\n",
       "2                                 Heikkinen, Miss. Laina\n",
       "3           Futrelle, Mrs. Jacques Heath (Lily May Peel)\n",
       "4                               Allen, Mr. William Henry\n",
       "                             ...                        \n",
       "886                                Montvila, Rev. Juozas\n",
       "887                         Graham, Miss. Margaret Edith\n",
       "888             Johnston, Miss. Catherine Helen \"Carrie\"\n",
       "889                                Behr, Mr. Karl Howell\n",
       "890                                  Dooley, Mr. Patrick\n",
       "Name: Name, Length: 891, dtype: object"
      ]
     },
     "execution_count": 311,
     "metadata": {},
     "output_type": "execute_result"
    }
   ],
   "source": [
    "x_train_data['Name']"
   ]
  },
  {
   "cell_type": "code",
   "execution_count": 356,
   "id": "cd9ebca4",
   "metadata": {},
   "outputs": [],
   "source": [
    "def encode_feature(df):\n",
    "    # 인코딩 작업을 할 것임!!!!!\n",
    "    features = [\"Embarked\"]\n",
    "    \n",
    "    for f in features:\n",
    "        le = LabelEncoder()\n",
    "        # f 컬럼에 대한 인코딩 기준 체크!!!!\n",
    "        le.fit(df.loc[:,f]) # 컬럼 이름으로 df에 접근을 하는 loc 사용\n",
    "        # 인코딩 기준을 바탕으로 숫자로 변환!!!-> df 업데이트까지...\n",
    "        df.loc[:,f] = le.transform(df.loc[:,f])\n",
    "   \n",
    "    return df"
   ]
  },
  {
   "cell_type": "code",
   "execution_count": 357,
   "id": "2efc0e4b",
   "metadata": {
    "scrolled": true
   },
   "outputs": [
    {
     "name": "stderr",
     "output_type": "stream",
     "text": [
      "C:\\ProgramData\\Anaconda3\\lib\\site-packages\\pandas\\core\\indexing.py:1676: SettingWithCopyWarning: \n",
      "A value is trying to be set on a copy of a slice from a DataFrame.\n",
      "Try using .loc[row_indexer,col_indexer] = value instead\n",
      "\n",
      "See the caveats in the documentation: https://pandas.pydata.org/pandas-docs/stable/user_guide/indexing.html#returning-a-view-versus-a-copy\n",
      "  self._setitem_single_column(ilocs[0], value, pi)\n"
     ]
    },
    {
     "data": {
      "text/html": [
       "<div>\n",
       "<style scoped>\n",
       "    .dataframe tbody tr th:only-of-type {\n",
       "        vertical-align: middle;\n",
       "    }\n",
       "\n",
       "    .dataframe tbody tr th {\n",
       "        vertical-align: top;\n",
       "    }\n",
       "\n",
       "    .dataframe thead th {\n",
       "        text-align: right;\n",
       "    }\n",
       "</style>\n",
       "<table border=\"1\" class=\"dataframe\">\n",
       "  <thead>\n",
       "    <tr style=\"text-align: right;\">\n",
       "      <th></th>\n",
       "      <th>PassengerId</th>\n",
       "      <th>Pclass</th>\n",
       "      <th>Name</th>\n",
       "      <th>Sex</th>\n",
       "      <th>Age</th>\n",
       "      <th>SibSp</th>\n",
       "      <th>Parch</th>\n",
       "      <th>Ticket</th>\n",
       "      <th>Fare</th>\n",
       "      <th>Cabin</th>\n",
       "      <th>Embarked</th>\n",
       "      <th>old_Fare</th>\n",
       "    </tr>\n",
       "  </thead>\n",
       "  <tbody>\n",
       "    <tr>\n",
       "      <th>92</th>\n",
       "      <td>93</td>\n",
       "      <td>1</td>\n",
       "      <td>Chaffee, Mr. Herbert Fuller</td>\n",
       "      <td>male</td>\n",
       "      <td>46.0</td>\n",
       "      <td>1</td>\n",
       "      <td>0</td>\n",
       "      <td>W.E.P. 5734</td>\n",
       "      <td>61.1750</td>\n",
       "      <td>E31</td>\n",
       "      <td>2</td>\n",
       "      <td>61.1750</td>\n",
       "    </tr>\n",
       "    <tr>\n",
       "      <th>552</th>\n",
       "      <td>553</td>\n",
       "      <td>3</td>\n",
       "      <td>O'Brien, Mr. Timothy</td>\n",
       "      <td>male</td>\n",
       "      <td>28.0</td>\n",
       "      <td>0</td>\n",
       "      <td>0</td>\n",
       "      <td>330979</td>\n",
       "      <td>7.8292</td>\n",
       "      <td>N</td>\n",
       "      <td>1</td>\n",
       "      <td>7.8292</td>\n",
       "    </tr>\n",
       "    <tr>\n",
       "      <th>810</th>\n",
       "      <td>811</td>\n",
       "      <td>3</td>\n",
       "      <td>Alexander, Mr. William</td>\n",
       "      <td>male</td>\n",
       "      <td>26.0</td>\n",
       "      <td>0</td>\n",
       "      <td>0</td>\n",
       "      <td>3474</td>\n",
       "      <td>7.8875</td>\n",
       "      <td>N</td>\n",
       "      <td>2</td>\n",
       "      <td>7.8875</td>\n",
       "    </tr>\n",
       "    <tr>\n",
       "      <th>29</th>\n",
       "      <td>30</td>\n",
       "      <td>3</td>\n",
       "      <td>Todoroff, Mr. Lalio</td>\n",
       "      <td>male</td>\n",
       "      <td>28.0</td>\n",
       "      <td>0</td>\n",
       "      <td>0</td>\n",
       "      <td>349216</td>\n",
       "      <td>7.8958</td>\n",
       "      <td>N</td>\n",
       "      <td>2</td>\n",
       "      <td>7.8958</td>\n",
       "    </tr>\n",
       "    <tr>\n",
       "      <th>681</th>\n",
       "      <td>682</td>\n",
       "      <td>1</td>\n",
       "      <td>Hassab, Mr. Hammad</td>\n",
       "      <td>male</td>\n",
       "      <td>27.0</td>\n",
       "      <td>0</td>\n",
       "      <td>0</td>\n",
       "      <td>PC 17572</td>\n",
       "      <td>76.7292</td>\n",
       "      <td>D49</td>\n",
       "      <td>0</td>\n",
       "      <td>76.7292</td>\n",
       "    </tr>\n",
       "    <tr>\n",
       "      <th>...</th>\n",
       "      <td>...</td>\n",
       "      <td>...</td>\n",
       "      <td>...</td>\n",
       "      <td>...</td>\n",
       "      <td>...</td>\n",
       "      <td>...</td>\n",
       "      <td>...</td>\n",
       "      <td>...</td>\n",
       "      <td>...</td>\n",
       "      <td>...</td>\n",
       "      <td>...</td>\n",
       "      <td>...</td>\n",
       "    </tr>\n",
       "    <tr>\n",
       "      <th>132</th>\n",
       "      <td>133</td>\n",
       "      <td>3</td>\n",
       "      <td>Robins, Mrs. Alexander A (Grace Charity Laury)</td>\n",
       "      <td>female</td>\n",
       "      <td>47.0</td>\n",
       "      <td>1</td>\n",
       "      <td>0</td>\n",
       "      <td>A/5. 3337</td>\n",
       "      <td>14.5000</td>\n",
       "      <td>N</td>\n",
       "      <td>2</td>\n",
       "      <td>14.5000</td>\n",
       "    </tr>\n",
       "    <tr>\n",
       "      <th>540</th>\n",
       "      <td>541</td>\n",
       "      <td>1</td>\n",
       "      <td>Crosby, Miss. Harriet R</td>\n",
       "      <td>female</td>\n",
       "      <td>36.0</td>\n",
       "      <td>0</td>\n",
       "      <td>2</td>\n",
       "      <td>WE/P 5735</td>\n",
       "      <td>71.0000</td>\n",
       "      <td>B22</td>\n",
       "      <td>2</td>\n",
       "      <td>71.0000</td>\n",
       "    </tr>\n",
       "    <tr>\n",
       "      <th>532</th>\n",
       "      <td>533</td>\n",
       "      <td>3</td>\n",
       "      <td>Elias, Mr. Joseph Jr</td>\n",
       "      <td>male</td>\n",
       "      <td>17.0</td>\n",
       "      <td>1</td>\n",
       "      <td>1</td>\n",
       "      <td>2690</td>\n",
       "      <td>7.2292</td>\n",
       "      <td>N</td>\n",
       "      <td>0</td>\n",
       "      <td>7.2292</td>\n",
       "    </tr>\n",
       "    <tr>\n",
       "      <th>817</th>\n",
       "      <td>818</td>\n",
       "      <td>2</td>\n",
       "      <td>Mallet, Mr. Albert</td>\n",
       "      <td>male</td>\n",
       "      <td>31.0</td>\n",
       "      <td>1</td>\n",
       "      <td>1</td>\n",
       "      <td>S.C./PARIS 2079</td>\n",
       "      <td>37.0042</td>\n",
       "      <td>N</td>\n",
       "      <td>0</td>\n",
       "      <td>37.0042</td>\n",
       "    </tr>\n",
       "    <tr>\n",
       "      <th>631</th>\n",
       "      <td>632</td>\n",
       "      <td>3</td>\n",
       "      <td>Lundahl, Mr. Johan Svensson</td>\n",
       "      <td>male</td>\n",
       "      <td>51.0</td>\n",
       "      <td>0</td>\n",
       "      <td>0</td>\n",
       "      <td>347743</td>\n",
       "      <td>7.0542</td>\n",
       "      <td>N</td>\n",
       "      <td>2</td>\n",
       "      <td>7.0542</td>\n",
       "    </tr>\n",
       "  </tbody>\n",
       "</table>\n",
       "<p>179 rows × 12 columns</p>\n",
       "</div>"
      ],
      "text/plain": [
       "     PassengerId  Pclass                                            Name  \\\n",
       "92            93       1                     Chaffee, Mr. Herbert Fuller   \n",
       "552          553       3                            O'Brien, Mr. Timothy   \n",
       "810          811       3                          Alexander, Mr. William   \n",
       "29            30       3                             Todoroff, Mr. Lalio   \n",
       "681          682       1                              Hassab, Mr. Hammad   \n",
       "..           ...     ...                                             ...   \n",
       "132          133       3  Robins, Mrs. Alexander A (Grace Charity Laury)   \n",
       "540          541       1                         Crosby, Miss. Harriet R   \n",
       "532          533       3                            Elias, Mr. Joseph Jr   \n",
       "817          818       2                              Mallet, Mr. Albert   \n",
       "631          632       3                     Lundahl, Mr. Johan Svensson   \n",
       "\n",
       "        Sex   Age  SibSp  Parch           Ticket     Fare Cabin  Embarked  \\\n",
       "92     male  46.0      1      0      W.E.P. 5734  61.1750   E31         2   \n",
       "552    male  28.0      0      0           330979   7.8292     N         1   \n",
       "810    male  26.0      0      0             3474   7.8875     N         2   \n",
       "29     male  28.0      0      0           349216   7.8958     N         2   \n",
       "681    male  27.0      0      0         PC 17572  76.7292   D49         0   \n",
       "..      ...   ...    ...    ...              ...      ...   ...       ...   \n",
       "132  female  47.0      1      0        A/5. 3337  14.5000     N         2   \n",
       "540  female  36.0      0      2        WE/P 5735  71.0000   B22         2   \n",
       "532    male  17.0      1      1             2690   7.2292     N         0   \n",
       "817    male  31.0      1      1  S.C./PARIS 2079  37.0042     N         0   \n",
       "631    male  51.0      0      0           347743   7.0542     N         2   \n",
       "\n",
       "     old_Fare  \n",
       "92    61.1750  \n",
       "552    7.8292  \n",
       "810    7.8875  \n",
       "29     7.8958  \n",
       "681   76.7292  \n",
       "..        ...  \n",
       "132   14.5000  \n",
       "540   71.0000  \n",
       "532    7.2292  \n",
       "817   37.0042  \n",
       "631    7.0542  \n",
       "\n",
       "[179 rows x 12 columns]"
      ]
     },
     "execution_count": 357,
     "metadata": {},
     "output_type": "execute_result"
    }
   ],
   "source": [
    "encode_feature(x_train_data)\n",
    "encode_feature(x_val)"
   ]
  },
  {
   "cell_type": "code",
   "execution_count": 358,
   "id": "2741f5f7",
   "metadata": {
    "scrolled": true
   },
   "outputs": [
    {
     "data": {
      "text/html": [
       "<div>\n",
       "<style scoped>\n",
       "    .dataframe tbody tr th:only-of-type {\n",
       "        vertical-align: middle;\n",
       "    }\n",
       "\n",
       "    .dataframe tbody tr th {\n",
       "        vertical-align: top;\n",
       "    }\n",
       "\n",
       "    .dataframe thead th {\n",
       "        text-align: right;\n",
       "    }\n",
       "</style>\n",
       "<table border=\"1\" class=\"dataframe\">\n",
       "  <thead>\n",
       "    <tr style=\"text-align: right;\">\n",
       "      <th></th>\n",
       "      <th>PassengerId</th>\n",
       "      <th>Pclass</th>\n",
       "      <th>Name</th>\n",
       "      <th>Sex</th>\n",
       "      <th>Age</th>\n",
       "      <th>SibSp</th>\n",
       "      <th>Parch</th>\n",
       "      <th>Ticket</th>\n",
       "      <th>Fare</th>\n",
       "      <th>Cabin</th>\n",
       "      <th>Embarked</th>\n",
       "      <th>old_Fare</th>\n",
       "    </tr>\n",
       "  </thead>\n",
       "  <tbody>\n",
       "    <tr>\n",
       "      <th>0</th>\n",
       "      <td>892</td>\n",
       "      <td>3</td>\n",
       "      <td>Kelly, Mr. James</td>\n",
       "      <td>male</td>\n",
       "      <td>34.5</td>\n",
       "      <td>0</td>\n",
       "      <td>0</td>\n",
       "      <td>330911</td>\n",
       "      <td>7.8292</td>\n",
       "      <td>N</td>\n",
       "      <td>1</td>\n",
       "      <td>7.8292</td>\n",
       "    </tr>\n",
       "    <tr>\n",
       "      <th>1</th>\n",
       "      <td>893</td>\n",
       "      <td>3</td>\n",
       "      <td>Wilkes, Mrs. James (Ellen Needs)</td>\n",
       "      <td>female</td>\n",
       "      <td>47.0</td>\n",
       "      <td>1</td>\n",
       "      <td>0</td>\n",
       "      <td>363272</td>\n",
       "      <td>7.0000</td>\n",
       "      <td>N</td>\n",
       "      <td>2</td>\n",
       "      <td>7.0000</td>\n",
       "    </tr>\n",
       "    <tr>\n",
       "      <th>2</th>\n",
       "      <td>894</td>\n",
       "      <td>2</td>\n",
       "      <td>Myles, Mr. Thomas Francis</td>\n",
       "      <td>male</td>\n",
       "      <td>62.0</td>\n",
       "      <td>0</td>\n",
       "      <td>0</td>\n",
       "      <td>240276</td>\n",
       "      <td>9.6875</td>\n",
       "      <td>N</td>\n",
       "      <td>1</td>\n",
       "      <td>9.6875</td>\n",
       "    </tr>\n",
       "    <tr>\n",
       "      <th>3</th>\n",
       "      <td>895</td>\n",
       "      <td>3</td>\n",
       "      <td>Wirz, Mr. Albert</td>\n",
       "      <td>male</td>\n",
       "      <td>27.0</td>\n",
       "      <td>0</td>\n",
       "      <td>0</td>\n",
       "      <td>315154</td>\n",
       "      <td>8.6625</td>\n",
       "      <td>N</td>\n",
       "      <td>2</td>\n",
       "      <td>8.6625</td>\n",
       "    </tr>\n",
       "    <tr>\n",
       "      <th>4</th>\n",
       "      <td>896</td>\n",
       "      <td>3</td>\n",
       "      <td>Hirvonen, Mrs. Alexander (Helga E Lindqvist)</td>\n",
       "      <td>female</td>\n",
       "      <td>22.0</td>\n",
       "      <td>1</td>\n",
       "      <td>1</td>\n",
       "      <td>3101298</td>\n",
       "      <td>12.2875</td>\n",
       "      <td>N</td>\n",
       "      <td>2</td>\n",
       "      <td>12.2875</td>\n",
       "    </tr>\n",
       "    <tr>\n",
       "      <th>...</th>\n",
       "      <td>...</td>\n",
       "      <td>...</td>\n",
       "      <td>...</td>\n",
       "      <td>...</td>\n",
       "      <td>...</td>\n",
       "      <td>...</td>\n",
       "      <td>...</td>\n",
       "      <td>...</td>\n",
       "      <td>...</td>\n",
       "      <td>...</td>\n",
       "      <td>...</td>\n",
       "      <td>...</td>\n",
       "    </tr>\n",
       "    <tr>\n",
       "      <th>413</th>\n",
       "      <td>1305</td>\n",
       "      <td>3</td>\n",
       "      <td>Spector, Mr. Woolf</td>\n",
       "      <td>male</td>\n",
       "      <td>27.0</td>\n",
       "      <td>0</td>\n",
       "      <td>0</td>\n",
       "      <td>A.5. 3236</td>\n",
       "      <td>8.0500</td>\n",
       "      <td>N</td>\n",
       "      <td>2</td>\n",
       "      <td>8.0500</td>\n",
       "    </tr>\n",
       "    <tr>\n",
       "      <th>414</th>\n",
       "      <td>1306</td>\n",
       "      <td>1</td>\n",
       "      <td>Oliva y Ocana, Dona. Fermina</td>\n",
       "      <td>female</td>\n",
       "      <td>39.0</td>\n",
       "      <td>0</td>\n",
       "      <td>0</td>\n",
       "      <td>PC 17758</td>\n",
       "      <td>108.9000</td>\n",
       "      <td>C105</td>\n",
       "      <td>0</td>\n",
       "      <td>108.9000</td>\n",
       "    </tr>\n",
       "    <tr>\n",
       "      <th>415</th>\n",
       "      <td>1307</td>\n",
       "      <td>3</td>\n",
       "      <td>Saether, Mr. Simon Sivertsen</td>\n",
       "      <td>male</td>\n",
       "      <td>38.5</td>\n",
       "      <td>0</td>\n",
       "      <td>0</td>\n",
       "      <td>SOTON/O.Q. 3101262</td>\n",
       "      <td>7.2500</td>\n",
       "      <td>N</td>\n",
       "      <td>2</td>\n",
       "      <td>7.2500</td>\n",
       "    </tr>\n",
       "    <tr>\n",
       "      <th>416</th>\n",
       "      <td>1308</td>\n",
       "      <td>3</td>\n",
       "      <td>Ware, Mr. Frederick</td>\n",
       "      <td>male</td>\n",
       "      <td>27.0</td>\n",
       "      <td>0</td>\n",
       "      <td>0</td>\n",
       "      <td>359309</td>\n",
       "      <td>8.0500</td>\n",
       "      <td>N</td>\n",
       "      <td>2</td>\n",
       "      <td>8.0500</td>\n",
       "    </tr>\n",
       "    <tr>\n",
       "      <th>417</th>\n",
       "      <td>1309</td>\n",
       "      <td>3</td>\n",
       "      <td>Peter, Master. Michael J</td>\n",
       "      <td>male</td>\n",
       "      <td>27.0</td>\n",
       "      <td>1</td>\n",
       "      <td>1</td>\n",
       "      <td>2668</td>\n",
       "      <td>22.3583</td>\n",
       "      <td>N</td>\n",
       "      <td>0</td>\n",
       "      <td>22.3583</td>\n",
       "    </tr>\n",
       "  </tbody>\n",
       "</table>\n",
       "<p>418 rows × 12 columns</p>\n",
       "</div>"
      ],
      "text/plain": [
       "     PassengerId  Pclass                                          Name  \\\n",
       "0            892       3                              Kelly, Mr. James   \n",
       "1            893       3              Wilkes, Mrs. James (Ellen Needs)   \n",
       "2            894       2                     Myles, Mr. Thomas Francis   \n",
       "3            895       3                              Wirz, Mr. Albert   \n",
       "4            896       3  Hirvonen, Mrs. Alexander (Helga E Lindqvist)   \n",
       "..           ...     ...                                           ...   \n",
       "413         1305       3                            Spector, Mr. Woolf   \n",
       "414         1306       1                  Oliva y Ocana, Dona. Fermina   \n",
       "415         1307       3                  Saether, Mr. Simon Sivertsen   \n",
       "416         1308       3                           Ware, Mr. Frederick   \n",
       "417         1309       3                      Peter, Master. Michael J   \n",
       "\n",
       "        Sex   Age  SibSp  Parch              Ticket      Fare Cabin  Embarked  \\\n",
       "0      male  34.5      0      0              330911    7.8292     N         1   \n",
       "1    female  47.0      1      0              363272    7.0000     N         2   \n",
       "2      male  62.0      0      0              240276    9.6875     N         1   \n",
       "3      male  27.0      0      0              315154    8.6625     N         2   \n",
       "4    female  22.0      1      1             3101298   12.2875     N         2   \n",
       "..      ...   ...    ...    ...                 ...       ...   ...       ...   \n",
       "413    male  27.0      0      0           A.5. 3236    8.0500     N         2   \n",
       "414  female  39.0      0      0            PC 17758  108.9000  C105         0   \n",
       "415    male  38.5      0      0  SOTON/O.Q. 3101262    7.2500     N         2   \n",
       "416    male  27.0      0      0              359309    8.0500     N         2   \n",
       "417    male  27.0      1      1                2668   22.3583     N         0   \n",
       "\n",
       "     old_Fare  \n",
       "0      7.8292  \n",
       "1      7.0000  \n",
       "2      9.6875  \n",
       "3      8.6625  \n",
       "4     12.2875  \n",
       "..        ...  \n",
       "413    8.0500  \n",
       "414  108.9000  \n",
       "415    7.2500  \n",
       "416    8.0500  \n",
       "417   22.3583  \n",
       "\n",
       "[418 rows x 12 columns]"
      ]
     },
     "execution_count": 358,
     "metadata": {},
     "output_type": "execute_result"
    }
   ],
   "source": [
    "encode_feature(test)"
   ]
  },
  {
   "cell_type": "code",
   "execution_count": 314,
   "id": "ca29e10b",
   "metadata": {},
   "outputs": [
    {
     "data": {
      "text/html": [
       "<div>\n",
       "<style scoped>\n",
       "    .dataframe tbody tr th:only-of-type {\n",
       "        vertical-align: middle;\n",
       "    }\n",
       "\n",
       "    .dataframe tbody tr th {\n",
       "        vertical-align: top;\n",
       "    }\n",
       "\n",
       "    .dataframe thead th {\n",
       "        text-align: right;\n",
       "    }\n",
       "</style>\n",
       "<table border=\"1\" class=\"dataframe\">\n",
       "  <thead>\n",
       "    <tr style=\"text-align: right;\">\n",
       "      <th></th>\n",
       "      <th>Sex</th>\n",
       "    </tr>\n",
       "  </thead>\n",
       "  <tbody>\n",
       "    <tr>\n",
       "      <th>0</th>\n",
       "      <td>male</td>\n",
       "    </tr>\n",
       "    <tr>\n",
       "      <th>1</th>\n",
       "      <td>female</td>\n",
       "    </tr>\n",
       "    <tr>\n",
       "      <th>2</th>\n",
       "      <td>female</td>\n",
       "    </tr>\n",
       "    <tr>\n",
       "      <th>3</th>\n",
       "      <td>female</td>\n",
       "    </tr>\n",
       "    <tr>\n",
       "      <th>4</th>\n",
       "      <td>male</td>\n",
       "    </tr>\n",
       "    <tr>\n",
       "      <th>...</th>\n",
       "      <td>...</td>\n",
       "    </tr>\n",
       "    <tr>\n",
       "      <th>886</th>\n",
       "      <td>male</td>\n",
       "    </tr>\n",
       "    <tr>\n",
       "      <th>887</th>\n",
       "      <td>female</td>\n",
       "    </tr>\n",
       "    <tr>\n",
       "      <th>888</th>\n",
       "      <td>female</td>\n",
       "    </tr>\n",
       "    <tr>\n",
       "      <th>889</th>\n",
       "      <td>male</td>\n",
       "    </tr>\n",
       "    <tr>\n",
       "      <th>890</th>\n",
       "      <td>male</td>\n",
       "    </tr>\n",
       "  </tbody>\n",
       "</table>\n",
       "<p>891 rows × 1 columns</p>\n",
       "</div>"
      ],
      "text/plain": [
       "        Sex\n",
       "0      male\n",
       "1    female\n",
       "2    female\n",
       "3    female\n",
       "4      male\n",
       "..      ...\n",
       "886    male\n",
       "887  female\n",
       "888  female\n",
       "889    male\n",
       "890    male\n",
       "\n",
       "[891 rows x 1 columns]"
      ]
     },
     "execution_count": 314,
     "metadata": {},
     "output_type": "execute_result"
    }
   ],
   "source": [
    "x_train_data[['Sex']]"
   ]
  },
  {
   "cell_type": "code",
   "execution_count": 359,
   "id": "04a31ec5",
   "metadata": {
    "scrolled": false
   },
   "outputs": [
    {
     "data": {
      "text/plain": [
       "0      1\n",
       "1      0\n",
       "2      0\n",
       "3      0\n",
       "4      1\n",
       "      ..\n",
       "886    1\n",
       "887    0\n",
       "888    0\n",
       "889    1\n",
       "890    1\n",
       "Name: Sex, Length: 891, dtype: int32"
      ]
     },
     "execution_count": 359,
     "metadata": {},
     "output_type": "execute_result"
    }
   ],
   "source": [
    "# 1단계 - 라벨인코딩\n",
    "label_encoder = LabelEncoder() \n",
    "label_encoder.fit(x_train_data['Sex']) # 규칙을 정했으니\n",
    "x_train_data['Sex'] = label_encoder.transform(x_train_data['Sex']) # 적용\n",
    "x_train_data['Sex']"
   ]
  },
  {
   "cell_type": "code",
   "execution_count": 361,
   "id": "2dc4d761",
   "metadata": {},
   "outputs": [
    {
     "name": "stderr",
     "output_type": "stream",
     "text": [
      "<ipython-input-361-bc52a0037919>:4: SettingWithCopyWarning: \n",
      "A value is trying to be set on a copy of a slice from a DataFrame.\n",
      "Try using .loc[row_indexer,col_indexer] = value instead\n",
      "\n",
      "See the caveats in the documentation: https://pandas.pydata.org/pandas-docs/stable/user_guide/indexing.html#returning-a-view-versus-a-copy\n",
      "  x_val['Sex'] = label_encoder.transform(x_val['Sex']) # 적용\n"
     ]
    },
    {
     "data": {
      "text/plain": [
       "92     1\n",
       "552    1\n",
       "810    1\n",
       "29     1\n",
       "681    1\n",
       "      ..\n",
       "132    0\n",
       "540    0\n",
       "532    1\n",
       "817    1\n",
       "631    1\n",
       "Name: Sex, Length: 179, dtype: int32"
      ]
     },
     "execution_count": 361,
     "metadata": {},
     "output_type": "execute_result"
    }
   ],
   "source": [
    "# 1단계 - 라벨인코딩\n",
    "label_encoder = LabelEncoder() \n",
    "label_encoder.fit(x_val['Sex']) # 규칙을 정했으니\n",
    "x_val['Sex'] = label_encoder.transform(x_val['Sex']) # 적용\n",
    "x_val['Sex']"
   ]
  },
  {
   "cell_type": "code",
   "execution_count": 362,
   "id": "df11efb2",
   "metadata": {},
   "outputs": [
    {
     "data": {
      "text/plain": [
       "0      1\n",
       "1      0\n",
       "2      1\n",
       "3      1\n",
       "4      0\n",
       "      ..\n",
       "413    1\n",
       "414    0\n",
       "415    1\n",
       "416    1\n",
       "417    1\n",
       "Name: Sex, Length: 418, dtype: int32"
      ]
     },
     "execution_count": 362,
     "metadata": {},
     "output_type": "execute_result"
    }
   ],
   "source": [
    "# 1단계 - 라벨인코딩\n",
    "label_encoder = LabelEncoder() \n",
    "label_encoder.fit(test['Sex']) # 규칙을 정했으니\n",
    "test['Sex'] = label_encoder.transform(test['Sex']) # 적용\n",
    "test['Sex']"
   ]
  },
  {
   "cell_type": "code",
   "execution_count": 288,
   "id": "ebc5982d",
   "metadata": {},
   "outputs": [
    {
     "data": {
      "text/html": [
       "<div>\n",
       "<style scoped>\n",
       "    .dataframe tbody tr th:only-of-type {\n",
       "        vertical-align: middle;\n",
       "    }\n",
       "\n",
       "    .dataframe tbody tr th {\n",
       "        vertical-align: top;\n",
       "    }\n",
       "\n",
       "    .dataframe thead th {\n",
       "        text-align: right;\n",
       "    }\n",
       "</style>\n",
       "<table border=\"1\" class=\"dataframe\">\n",
       "  <thead>\n",
       "    <tr style=\"text-align: right;\">\n",
       "      <th></th>\n",
       "      <th>PassengerId</th>\n",
       "      <th>Pclass</th>\n",
       "      <th>Name</th>\n",
       "      <th>Sex</th>\n",
       "      <th>Age</th>\n",
       "      <th>SibSp</th>\n",
       "      <th>Parch</th>\n",
       "      <th>Ticket</th>\n",
       "      <th>Fare</th>\n",
       "      <th>Cabin</th>\n",
       "      <th>Embarked</th>\n",
       "      <th>old_Fare</th>\n",
       "    </tr>\n",
       "  </thead>\n",
       "  <tbody>\n",
       "    <tr>\n",
       "      <th>0</th>\n",
       "      <td>1</td>\n",
       "      <td>3</td>\n",
       "      <td>Braund, Mr. Owen Harris</td>\n",
       "      <td>1</td>\n",
       "      <td>22.0</td>\n",
       "      <td>1</td>\n",
       "      <td>0</td>\n",
       "      <td>A/5 21171</td>\n",
       "      <td>7.2500</td>\n",
       "      <td>N</td>\n",
       "      <td>2</td>\n",
       "      <td>7.2500</td>\n",
       "    </tr>\n",
       "    <tr>\n",
       "      <th>1</th>\n",
       "      <td>2</td>\n",
       "      <td>1</td>\n",
       "      <td>Cumings, Mrs. John Bradley (Florence Briggs Th...</td>\n",
       "      <td>0</td>\n",
       "      <td>38.0</td>\n",
       "      <td>1</td>\n",
       "      <td>0</td>\n",
       "      <td>PC 17599</td>\n",
       "      <td>71.2833</td>\n",
       "      <td>C85</td>\n",
       "      <td>0</td>\n",
       "      <td>71.2833</td>\n",
       "    </tr>\n",
       "    <tr>\n",
       "      <th>2</th>\n",
       "      <td>3</td>\n",
       "      <td>3</td>\n",
       "      <td>Heikkinen, Miss. Laina</td>\n",
       "      <td>0</td>\n",
       "      <td>26.0</td>\n",
       "      <td>0</td>\n",
       "      <td>0</td>\n",
       "      <td>STON/O2. 3101282</td>\n",
       "      <td>7.9250</td>\n",
       "      <td>N</td>\n",
       "      <td>2</td>\n",
       "      <td>7.9250</td>\n",
       "    </tr>\n",
       "    <tr>\n",
       "      <th>3</th>\n",
       "      <td>4</td>\n",
       "      <td>1</td>\n",
       "      <td>Futrelle, Mrs. Jacques Heath (Lily May Peel)</td>\n",
       "      <td>0</td>\n",
       "      <td>35.0</td>\n",
       "      <td>1</td>\n",
       "      <td>0</td>\n",
       "      <td>113803</td>\n",
       "      <td>53.1000</td>\n",
       "      <td>C123</td>\n",
       "      <td>2</td>\n",
       "      <td>53.1000</td>\n",
       "    </tr>\n",
       "    <tr>\n",
       "      <th>4</th>\n",
       "      <td>5</td>\n",
       "      <td>3</td>\n",
       "      <td>Allen, Mr. William Henry</td>\n",
       "      <td>1</td>\n",
       "      <td>35.0</td>\n",
       "      <td>0</td>\n",
       "      <td>0</td>\n",
       "      <td>373450</td>\n",
       "      <td>8.0500</td>\n",
       "      <td>N</td>\n",
       "      <td>2</td>\n",
       "      <td>8.0500</td>\n",
       "    </tr>\n",
       "  </tbody>\n",
       "</table>\n",
       "</div>"
      ],
      "text/plain": [
       "   PassengerId  Pclass                                               Name  \\\n",
       "0            1       3                            Braund, Mr. Owen Harris   \n",
       "1            2       1  Cumings, Mrs. John Bradley (Florence Briggs Th...   \n",
       "2            3       3                             Heikkinen, Miss. Laina   \n",
       "3            4       1       Futrelle, Mrs. Jacques Heath (Lily May Peel)   \n",
       "4            5       3                           Allen, Mr. William Henry   \n",
       "\n",
       "   Sex   Age  SibSp  Parch            Ticket     Fare Cabin  Embarked  \\\n",
       "0    1  22.0      1      0         A/5 21171   7.2500     N         2   \n",
       "1    0  38.0      1      0          PC 17599  71.2833   C85         0   \n",
       "2    0  26.0      0      0  STON/O2. 3101282   7.9250     N         2   \n",
       "3    0  35.0      1      0            113803  53.1000  C123         2   \n",
       "4    1  35.0      0      0            373450   8.0500     N         2   \n",
       "\n",
       "   old_Fare  \n",
       "0    7.2500  \n",
       "1   71.2833  \n",
       "2    7.9250  \n",
       "3   53.1000  \n",
       "4    8.0500  "
      ]
     },
     "execution_count": 288,
     "metadata": {},
     "output_type": "execute_result"
    }
   ],
   "source": [
    "x_train_data.head()"
   ]
  },
  {
   "cell_type": "markdown",
   "id": "cc547138",
   "metadata": {},
   "source": [
    "* Q5) 불필요한 컬럼을 지우는 함수를 만드세요 : PassengerId, Ticket 컬럼 제거"
   ]
  },
  {
   "cell_type": "code",
   "execution_count": 363,
   "id": "3d96a9bc",
   "metadata": {},
   "outputs": [],
   "source": [
    "def drop_features(df):\n",
    "    df.drop([\"PassengerId\",\"Name\", \"Ticket\",\"Cabin\"], axis=1, inplace=True)\n",
    "    return df"
   ]
  },
  {
   "cell_type": "code",
   "execution_count": 364,
   "id": "ee45cc48",
   "metadata": {
    "scrolled": true
   },
   "outputs": [
    {
     "name": "stderr",
     "output_type": "stream",
     "text": [
      "C:\\ProgramData\\Anaconda3\\lib\\site-packages\\pandas\\core\\frame.py:4308: SettingWithCopyWarning: \n",
      "A value is trying to be set on a copy of a slice from a DataFrame\n",
      "\n",
      "See the caveats in the documentation: https://pandas.pydata.org/pandas-docs/stable/user_guide/indexing.html#returning-a-view-versus-a-copy\n",
      "  return super().drop(\n"
     ]
    },
    {
     "data": {
      "text/html": [
       "<div>\n",
       "<style scoped>\n",
       "    .dataframe tbody tr th:only-of-type {\n",
       "        vertical-align: middle;\n",
       "    }\n",
       "\n",
       "    .dataframe tbody tr th {\n",
       "        vertical-align: top;\n",
       "    }\n",
       "\n",
       "    .dataframe thead th {\n",
       "        text-align: right;\n",
       "    }\n",
       "</style>\n",
       "<table border=\"1\" class=\"dataframe\">\n",
       "  <thead>\n",
       "    <tr style=\"text-align: right;\">\n",
       "      <th></th>\n",
       "      <th>Pclass</th>\n",
       "      <th>Sex</th>\n",
       "      <th>Age</th>\n",
       "      <th>SibSp</th>\n",
       "      <th>Parch</th>\n",
       "      <th>Fare</th>\n",
       "      <th>Embarked</th>\n",
       "      <th>old_Fare</th>\n",
       "    </tr>\n",
       "  </thead>\n",
       "  <tbody>\n",
       "    <tr>\n",
       "      <th>92</th>\n",
       "      <td>1</td>\n",
       "      <td>1</td>\n",
       "      <td>46.0</td>\n",
       "      <td>1</td>\n",
       "      <td>0</td>\n",
       "      <td>61.1750</td>\n",
       "      <td>2</td>\n",
       "      <td>61.1750</td>\n",
       "    </tr>\n",
       "    <tr>\n",
       "      <th>552</th>\n",
       "      <td>3</td>\n",
       "      <td>1</td>\n",
       "      <td>28.0</td>\n",
       "      <td>0</td>\n",
       "      <td>0</td>\n",
       "      <td>7.8292</td>\n",
       "      <td>1</td>\n",
       "      <td>7.8292</td>\n",
       "    </tr>\n",
       "    <tr>\n",
       "      <th>810</th>\n",
       "      <td>3</td>\n",
       "      <td>1</td>\n",
       "      <td>26.0</td>\n",
       "      <td>0</td>\n",
       "      <td>0</td>\n",
       "      <td>7.8875</td>\n",
       "      <td>2</td>\n",
       "      <td>7.8875</td>\n",
       "    </tr>\n",
       "    <tr>\n",
       "      <th>29</th>\n",
       "      <td>3</td>\n",
       "      <td>1</td>\n",
       "      <td>28.0</td>\n",
       "      <td>0</td>\n",
       "      <td>0</td>\n",
       "      <td>7.8958</td>\n",
       "      <td>2</td>\n",
       "      <td>7.8958</td>\n",
       "    </tr>\n",
       "    <tr>\n",
       "      <th>681</th>\n",
       "      <td>1</td>\n",
       "      <td>1</td>\n",
       "      <td>27.0</td>\n",
       "      <td>0</td>\n",
       "      <td>0</td>\n",
       "      <td>76.7292</td>\n",
       "      <td>0</td>\n",
       "      <td>76.7292</td>\n",
       "    </tr>\n",
       "    <tr>\n",
       "      <th>...</th>\n",
       "      <td>...</td>\n",
       "      <td>...</td>\n",
       "      <td>...</td>\n",
       "      <td>...</td>\n",
       "      <td>...</td>\n",
       "      <td>...</td>\n",
       "      <td>...</td>\n",
       "      <td>...</td>\n",
       "    </tr>\n",
       "    <tr>\n",
       "      <th>132</th>\n",
       "      <td>3</td>\n",
       "      <td>0</td>\n",
       "      <td>47.0</td>\n",
       "      <td>1</td>\n",
       "      <td>0</td>\n",
       "      <td>14.5000</td>\n",
       "      <td>2</td>\n",
       "      <td>14.5000</td>\n",
       "    </tr>\n",
       "    <tr>\n",
       "      <th>540</th>\n",
       "      <td>1</td>\n",
       "      <td>0</td>\n",
       "      <td>36.0</td>\n",
       "      <td>0</td>\n",
       "      <td>2</td>\n",
       "      <td>71.0000</td>\n",
       "      <td>2</td>\n",
       "      <td>71.0000</td>\n",
       "    </tr>\n",
       "    <tr>\n",
       "      <th>532</th>\n",
       "      <td>3</td>\n",
       "      <td>1</td>\n",
       "      <td>17.0</td>\n",
       "      <td>1</td>\n",
       "      <td>1</td>\n",
       "      <td>7.2292</td>\n",
       "      <td>0</td>\n",
       "      <td>7.2292</td>\n",
       "    </tr>\n",
       "    <tr>\n",
       "      <th>817</th>\n",
       "      <td>2</td>\n",
       "      <td>1</td>\n",
       "      <td>31.0</td>\n",
       "      <td>1</td>\n",
       "      <td>1</td>\n",
       "      <td>37.0042</td>\n",
       "      <td>0</td>\n",
       "      <td>37.0042</td>\n",
       "    </tr>\n",
       "    <tr>\n",
       "      <th>631</th>\n",
       "      <td>3</td>\n",
       "      <td>1</td>\n",
       "      <td>51.0</td>\n",
       "      <td>0</td>\n",
       "      <td>0</td>\n",
       "      <td>7.0542</td>\n",
       "      <td>2</td>\n",
       "      <td>7.0542</td>\n",
       "    </tr>\n",
       "  </tbody>\n",
       "</table>\n",
       "<p>179 rows × 8 columns</p>\n",
       "</div>"
      ],
      "text/plain": [
       "     Pclass  Sex   Age  SibSp  Parch     Fare  Embarked  old_Fare\n",
       "92        1    1  46.0      1      0  61.1750         2   61.1750\n",
       "552       3    1  28.0      0      0   7.8292         1    7.8292\n",
       "810       3    1  26.0      0      0   7.8875         2    7.8875\n",
       "29        3    1  28.0      0      0   7.8958         2    7.8958\n",
       "681       1    1  27.0      0      0  76.7292         0   76.7292\n",
       "..      ...  ...   ...    ...    ...      ...       ...       ...\n",
       "132       3    0  47.0      1      0  14.5000         2   14.5000\n",
       "540       1    0  36.0      0      2  71.0000         2   71.0000\n",
       "532       3    1  17.0      1      1   7.2292         0    7.2292\n",
       "817       2    1  31.0      1      1  37.0042         0   37.0042\n",
       "631       3    1  51.0      0      0   7.0542         2    7.0542\n",
       "\n",
       "[179 rows x 8 columns]"
      ]
     },
     "execution_count": 364,
     "metadata": {},
     "output_type": "execute_result"
    }
   ],
   "source": [
    "drop_features(x_train_data)\n",
    "drop_features(x_val)\n"
   ]
  },
  {
   "cell_type": "code",
   "execution_count": 365,
   "id": "616e6383",
   "metadata": {},
   "outputs": [
    {
     "data": {
      "text/html": [
       "<div>\n",
       "<style scoped>\n",
       "    .dataframe tbody tr th:only-of-type {\n",
       "        vertical-align: middle;\n",
       "    }\n",
       "\n",
       "    .dataframe tbody tr th {\n",
       "        vertical-align: top;\n",
       "    }\n",
       "\n",
       "    .dataframe thead th {\n",
       "        text-align: right;\n",
       "    }\n",
       "</style>\n",
       "<table border=\"1\" class=\"dataframe\">\n",
       "  <thead>\n",
       "    <tr style=\"text-align: right;\">\n",
       "      <th></th>\n",
       "      <th>Pclass</th>\n",
       "      <th>Sex</th>\n",
       "      <th>Age</th>\n",
       "      <th>SibSp</th>\n",
       "      <th>Parch</th>\n",
       "      <th>Fare</th>\n",
       "      <th>Embarked</th>\n",
       "      <th>old_Fare</th>\n",
       "    </tr>\n",
       "  </thead>\n",
       "  <tbody>\n",
       "    <tr>\n",
       "      <th>0</th>\n",
       "      <td>3</td>\n",
       "      <td>1</td>\n",
       "      <td>34.5</td>\n",
       "      <td>0</td>\n",
       "      <td>0</td>\n",
       "      <td>7.8292</td>\n",
       "      <td>1</td>\n",
       "      <td>7.8292</td>\n",
       "    </tr>\n",
       "    <tr>\n",
       "      <th>1</th>\n",
       "      <td>3</td>\n",
       "      <td>0</td>\n",
       "      <td>47.0</td>\n",
       "      <td>1</td>\n",
       "      <td>0</td>\n",
       "      <td>7.0000</td>\n",
       "      <td>2</td>\n",
       "      <td>7.0000</td>\n",
       "    </tr>\n",
       "    <tr>\n",
       "      <th>2</th>\n",
       "      <td>2</td>\n",
       "      <td>1</td>\n",
       "      <td>62.0</td>\n",
       "      <td>0</td>\n",
       "      <td>0</td>\n",
       "      <td>9.6875</td>\n",
       "      <td>1</td>\n",
       "      <td>9.6875</td>\n",
       "    </tr>\n",
       "    <tr>\n",
       "      <th>3</th>\n",
       "      <td>3</td>\n",
       "      <td>1</td>\n",
       "      <td>27.0</td>\n",
       "      <td>0</td>\n",
       "      <td>0</td>\n",
       "      <td>8.6625</td>\n",
       "      <td>2</td>\n",
       "      <td>8.6625</td>\n",
       "    </tr>\n",
       "    <tr>\n",
       "      <th>4</th>\n",
       "      <td>3</td>\n",
       "      <td>0</td>\n",
       "      <td>22.0</td>\n",
       "      <td>1</td>\n",
       "      <td>1</td>\n",
       "      <td>12.2875</td>\n",
       "      <td>2</td>\n",
       "      <td>12.2875</td>\n",
       "    </tr>\n",
       "    <tr>\n",
       "      <th>...</th>\n",
       "      <td>...</td>\n",
       "      <td>...</td>\n",
       "      <td>...</td>\n",
       "      <td>...</td>\n",
       "      <td>...</td>\n",
       "      <td>...</td>\n",
       "      <td>...</td>\n",
       "      <td>...</td>\n",
       "    </tr>\n",
       "    <tr>\n",
       "      <th>413</th>\n",
       "      <td>3</td>\n",
       "      <td>1</td>\n",
       "      <td>27.0</td>\n",
       "      <td>0</td>\n",
       "      <td>0</td>\n",
       "      <td>8.0500</td>\n",
       "      <td>2</td>\n",
       "      <td>8.0500</td>\n",
       "    </tr>\n",
       "    <tr>\n",
       "      <th>414</th>\n",
       "      <td>1</td>\n",
       "      <td>0</td>\n",
       "      <td>39.0</td>\n",
       "      <td>0</td>\n",
       "      <td>0</td>\n",
       "      <td>108.9000</td>\n",
       "      <td>0</td>\n",
       "      <td>108.9000</td>\n",
       "    </tr>\n",
       "    <tr>\n",
       "      <th>415</th>\n",
       "      <td>3</td>\n",
       "      <td>1</td>\n",
       "      <td>38.5</td>\n",
       "      <td>0</td>\n",
       "      <td>0</td>\n",
       "      <td>7.2500</td>\n",
       "      <td>2</td>\n",
       "      <td>7.2500</td>\n",
       "    </tr>\n",
       "    <tr>\n",
       "      <th>416</th>\n",
       "      <td>3</td>\n",
       "      <td>1</td>\n",
       "      <td>27.0</td>\n",
       "      <td>0</td>\n",
       "      <td>0</td>\n",
       "      <td>8.0500</td>\n",
       "      <td>2</td>\n",
       "      <td>8.0500</td>\n",
       "    </tr>\n",
       "    <tr>\n",
       "      <th>417</th>\n",
       "      <td>3</td>\n",
       "      <td>1</td>\n",
       "      <td>27.0</td>\n",
       "      <td>1</td>\n",
       "      <td>1</td>\n",
       "      <td>22.3583</td>\n",
       "      <td>0</td>\n",
       "      <td>22.3583</td>\n",
       "    </tr>\n",
       "  </tbody>\n",
       "</table>\n",
       "<p>418 rows × 8 columns</p>\n",
       "</div>"
      ],
      "text/plain": [
       "     Pclass  Sex   Age  SibSp  Parch      Fare  Embarked  old_Fare\n",
       "0         3    1  34.5      0      0    7.8292         1    7.8292\n",
       "1         3    0  47.0      1      0    7.0000         2    7.0000\n",
       "2         2    1  62.0      0      0    9.6875         1    9.6875\n",
       "3         3    1  27.0      0      0    8.6625         2    8.6625\n",
       "4         3    0  22.0      1      1   12.2875         2   12.2875\n",
       "..      ...  ...   ...    ...    ...       ...       ...       ...\n",
       "413       3    1  27.0      0      0    8.0500         2    8.0500\n",
       "414       1    0  39.0      0      0  108.9000         0  108.9000\n",
       "415       3    1  38.5      0      0    7.2500         2    7.2500\n",
       "416       3    1  27.0      0      0    8.0500         2    8.0500\n",
       "417       3    1  27.0      1      1   22.3583         0   22.3583\n",
       "\n",
       "[418 rows x 8 columns]"
      ]
     },
     "execution_count": 365,
     "metadata": {},
     "output_type": "execute_result"
    }
   ],
   "source": [
    "drop_features(test)"
   ]
  },
  {
   "cell_type": "markdown",
   "id": "a3223047",
   "metadata": {},
   "source": [
    "* Q6) 위의 Q3~Q5에 대해서 하나의 함수나 클래스를 만들어서 주어진 입력 데이터에 대해서 일괄 처리가 가능하도록 만드시고,x_train, x_val, test에 적용하여 변환을 동일한 기준으로 처리하세요!"
   ]
  },
  {
   "cell_type": "code",
   "execution_count": null,
   "id": "8cc6fd42",
   "metadata": {},
   "outputs": [],
   "source": []
  },
  {
   "cell_type": "markdown",
   "id": "0a9cc060",
   "metadata": {},
   "source": [
    "* Q7) k-fold에서 repeated strify k-fold ( RepeatedStratifiedKFold ) 를 적용해서 3개로 나누고, random_state=1234, 반복은 4번으로 설정)"
   ]
  },
  {
   "cell_type": "code",
   "execution_count": 320,
   "id": "adb560c7",
   "metadata": {},
   "outputs": [],
   "source": [
    "from sklearn.model_selection import RepeatedStratifiedKFold"
   ]
  },
  {
   "cell_type": "code",
   "execution_count": 366,
   "id": "2456a43c",
   "metadata": {},
   "outputs": [],
   "source": [
    "rskfold = RepeatedStratifiedKFold(n_splits=3,random_state=1234, n_repeats = 4)"
   ]
  },
  {
   "cell_type": "code",
   "execution_count": 367,
   "id": "2fa2501b",
   "metadata": {},
   "outputs": [],
   "source": [
    "# 하이퍼 파라미터 튜닝 -> gridsearch, randomgridsearch\n",
    "from sklearn.model_selection import RandomizedSearchCV,GridSearchCV\n",
    "# cross-val\n",
    "from sklearn.model_selection import cross_val_score\n",
    "# 평가 -> 정확도\n",
    "from sklearn.metrics import accuracy_score\n",
    "from sklearn.neighbors import KNeighborsClassifier"
   ]
  },
  {
   "cell_type": "code",
   "execution_count": 368,
   "id": "4a15387b",
   "metadata": {},
   "outputs": [
    {
     "name": "stdout",
     "output_type": "stream",
     "text": [
      "knn 0째번 검증 정확도 : 0.6835\n",
      "knn 1째번 검증 정확도 : 0.6869\n",
      "knn 2째번 검증 정확도 : 0.6936\n",
      "knn 3째번 검증 정확도 : 0.7374\n",
      "knn 4째번 검증 정확도 : 0.6936\n",
      "knn 5째번 검증 정확도 : 0.6566\n",
      "knn 6째번 검증 정확도 : 0.7003\n",
      "knn 7째번 검증 정확도 : 0.7071\n",
      "knn 8째번 검증 정확도 : 0.6902\n",
      "knn 9째번 검증 정확도 : 0.7071\n",
      "knn 10째번 검증 정확도 : 0.6431\n",
      "knn 11째번 검증 정확도 : 0.6902\n",
      "knn의 str_kfold 평균 정확도 : 0.690796857463524\n"
     ]
    }
   ],
   "source": [
    "knn = KNeighborsClassifier(n_jobs=-1)\n",
    "\n",
    "scores = cross_val_score(knn, x_train_data, y_train_data, cv=rskfold,scoring=\"accuracy\")\n",
    "\n",
    "for iter_count, acc in enumerate(scores):\n",
    "    print(\"knn {0}째번 검증 정확도 : {1:.4f}\".format(iter_count, acc))\n",
    "print(\"knn의 str_kfold 평균 정확도 :\", scores.mean())"
   ]
  },
  {
   "cell_type": "code",
   "execution_count": 369,
   "id": "076e1f5e",
   "metadata": {},
   "outputs": [
    {
     "name": "stderr",
     "output_type": "stream",
     "text": [
      "C:\\ProgramData\\Anaconda3\\lib\\site-packages\\sklearn\\model_selection\\_search.py:285: UserWarning: The total space of parameters 5 is smaller than n_iter=10. Running 5 iterations. For exhaustive searches, use GridSearchCV.\n",
      "  warnings.warn(\n"
     ]
    },
    {
     "name": "stdout",
     "output_type": "stream",
     "text": [
      "Fitting 12 folds for each of 5 candidates, totalling 60 fits\n"
     ]
    },
    {
     "data": {
      "text/plain": [
       "RandomizedSearchCV(cv=RepeatedStratifiedKFold(n_repeats=4, n_splits=3, random_state=1234),\n",
       "                   estimator=KNeighborsClassifier(n_jobs=-1), n_jobs=-1,\n",
       "                   param_distributions={'n_neighbors': [1, 3, 5, 7, 9]},\n",
       "                   random_state=1234, scoring='accuracy', verbose=2)"
      ]
     },
     "execution_count": 369,
     "metadata": {},
     "output_type": "execute_result"
    }
   ],
   "source": [
    "parameters ={\n",
    "    \"n_neighbors\" : [1,3,5,7,9]\n",
    "}\n",
    "\n",
    "knn = KNeighborsClassifier(n_jobs=-1)\n",
    "\n",
    "n_iter_search = 10\n",
    "\n",
    "knn_rsk_rgs = RandomizedSearchCV(\n",
    "    knn,\n",
    "    param_distributions=parameters,\n",
    "    cv = rskfold,  ####  변경!!!\n",
    "    scoring=\"accuracy\",\n",
    "    n_jobs= -1, \n",
    "    random_state=1234,\n",
    "    n_iter=n_iter_search,\n",
    "    verbose=2\n",
    ") \n",
    "knn_rsk_rgs.fit(x_train_data, y_train_data)\n"
   ]
  },
  {
   "cell_type": "code",
   "execution_count": 370,
   "id": "4192e580",
   "metadata": {
    "scrolled": true
   },
   "outputs": [
    {
     "data": {
      "text/plain": [
       "0.7042648709315377"
      ]
     },
     "execution_count": 370,
     "metadata": {},
     "output_type": "execute_result"
    }
   ],
   "source": [
    "knn_rsk_rgs.best_score_"
   ]
  },
  {
   "cell_type": "code",
   "execution_count": 371,
   "id": "01effbab",
   "metadata": {},
   "outputs": [
    {
     "data": {
      "text/plain": [
       "{'n_neighbors': 3}"
      ]
     },
     "execution_count": 371,
     "metadata": {},
     "output_type": "execute_result"
    }
   ],
   "source": [
    "knn_rsk_rgs.best_params_"
   ]
  },
  {
   "cell_type": "code",
   "execution_count": 372,
   "id": "4460e7fe",
   "metadata": {},
   "outputs": [
    {
     "name": "stdout",
     "output_type": "stream",
     "text": [
      "0.7821229050279329\n"
     ]
    }
   ],
   "source": [
    "knn_rsk_rgs_best = knn_rsk_rgs.best_estimator_\n",
    "knn_rsk_rgs_ypred = knn_rsk_rgs_best.predict(x_val)\n",
    "knn_rsk_rgs_acc = accuracy_score(y_val,knn_rsk_rgs_ypred)\n",
    "print(knn_rsk_rgs_acc)"
   ]
  },
  {
   "cell_type": "markdown",
   "id": "84c3a646",
   "metadata": {},
   "source": [
    "* 모델 만들기 : 평가 기준 -> accuracy_score"
   ]
  },
  {
   "cell_type": "markdown",
   "id": "ea8e86c9",
   "metadata": {},
   "source": [
    "* Q8) SVM모델에 대해서 <br>\n",
    "1. 기본 파라미터에 대해서 cross_val_score을 통한(x_train, y_train, 앞에서 지정한 k-fold) 결과를 확인\n",
    "2. RandomizedSearchCV, GridSearchCV를 수행하여 최적의 모델을 찾으세요<br>\n",
    "3. 2번의 최적의 모델의 성능과 x_val,y_val에 대해서의 성능을 비교하세요"
   ]
  },
  {
   "cell_type": "code",
   "execution_count": 373,
   "id": "9a10d47f",
   "metadata": {},
   "outputs": [],
   "source": [
    "from sklearn.svm import SVC"
   ]
  },
  {
   "cell_type": "code",
   "execution_count": 381,
   "id": "2bcf65e3",
   "metadata": {},
   "outputs": [
    {
     "name": "stdout",
     "output_type": "stream",
     "text": [
      "SVC 0째번 검증 정확도 : 0.7003\n",
      "SVC 1째번 검증 정확도 : 0.6599\n",
      "SVC 2째번 검증 정확도 : 0.6667\n",
      "SVC 3째번 검증 정확도 : 0.6768\n",
      "SVC 4째번 검증 정확도 : 0.6667\n",
      "SVC 5째번 검증 정확도 : 0.6700\n",
      "SVC 6째번 검증 정확도 : 0.6734\n",
      "SVC 7째번 검증 정확도 : 0.6768\n",
      "SVC 8째번 검증 정확도 : 0.6700\n",
      "SVC 9째번 검증 정확도 : 0.6768\n",
      "SVC 10째번 검증 정확도 : 0.6936\n",
      "SVC 11째번 검증 정확도 : 0.6599\n",
      "SVC의 kfold 평균 정확도 : 0.6742424242424242\n"
     ]
    }
   ],
   "source": [
    "# 일단 svm대략 어느 정도가 되는지 baseline 찾아보자\n",
    "svm = SVC(max_iter=1000, random_state=1234)\n",
    "\n",
    "scores = cross_val_score(\n",
    "    svm,\n",
    "    x_train_data,\n",
    "    y_train_data,\n",
    "    cv=rskfold,\n",
    "    scoring=\"accuracy\"\n",
    ")\n",
    "for iter_count, acc in enumerate(scores):\n",
    "    print(\"SVC {0}째번 검증 정확도 : {1:.4f}\".format(iter_count, acc))\n",
    "print(\"SVC의 kfold 평균 정확도 :\", scores.mean())"
   ]
  },
  {
   "cell_type": "code",
   "execution_count": 375,
   "id": "43ac6ec4",
   "metadata": {},
   "outputs": [
    {
     "name": "stdout",
     "output_type": "stream",
     "text": [
      "Fitting 12 folds for each of 10 candidates, totalling 120 fits\n"
     ]
    },
    {
     "name": "stderr",
     "output_type": "stream",
     "text": [
      "C:\\ProgramData\\Anaconda3\\lib\\site-packages\\sklearn\\svm\\_base.py:255: ConvergenceWarning: Solver terminated early (max_iter=1000).  Consider pre-processing your data with StandardScaler or MinMaxScaler.\n",
      "  warnings.warn('Solver terminated early (max_iter=%i).'\n"
     ]
    },
    {
     "data": {
      "text/plain": [
       "RandomizedSearchCV(cv=RepeatedStratifiedKFold(n_repeats=4, n_splits=3, random_state=1234),\n",
       "                   estimator=SVC(max_iter=1000, random_state=1234), n_jobs=-1,\n",
       "                   param_distributions={'C': [0.0001, 0.001, 0.01, 0.1, 1, 10,\n",
       "                                              50, 100],\n",
       "                                        'degree': [2, 3, 4, 5, 6, 7],\n",
       "                                        'gamma': [0.001, 0.01, 0.1, 0.5],\n",
       "                                        'kernel': ['linear', 'poly', 'rbf']},\n",
       "                   random_state=1234, scoring='accuracy', verbose=3)"
      ]
     },
     "execution_count": 375,
     "metadata": {},
     "output_type": "execute_result"
    }
   ],
   "source": [
    "svm = SVC(max_iter=1000, random_state=1234)\n",
    "\n",
    "parameters = {\n",
    "    \"C\" : [0.0001, 0.001, 0.01, 0.1, 1, 10, 50,100],\n",
    "    \"kernel\" : [\"linear\", \"poly\",\"rbf\"],\n",
    "    \"gamma\" : [0.001, 0.01, 0.1, 0.5],\n",
    "    \"degree\" : [2,3,4,5,6,7]\n",
    "}\n",
    "\n",
    "n_iter_search = 10\n",
    "\n",
    "svm_rsk_rgs = RandomizedSearchCV(\n",
    "    svm,\n",
    "    param_distributions=parameters,\n",
    "    cv = rskfold,  ####  변경!!!\n",
    "    scoring=\"accuracy\",\n",
    "    n_jobs= -1, \n",
    "    random_state=1234,\n",
    "    n_iter=n_iter_search,\n",
    "    verbose=3\n",
    ") \n",
    "svm_rsk_rgs.fit(x_train_data, y_train_data)\n"
   ]
  },
  {
   "cell_type": "code",
   "execution_count": 376,
   "id": "14f67b25",
   "metadata": {},
   "outputs": [
    {
     "data": {
      "text/plain": [
       "0.7648709315375982"
      ]
     },
     "execution_count": 376,
     "metadata": {},
     "output_type": "execute_result"
    }
   ],
   "source": [
    "svm_rsk_rgs.best_score_"
   ]
  },
  {
   "cell_type": "code",
   "execution_count": 377,
   "id": "4b763745",
   "metadata": {},
   "outputs": [
    {
     "name": "stdout",
     "output_type": "stream",
     "text": [
      "0.7094972067039106\n"
     ]
    }
   ],
   "source": [
    "svm_rsk_rgs_best = svm_rsk_rgs.best_estimator_\n",
    "svm_rsk_rgs_ypred = svm_rsk_rgs_best.predict(x_val)\n",
    "svm_rsk_rgs_acc = accuracy_score(y_val,svm_rsk_rgs_ypred)\n",
    "print(svm_rsk_rgs_acc)"
   ]
  },
  {
   "cell_type": "code",
   "execution_count": 378,
   "id": "457ee292",
   "metadata": {},
   "outputs": [
    {
     "name": "stdout",
     "output_type": "stream",
     "text": [
      "Fitting 12 folds for each of 24 candidates, totalling 288 fits\n"
     ]
    },
    {
     "name": "stderr",
     "output_type": "stream",
     "text": [
      "C:\\ProgramData\\Anaconda3\\lib\\site-packages\\sklearn\\svm\\_base.py:255: ConvergenceWarning: Solver terminated early (max_iter=1000).  Consider pre-processing your data with StandardScaler or MinMaxScaler.\n",
      "  warnings.warn('Solver terminated early (max_iter=%i).'\n"
     ]
    },
    {
     "data": {
      "text/plain": [
       "GridSearchCV(cv=RepeatedStratifiedKFold(n_repeats=4, n_splits=3, random_state=1234),\n",
       "             estimator=SVC(max_iter=1000, random_state=1234), n_jobs=-1,\n",
       "             param_grid={'C': [0.01, 0.02, 0.05, 0.015],\n",
       "                         'gamma': [0.001, 0.01, 0.1],\n",
       "                         'kernel': ['linear', 'rbf']},\n",
       "             scoring='accuracy', verbose=2)"
      ]
     },
     "execution_count": 378,
     "metadata": {},
     "output_type": "execute_result"
    }
   ],
   "source": [
    "svm = SVC(max_iter=1000, random_state=1234)\n",
    "\n",
    "parameters={\n",
    "    \"C\" :[ 0.01, 0.02, 0.05, 0.015],\n",
    "    \"kernel\":[\"linear\", \"rbf\"],\n",
    "    \"gamma\" : [0.001, 0.01, 0.1]\n",
    "}\n",
    "\n",
    "svm_rsk_gs = GridSearchCV(\n",
    "    svm,\n",
    "    param_grid=parameters,\n",
    "    cv = rskfold,  ####  변경!!!\n",
    "    scoring=\"accuracy\",\n",
    "    n_jobs= -1, \n",
    "    verbose=2\n",
    ") \n",
    "svm_rsk_gs.fit(x_train_data, y_train_data)\n"
   ]
  },
  {
   "cell_type": "code",
   "execution_count": 379,
   "id": "df490126",
   "metadata": {},
   "outputs": [
    {
     "data": {
      "text/plain": [
       "0.7648709315375982"
      ]
     },
     "execution_count": 379,
     "metadata": {},
     "output_type": "execute_result"
    }
   ],
   "source": [
    "svm_rsk_gs.best_score_"
   ]
  },
  {
   "cell_type": "code",
   "execution_count": 380,
   "id": "317d6205",
   "metadata": {},
   "outputs": [
    {
     "name": "stdout",
     "output_type": "stream",
     "text": [
      "0.7094972067039106\n"
     ]
    }
   ],
   "source": [
    "svm_rsk_gs_best = svm_rsk_gs.best_estimator_\n",
    "svm_rsk_gs_ypred = svm_rsk_gs_best.predict(x_val)\n",
    "svm_rsk_gs_acc = accuracy_score(y_val,svm_rsk_gs_ypred)\n",
    "print(svm_rsk_gs_acc)"
   ]
  },
  {
   "cell_type": "markdown",
   "id": "fe08ab9e",
   "metadata": {},
   "source": [
    "* Q10) RF 모델에 대해서 <br>\n",
    "1. 기본 파라미터에 대해서 cross_val_score을 통한(x_train, y_train, 앞에서 지정한 k-fold) 결과를 확인\n",
    "2. RandomizedSearchCV, GridSearchCV를 수행하여 최적의 모델을 찾으세요<br>\n",
    "3. 2번의 최적의 모델의 성능과 x_val,y_val에 대해서의 성능을 비교하세요"
   ]
  },
  {
   "cell_type": "code",
   "execution_count": 382,
   "id": "4f2a8435",
   "metadata": {},
   "outputs": [],
   "source": [
    "from sklearn.ensemble import RandomForestClassifier"
   ]
  },
  {
   "cell_type": "code",
   "execution_count": 383,
   "id": "dd8add27",
   "metadata": {},
   "outputs": [],
   "source": [
    "rf = RandomForestClassifier(n_jobs=-1,random_state=1234)"
   ]
  },
  {
   "cell_type": "code",
   "execution_count": 384,
   "id": "deb6eeba",
   "metadata": {},
   "outputs": [
    {
     "name": "stdout",
     "output_type": "stream",
     "text": [
      "RF 0째번 검증 정확도 : 0.8215\n",
      "RF 1째번 검증 정확도 : 0.8013\n",
      "RF 2째번 검증 정확도 : 0.8182\n",
      "RF 3째번 검증 정확도 : 0.8215\n",
      "RF 4째번 검증 정확도 : 0.8114\n",
      "RF 5째번 검증 정확도 : 0.7912\n",
      "RF 6째번 검증 정확도 : 0.8081\n",
      "RF 7째번 검증 정확도 : 0.8384\n",
      "RF 8째번 검증 정확도 : 0.8283\n",
      "RF 9째번 검증 정확도 : 0.7879\n",
      "RF 10째번 검증 정확도 : 0.8283\n",
      "RF 11째번 검증 정확도 : 0.8047\n",
      "RF의 kfold 평균 정확도 : 0.8134118967452301\n"
     ]
    }
   ],
   "source": [
    "scores = cross_val_score(\n",
    "    rf,\n",
    "    x_train_data,\n",
    "    y_train_data,\n",
    "    cv=rskfold,\n",
    "    scoring=\"accuracy\"\n",
    ")\n",
    "for iter_count, acc in enumerate(scores):\n",
    "    print(\"RF {0}째번 검증 정확도 : {1:.4f}\".format(iter_count, acc))\n",
    "print(\"RF의 kfold 평균 정확도 :\", scores.mean())\n"
   ]
  },
  {
   "cell_type": "code",
   "execution_count": 385,
   "id": "f6d6a5af",
   "metadata": {},
   "outputs": [
    {
     "name": "stdout",
     "output_type": "stream",
     "text": [
      "Fitting 12 folds for each of 10 candidates, totalling 120 fits\n"
     ]
    },
    {
     "data": {
      "text/plain": [
       "RandomizedSearchCV(cv=RepeatedStratifiedKFold(n_repeats=4, n_splits=3, random_state=1234),\n",
       "                   estimator=RandomForestClassifier(n_jobs=-1,\n",
       "                                                    random_state=1234),\n",
       "                   n_jobs=-1,\n",
       "                   param_distributions={'max_depth': [8, 9, 10, 11, 12, 20],\n",
       "                                        'max_features': ['auto', 'sqrt'],\n",
       "                                        'min_samples_leaf': [2, 3, 4],\n",
       "                                        'min_samples_split': [2, 3, 4],\n",
       "                                        'n_estimators': [500, 200, 1000, 700]},\n",
       "                   scoring='accuracy', verbose=2)"
      ]
     },
     "execution_count": 385,
     "metadata": {},
     "output_type": "execute_result"
    }
   ],
   "source": [
    "rf = RandomForestClassifier(n_jobs=-1, random_state=1234)\n",
    "\n",
    "parameters={\n",
    "    \"n_estimators\" : [500, 200, 1000, 700],\n",
    "    \"max_features\" : [\"auto\",\"sqrt\"],\n",
    "    \"max_depth\" : [8,9,10,11,12,20],\n",
    "    \"min_samples_split\" : [2,3,4 ],\n",
    "    \"min_samples_leaf\" : [2,3,4]\n",
    "}\n",
    "\n",
    "rf_rskf_rgs = RandomizedSearchCV(\n",
    "    rf,\n",
    "    param_distributions=parameters,\n",
    "    cv = rskfold,  \n",
    "    scoring=\"accuracy\",\n",
    "    n_jobs= -1, \n",
    "    verbose=2\n",
    ") \n",
    "rf_rskf_rgs.fit(x_train_data, y_train_data)\n"
   ]
  },
  {
   "cell_type": "code",
   "execution_count": 387,
   "id": "3d386ff4",
   "metadata": {},
   "outputs": [
    {
     "data": {
      "text/plain": [
       "0.8277216610549946"
      ]
     },
     "execution_count": 387,
     "metadata": {},
     "output_type": "execute_result"
    }
   ],
   "source": [
    "rf_rskf_rgs.best_score_"
   ]
  },
  {
   "cell_type": "code",
   "execution_count": 388,
   "id": "5d0a722f",
   "metadata": {
    "scrolled": true
   },
   "outputs": [
    {
     "name": "stdout",
     "output_type": "stream",
     "text": [
      "0.888268156424581\n"
     ]
    }
   ],
   "source": [
    "rf_rskf_rgs_best = rf_rskf_rgs.best_estimator_\n",
    "rf_rskf_rgs_ypred = rf_rskf_rgs_best.predict(x_val)\n",
    "rf_rskf_rgs_acc = accuracy_score(y_val,rf_rskf_rgs_ypred)\n",
    "print(rf_rskf_rgs_acc)"
   ]
  },
  {
   "cell_type": "code",
   "execution_count": 399,
   "id": "52df7c51",
   "metadata": {
    "scrolled": true
   },
   "outputs": [
    {
     "name": "stdout",
     "output_type": "stream",
     "text": [
      "Fitting 12 folds for each of 360 candidates, totalling 4320 fits\n"
     ]
    },
    {
     "ename": "KeyboardInterrupt",
     "evalue": "",
     "output_type": "error",
     "traceback": [
      "\u001b[1;31m---------------------------------------------------------------------------\u001b[0m",
      "\u001b[1;31mKeyboardInterrupt\u001b[0m                         Traceback (most recent call last)",
      "\u001b[1;32m<ipython-input-399-9750734f90e0>\u001b[0m in \u001b[0;36m<module>\u001b[1;34m\u001b[0m\n\u001b[0;32m     17\u001b[0m     \u001b[0mverbose\u001b[0m\u001b[1;33m=\u001b[0m\u001b[1;36m2\u001b[0m\u001b[1;33m\u001b[0m\u001b[1;33m\u001b[0m\u001b[0m\n\u001b[0;32m     18\u001b[0m ) \n\u001b[1;32m---> 19\u001b[1;33m \u001b[0mrf_rskf_gs\u001b[0m\u001b[1;33m.\u001b[0m\u001b[0mfit\u001b[0m\u001b[1;33m(\u001b[0m\u001b[0mx_train_data\u001b[0m\u001b[1;33m,\u001b[0m \u001b[0my_train_data\u001b[0m\u001b[1;33m)\u001b[0m\u001b[1;33m\u001b[0m\u001b[1;33m\u001b[0m\u001b[0m\n\u001b[0m",
      "\u001b[1;32mC:\\ProgramData\\Anaconda3\\lib\\site-packages\\sklearn\\utils\\validation.py\u001b[0m in \u001b[0;36minner_f\u001b[1;34m(*args, **kwargs)\u001b[0m\n\u001b[0;32m     61\u001b[0m             \u001b[0mextra_args\u001b[0m \u001b[1;33m=\u001b[0m \u001b[0mlen\u001b[0m\u001b[1;33m(\u001b[0m\u001b[0margs\u001b[0m\u001b[1;33m)\u001b[0m \u001b[1;33m-\u001b[0m \u001b[0mlen\u001b[0m\u001b[1;33m(\u001b[0m\u001b[0mall_args\u001b[0m\u001b[1;33m)\u001b[0m\u001b[1;33m\u001b[0m\u001b[1;33m\u001b[0m\u001b[0m\n\u001b[0;32m     62\u001b[0m             \u001b[1;32mif\u001b[0m \u001b[0mextra_args\u001b[0m \u001b[1;33m<=\u001b[0m \u001b[1;36m0\u001b[0m\u001b[1;33m:\u001b[0m\u001b[1;33m\u001b[0m\u001b[1;33m\u001b[0m\u001b[0m\n\u001b[1;32m---> 63\u001b[1;33m                 \u001b[1;32mreturn\u001b[0m \u001b[0mf\u001b[0m\u001b[1;33m(\u001b[0m\u001b[1;33m*\u001b[0m\u001b[0margs\u001b[0m\u001b[1;33m,\u001b[0m \u001b[1;33m**\u001b[0m\u001b[0mkwargs\u001b[0m\u001b[1;33m)\u001b[0m\u001b[1;33m\u001b[0m\u001b[1;33m\u001b[0m\u001b[0m\n\u001b[0m\u001b[0;32m     64\u001b[0m \u001b[1;33m\u001b[0m\u001b[0m\n\u001b[0;32m     65\u001b[0m             \u001b[1;31m# extra_args > 0\u001b[0m\u001b[1;33m\u001b[0m\u001b[1;33m\u001b[0m\u001b[1;33m\u001b[0m\u001b[0m\n",
      "\u001b[1;32mC:\\ProgramData\\Anaconda3\\lib\\site-packages\\sklearn\\model_selection\\_search.py\u001b[0m in \u001b[0;36mfit\u001b[1;34m(self, X, y, groups, **fit_params)\u001b[0m\n\u001b[0;32m    839\u001b[0m                 \u001b[1;32mreturn\u001b[0m \u001b[0mresults\u001b[0m\u001b[1;33m\u001b[0m\u001b[1;33m\u001b[0m\u001b[0m\n\u001b[0;32m    840\u001b[0m \u001b[1;33m\u001b[0m\u001b[0m\n\u001b[1;32m--> 841\u001b[1;33m             \u001b[0mself\u001b[0m\u001b[1;33m.\u001b[0m\u001b[0m_run_search\u001b[0m\u001b[1;33m(\u001b[0m\u001b[0mevaluate_candidates\u001b[0m\u001b[1;33m)\u001b[0m\u001b[1;33m\u001b[0m\u001b[1;33m\u001b[0m\u001b[0m\n\u001b[0m\u001b[0;32m    842\u001b[0m \u001b[1;33m\u001b[0m\u001b[0m\n\u001b[0;32m    843\u001b[0m             \u001b[1;31m# multimetric is determined here because in the case of a callable\u001b[0m\u001b[1;33m\u001b[0m\u001b[1;33m\u001b[0m\u001b[1;33m\u001b[0m\u001b[0m\n",
      "\u001b[1;32mC:\\ProgramData\\Anaconda3\\lib\\site-packages\\sklearn\\model_selection\\_search.py\u001b[0m in \u001b[0;36m_run_search\u001b[1;34m(self, evaluate_candidates)\u001b[0m\n\u001b[0;32m   1286\u001b[0m     \u001b[1;32mdef\u001b[0m \u001b[0m_run_search\u001b[0m\u001b[1;33m(\u001b[0m\u001b[0mself\u001b[0m\u001b[1;33m,\u001b[0m \u001b[0mevaluate_candidates\u001b[0m\u001b[1;33m)\u001b[0m\u001b[1;33m:\u001b[0m\u001b[1;33m\u001b[0m\u001b[1;33m\u001b[0m\u001b[0m\n\u001b[0;32m   1287\u001b[0m         \u001b[1;34m\"\"\"Search all candidates in param_grid\"\"\"\u001b[0m\u001b[1;33m\u001b[0m\u001b[1;33m\u001b[0m\u001b[0m\n\u001b[1;32m-> 1288\u001b[1;33m         \u001b[0mevaluate_candidates\u001b[0m\u001b[1;33m(\u001b[0m\u001b[0mParameterGrid\u001b[0m\u001b[1;33m(\u001b[0m\u001b[0mself\u001b[0m\u001b[1;33m.\u001b[0m\u001b[0mparam_grid\u001b[0m\u001b[1;33m)\u001b[0m\u001b[1;33m)\u001b[0m\u001b[1;33m\u001b[0m\u001b[1;33m\u001b[0m\u001b[0m\n\u001b[0m\u001b[0;32m   1289\u001b[0m \u001b[1;33m\u001b[0m\u001b[0m\n\u001b[0;32m   1290\u001b[0m \u001b[1;33m\u001b[0m\u001b[0m\n",
      "\u001b[1;32mC:\\ProgramData\\Anaconda3\\lib\\site-packages\\sklearn\\model_selection\\_search.py\u001b[0m in \u001b[0;36mevaluate_candidates\u001b[1;34m(candidate_params, cv, more_results)\u001b[0m\n\u001b[0;32m    793\u001b[0m                               n_splits, n_candidates, n_candidates * n_splits))\n\u001b[0;32m    794\u001b[0m \u001b[1;33m\u001b[0m\u001b[0m\n\u001b[1;32m--> 795\u001b[1;33m                 out = parallel(delayed(_fit_and_score)(clone(base_estimator),\n\u001b[0m\u001b[0;32m    796\u001b[0m                                                        \u001b[0mX\u001b[0m\u001b[1;33m,\u001b[0m \u001b[0my\u001b[0m\u001b[1;33m,\u001b[0m\u001b[1;33m\u001b[0m\u001b[1;33m\u001b[0m\u001b[0m\n\u001b[0;32m    797\u001b[0m                                                        \u001b[0mtrain\u001b[0m\u001b[1;33m=\u001b[0m\u001b[0mtrain\u001b[0m\u001b[1;33m,\u001b[0m \u001b[0mtest\u001b[0m\u001b[1;33m=\u001b[0m\u001b[0mtest\u001b[0m\u001b[1;33m,\u001b[0m\u001b[1;33m\u001b[0m\u001b[1;33m\u001b[0m\u001b[0m\n",
      "\u001b[1;32mC:\\ProgramData\\Anaconda3\\lib\\site-packages\\joblib\\parallel.py\u001b[0m in \u001b[0;36m__call__\u001b[1;34m(self, iterable)\u001b[0m\n\u001b[0;32m   1052\u001b[0m \u001b[1;33m\u001b[0m\u001b[0m\n\u001b[0;32m   1053\u001b[0m             \u001b[1;32mwith\u001b[0m \u001b[0mself\u001b[0m\u001b[1;33m.\u001b[0m\u001b[0m_backend\u001b[0m\u001b[1;33m.\u001b[0m\u001b[0mretrieval_context\u001b[0m\u001b[1;33m(\u001b[0m\u001b[1;33m)\u001b[0m\u001b[1;33m:\u001b[0m\u001b[1;33m\u001b[0m\u001b[1;33m\u001b[0m\u001b[0m\n\u001b[1;32m-> 1054\u001b[1;33m                 \u001b[0mself\u001b[0m\u001b[1;33m.\u001b[0m\u001b[0mretrieve\u001b[0m\u001b[1;33m(\u001b[0m\u001b[1;33m)\u001b[0m\u001b[1;33m\u001b[0m\u001b[1;33m\u001b[0m\u001b[0m\n\u001b[0m\u001b[0;32m   1055\u001b[0m             \u001b[1;31m# Make sure that we get a last message telling us we are done\u001b[0m\u001b[1;33m\u001b[0m\u001b[1;33m\u001b[0m\u001b[1;33m\u001b[0m\u001b[0m\n\u001b[0;32m   1056\u001b[0m             \u001b[0melapsed_time\u001b[0m \u001b[1;33m=\u001b[0m \u001b[0mtime\u001b[0m\u001b[1;33m.\u001b[0m\u001b[0mtime\u001b[0m\u001b[1;33m(\u001b[0m\u001b[1;33m)\u001b[0m \u001b[1;33m-\u001b[0m \u001b[0mself\u001b[0m\u001b[1;33m.\u001b[0m\u001b[0m_start_time\u001b[0m\u001b[1;33m\u001b[0m\u001b[1;33m\u001b[0m\u001b[0m\n",
      "\u001b[1;32mC:\\ProgramData\\Anaconda3\\lib\\site-packages\\joblib\\parallel.py\u001b[0m in \u001b[0;36mretrieve\u001b[1;34m(self)\u001b[0m\n\u001b[0;32m    931\u001b[0m             \u001b[1;32mtry\u001b[0m\u001b[1;33m:\u001b[0m\u001b[1;33m\u001b[0m\u001b[1;33m\u001b[0m\u001b[0m\n\u001b[0;32m    932\u001b[0m                 \u001b[1;32mif\u001b[0m \u001b[0mgetattr\u001b[0m\u001b[1;33m(\u001b[0m\u001b[0mself\u001b[0m\u001b[1;33m.\u001b[0m\u001b[0m_backend\u001b[0m\u001b[1;33m,\u001b[0m \u001b[1;34m'supports_timeout'\u001b[0m\u001b[1;33m,\u001b[0m \u001b[1;32mFalse\u001b[0m\u001b[1;33m)\u001b[0m\u001b[1;33m:\u001b[0m\u001b[1;33m\u001b[0m\u001b[1;33m\u001b[0m\u001b[0m\n\u001b[1;32m--> 933\u001b[1;33m                     \u001b[0mself\u001b[0m\u001b[1;33m.\u001b[0m\u001b[0m_output\u001b[0m\u001b[1;33m.\u001b[0m\u001b[0mextend\u001b[0m\u001b[1;33m(\u001b[0m\u001b[0mjob\u001b[0m\u001b[1;33m.\u001b[0m\u001b[0mget\u001b[0m\u001b[1;33m(\u001b[0m\u001b[0mtimeout\u001b[0m\u001b[1;33m=\u001b[0m\u001b[0mself\u001b[0m\u001b[1;33m.\u001b[0m\u001b[0mtimeout\u001b[0m\u001b[1;33m)\u001b[0m\u001b[1;33m)\u001b[0m\u001b[1;33m\u001b[0m\u001b[1;33m\u001b[0m\u001b[0m\n\u001b[0m\u001b[0;32m    934\u001b[0m                 \u001b[1;32melse\u001b[0m\u001b[1;33m:\u001b[0m\u001b[1;33m\u001b[0m\u001b[1;33m\u001b[0m\u001b[0m\n\u001b[0;32m    935\u001b[0m                     \u001b[0mself\u001b[0m\u001b[1;33m.\u001b[0m\u001b[0m_output\u001b[0m\u001b[1;33m.\u001b[0m\u001b[0mextend\u001b[0m\u001b[1;33m(\u001b[0m\u001b[0mjob\u001b[0m\u001b[1;33m.\u001b[0m\u001b[0mget\u001b[0m\u001b[1;33m(\u001b[0m\u001b[1;33m)\u001b[0m\u001b[1;33m)\u001b[0m\u001b[1;33m\u001b[0m\u001b[1;33m\u001b[0m\u001b[0m\n",
      "\u001b[1;32mC:\\ProgramData\\Anaconda3\\lib\\site-packages\\joblib\\_parallel_backends.py\u001b[0m in \u001b[0;36mwrap_future_result\u001b[1;34m(future, timeout)\u001b[0m\n\u001b[0;32m    540\u001b[0m         AsyncResults.get from multiprocessing.\"\"\"\n\u001b[0;32m    541\u001b[0m         \u001b[1;32mtry\u001b[0m\u001b[1;33m:\u001b[0m\u001b[1;33m\u001b[0m\u001b[1;33m\u001b[0m\u001b[0m\n\u001b[1;32m--> 542\u001b[1;33m             \u001b[1;32mreturn\u001b[0m \u001b[0mfuture\u001b[0m\u001b[1;33m.\u001b[0m\u001b[0mresult\u001b[0m\u001b[1;33m(\u001b[0m\u001b[0mtimeout\u001b[0m\u001b[1;33m=\u001b[0m\u001b[0mtimeout\u001b[0m\u001b[1;33m)\u001b[0m\u001b[1;33m\u001b[0m\u001b[1;33m\u001b[0m\u001b[0m\n\u001b[0m\u001b[0;32m    543\u001b[0m         \u001b[1;32mexcept\u001b[0m \u001b[0mCfTimeoutError\u001b[0m \u001b[1;32mas\u001b[0m \u001b[0me\u001b[0m\u001b[1;33m:\u001b[0m\u001b[1;33m\u001b[0m\u001b[1;33m\u001b[0m\u001b[0m\n\u001b[0;32m    544\u001b[0m             \u001b[1;32mraise\u001b[0m \u001b[0mTimeoutError\u001b[0m \u001b[1;32mfrom\u001b[0m \u001b[0me\u001b[0m\u001b[1;33m\u001b[0m\u001b[1;33m\u001b[0m\u001b[0m\n",
      "\u001b[1;32mC:\\ProgramData\\Anaconda3\\lib\\concurrent\\futures\\_base.py\u001b[0m in \u001b[0;36mresult\u001b[1;34m(self, timeout)\u001b[0m\n\u001b[0;32m    432\u001b[0m                 \u001b[1;32mreturn\u001b[0m \u001b[0mself\u001b[0m\u001b[1;33m.\u001b[0m\u001b[0m__get_result\u001b[0m\u001b[1;33m(\u001b[0m\u001b[1;33m)\u001b[0m\u001b[1;33m\u001b[0m\u001b[1;33m\u001b[0m\u001b[0m\n\u001b[0;32m    433\u001b[0m \u001b[1;33m\u001b[0m\u001b[0m\n\u001b[1;32m--> 434\u001b[1;33m             \u001b[0mself\u001b[0m\u001b[1;33m.\u001b[0m\u001b[0m_condition\u001b[0m\u001b[1;33m.\u001b[0m\u001b[0mwait\u001b[0m\u001b[1;33m(\u001b[0m\u001b[0mtimeout\u001b[0m\u001b[1;33m)\u001b[0m\u001b[1;33m\u001b[0m\u001b[1;33m\u001b[0m\u001b[0m\n\u001b[0m\u001b[0;32m    435\u001b[0m \u001b[1;33m\u001b[0m\u001b[0m\n\u001b[0;32m    436\u001b[0m             \u001b[1;32mif\u001b[0m \u001b[0mself\u001b[0m\u001b[1;33m.\u001b[0m\u001b[0m_state\u001b[0m \u001b[1;32min\u001b[0m \u001b[1;33m[\u001b[0m\u001b[0mCANCELLED\u001b[0m\u001b[1;33m,\u001b[0m \u001b[0mCANCELLED_AND_NOTIFIED\u001b[0m\u001b[1;33m]\u001b[0m\u001b[1;33m:\u001b[0m\u001b[1;33m\u001b[0m\u001b[1;33m\u001b[0m\u001b[0m\n",
      "\u001b[1;32mC:\\ProgramData\\Anaconda3\\lib\\threading.py\u001b[0m in \u001b[0;36mwait\u001b[1;34m(self, timeout)\u001b[0m\n\u001b[0;32m    300\u001b[0m         \u001b[1;32mtry\u001b[0m\u001b[1;33m:\u001b[0m    \u001b[1;31m# restore state no matter what (e.g., KeyboardInterrupt)\u001b[0m\u001b[1;33m\u001b[0m\u001b[1;33m\u001b[0m\u001b[0m\n\u001b[0;32m    301\u001b[0m             \u001b[1;32mif\u001b[0m \u001b[0mtimeout\u001b[0m \u001b[1;32mis\u001b[0m \u001b[1;32mNone\u001b[0m\u001b[1;33m:\u001b[0m\u001b[1;33m\u001b[0m\u001b[1;33m\u001b[0m\u001b[0m\n\u001b[1;32m--> 302\u001b[1;33m                 \u001b[0mwaiter\u001b[0m\u001b[1;33m.\u001b[0m\u001b[0macquire\u001b[0m\u001b[1;33m(\u001b[0m\u001b[1;33m)\u001b[0m\u001b[1;33m\u001b[0m\u001b[1;33m\u001b[0m\u001b[0m\n\u001b[0m\u001b[0;32m    303\u001b[0m                 \u001b[0mgotit\u001b[0m \u001b[1;33m=\u001b[0m \u001b[1;32mTrue\u001b[0m\u001b[1;33m\u001b[0m\u001b[1;33m\u001b[0m\u001b[0m\n\u001b[0;32m    304\u001b[0m             \u001b[1;32melse\u001b[0m\u001b[1;33m:\u001b[0m\u001b[1;33m\u001b[0m\u001b[1;33m\u001b[0m\u001b[0m\n",
      "\u001b[1;31mKeyboardInterrupt\u001b[0m: "
     ]
    }
   ],
   "source": [
    "rf = RandomForestClassifier(n_jobs=-1, random_state=1234)\n",
    "\n",
    "parameters={\n",
    "    \"n_estimators\" : [500,600, 700,800],\n",
    "    \"max_features\" : [\"auto\",\"sqrt\"],\n",
    "    \"max_depth\" : [7,8,9,10,11],\n",
    "    \"min_samples_split\" : [3,4,5 ],\n",
    "    \"min_samples_leaf\" : [3,4,5]\n",
    "}\n",
    "\n",
    "rf_rskf_gs = GridSearchCV(\n",
    "    rf,\n",
    "    param_grid=parameters,\n",
    "    cv = rskfold,  \n",
    "    scoring=\"accuracy\",\n",
    "    n_jobs= -1, \n",
    "    verbose=2\n",
    ") \n",
    "rf_rskf_gs.fit(x_train_data, y_train_data)\n"
   ]
  },
  {
   "cell_type": "code",
   "execution_count": null,
   "id": "d8e5061e",
   "metadata": {},
   "outputs": [],
   "source": [
    "rf_rskf_gs_best = rf_rskf_gs.best_estimator_\n",
    "rf_rskf_gs_ypred = rf_rskf_gs_best.predict(x_val)\n",
    "rf_rskf_gs_acc = accuracy_score(y_val,rf_rskf_gs_ypred)\n",
    "print(rf_rskf_gs_acc)"
   ]
  },
  {
   "cell_type": "markdown",
   "id": "abeb0e0c",
   "metadata": {},
   "source": [
    "* Q11) lightgbm 모델에 대해서 <br>\n",
    "1. 기본 파라미터에 대해서 cross_val_score을 통한(x_train, y_train, 앞에서 지정한 k-fold) 결과를 확인\n",
    "2. RandomizedSearchCV, GridSearchCV를 수행하여 최적의 모델을 찾으세요<br>\n",
    "3. 2번의 최적의 모델의 성능과 x_val,y_val에 대해서의 성능을 비교하세요"
   ]
  },
  {
   "cell_type": "code",
   "execution_count": 389,
   "id": "d2942022",
   "metadata": {},
   "outputs": [],
   "source": [
    "from lightgbm import LGBMClassifier"
   ]
  },
  {
   "cell_type": "code",
   "execution_count": 390,
   "id": "46aab9fa",
   "metadata": {},
   "outputs": [
    {
     "name": "stdout",
     "output_type": "stream",
     "text": [
      "LGB 0째번 검증 정확도 : 0.8182\n",
      "LGB 1째번 검증 정확도 : 0.8114\n",
      "LGB 2째번 검증 정확도 : 0.7980\n",
      "LGB 3째번 검증 정확도 : 0.8418\n",
      "LGB 4째번 검증 정확도 : 0.7946\n",
      "LGB 5째번 검증 정확도 : 0.7946\n",
      "LGB 6째번 검증 정확도 : 0.8283\n",
      "LGB 7째번 검증 정확도 : 0.8384\n",
      "LGB 8째번 검증 정확도 : 0.8148\n",
      "LGB 9째번 검증 정확도 : 0.8148\n",
      "LGB 10째번 검증 정확도 : 0.8350\n",
      "LGB 11째번 검증 정확도 : 0.8114\n",
      "LGB의 kfold 평균 정확도 : 0.8167789001122335\n"
     ]
    }
   ],
   "source": [
    "lgbm = LGBMClassifier(\n",
    "    random_state=1234,\n",
    "    n_jobs = -1,\n",
    ")\n",
    "\n",
    "scores = cross_val_score(\n",
    "    lgbm,\n",
    "    x_train_data,\n",
    "    y_train_data,\n",
    "    cv=rskfold,\n",
    "    scoring=\"accuracy\"\n",
    ")\n",
    "for iter_count, acc in enumerate(scores):\n",
    "    print(\"LGB {0}째번 검증 정확도 : {1:.4f}\".format(iter_count, acc))\n",
    "print(\"LGB의 kfold 평균 정확도 :\", scores.mean())\n"
   ]
  },
  {
   "cell_type": "code",
   "execution_count": 391,
   "id": "f6916208",
   "metadata": {},
   "outputs": [
    {
     "name": "stdout",
     "output_type": "stream",
     "text": [
      "Fitting 12 folds for each of 10 candidates, totalling 120 fits\n"
     ]
    },
    {
     "name": "stderr",
     "output_type": "stream",
     "text": [
      "C:\\ProgramData\\Anaconda3\\lib\\site-packages\\sklearn\\model_selection\\_search.py:918: UserWarning: One or more of the test scores are non-finite: [       nan 0.79685746 0.81734007 0.82744108 0.8047138         nan\n",
      " 0.80415264 0.79545455 0.80387205 0.8134119 ]\n",
      "  warnings.warn(\n"
     ]
    },
    {
     "data": {
      "text/plain": [
       "RandomizedSearchCV(cv=RepeatedStratifiedKFold(n_repeats=4, n_splits=3, random_state=1234),\n",
       "                   estimator=LGBMClassifier(random_state=1234), n_jobs=-1,\n",
       "                   param_distributions={'boosting_type': ['gbdt', 'goss',\n",
       "                                                          'dart', 'rf'],\n",
       "                                        'min_child_weight': [0.5, 1, 5],\n",
       "                                        'n_estimators': [10, 50, 100, 300, 500],\n",
       "                                        'reg_alpha': [0, 0.01, 0.01, 0.5, 1, 10,\n",
       "                                                      0.0001],\n",
       "                                        'reg_lambda': [0, 0.01, 0.01, 0.5, 1,\n",
       "                                                       10, 0.0001]},\n",
       "                   random_state=1234, scoring='accuracy', verbose=3)"
      ]
     },
     "execution_count": 391,
     "metadata": {},
     "output_type": "execute_result"
    }
   ],
   "source": [
    "lgbm = LGBMClassifier(\n",
    "    random_state=1234,\n",
    "    n_jobs = -1,\n",
    ")\n",
    "\n",
    "parameters = {\n",
    "    # 이어 달리기를 할 친구 스타일!!! -> tree -> overfit!!!!!\n",
    "    \"boosting_type\":[ \"gbdt\", \"goss\",\"dart\", \"rf\"],\n",
    "\n",
    "    \n",
    "    # 몇 명을 뽑아서 이어달리기를 할지,\n",
    "    # 이어달리기를 하는 과정을 얼마나 디테일하게 할지...\n",
    "    \"n_estimators\" : [10,50,100,300,500],\n",
    "     \"min_child_weight\":[0.5, 1, 5],\n",
    "    \n",
    "    # 규약\n",
    "    \"reg_alpha\" : [0,0.01, 0.01, 0.5, 1, 10, 0.0001],\n",
    "    \"reg_lambda\" :  [0,0.01, 0.01, 0.5, 1, 10, 0.0001]\n",
    "    \n",
    "}\n",
    "\n",
    "n_iter_search = 10\n",
    "\n",
    "lgbm_rskf_rgs = RandomizedSearchCV(\n",
    "    lgbm,\n",
    "    param_distributions=parameters,\n",
    "    cv = rskfold,  ####  변경!!!\n",
    "    scoring=\"accuracy\",\n",
    "    n_jobs= -1, \n",
    "    random_state=1234,\n",
    "    # n_iter = 시도되는 파라미터 설정 수(런타임과 솔루션 품질을 절충)\n",
    "    n_iter=n_iter_search,\n",
    "    verbose=3\n",
    ") \n",
    "\n",
    "lgbm_rskf_rgs.fit(x_train_data,y_train_data)\n"
   ]
  },
  {
   "cell_type": "code",
   "execution_count": 392,
   "id": "968874df",
   "metadata": {},
   "outputs": [
    {
     "data": {
      "text/plain": [
       "0.8274410774410774"
      ]
     },
     "execution_count": 392,
     "metadata": {},
     "output_type": "execute_result"
    }
   ],
   "source": [
    "lgbm_rskf_rgs.best_score_"
   ]
  },
  {
   "cell_type": "code",
   "execution_count": 393,
   "id": "c22b73b1",
   "metadata": {},
   "outputs": [
    {
     "name": "stdout",
     "output_type": "stream",
     "text": [
      "0.8994413407821229\n"
     ]
    }
   ],
   "source": [
    "lgbm_rskf_rgs_best = lgbm_rskf_rgs.best_estimator_\n",
    "lgbm_rskf_rgs_ypred = lgbm_rskf_rgs_best.predict(x_val)\n",
    "lgbm_rskf_rgs_acc = accuracy_score(y_val,lgbm_rskf_rgs_ypred)\n",
    "print(lgbm_rskf_rgs_acc)"
   ]
  },
  {
   "cell_type": "code",
   "execution_count": null,
   "id": "816dfcdf",
   "metadata": {},
   "outputs": [],
   "source": [
    "lgbm = LGBMClassifier(\n",
    "    random_state=1234,\n",
    "    n_jobs = -1,\n",
    ")\n",
    "\n",
    "parameters = {\n",
    "    # 이어 달리기를 할 친구 스타일!!! -> tree -> overfit!!!!!\n",
    "    \"boosting_type\":[ \"gbdt\", \"goss\",\"dart\", \"rf\"],\n",
    "\n",
    "    \n",
    "    # 몇 명을 뽑아서 이어달리기를 할지,\n",
    "    # 이어달리기를 하는 과정을 얼마나 디테일하게 할지...\n",
    "    \"n_estimators\" : [10,50,100,300,500],\n",
    "     \"min_child_weight\":[0.5, 1, 5],\n",
    "    \n",
    "    # 규약\n",
    "    \"reg_alpha\" : [0,0.01, 0.01, 0.5, 1, 10, 0.0001],\n",
    "    \"reg_lambda\" :  [0,0.01, 0.01, 0.5, 1, 10, 0.0001]\n",
    "    \n",
    "}\n",
    "\n",
    "n_iter_search = 10\n",
    "\n",
    "lgbm_rskf_gs = GridSearchCV(\n",
    "    lgbm,\n",
    "    param_distributions=parameters,\n",
    "    cv = rskfold,  ####  변경!!!\n",
    "    scoring=\"accuracy\",\n",
    "    n_jobs= -1, \n",
    "    random_state=1234,\n",
    "    # n_iter = 시도되는 파라미터 설정 수(런타임과 솔루션 품질을 절충)\n",
    "    n_iter=n_iter_search,\n",
    "    verbose=3\n",
    ") \n",
    "\n",
    "lgbm_rskf_gs.fit(x_train_data,y_train_data)\n"
   ]
  },
  {
   "cell_type": "code",
   "execution_count": null,
   "id": "f6b658f6",
   "metadata": {},
   "outputs": [],
   "source": [
    "lgbm_rskf_gs_best = lgbm_rskf_gs.best_estimator_\n",
    "lgbm_rskf_gs_ypred = lgbm_rskf_gs_best.predict(x_val)\n",
    "lgbm_rskf_gs_acc = accuracy_score(y_val,lgbm_rskf_gs_ypred)\n",
    "print(lgbm_rskf_gs_acc)"
   ]
  },
  {
   "cell_type": "markdown",
   "id": "f2ff0a12",
   "metadata": {},
   "source": [
    "* Q12) xgboost 모델에 대해서 <br>\n",
    "1. 기본 파라미터에 대해서 cross_val_score을 통한(x_train, y_train, 앞에서 지정한 k-fold) 결과를 확인\n",
    "2. RandomizedSearchCV, GridSearchCV를 수행하여 최적의 모델을 찾으세요<br>\n",
    "3. 2번의 최적의 모델의 성능과 x_val,y_val에 대해서의 성능을 비교하세요"
   ]
  },
  {
   "cell_type": "code",
   "execution_count": 394,
   "id": "a10a2a2b",
   "metadata": {},
   "outputs": [],
   "source": [
    "from xgboost import XGBClassifier"
   ]
  },
  {
   "cell_type": "code",
   "execution_count": 395,
   "id": "0d52a79e",
   "metadata": {},
   "outputs": [
    {
     "name": "stdout",
     "output_type": "stream",
     "text": [
      "Xgboost 0째번 검증 정확도 : 0.8182\n",
      "Xgboost 1째번 검증 정확도 : 0.8114\n",
      "Xgboost 2째번 검증 정확도 : 0.7980\n",
      "Xgboost 3째번 검증 정확도 : 0.8418\n",
      "Xgboost 4째번 검증 정확도 : 0.7946\n",
      "Xgboost 5째번 검증 정확도 : 0.7946\n",
      "Xgboost 6째번 검증 정확도 : 0.8283\n",
      "Xgboost 7째번 검증 정확도 : 0.8384\n",
      "Xgboost 8째번 검증 정확도 : 0.8148\n",
      "Xgboost 9째번 검증 정확도 : 0.8148\n",
      "Xgboost 10째번 검증 정확도 : 0.8350\n",
      "Xgboost 11째번 검증 정확도 : 0.8114\n",
      "Xgboost의 kfold 평균 정확도 : 0.8167789001122335\n"
     ]
    }
   ],
   "source": [
    "xgbc = XGBClassifier(n_jobs = -1,\n",
    "                    use_label_encoder=False,\n",
    "                    eval_metric = \"error\",\n",
    "                    objective = \"binary:logistic\",\n",
    "                    random_state = 1234\n",
    "                    )\n",
    "\n",
    "for iter_count, acc in enumerate(scores):\n",
    "    print(\"Xgboost {0}째번 검증 정확도 : {1:.4f}\".format(iter_count, acc))\n",
    "print(\"Xgboost의 kfold 평균 정확도 :\", scores.mean())\n"
   ]
  },
  {
   "cell_type": "code",
   "execution_count": 396,
   "id": "5647f8d8",
   "metadata": {},
   "outputs": [
    {
     "name": "stdout",
     "output_type": "stream",
     "text": [
      "Fitting 12 folds for each of 10 candidates, totalling 120 fits\n"
     ]
    },
    {
     "data": {
      "text/plain": [
       "RandomizedSearchCV(cv=RepeatedStratifiedKFold(n_repeats=4, n_splits=3, random_state=1234),\n",
       "                   estimator=XGBClassifier(base_score=None, booster=None,\n",
       "                                           colsample_bylevel=None,\n",
       "                                           colsample_bynode=None,\n",
       "                                           colsample_bytree=None,\n",
       "                                           eval_metric='error', gamma=None,\n",
       "                                           gpu_id=None, importance_type='gain',\n",
       "                                           interaction_constraints=None,\n",
       "                                           learning_rate=None,\n",
       "                                           max_delta_step=None, max_dept...\n",
       "                   param_distributions={'booster': ['gbtree', 'gblinear',\n",
       "                                                    'dart'],\n",
       "                                        'colsample_bytree': [0.3, 0.5, 0.7,\n",
       "                                                             0.9],\n",
       "                                        'learning_rate': [0.1, 0.3, 0.8],\n",
       "                                        'max_depth': [2, 4, 6, 8, 10, 20],\n",
       "                                        'min_child_weight': [0.5, 1, 5],\n",
       "                                        'n_estimators': [10, 50, 100, 200, 500],\n",
       "                                        'reg_alpha': [0, 0.01, 0.1, 0.5, 1, 10,\n",
       "                                                      0.001],\n",
       "                                        'reg_lambda': [0, 0.01, 0.1, 0.5, 1, 10,\n",
       "                                                       0.001],\n",
       "                                        'subsample': [0.3, 0.5, 0.7, 0.9]},\n",
       "                   random_state=1234, scoring='accuracy', verbose=3)"
      ]
     },
     "execution_count": 396,
     "metadata": {},
     "output_type": "execute_result"
    }
   ],
   "source": [
    "xgbc = XGBClassifier(n_jobs = -1,\n",
    "                    use_label_encoder=False,\n",
    "                    eval_metric = \"error\",\n",
    "                    objective = \"binary:logistic\",\n",
    "                    random_state = 1234\n",
    "                    )\n",
    "# xgboost : 에러 줄일때 사용\n",
    "parameters = {\n",
    "    \"booster\": [\"gbtree\",\"gblinear\",\"dart\"],#이어달리기 할 친구 스타일(tree base). \n",
    "    \"n_estimators\":[10,50,100,200,500], #이어달리기 몇명이서\n",
    "    \"learning_rate\" : [0.1,0.3,0.8], # 숫자가 너무 작으면 섬세하게 봐서 시간 오래걸림\n",
    "    \n",
    "    # tree 모델이 가지고 있는 부분 조절 (tree베이스 이기 때문에 overfit 주의)\n",
    "    \"max_depth\": [2,4,6,8,10,20],\n",
    "    \"min_child_weight\":[0.5,1,5],\n",
    "    \"subsample\": [0.3,0.5,0.7,0.9],\n",
    "    \"colsample_bytree\": [0.3,0.5,0.7,0.9],\n",
    "    \n",
    "    # 규약\n",
    "    \"reg_alpha\": [0,0.01,0.1,0.5,1,10,0.001],\n",
    "    \"reg_lambda\": [0,0.01,0.1,0.5,1,10,0.001]\n",
    "    \n",
    "}\n",
    "\n",
    "\n",
    "n_iter_search = 10\n",
    "\n",
    "xgbc_rskf_rgs = RandomizedSearchCV(\n",
    "    xgbc,\n",
    "    param_distributions=parameters,\n",
    "    cv = rskfold,  ####  변경!!!\n",
    "    scoring=\"accuracy\",\n",
    "    n_jobs= -1, \n",
    "    random_state=1234,\n",
    "    n_iter=n_iter_search,\n",
    "    verbose = 3\n",
    ")\n",
    "\n",
    "# 데이터 타입을 사용하는 버전에 따라 수정이 필요할 수 있음.\n",
    "# np를 사용해서 값만 집어넣어야 가능한 경우가 있음\n",
    "xgbc_rskf_rgs.fit(x_train_data,y_train_data)\n",
    "\n"
   ]
  },
  {
   "cell_type": "code",
   "execution_count": 397,
   "id": "de1d4ac5",
   "metadata": {},
   "outputs": [
    {
     "data": {
      "text/plain": [
       "0.8229517396184062"
      ]
     },
     "execution_count": 397,
     "metadata": {},
     "output_type": "execute_result"
    }
   ],
   "source": [
    "xgbc_rskf_rgs.best_score_"
   ]
  },
  {
   "cell_type": "code",
   "execution_count": 398,
   "id": "d3269f7f",
   "metadata": {},
   "outputs": [
    {
     "name": "stdout",
     "output_type": "stream",
     "text": [
      "0.88268156424581\n"
     ]
    }
   ],
   "source": [
    "xgbc_rskf_rgs_best = xgbc_rskf_rgs.best_estimator_\n",
    "xgbc_rskf_rgs_ypred = xgbc_rskf_rgs_best.predict(x_val)\n",
    "xgbc_rskf_rgs_acc = accuracy_score(y_val,xgbc_rskf_rgs_ypred)\n",
    "print(xgbc_rskf_rgs_acc)"
   ]
  },
  {
   "cell_type": "code",
   "execution_count": null,
   "id": "a9bb1c9a",
   "metadata": {},
   "outputs": [],
   "source": [
    "xgbc = XGBClassifier(n_jobs=-1,\n",
    "                    use_label_encoder=False,\n",
    "                    eval_metric =\"error\",\n",
    "                    objective = \"binary:logistic\",\n",
    "                    random_state = 1234,\n",
    "                    verbosity=3)\n",
    "\n",
    "parameters = {\n",
    "    # 이어 달리기를 할 친구 스타일!!! -> tree -> overfit!!!!!\n",
    "    \"booster\":[ \"gbtree\", \"gblinear\",\"dart\"],\n",
    "    \n",
    "    # 몇 명을 뽑아서 이어달리기를 할지,\n",
    "    # 이어달리기를 하는 과정을 얼마나 디테일하게 할지...\n",
    "    \"n_estimators\" : [100,200],\n",
    "    \"learning_rate\" : [0.1 ,0.2],\n",
    "    \n",
    "    # tree 모델이 가지고 있는 부분을 조절!!!!!!!\n",
    "    \"max_depth\":[5,6,7],\n",
    "    \"min_child_weight\":[ 0.4, 0.5, 0.6],\n",
    "    \"subsample\":[0.6, 0.65,0.7,0.75],\n",
    "    \"colsample_bytree\":[0.9, 0.91, 0.89,],\n",
    "    \n",
    "    # 규약\n",
    "    \"reg_alpha\" : [0,1, 0.9, 1, 1.2],\n",
    "    \"reg_lambda\" :  [0,0.5,0.45, 0.55]\n",
    "    \n",
    "}\n",
    "\n",
    "xgbc_rskf_gs = GridSearchCV(\n",
    "    xgbc,\n",
    "    param_grid=parameters,\n",
    "    cv = rskfold,  ####  변경!!!\n",
    "    scoring=\"accuracy\",\n",
    "    n_jobs= -1, \n",
    "    verbose=3\n",
    ") \n",
    "xgbc_rskf_gs.fit(x_train_data, y_train_data)"
   ]
  },
  {
   "cell_type": "code",
   "execution_count": null,
   "id": "f23782c7",
   "metadata": {},
   "outputs": [],
   "source": [
    "xgbc_rskf_gs_best = xgbc_rskf_gs.best_estimator_\n",
    "xgbc_rskf_gs_ypred = xgbc_rskf_gs_best.predict(x_val)\n",
    "xgbc_rskf_gs_acc = accuracy_score(y_val,xgbc_rskf_gs_ypred)\n",
    "print(xgbc_rskf_gs_acc)"
   ]
  },
  {
   "cell_type": "markdown",
   "id": "cc1f97ae",
   "metadata": {},
   "source": [
    "* Q13) Voting 모델을 만들어 보세요( 가중치나 모델 수는 개인 자유).<br>\n",
    "- voting 모델의 성능과 x_val, y_val에 대해서 성능을 비교하세요."
   ]
  },
  {
   "cell_type": "code",
   "execution_count": 400,
   "id": "eddee5e1",
   "metadata": {},
   "outputs": [],
   "source": [
    "from sklearn.ensemble import VotingClassifier"
   ]
  },
  {
   "cell_type": "code",
   "execution_count": 401,
   "id": "7c805089",
   "metadata": {},
   "outputs": [
    {
     "name": "stdout",
     "output_type": "stream",
     "text": [
      "3 models Voting Results : 0.88268156424581\n"
     ]
    }
   ],
   "source": [
    "ensemble_clf_soft = VotingClassifier(\n",
    "    estimators=[ (\"rf\",rf_rskf_rgs_best), (\"lgbm\",lgbm_rskf_rgs_best), (\"xg\",xgbc_rskf_rgs_best) ], \n",
    "    voting=\"hard\",\n",
    ")\n",
    "\n",
    "ensemble_clf_soft.fit(x_train_data,y_train_data)\n",
    "ensemble_clf_soft_pred = ensemble_clf_soft.predict(x_val)\n",
    "print(\"3 models Voting Results :\", accuracy_score(y_val,ensemble_clf_soft_pred ))\n"
   ]
  },
  {
   "cell_type": "code",
   "execution_count": null,
   "id": "b3e629a9",
   "metadata": {},
   "outputs": [],
   "source": []
  },
  {
   "cell_type": "markdown",
   "id": "6bc20884",
   "metadata": {},
   "source": [
    "* Q14) 지금까지 만드신 모델을 바탕으로 보팅이나 여러가지 방법으로 최종 모델을 선정하시고, x_test에 대해서 적용해서 kaggle에 직접 업로드를 하시고, 그 중 제일 좋은 모델과 성능을 캡쳐해서 노트북 파일에 첨부해주세요! (아래 코드를 참조하셔서 캡쳐하신 파일을 png로 하시고, 아래와 같이 캡쳐해서 올려주세요~)"
   ]
  },
  {
   "cell_type": "code",
   "execution_count": null,
   "id": "e4fb5dce",
   "metadata": {},
   "outputs": [],
   "source": [
    "* 성능 가장 좋은거 lightgbm"
   ]
  },
  {
   "cell_type": "code",
   "execution_count": 408,
   "id": "afbc5408",
   "metadata": {
    "scrolled": true
   },
   "outputs": [
    {
     "name": "stdout",
     "output_type": "stream",
     "text": [
      "0.8994413407821229\n"
     ]
    }
   ],
   "source": [
    "lgbm_rskf_rgs_best = lgbm_rskf_rgs.best_estimator_\n",
    "lgbm_rskf_rgs_ypred = lgbm_rskf_rgs_best.predict(x_val)\n",
    "lgbm_rskf_rgs_acc = accuracy_score(y_val,lgbm_rskf_rgs_ypred)\n",
    "print(lgbm_rskf_rgs_acc)"
   ]
  },
  {
   "cell_type": "code",
   "execution_count": 409,
   "id": "4aabdd73",
   "metadata": {},
   "outputs": [],
   "source": [
    "ypred = lgbm_rskf_rgs_best.predict(test)\n"
   ]
  },
  {
   "cell_type": "code",
   "execution_count": 410,
   "id": "4a1d701d",
   "metadata": {},
   "outputs": [
    {
     "data": {
      "text/plain": [
       "array([0, 0, 0, 0, 0, 0, 0, 0, 1, 0, 0, 0, 1, 0, 1, 1, 0, 0, 1, 0, 0, 0,\n",
       "       1, 1, 1, 0, 1, 0, 1, 0, 0, 0, 0, 0, 1, 0, 0, 0, 0, 1, 0, 1, 0, 1,\n",
       "       1, 0, 0, 1, 1, 1, 1, 0, 1, 1, 1, 0, 0, 0, 0, 1, 0, 0, 0, 1, 1, 1,\n",
       "       1, 0, 0, 1, 1, 0, 1, 0, 1, 1, 0, 1, 0, 1, 1, 0, 0, 0, 0, 0, 1, 1,\n",
       "       1, 1, 0, 1, 1, 0, 0, 0, 1, 0, 1, 0, 1, 0, 1, 0, 1, 0, 0, 1, 0, 0,\n",
       "       0, 1, 1, 1, 1, 0, 0, 1, 1, 1, 1, 0, 1, 0, 1, 1, 0, 1, 0, 0, 0, 0,\n",
       "       0, 0, 0, 0, 0, 0, 0, 0, 0, 1, 0, 0, 1, 0, 0, 0, 1, 0, 1, 0, 0, 0,\n",
       "       0, 0, 1, 1, 1, 0, 1, 1, 1, 0, 0, 0, 0, 0, 1, 0, 0, 0, 0, 0, 0, 1,\n",
       "       1, 0, 1, 1, 0, 1, 1, 1, 1, 0, 1, 0, 0, 0, 0, 0, 0, 0, 1, 0, 1, 0,\n",
       "       0, 1, 1, 1, 0, 1, 0, 0, 0, 0, 1, 0, 0, 0, 0, 1, 0, 0, 1, 0, 1, 0,\n",
       "       1, 0, 1, 0, 1, 1, 0, 1, 0, 0, 0, 1, 0, 0, 1, 0, 0, 0, 1, 1, 1, 1,\n",
       "       0, 0, 0, 0, 1, 0, 1, 0, 1, 0, 1, 0, 0, 0, 1, 0, 1, 0, 0, 0, 1, 1,\n",
       "       0, 0, 1, 0, 0, 0, 0, 1, 1, 1, 0, 1, 0, 0, 0, 0, 0, 1, 1, 0, 1, 0,\n",
       "       0, 0, 0, 0, 0, 0, 0, 0, 0, 0, 1, 0, 0, 0, 0, 0, 0, 0, 1, 1, 0, 1,\n",
       "       0, 0, 0, 0, 0, 0, 1, 1, 0, 0, 0, 0, 0, 0, 0, 1, 1, 0, 1, 0, 0, 0,\n",
       "       1, 0, 0, 1, 0, 0, 1, 0, 1, 0, 0, 0, 0, 1, 0, 1, 0, 0, 0, 1, 1, 0,\n",
       "       0, 0, 1, 0, 1, 0, 1, 1, 0, 1, 1, 0, 1, 0, 0, 0, 1, 1, 0, 1, 0, 0,\n",
       "       1, 1, 0, 0, 0, 1, 1, 0, 0, 1, 0, 1, 0, 0, 0, 0, 0, 1, 1, 0, 0, 1,\n",
       "       0, 1, 0, 0, 1, 0, 1, 0, 0, 0, 0, 0, 1, 1, 1, 1, 1, 0, 1, 0, 0, 0],\n",
       "      dtype=int64)"
      ]
     },
     "execution_count": 410,
     "metadata": {},
     "output_type": "execute_result"
    }
   ],
   "source": [
    "ypred"
   ]
  },
  {
   "cell_type": "code",
   "execution_count": 403,
   "id": "571c2339",
   "metadata": {},
   "outputs": [
    {
     "data": {
      "text/plain": [
       "0       892\n",
       "1       893\n",
       "2       894\n",
       "3       895\n",
       "4       896\n",
       "       ... \n",
       "413    1305\n",
       "414    1306\n",
       "415    1307\n",
       "416    1308\n",
       "417    1309\n",
       "Name: PassengerId, Length: 418, dtype: int64"
      ]
     },
     "execution_count": 403,
     "metadata": {},
     "output_type": "execute_result"
    }
   ],
   "source": [
    "# kaggle제출 준비\n",
    "test_temp = pd.read_csv(\"data/titanic_test.csv\")\n",
    "test_id = test_temp[\"PassengerId\"]\n",
    "test_id"
   ]
  },
  {
   "cell_type": "code",
   "execution_count": 411,
   "id": "cf64c7e2",
   "metadata": {},
   "outputs": [],
   "source": [
    "my_submission = pd.DataFrame()\n",
    "my_submission['PassengerId'] = test_id\n",
    "my_submission['Survived'] = ypred\n",
    "my_submission.to_csv('gender_submission.csv',index=False)\n"
   ]
  },
  {
   "cell_type": "code",
   "execution_count": 405,
   "id": "05362257",
   "metadata": {},
   "outputs": [],
   "source": [
    "from IPython.display import Image"
   ]
  },
  {
   "cell_type": "code",
   "execution_count": 412,
   "id": "35a5379d",
   "metadata": {},
   "outputs": [
    {
     "data": {
      "image/png": "[encoded data removed]",
      "text/plain": [
       "<IPython.core.display.Image object>"
      ]
     },
     "execution_count": 412,
     "metadata": {},
     "output_type": "execute_result"
    }
   ],
   "source": [
    "Image(\"kaggle.png\")"
   ]
  },
  {
   "cell_type": "code",
   "execution_count": null,
   "id": "d36c4e41",
   "metadata": {},
   "outputs": [],
   "source": []
  },
  {
   "cell_type": "markdown",
   "id": "fd7faada",
   "metadata": {},
   "source": [
    "Q15) RF, LightGBM, Xgboost 본인 모델의 주요한 변수들이 무엇들인지 중요도 순서대로 그래프로 보이고, 중요하다고 생각되는 변수들을 추려서 LightGBM 모델을 만드세요. "
   ]
  },
  {
   "cell_type": "code",
   "execution_count": null,
   "id": "d0eefb0e",
   "metadata": {},
   "outputs": [],
   "source": []
  },
  {
   "cell_type": "markdown",
   "id": "1d2fa776",
   "metadata": {},
   "source": [
    "Q16) 본인이 만든 기존의 LightGBM 모델과 중요하다고 생각되는 변수들을 선택해서 변수를 본인이 줄여서 한 LightGBM과의 모델의 성능을 비교하세요"
   ]
  },
  {
   "cell_type": "code",
   "execution_count": null,
   "id": "ce96eded",
   "metadata": {},
   "outputs": [],
   "source": []
  }
 ],
 "metadata": {
  "kernelspec": {
   "display_name": "Python 3",
   "language": "python",
   "name": "python3"
  },
  "language_info": {
   "codemirror_mode": {
    "name": "ipython",
    "version": 3
   },
   "file_extension": ".py",
   "mimetype": "text/x-python",
   "name": "python",
   "nbconvert_exporter": "python",
   "pygments_lexer": "ipython3",
   "version": "3.8.8"
  }
 },
 "nbformat": 4,
 "nbformat_minor": 5
}
