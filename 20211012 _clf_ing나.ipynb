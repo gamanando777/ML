{
 "cells": [
  {
   "cell_type": "code",
   "execution_count": 1,
   "id": "285c14c0",
   "metadata": {},
   "outputs": [],
   "source": [
    "import numpy as np\n",
    "import pandas as pd\n",
    "import matplotlib.pyplot as plt"
   ]
  },
  {
   "cell_type": "code",
   "execution_count": 2,
   "id": "ce48285a",
   "metadata": {},
   "outputs": [
    {
     "data": {
      "text/html": [
       "<div>\n",
       "<style scoped>\n",
       "    .dataframe tbody tr th:only-of-type {\n",
       "        vertical-align: middle;\n",
       "    }\n",
       "\n",
       "    .dataframe tbody tr th {\n",
       "        vertical-align: top;\n",
       "    }\n",
       "\n",
       "    .dataframe thead th {\n",
       "        text-align: right;\n",
       "    }\n",
       "</style>\n",
       "<table border=\"1\" class=\"dataframe\">\n",
       "  <thead>\n",
       "    <tr style=\"text-align: right;\">\n",
       "      <th></th>\n",
       "      <th>PassengerId</th>\n",
       "      <th>Survived</th>\n",
       "      <th>Pclass</th>\n",
       "      <th>Name</th>\n",
       "      <th>Sex</th>\n",
       "      <th>Age</th>\n",
       "      <th>SibSp</th>\n",
       "      <th>Parch</th>\n",
       "      <th>Ticket</th>\n",
       "      <th>Fare</th>\n",
       "      <th>Cabin</th>\n",
       "      <th>Embarked</th>\n",
       "    </tr>\n",
       "  </thead>\n",
       "  <tbody>\n",
       "    <tr>\n",
       "      <th>0</th>\n",
       "      <td>1</td>\n",
       "      <td>0</td>\n",
       "      <td>3</td>\n",
       "      <td>Braund, Mr. Owen Harris</td>\n",
       "      <td>male</td>\n",
       "      <td>22.0</td>\n",
       "      <td>1</td>\n",
       "      <td>0</td>\n",
       "      <td>A/5 21171</td>\n",
       "      <td>7.2500</td>\n",
       "      <td>NaN</td>\n",
       "      <td>S</td>\n",
       "    </tr>\n",
       "    <tr>\n",
       "      <th>1</th>\n",
       "      <td>2</td>\n",
       "      <td>1</td>\n",
       "      <td>1</td>\n",
       "      <td>Cumings, Mrs. John Bradley (Florence Briggs Th...</td>\n",
       "      <td>female</td>\n",
       "      <td>38.0</td>\n",
       "      <td>1</td>\n",
       "      <td>0</td>\n",
       "      <td>PC 17599</td>\n",
       "      <td>71.2833</td>\n",
       "      <td>C85</td>\n",
       "      <td>C</td>\n",
       "    </tr>\n",
       "    <tr>\n",
       "      <th>2</th>\n",
       "      <td>3</td>\n",
       "      <td>1</td>\n",
       "      <td>3</td>\n",
       "      <td>Heikkinen, Miss. Laina</td>\n",
       "      <td>female</td>\n",
       "      <td>26.0</td>\n",
       "      <td>0</td>\n",
       "      <td>0</td>\n",
       "      <td>STON/O2. 3101282</td>\n",
       "      <td>7.9250</td>\n",
       "      <td>NaN</td>\n",
       "      <td>S</td>\n",
       "    </tr>\n",
       "    <tr>\n",
       "      <th>3</th>\n",
       "      <td>4</td>\n",
       "      <td>1</td>\n",
       "      <td>1</td>\n",
       "      <td>Futrelle, Mrs. Jacques Heath (Lily May Peel)</td>\n",
       "      <td>female</td>\n",
       "      <td>35.0</td>\n",
       "      <td>1</td>\n",
       "      <td>0</td>\n",
       "      <td>113803</td>\n",
       "      <td>53.1000</td>\n",
       "      <td>C123</td>\n",
       "      <td>S</td>\n",
       "    </tr>\n",
       "    <tr>\n",
       "      <th>4</th>\n",
       "      <td>5</td>\n",
       "      <td>0</td>\n",
       "      <td>3</td>\n",
       "      <td>Allen, Mr. William Henry</td>\n",
       "      <td>male</td>\n",
       "      <td>35.0</td>\n",
       "      <td>0</td>\n",
       "      <td>0</td>\n",
       "      <td>373450</td>\n",
       "      <td>8.0500</td>\n",
       "      <td>NaN</td>\n",
       "      <td>S</td>\n",
       "    </tr>\n",
       "  </tbody>\n",
       "</table>\n",
       "</div>"
      ],
      "text/plain": [
       "   PassengerId  Survived  Pclass  \\\n",
       "0            1         0       3   \n",
       "1            2         1       1   \n",
       "2            3         1       3   \n",
       "3            4         1       1   \n",
       "4            5         0       3   \n",
       "\n",
       "                                                Name     Sex   Age  SibSp  \\\n",
       "0                            Braund, Mr. Owen Harris    male  22.0      1   \n",
       "1  Cumings, Mrs. John Bradley (Florence Briggs Th...  female  38.0      1   \n",
       "2                             Heikkinen, Miss. Laina  female  26.0      0   \n",
       "3       Futrelle, Mrs. Jacques Heath (Lily May Peel)  female  35.0      1   \n",
       "4                           Allen, Mr. William Henry    male  35.0      0   \n",
       "\n",
       "   Parch            Ticket     Fare Cabin Embarked  \n",
       "0      0         A/5 21171   7.2500   NaN        S  \n",
       "1      0          PC 17599  71.2833   C85        C  \n",
       "2      0  STON/O2. 3101282   7.9250   NaN        S  \n",
       "3      0            113803  53.1000  C123        S  \n",
       "4      0            373450   8.0500   NaN        S  "
      ]
     },
     "execution_count": 2,
     "metadata": {},
     "output_type": "execute_result"
    }
   ],
   "source": [
    "data = pd.read_csv(\"data/titanic_train.csv\")\n",
    "data.head()"
   ]
  },
  {
   "cell_type": "markdown",
   "id": "2551fce3",
   "metadata": {},
   "source": [
    "* 보통은 EDA과정을 먼저 해야 하지만, 지금은 지난번에 했으니 생략하고 모델을 돌리기에 필요한 부분만 진행"
   ]
  },
  {
   "cell_type": "code",
   "execution_count": 4,
   "id": "ef66855f",
   "metadata": {},
   "outputs": [
    {
     "name": "stdout",
     "output_type": "stream",
     "text": [
      "<class 'pandas.core.frame.DataFrame'>\n",
      "RangeIndex: 891 entries, 0 to 890\n",
      "Data columns (total 12 columns):\n",
      " #   Column       Non-Null Count  Dtype  \n",
      "---  ------       --------------  -----  \n",
      " 0   PassengerId  891 non-null    int64  \n",
      " 1   Survived     891 non-null    int64  \n",
      " 2   Pclass       891 non-null    int64  \n",
      " 3   Name         891 non-null    object \n",
      " 4   Sex          891 non-null    object \n",
      " 5   Age          714 non-null    float64\n",
      " 6   SibSp        891 non-null    int64  \n",
      " 7   Parch        891 non-null    int64  \n",
      " 8   Ticket       891 non-null    object \n",
      " 9   Fare         891 non-null    float64\n",
      " 10  Cabin        204 non-null    object \n",
      " 11  Embarked     889 non-null    object \n",
      "dtypes: float64(2), int64(5), object(5)\n",
      "memory usage: 83.7+ KB\n"
     ]
    }
   ],
   "source": [
    "data.info()"
   ]
  },
  {
   "cell_type": "code",
   "execution_count": 3,
   "id": "1ac58b43",
   "metadata": {},
   "outputs": [
    {
     "name": "stdout",
     "output_type": "stream",
     "text": [
      "PassengerId: 0.0 %\n",
      "Survived: 0.0 %\n",
      "Pclass: 0.0 %\n",
      "Name: 0.0 %\n",
      "Sex: 0.0 %\n",
      "Age: 0.19865319865319866 %\n",
      "SibSp: 0.0 %\n",
      "Parch: 0.0 %\n",
      "Ticket: 0.0 %\n",
      "Fare: 0.0 %\n",
      "Cabin: 0.7710437710437711 %\n",
      "Embarked: 0.002244668911335578 %\n"
     ]
    }
   ],
   "source": [
    "for col in data.columns:\n",
    "    print(str(col)+\":\",data[col].isnull().sum()/data.shape[0],\"%\")"
   ]
  },
  {
   "cell_type": "markdown",
   "id": "4335bc0b",
   "metadata": {},
   "source": [
    "## 빵꾸난 값을 채우자"
   ]
  },
  {
   "cell_type": "code",
   "execution_count": 3,
   "id": "a25e8208",
   "metadata": {},
   "outputs": [],
   "source": [
    "# 널값을 알았으니 채우자. fillna\n",
    "# fillna 는 한개의 값으로만 채울 수 있음. \n",
    "# 널값을 어떻게 채우느냐에 따라 결과가 달라질 수 있음. \n",
    "data[\"Age\"].fillna(data[\"Age\"].mean(),inplace=True)"
   ]
  },
  {
   "cell_type": "code",
   "execution_count": 5,
   "id": "792beb82",
   "metadata": {},
   "outputs": [
    {
     "data": {
      "text/plain": [
       "0"
      ]
     },
     "execution_count": 5,
     "metadata": {},
     "output_type": "execute_result"
    }
   ],
   "source": [
    "# 널값 데이터 총 개수 확인. \n",
    "data['Age'].isnull().sum()"
   ]
  },
  {
   "cell_type": "code",
   "execution_count": 10,
   "id": "855d2465",
   "metadata": {},
   "outputs": [
    {
     "name": "stdout",
     "output_type": "stream",
     "text": [
      "<class 'pandas.core.frame.DataFrame'>\n",
      "RangeIndex: 891 entries, 0 to 890\n",
      "Data columns (total 12 columns):\n",
      " #   Column       Non-Null Count  Dtype  \n",
      "---  ------       --------------  -----  \n",
      " 0   PassengerId  891 non-null    int64  \n",
      " 1   Survived     891 non-null    int64  \n",
      " 2   Pclass       891 non-null    int64  \n",
      " 3   Name         891 non-null    object \n",
      " 4   Sex          891 non-null    object \n",
      " 5   Age          891 non-null    float64\n",
      " 6   SibSp        891 non-null    int64  \n",
      " 7   Parch        891 non-null    int64  \n",
      " 8   Ticket       891 non-null    object \n",
      " 9   Fare         891 non-null    float64\n",
      " 10  Cabin        204 non-null    object \n",
      " 11  Embarked     889 non-null    object \n",
      "dtypes: float64(2), int64(5), object(5)\n",
      "memory usage: 83.7+ KB\n"
     ]
    }
   ],
   "source": [
    "data.info()"
   ]
  },
  {
   "cell_type": "code",
   "execution_count": 4,
   "id": "8249d7dc",
   "metadata": {},
   "outputs": [],
   "source": [
    "# Cabin, Embarked 컬럼의 빈 값을 특정한 값으로 채울 때,\n",
    "# 카테고리 변수.\n",
    "# 빠진값들은 값이 없다는 것을 의미하기 위해서 .\"N\" 으로 채울 것.\n",
    "data[\"Cabin\"].fillna(\"N\",inplace=True)\n",
    "data[\"Embarked\"].fillna(\"N\",inplace=True)"
   ]
  },
  {
   "cell_type": "code",
   "execution_count": 5,
   "id": "fa803c27",
   "metadata": {},
   "outputs": [
    {
     "data": {
      "text/plain": [
       "0"
      ]
     },
     "execution_count": 5,
     "metadata": {},
     "output_type": "execute_result"
    }
   ],
   "source": [
    "data.isnull().sum()\n",
    "data.isnull().sum().sum()  # 널값 다 없앰."
   ]
  },
  {
   "cell_type": "code",
   "execution_count": 16,
   "id": "4f93a5c5",
   "metadata": {},
   "outputs": [
    {
     "data": {
      "text/html": [
       "<div>\n",
       "<style scoped>\n",
       "    .dataframe tbody tr th:only-of-type {\n",
       "        vertical-align: middle;\n",
       "    }\n",
       "\n",
       "    .dataframe tbody tr th {\n",
       "        vertical-align: top;\n",
       "    }\n",
       "\n",
       "    .dataframe thead th {\n",
       "        text-align: right;\n",
       "    }\n",
       "</style>\n",
       "<table border=\"1\" class=\"dataframe\">\n",
       "  <thead>\n",
       "    <tr style=\"text-align: right;\">\n",
       "      <th></th>\n",
       "      <th>PassengerId</th>\n",
       "      <th>Survived</th>\n",
       "      <th>Pclass</th>\n",
       "      <th>Name</th>\n",
       "      <th>Sex</th>\n",
       "      <th>Age</th>\n",
       "      <th>SibSp</th>\n",
       "      <th>Parch</th>\n",
       "      <th>Ticket</th>\n",
       "      <th>Fare</th>\n",
       "      <th>Cabin</th>\n",
       "      <th>Embarked</th>\n",
       "    </tr>\n",
       "  </thead>\n",
       "  <tbody>\n",
       "    <tr>\n",
       "      <th>0</th>\n",
       "      <td>1</td>\n",
       "      <td>0</td>\n",
       "      <td>3</td>\n",
       "      <td>Braund, Mr. Owen Harris</td>\n",
       "      <td>male</td>\n",
       "      <td>22.0</td>\n",
       "      <td>1</td>\n",
       "      <td>0</td>\n",
       "      <td>A/5 21171</td>\n",
       "      <td>7.2500</td>\n",
       "      <td>N</td>\n",
       "      <td>S</td>\n",
       "    </tr>\n",
       "    <tr>\n",
       "      <th>1</th>\n",
       "      <td>2</td>\n",
       "      <td>1</td>\n",
       "      <td>1</td>\n",
       "      <td>Cumings, Mrs. John Bradley (Florence Briggs Th...</td>\n",
       "      <td>female</td>\n",
       "      <td>38.0</td>\n",
       "      <td>1</td>\n",
       "      <td>0</td>\n",
       "      <td>PC 17599</td>\n",
       "      <td>71.2833</td>\n",
       "      <td>C85</td>\n",
       "      <td>C</td>\n",
       "    </tr>\n",
       "    <tr>\n",
       "      <th>2</th>\n",
       "      <td>3</td>\n",
       "      <td>1</td>\n",
       "      <td>3</td>\n",
       "      <td>Heikkinen, Miss. Laina</td>\n",
       "      <td>female</td>\n",
       "      <td>26.0</td>\n",
       "      <td>0</td>\n",
       "      <td>0</td>\n",
       "      <td>STON/O2. 3101282</td>\n",
       "      <td>7.9250</td>\n",
       "      <td>N</td>\n",
       "      <td>S</td>\n",
       "    </tr>\n",
       "    <tr>\n",
       "      <th>3</th>\n",
       "      <td>4</td>\n",
       "      <td>1</td>\n",
       "      <td>1</td>\n",
       "      <td>Futrelle, Mrs. Jacques Heath (Lily May Peel)</td>\n",
       "      <td>female</td>\n",
       "      <td>35.0</td>\n",
       "      <td>1</td>\n",
       "      <td>0</td>\n",
       "      <td>113803</td>\n",
       "      <td>53.1000</td>\n",
       "      <td>C123</td>\n",
       "      <td>S</td>\n",
       "    </tr>\n",
       "    <tr>\n",
       "      <th>4</th>\n",
       "      <td>5</td>\n",
       "      <td>0</td>\n",
       "      <td>3</td>\n",
       "      <td>Allen, Mr. William Henry</td>\n",
       "      <td>male</td>\n",
       "      <td>35.0</td>\n",
       "      <td>0</td>\n",
       "      <td>0</td>\n",
       "      <td>373450</td>\n",
       "      <td>8.0500</td>\n",
       "      <td>N</td>\n",
       "      <td>S</td>\n",
       "    </tr>\n",
       "  </tbody>\n",
       "</table>\n",
       "</div>"
      ],
      "text/plain": [
       "   PassengerId  Survived  Pclass  \\\n",
       "0            1         0       3   \n",
       "1            2         1       1   \n",
       "2            3         1       3   \n",
       "3            4         1       1   \n",
       "4            5         0       3   \n",
       "\n",
       "                                                Name     Sex   Age  SibSp  \\\n",
       "0                            Braund, Mr. Owen Harris    male  22.0      1   \n",
       "1  Cumings, Mrs. John Bradley (Florence Briggs Th...  female  38.0      1   \n",
       "2                             Heikkinen, Miss. Laina  female  26.0      0   \n",
       "3       Futrelle, Mrs. Jacques Heath (Lily May Peel)  female  35.0      1   \n",
       "4                           Allen, Mr. William Henry    male  35.0      0   \n",
       "\n",
       "   Parch            Ticket     Fare Cabin Embarked  \n",
       "0      0         A/5 21171   7.2500     N        S  \n",
       "1      0          PC 17599  71.2833   C85        C  \n",
       "2      0  STON/O2. 3101282   7.9250     N        S  \n",
       "3      0            113803  53.1000  C123        S  \n",
       "4      0            373450   8.0500     N        S  "
      ]
     },
     "execution_count": 16,
     "metadata": {},
     "output_type": "execute_result"
    }
   ],
   "source": [
    "data.head()"
   ]
  },
  {
   "cell_type": "markdown",
   "id": "3d86938c",
   "metadata": {},
   "source": [
    "## 숫자가 아닌 값들을 숫자로 변경 -> 인코딩"
   ]
  },
  {
   "cell_type": "markdown",
   "id": "cd67179c",
   "metadata": {},
   "source": [
    "* 가장 대표적인 방법인 라벨인코딩, 원핫인코딩"
   ]
  },
  {
   "cell_type": "raw",
   "id": "87e7e451",
   "metadata": {},
   "source": [
    "남자, 여자 --> 0,1\n",
    "-> 종류가 증가하면 필요한 숫자도 늘어남.\n",
    "\n",
    "원핫 인코딩은 \n",
    "    남자 여자\n",
    "남자 1    0\n",
    "여자 0    1\n",
    "-> n까지 종류가 증가.  컬럼으로 n개가 증가. \n",
    "데이터 관점에서는 특징이 증가.-> 차원이 심하게 증가할 수 있음. "
   ]
  },
  {
   "cell_type": "code",
   "execution_count": 6,
   "id": "0beb2837",
   "metadata": {},
   "outputs": [],
   "source": [
    "from sklearn.preprocessing import LabelEncoder"
   ]
  },
  {
   "cell_type": "code",
   "execution_count": 6,
   "id": "ea09ae77",
   "metadata": {},
   "outputs": [],
   "source": [
    "items = [\"티비\",\"냉장고\",\"세탁기\",\"티비\",\"냉장고\"]"
   ]
  },
  {
   "cell_type": "code",
   "execution_count": 7,
   "id": "ba9d841f",
   "metadata": {},
   "outputs": [
    {
     "data": {
      "text/plain": [
       "array([2, 0, 1, 2, 0])"
      ]
     },
     "execution_count": 7,
     "metadata": {},
     "output_type": "execute_result"
    }
   ],
   "source": [
    "label_encoder = LabelEncoder() \n",
    "label_encoder.fit(items) # 규칙을 정했으니\n",
    "label_items = label_encoder.transform(items) # 적용\n",
    "label_items"
   ]
  },
  {
   "cell_type": "code",
   "execution_count": 11,
   "id": "3a8a3376",
   "metadata": {},
   "outputs": [
    {
     "data": {
      "text/plain": [
       "array(['냉장고', '세탁기', '티비'], dtype='<U3')"
      ]
     },
     "execution_count": 11,
     "metadata": {},
     "output_type": "execute_result"
    }
   ],
   "source": [
    "label_encoder.classes_"
   ]
  },
  {
   "cell_type": "code",
   "execution_count": 34,
   "id": "e5339206",
   "metadata": {},
   "outputs": [],
   "source": [
    "test_items = ['티비','냉장고','세탁기','커피포트','냉장고']"
   ]
  },
  {
   "cell_type": "code",
   "execution_count": 36,
   "id": "516b4733",
   "metadata": {
    "collapsed": true
   },
   "outputs": [
    {
     "ename": "ValueError",
     "evalue": "y contains previously unseen labels: '커피포트'",
     "output_type": "error",
     "traceback": [
      "\u001b[1;31m---------------------------------------------------------------------------\u001b[0m",
      "\u001b[1;31mKeyError\u001b[0m                                  Traceback (most recent call last)",
      "\u001b[1;32mC:\\ProgramData\\Anaconda3\\lib\\site-packages\\sklearn\\utils\\_encode.py\u001b[0m in \u001b[0;36m_encode\u001b[1;34m(values, uniques, check_unknown)\u001b[0m\n\u001b[0;32m    177\u001b[0m         \u001b[1;32mtry\u001b[0m\u001b[1;33m:\u001b[0m\u001b[1;33m\u001b[0m\u001b[1;33m\u001b[0m\u001b[0m\n\u001b[1;32m--> 178\u001b[1;33m             \u001b[1;32mreturn\u001b[0m \u001b[0m_map_to_integer\u001b[0m\u001b[1;33m(\u001b[0m\u001b[0mvalues\u001b[0m\u001b[1;33m,\u001b[0m \u001b[0muniques\u001b[0m\u001b[1;33m)\u001b[0m\u001b[1;33m\u001b[0m\u001b[1;33m\u001b[0m\u001b[0m\n\u001b[0m\u001b[0;32m    179\u001b[0m         \u001b[1;32mexcept\u001b[0m \u001b[0mKeyError\u001b[0m \u001b[1;32mas\u001b[0m \u001b[0me\u001b[0m\u001b[1;33m:\u001b[0m\u001b[1;33m\u001b[0m\u001b[1;33m\u001b[0m\u001b[0m\n",
      "\u001b[1;32mC:\\ProgramData\\Anaconda3\\lib\\site-packages\\sklearn\\utils\\_encode.py\u001b[0m in \u001b[0;36m_map_to_integer\u001b[1;34m(values, uniques)\u001b[0m\n\u001b[0;32m    122\u001b[0m     \u001b[0mtable\u001b[0m \u001b[1;33m=\u001b[0m \u001b[0m_nandict\u001b[0m\u001b[1;33m(\u001b[0m\u001b[1;33m{\u001b[0m\u001b[0mval\u001b[0m\u001b[1;33m:\u001b[0m \u001b[0mi\u001b[0m \u001b[1;32mfor\u001b[0m \u001b[0mi\u001b[0m\u001b[1;33m,\u001b[0m \u001b[0mval\u001b[0m \u001b[1;32min\u001b[0m \u001b[0menumerate\u001b[0m\u001b[1;33m(\u001b[0m\u001b[0muniques\u001b[0m\u001b[1;33m)\u001b[0m\u001b[1;33m}\u001b[0m\u001b[1;33m)\u001b[0m\u001b[1;33m\u001b[0m\u001b[1;33m\u001b[0m\u001b[0m\n\u001b[1;32m--> 123\u001b[1;33m     \u001b[1;32mreturn\u001b[0m \u001b[0mnp\u001b[0m\u001b[1;33m.\u001b[0m\u001b[0marray\u001b[0m\u001b[1;33m(\u001b[0m\u001b[1;33m[\u001b[0m\u001b[0mtable\u001b[0m\u001b[1;33m[\u001b[0m\u001b[0mv\u001b[0m\u001b[1;33m]\u001b[0m \u001b[1;32mfor\u001b[0m \u001b[0mv\u001b[0m \u001b[1;32min\u001b[0m \u001b[0mvalues\u001b[0m\u001b[1;33m]\u001b[0m\u001b[1;33m)\u001b[0m\u001b[1;33m\u001b[0m\u001b[1;33m\u001b[0m\u001b[0m\n\u001b[0m\u001b[0;32m    124\u001b[0m \u001b[1;33m\u001b[0m\u001b[0m\n",
      "\u001b[1;32mC:\\ProgramData\\Anaconda3\\lib\\site-packages\\sklearn\\utils\\_encode.py\u001b[0m in \u001b[0;36m<listcomp>\u001b[1;34m(.0)\u001b[0m\n\u001b[0;32m    122\u001b[0m     \u001b[0mtable\u001b[0m \u001b[1;33m=\u001b[0m \u001b[0m_nandict\u001b[0m\u001b[1;33m(\u001b[0m\u001b[1;33m{\u001b[0m\u001b[0mval\u001b[0m\u001b[1;33m:\u001b[0m \u001b[0mi\u001b[0m \u001b[1;32mfor\u001b[0m \u001b[0mi\u001b[0m\u001b[1;33m,\u001b[0m \u001b[0mval\u001b[0m \u001b[1;32min\u001b[0m \u001b[0menumerate\u001b[0m\u001b[1;33m(\u001b[0m\u001b[0muniques\u001b[0m\u001b[1;33m)\u001b[0m\u001b[1;33m}\u001b[0m\u001b[1;33m)\u001b[0m\u001b[1;33m\u001b[0m\u001b[1;33m\u001b[0m\u001b[0m\n\u001b[1;32m--> 123\u001b[1;33m     \u001b[1;32mreturn\u001b[0m \u001b[0mnp\u001b[0m\u001b[1;33m.\u001b[0m\u001b[0marray\u001b[0m\u001b[1;33m(\u001b[0m\u001b[1;33m[\u001b[0m\u001b[0mtable\u001b[0m\u001b[1;33m[\u001b[0m\u001b[0mv\u001b[0m\u001b[1;33m]\u001b[0m \u001b[1;32mfor\u001b[0m \u001b[0mv\u001b[0m \u001b[1;32min\u001b[0m \u001b[0mvalues\u001b[0m\u001b[1;33m]\u001b[0m\u001b[1;33m)\u001b[0m\u001b[1;33m\u001b[0m\u001b[1;33m\u001b[0m\u001b[0m\n\u001b[0m\u001b[0;32m    124\u001b[0m \u001b[1;33m\u001b[0m\u001b[0m\n",
      "\u001b[1;32mC:\\ProgramData\\Anaconda3\\lib\\site-packages\\sklearn\\utils\\_encode.py\u001b[0m in \u001b[0;36m__missing__\u001b[1;34m(self, key)\u001b[0m\n\u001b[0;32m    116\u001b[0m             \u001b[1;32mreturn\u001b[0m \u001b[0mself\u001b[0m\u001b[1;33m.\u001b[0m\u001b[0mnan_value\u001b[0m\u001b[1;33m\u001b[0m\u001b[1;33m\u001b[0m\u001b[0m\n\u001b[1;32m--> 117\u001b[1;33m         \u001b[1;32mraise\u001b[0m \u001b[0mKeyError\u001b[0m\u001b[1;33m(\u001b[0m\u001b[0mkey\u001b[0m\u001b[1;33m)\u001b[0m\u001b[1;33m\u001b[0m\u001b[1;33m\u001b[0m\u001b[0m\n\u001b[0m\u001b[0;32m    118\u001b[0m \u001b[1;33m\u001b[0m\u001b[0m\n",
      "\u001b[1;31mKeyError\u001b[0m: '커피포트'",
      "\nDuring handling of the above exception, another exception occurred:\n",
      "\u001b[1;31mValueError\u001b[0m                                Traceback (most recent call last)",
      "\u001b[1;32m<ipython-input-36-e77accd6b451>\u001b[0m in \u001b[0;36m<module>\u001b[1;34m\u001b[0m\n\u001b[0;32m      1\u001b[0m \u001b[0mlabel_encoder\u001b[0m \u001b[1;33m=\u001b[0m \u001b[0mLabelEncoder\u001b[0m\u001b[1;33m(\u001b[0m\u001b[1;33m)\u001b[0m\u001b[1;33m\u001b[0m\u001b[1;33m\u001b[0m\u001b[0m\n\u001b[0;32m      2\u001b[0m \u001b[0mlabel_encoder\u001b[0m\u001b[1;33m.\u001b[0m\u001b[0mfit\u001b[0m\u001b[1;33m(\u001b[0m\u001b[0mitems\u001b[0m\u001b[1;33m)\u001b[0m \u001b[1;31m# 규칙을 정했으니\u001b[0m\u001b[1;33m\u001b[0m\u001b[1;33m\u001b[0m\u001b[0m\n\u001b[1;32m----> 3\u001b[1;33m \u001b[0mlabel_items\u001b[0m \u001b[1;33m=\u001b[0m \u001b[0mlabel_encoder\u001b[0m\u001b[1;33m.\u001b[0m\u001b[0mtransform\u001b[0m\u001b[1;33m(\u001b[0m\u001b[0mtest_items\u001b[0m\u001b[1;33m)\u001b[0m \u001b[1;31m# 적용\u001b[0m\u001b[1;33m\u001b[0m\u001b[1;33m\u001b[0m\u001b[0m\n\u001b[0m\u001b[0;32m      4\u001b[0m \u001b[0mlabel_items\u001b[0m\u001b[1;33m\u001b[0m\u001b[1;33m\u001b[0m\u001b[0m\n",
      "\u001b[1;32mC:\\ProgramData\\Anaconda3\\lib\\site-packages\\sklearn\\preprocessing\\_label.py\u001b[0m in \u001b[0;36mtransform\u001b[1;34m(self, y)\u001b[0m\n\u001b[0;32m    136\u001b[0m             \u001b[1;32mreturn\u001b[0m \u001b[0mnp\u001b[0m\u001b[1;33m.\u001b[0m\u001b[0marray\u001b[0m\u001b[1;33m(\u001b[0m\u001b[1;33m[\u001b[0m\u001b[1;33m]\u001b[0m\u001b[1;33m)\u001b[0m\u001b[1;33m\u001b[0m\u001b[1;33m\u001b[0m\u001b[0m\n\u001b[0;32m    137\u001b[0m \u001b[1;33m\u001b[0m\u001b[0m\n\u001b[1;32m--> 138\u001b[1;33m         \u001b[1;32mreturn\u001b[0m \u001b[0m_encode\u001b[0m\u001b[1;33m(\u001b[0m\u001b[0my\u001b[0m\u001b[1;33m,\u001b[0m \u001b[0muniques\u001b[0m\u001b[1;33m=\u001b[0m\u001b[0mself\u001b[0m\u001b[1;33m.\u001b[0m\u001b[0mclasses_\u001b[0m\u001b[1;33m)\u001b[0m\u001b[1;33m\u001b[0m\u001b[1;33m\u001b[0m\u001b[0m\n\u001b[0m\u001b[0;32m    139\u001b[0m \u001b[1;33m\u001b[0m\u001b[0m\n\u001b[0;32m    140\u001b[0m     \u001b[1;32mdef\u001b[0m \u001b[0minverse_transform\u001b[0m\u001b[1;33m(\u001b[0m\u001b[0mself\u001b[0m\u001b[1;33m,\u001b[0m \u001b[0my\u001b[0m\u001b[1;33m)\u001b[0m\u001b[1;33m:\u001b[0m\u001b[1;33m\u001b[0m\u001b[1;33m\u001b[0m\u001b[0m\n",
      "\u001b[1;32mC:\\ProgramData\\Anaconda3\\lib\\site-packages\\sklearn\\utils\\_encode.py\u001b[0m in \u001b[0;36m_encode\u001b[1;34m(values, uniques, check_unknown)\u001b[0m\n\u001b[0;32m    178\u001b[0m             \u001b[1;32mreturn\u001b[0m \u001b[0m_map_to_integer\u001b[0m\u001b[1;33m(\u001b[0m\u001b[0mvalues\u001b[0m\u001b[1;33m,\u001b[0m \u001b[0muniques\u001b[0m\u001b[1;33m)\u001b[0m\u001b[1;33m\u001b[0m\u001b[1;33m\u001b[0m\u001b[0m\n\u001b[0;32m    179\u001b[0m         \u001b[1;32mexcept\u001b[0m \u001b[0mKeyError\u001b[0m \u001b[1;32mas\u001b[0m \u001b[0me\u001b[0m\u001b[1;33m:\u001b[0m\u001b[1;33m\u001b[0m\u001b[1;33m\u001b[0m\u001b[0m\n\u001b[1;32m--> 180\u001b[1;33m             \u001b[1;32mraise\u001b[0m \u001b[0mValueError\u001b[0m\u001b[1;33m(\u001b[0m\u001b[1;34mf\"y contains previously unseen labels: {str(e)}\"\u001b[0m\u001b[1;33m)\u001b[0m\u001b[1;33m\u001b[0m\u001b[1;33m\u001b[0m\u001b[0m\n\u001b[0m\u001b[0;32m    181\u001b[0m     \u001b[1;32melse\u001b[0m\u001b[1;33m:\u001b[0m\u001b[1;33m\u001b[0m\u001b[1;33m\u001b[0m\u001b[0m\n\u001b[0;32m    182\u001b[0m         \u001b[1;32mif\u001b[0m \u001b[0mcheck_unknown\u001b[0m\u001b[1;33m:\u001b[0m\u001b[1;33m\u001b[0m\u001b[1;33m\u001b[0m\u001b[0m\n",
      "\u001b[1;31mValueError\u001b[0m: y contains previously unseen labels: '커피포트'"
     ]
    }
   ],
   "source": [
    "label_encoder = LabelEncoder() \n",
    "label_encoder.fit(items) # 규칙을 정했으니 fit() 훈련(학습)함수\n",
    "label_items = label_encoder.transform(test_items) # 적용 오류남. items에 없는 새로운거 있어서\n",
    "label_items"
   ]
  },
  {
   "cell_type": "code",
   "execution_count": 8,
   "id": "37a35783",
   "metadata": {},
   "outputs": [
    {
     "ename": "NameError",
     "evalue": "name 'test_items' is not defined",
     "output_type": "error",
     "traceback": [
      "\u001b[1;31m---------------------------------------------------------------------------\u001b[0m",
      "\u001b[1;31mNameError\u001b[0m                                 Traceback (most recent call last)",
      "\u001b[1;32m<ipython-input-8-52ae9d70e54d>\u001b[0m in \u001b[0;36m<module>\u001b[1;34m\u001b[0m\n\u001b[0;32m      5\u001b[0m \u001b[1;33m\u001b[0m\u001b[0m\n\u001b[0;32m      6\u001b[0m \u001b[1;31m# 새로운 데이터들이 나타나면...\u001b[0m\u001b[1;33m\u001b[0m\u001b[1;33m\u001b[0m\u001b[1;33m\u001b[0m\u001b[0m\n\u001b[1;32m----> 7\u001b[1;33m \u001b[1;32mfor\u001b[0m \u001b[0mlabel\u001b[0m \u001b[1;32min\u001b[0m \u001b[0mnp\u001b[0m\u001b[1;33m.\u001b[0m\u001b[0munique\u001b[0m\u001b[1;33m(\u001b[0m\u001b[0mtest_items\u001b[0m\u001b[1;33m)\u001b[0m\u001b[1;33m:\u001b[0m\u001b[1;33m\u001b[0m\u001b[1;33m\u001b[0m\u001b[0m\n\u001b[0m\u001b[0;32m      8\u001b[0m     \u001b[1;32mif\u001b[0m \u001b[0mlabel\u001b[0m \u001b[1;32mnot\u001b[0m \u001b[1;32min\u001b[0m \u001b[0mprev_class\u001b[0m\u001b[1;33m:\u001b[0m \u001b[1;31m# 기존 종류에 없다면....-> 새롭게 기준을 추가..\u001b[0m\u001b[1;33m\u001b[0m\u001b[1;33m\u001b[0m\u001b[0m\n\u001b[0;32m      9\u001b[0m         \u001b[0mprev_class\u001b[0m\u001b[1;33m.\u001b[0m\u001b[0mappend\u001b[0m\u001b[1;33m(\u001b[0m\u001b[0mlabel\u001b[0m\u001b[1;33m)\u001b[0m\u001b[1;33m\u001b[0m\u001b[1;33m\u001b[0m\u001b[0m\n",
      "\u001b[1;31mNameError\u001b[0m: name 'test_items' is not defined"
     ]
    }
   ],
   "source": [
    "# 새로 등장한 값에 대응할 수 있도록\n",
    "\n",
    "#기존의 변환률에 대한 종류를 리스트로\n",
    "prev_class = list(label_encoder.classes_)\n",
    "\n",
    "# 새로운 데이터들이 나타나면...\n",
    "for label in np.unique(test_items):\n",
    "    if label not in prev_class: # 기존 종류에 없다면....-> 새롭게 기준을 추가..\n",
    "        prev_class.append(label)\n",
    "label_encoder.classes_ = np.array(prev_class)\n",
    "label_encoder.transform(test_items)\n",
    "\n"
   ]
  },
  {
   "cell_type": "code",
   "execution_count": null,
   "id": "3852e325",
   "metadata": {},
   "outputs": [],
   "source": []
  },
  {
   "cell_type": "raw",
   "id": "f780b82d",
   "metadata": {},
   "source": [
    "* Scikit learn을 통한 인코딩 중 one-hot-encoding은 한번에 진행X\n",
    "1단계: 먼저 label encoding 수행.\n",
    "2단계 : one-hot-encoding 수행"
   ]
  },
  {
   "cell_type": "code",
   "execution_count": 9,
   "id": "42835aff",
   "metadata": {},
   "outputs": [],
   "source": [
    "# 원핫인코딩을 하려면 라벨인코더와 원한인코더 2개 필요\n",
    "from sklearn.preprocessing import LabelEncoder\n",
    "from sklearn.preprocessing import OneHotEncoder"
   ]
  },
  {
   "cell_type": "code",
   "execution_count": 13,
   "id": "cf57bacd",
   "metadata": {},
   "outputs": [
    {
     "data": {
      "text/plain": [
       "array([2, 0, 1, 2, 0])"
      ]
     },
     "execution_count": 13,
     "metadata": {},
     "output_type": "execute_result"
    }
   ],
   "source": [
    "# 1단계 - 라벨인코딩\n",
    "label_encoder = LabelEncoder() \n",
    "label_encoder.fit(items) # 규칙을 정했으니\n",
    "label_items = label_encoder.transform(items) # 적용\n",
    "label_items"
   ]
  },
  {
   "cell_type": "code",
   "execution_count": 14,
   "id": "23fed4c1",
   "metadata": {},
   "outputs": [
    {
     "data": {
      "text/plain": [
       "<5x3 sparse matrix of type '<class 'numpy.float64'>'\n",
       "\twith 5 stored elements in Compressed Sparse Row format>"
      ]
     },
     "execution_count": 14,
     "metadata": {},
     "output_type": "execute_result"
    }
   ],
   "source": [
    "# 2단계 \n",
    "oh_encoder = OneHotEncoder()\n",
    "oh_labels_item = label_items.reshape(-1,1)\n",
    "oh_encoder_labels = oh_encoder.fit_transform(oh_labels_item)\n",
    "oh_encoder_labels\n"
   ]
  },
  {
   "cell_type": "code",
   "execution_count": 15,
   "id": "871703c3",
   "metadata": {},
   "outputs": [
    {
     "data": {
      "text/plain": [
       "array([[0., 0., 1.],\n",
       "       [1., 0., 0.],\n",
       "       [0., 1., 0.],\n",
       "       [0., 0., 1.],\n",
       "       [1., 0., 0.]])"
      ]
     },
     "execution_count": 15,
     "metadata": {},
     "output_type": "execute_result"
    }
   ],
   "source": [
    "oh_encoder_labels.toarray()"
   ]
  },
  {
   "cell_type": "markdown",
   "id": "15265542",
   "metadata": {},
   "source": [
    "#### 라벨인코딩 or 원핫인코딩?\n",
    "- 일단 라벨인코딩으로 먼저 해보고\n",
    "- 원핫인코딩을 해본 후 성능 비교. "
   ]
  },
  {
   "cell_type": "markdown",
   "id": "00ca6180",
   "metadata": {},
   "source": [
    "## 널값 처리 & 카테고리 수치화 인코딩"
   ]
  },
  {
   "cell_type": "markdown",
   "id": "b1ff1657",
   "metadata": {},
   "source": [
    "* 정규화 작업은 부가적인 것 같지만 중요함. \n",
    "\n",
    "10000000~ 10100000 : 1%변동폭\n",
    "\n",
    "0.0000001~0.0000008 : 800% 변동폭\n",
    "\n",
    "-> 전반적인 모든 특징을 고려한 학습을 위해서는 모든컬럼의 움직이는 영역을 맞춰야 overfit이 안됨."
   ]
  },
  {
   "cell_type": "markdown",
   "id": "8df0eb9a",
   "metadata": {},
   "source": [
    "* Standard Scaler"
   ]
  },
  {
   "cell_type": "code",
   "execution_count": 7,
   "id": "9b62fd6c",
   "metadata": {},
   "outputs": [],
   "source": [
    "from sklearn.preprocessing import StandardScaler"
   ]
  },
  {
   "cell_type": "code",
   "execution_count": 8,
   "id": "1417844b",
   "metadata": {},
   "outputs": [
    {
     "name": "stdout",
     "output_type": "stream",
     "text": [
      "<class 'pandas.core.frame.DataFrame'>\n",
      "RangeIndex: 150 entries, 0 to 149\n",
      "Data columns (total 4 columns):\n",
      " #   Column             Non-Null Count  Dtype  \n",
      "---  ------             --------------  -----  \n",
      " 0   sepal length (cm)  150 non-null    float64\n",
      " 1   sepal width (cm)   150 non-null    float64\n",
      " 2   petal length (cm)  150 non-null    float64\n",
      " 3   petal width (cm)   150 non-null    float64\n",
      "dtypes: float64(4)\n",
      "memory usage: 4.8 KB\n"
     ]
    }
   ],
   "source": [
    "from sklearn.datasets import load_iris\n",
    "\n",
    "iris = load_iris()\n",
    "iris_df = pd.DataFrame(data=iris.data,columns=iris.feature_names )\n",
    "iris_df.info()\n"
   ]
  },
  {
   "cell_type": "code",
   "execution_count": 36,
   "id": "5032e957",
   "metadata": {},
   "outputs": [
    {
     "data": {
      "text/plain": [
       "sepal length (cm)    5.843333\n",
       "sepal width (cm)     3.057333\n",
       "petal length (cm)    3.758000\n",
       "petal width (cm)     1.199333\n",
       "dtype: float64"
      ]
     },
     "execution_count": 36,
     "metadata": {},
     "output_type": "execute_result"
    }
   ],
   "source": [
    "iris_df.mean()"
   ]
  },
  {
   "cell_type": "code",
   "execution_count": 37,
   "id": "f04f7227",
   "metadata": {},
   "outputs": [
    {
     "data": {
      "text/html": [
       "<div>\n",
       "<style scoped>\n",
       "    .dataframe tbody tr th:only-of-type {\n",
       "        vertical-align: middle;\n",
       "    }\n",
       "\n",
       "    .dataframe tbody tr th {\n",
       "        vertical-align: top;\n",
       "    }\n",
       "\n",
       "    .dataframe thead th {\n",
       "        text-align: right;\n",
       "    }\n",
       "</style>\n",
       "<table border=\"1\" class=\"dataframe\">\n",
       "  <thead>\n",
       "    <tr style=\"text-align: right;\">\n",
       "      <th></th>\n",
       "      <th>sepal length (cm)</th>\n",
       "      <th>sepal width (cm)</th>\n",
       "      <th>petal length (cm)</th>\n",
       "      <th>petal width (cm)</th>\n",
       "    </tr>\n",
       "  </thead>\n",
       "  <tbody>\n",
       "    <tr>\n",
       "      <th>0</th>\n",
       "      <td>5.1</td>\n",
       "      <td>3.5</td>\n",
       "      <td>1.4</td>\n",
       "      <td>0.2</td>\n",
       "    </tr>\n",
       "    <tr>\n",
       "      <th>1</th>\n",
       "      <td>4.9</td>\n",
       "      <td>3.0</td>\n",
       "      <td>1.4</td>\n",
       "      <td>0.2</td>\n",
       "    </tr>\n",
       "    <tr>\n",
       "      <th>2</th>\n",
       "      <td>4.7</td>\n",
       "      <td>3.2</td>\n",
       "      <td>1.3</td>\n",
       "      <td>0.2</td>\n",
       "    </tr>\n",
       "    <tr>\n",
       "      <th>3</th>\n",
       "      <td>4.6</td>\n",
       "      <td>3.1</td>\n",
       "      <td>1.5</td>\n",
       "      <td>0.2</td>\n",
       "    </tr>\n",
       "    <tr>\n",
       "      <th>4</th>\n",
       "      <td>5.0</td>\n",
       "      <td>3.6</td>\n",
       "      <td>1.4</td>\n",
       "      <td>0.2</td>\n",
       "    </tr>\n",
       "  </tbody>\n",
       "</table>\n",
       "</div>"
      ],
      "text/plain": [
       "   sepal length (cm)  sepal width (cm)  petal length (cm)  petal width (cm)\n",
       "0                5.1               3.5                1.4               0.2\n",
       "1                4.9               3.0                1.4               0.2\n",
       "2                4.7               3.2                1.3               0.2\n",
       "3                4.6               3.1                1.5               0.2\n",
       "4                5.0               3.6                1.4               0.2"
      ]
     },
     "execution_count": 37,
     "metadata": {},
     "output_type": "execute_result"
    }
   ],
   "source": [
    "iris_df.head()"
   ]
  },
  {
   "cell_type": "code",
   "execution_count": 12,
   "id": "60e60d03",
   "metadata": {},
   "outputs": [
    {
     "data": {
      "text/html": [
       "<div>\n",
       "<style scoped>\n",
       "    .dataframe tbody tr th:only-of-type {\n",
       "        vertical-align: middle;\n",
       "    }\n",
       "\n",
       "    .dataframe tbody tr th {\n",
       "        vertical-align: top;\n",
       "    }\n",
       "\n",
       "    .dataframe thead th {\n",
       "        text-align: right;\n",
       "    }\n",
       "</style>\n",
       "<table border=\"1\" class=\"dataframe\">\n",
       "  <thead>\n",
       "    <tr style=\"text-align: right;\">\n",
       "      <th></th>\n",
       "      <th>sepal length (cm)</th>\n",
       "      <th>sepal width (cm)</th>\n",
       "      <th>petal length (cm)</th>\n",
       "      <th>petal width (cm)</th>\n",
       "    </tr>\n",
       "  </thead>\n",
       "  <tbody>\n",
       "    <tr>\n",
       "      <th>0</th>\n",
       "      <td>-0.900681</td>\n",
       "      <td>1.019004</td>\n",
       "      <td>-1.340227</td>\n",
       "      <td>-1.315444</td>\n",
       "    </tr>\n",
       "    <tr>\n",
       "      <th>1</th>\n",
       "      <td>-1.143017</td>\n",
       "      <td>-0.131979</td>\n",
       "      <td>-1.340227</td>\n",
       "      <td>-1.315444</td>\n",
       "    </tr>\n",
       "    <tr>\n",
       "      <th>2</th>\n",
       "      <td>-1.385353</td>\n",
       "      <td>0.328414</td>\n",
       "      <td>-1.397064</td>\n",
       "      <td>-1.315444</td>\n",
       "    </tr>\n",
       "    <tr>\n",
       "      <th>3</th>\n",
       "      <td>-1.506521</td>\n",
       "      <td>0.098217</td>\n",
       "      <td>-1.283389</td>\n",
       "      <td>-1.315444</td>\n",
       "    </tr>\n",
       "    <tr>\n",
       "      <th>4</th>\n",
       "      <td>-1.021849</td>\n",
       "      <td>1.249201</td>\n",
       "      <td>-1.340227</td>\n",
       "      <td>-1.315444</td>\n",
       "    </tr>\n",
       "  </tbody>\n",
       "</table>\n",
       "</div>"
      ],
      "text/plain": [
       "   sepal length (cm)  sepal width (cm)  petal length (cm)  petal width (cm)\n",
       "0          -0.900681          1.019004          -1.340227         -1.315444\n",
       "1          -1.143017         -0.131979          -1.340227         -1.315444\n",
       "2          -1.385353          0.328414          -1.397064         -1.315444\n",
       "3          -1.506521          0.098217          -1.283389         -1.315444\n",
       "4          -1.021849          1.249201          -1.340227         -1.315444"
      ]
     },
     "execution_count": 12,
     "metadata": {},
     "output_type": "execute_result"
    }
   ],
   "source": [
    "# 표준정규분포로 바꾸는 표준화 과정\n",
    "scaler = StandardScaler()\n",
    "scaler.fit(iris_df)\n",
    "iris_scaled = pd.DataFrame(data=scaler.transform(iris_df), columns=iris.feature_names)\n",
    "iris_scaled.head()\n"
   ]
  },
  {
   "cell_type": "code",
   "execution_count": 39,
   "id": "16181fb6",
   "metadata": {},
   "outputs": [
    {
     "data": {
      "text/plain": [
       "sepal length (cm)   -1.690315e-15\n",
       "sepal width (cm)    -1.842970e-15\n",
       "petal length (cm)   -1.698641e-15\n",
       "petal width (cm)    -1.409243e-15\n",
       "dtype: float64"
      ]
     },
     "execution_count": 39,
     "metadata": {},
     "output_type": "execute_result"
    }
   ],
   "source": [
    "iris_scaled.mean() # 모든 컬럼의 평균 0 "
   ]
  },
  {
   "cell_type": "code",
   "execution_count": 40,
   "id": "5fe5e795",
   "metadata": {},
   "outputs": [
    {
     "data": {
      "text/plain": [
       "sepal length (cm)    1.006711\n",
       "sepal width (cm)     1.006711\n",
       "petal length (cm)    1.006711\n",
       "petal width (cm)     1.006711\n",
       "dtype: float64"
      ]
     },
     "execution_count": 40,
     "metadata": {},
     "output_type": "execute_result"
    }
   ],
   "source": [
    "iris_scaled.var() # 모든 컬럼의 분산 1. 즉, 표준편차도 1"
   ]
  },
  {
   "cell_type": "markdown",
   "id": "f32fa788",
   "metadata": {},
   "source": [
    "* MinMax"
   ]
  },
  {
   "cell_type": "code",
   "execution_count": null,
   "id": "94d72915",
   "metadata": {},
   "outputs": [],
   "source": [
    "# min = 0, max=1 각 컬럼에서 0~1 사이의 값들로 조정."
   ]
  },
  {
   "cell_type": "code",
   "execution_count": 9,
   "id": "0d874333",
   "metadata": {},
   "outputs": [],
   "source": [
    "from sklearn.preprocessing import MinMaxScaler"
   ]
  },
  {
   "cell_type": "code",
   "execution_count": 20,
   "id": "2dcdef83",
   "metadata": {},
   "outputs": [
    {
     "data": {
      "text/html": [
       "<div>\n",
       "<style scoped>\n",
       "    .dataframe tbody tr th:only-of-type {\n",
       "        vertical-align: middle;\n",
       "    }\n",
       "\n",
       "    .dataframe tbody tr th {\n",
       "        vertical-align: top;\n",
       "    }\n",
       "\n",
       "    .dataframe thead th {\n",
       "        text-align: right;\n",
       "    }\n",
       "</style>\n",
       "<table border=\"1\" class=\"dataframe\">\n",
       "  <thead>\n",
       "    <tr style=\"text-align: right;\">\n",
       "      <th></th>\n",
       "      <th>sepal length (cm)</th>\n",
       "      <th>sepal width (cm)</th>\n",
       "      <th>petal length (cm)</th>\n",
       "      <th>petal width (cm)</th>\n",
       "    </tr>\n",
       "  </thead>\n",
       "  <tbody>\n",
       "    <tr>\n",
       "      <th>0</th>\n",
       "      <td>0.222222</td>\n",
       "      <td>0.625000</td>\n",
       "      <td>0.067797</td>\n",
       "      <td>0.041667</td>\n",
       "    </tr>\n",
       "    <tr>\n",
       "      <th>1</th>\n",
       "      <td>0.166667</td>\n",
       "      <td>0.416667</td>\n",
       "      <td>0.067797</td>\n",
       "      <td>0.041667</td>\n",
       "    </tr>\n",
       "    <tr>\n",
       "      <th>2</th>\n",
       "      <td>0.111111</td>\n",
       "      <td>0.500000</td>\n",
       "      <td>0.050847</td>\n",
       "      <td>0.041667</td>\n",
       "    </tr>\n",
       "    <tr>\n",
       "      <th>3</th>\n",
       "      <td>0.083333</td>\n",
       "      <td>0.458333</td>\n",
       "      <td>0.084746</td>\n",
       "      <td>0.041667</td>\n",
       "    </tr>\n",
       "    <tr>\n",
       "      <th>4</th>\n",
       "      <td>0.194444</td>\n",
       "      <td>0.666667</td>\n",
       "      <td>0.067797</td>\n",
       "      <td>0.041667</td>\n",
       "    </tr>\n",
       "    <tr>\n",
       "      <th>...</th>\n",
       "      <td>...</td>\n",
       "      <td>...</td>\n",
       "      <td>...</td>\n",
       "      <td>...</td>\n",
       "    </tr>\n",
       "    <tr>\n",
       "      <th>145</th>\n",
       "      <td>0.666667</td>\n",
       "      <td>0.416667</td>\n",
       "      <td>0.711864</td>\n",
       "      <td>0.916667</td>\n",
       "    </tr>\n",
       "    <tr>\n",
       "      <th>146</th>\n",
       "      <td>0.555556</td>\n",
       "      <td>0.208333</td>\n",
       "      <td>0.677966</td>\n",
       "      <td>0.750000</td>\n",
       "    </tr>\n",
       "    <tr>\n",
       "      <th>147</th>\n",
       "      <td>0.611111</td>\n",
       "      <td>0.416667</td>\n",
       "      <td>0.711864</td>\n",
       "      <td>0.791667</td>\n",
       "    </tr>\n",
       "    <tr>\n",
       "      <th>148</th>\n",
       "      <td>0.527778</td>\n",
       "      <td>0.583333</td>\n",
       "      <td>0.745763</td>\n",
       "      <td>0.916667</td>\n",
       "    </tr>\n",
       "    <tr>\n",
       "      <th>149</th>\n",
       "      <td>0.444444</td>\n",
       "      <td>0.416667</td>\n",
       "      <td>0.694915</td>\n",
       "      <td>0.708333</td>\n",
       "    </tr>\n",
       "  </tbody>\n",
       "</table>\n",
       "<p>150 rows × 4 columns</p>\n",
       "</div>"
      ],
      "text/plain": [
       "     sepal length (cm)  sepal width (cm)  petal length (cm)  petal width (cm)\n",
       "0             0.222222          0.625000           0.067797          0.041667\n",
       "1             0.166667          0.416667           0.067797          0.041667\n",
       "2             0.111111          0.500000           0.050847          0.041667\n",
       "3             0.083333          0.458333           0.084746          0.041667\n",
       "4             0.194444          0.666667           0.067797          0.041667\n",
       "..                 ...               ...                ...               ...\n",
       "145           0.666667          0.416667           0.711864          0.916667\n",
       "146           0.555556          0.208333           0.677966          0.750000\n",
       "147           0.611111          0.416667           0.711864          0.791667\n",
       "148           0.527778          0.583333           0.745763          0.916667\n",
       "149           0.444444          0.416667           0.694915          0.708333\n",
       "\n",
       "[150 rows x 4 columns]"
      ]
     },
     "execution_count": 20,
     "metadata": {},
     "output_type": "execute_result"
    }
   ],
   "source": [
    "mM_scaler = MinMaxScaler()\n",
    "mM_scaler.fit(iris_df)\n",
    "iris_scaled = mM_scaler.transform(iris_df)\n",
    "\n",
    "iris_mM_df = pd.DataFrame(data= iris_scaled, columns=iris.feature_names)\n",
    "iris_mM_df\n"
   ]
  },
  {
   "cell_type": "code",
   "execution_count": 44,
   "id": "a20e20c9",
   "metadata": {},
   "outputs": [
    {
     "data": {
      "text/plain": [
       "sepal length (cm)    0.0\n",
       "sepal width (cm)     0.0\n",
       "petal length (cm)    0.0\n",
       "petal width (cm)     0.0\n",
       "dtype: float64"
      ]
     },
     "execution_count": 44,
     "metadata": {},
     "output_type": "execute_result"
    }
   ],
   "source": [
    "iris_mM_df.min()"
   ]
  },
  {
   "cell_type": "code",
   "execution_count": 45,
   "id": "b7e6ed90",
   "metadata": {},
   "outputs": [
    {
     "data": {
      "text/plain": [
       "sepal length (cm)    1.0\n",
       "sepal width (cm)     1.0\n",
       "petal length (cm)    1.0\n",
       "petal width (cm)     1.0\n",
       "dtype: float64"
      ]
     },
     "execution_count": 45,
     "metadata": {},
     "output_type": "execute_result"
    }
   ],
   "source": [
    "iris_mM_df.max()"
   ]
  },
  {
   "cell_type": "code",
   "execution_count": 46,
   "id": "5176f507",
   "metadata": {},
   "outputs": [
    {
     "data": {
      "text/plain": [
       "sepal length (cm)    0.428704\n",
       "sepal width (cm)     0.440556\n",
       "petal length (cm)    0.467458\n",
       "petal width (cm)     0.458056\n",
       "dtype: float64"
      ]
     },
     "execution_count": 46,
     "metadata": {},
     "output_type": "execute_result"
    }
   ],
   "source": [
    "iris_mM_df.mean()"
   ]
  },
  {
   "cell_type": "markdown",
   "id": "303ea314",
   "metadata": {},
   "source": [
    "* 내가 사용하는 모델이 선형회귀모델이면, 이 모델의 이론적인 것과 나의 데이터가 최대한 일치하면 좋음.\n",
    "\n",
    "이론적인 부분에서 가정이 정규분포이면 minmax보다는 이론적인 가정과 유사한 StandardScaler를 사용하는게 나음"
   ]
  },
  {
   "cell_type": "markdown",
   "id": "e343fcc5",
   "metadata": {},
   "source": [
    "* 위의 일반적인 전처리들에 대해 함수나 클래스를 만들어놓으면 필요한 부분만 수정해서 사용할 수 있음. "
   ]
  },
  {
   "cell_type": "markdown",
   "id": "dcbf1f74",
   "metadata": {},
   "source": [
    "## 전처리 함수를 만들어보자"
   ]
  },
  {
   "cell_type": "code",
   "execution_count": 10,
   "id": "b5ffd9e4",
   "metadata": {},
   "outputs": [],
   "source": [
    "# 원핫인코딩을 하려면 라벨인코더와 원한인코더 2개 필요\n",
    "from sklearn.preprocessing import LabelEncoder\n",
    "from sklearn.preprocessing import OneHotEncoder"
   ]
  },
  {
   "cell_type": "code",
   "execution_count": 11,
   "id": "374bc043",
   "metadata": {},
   "outputs": [],
   "source": [
    "# 인코딩 처리 함수 \n",
    "# 입력 : DF전체를 받아\n",
    "# 내가 원하는 컬럼 인코딩\n",
    "# 출력 : DF전체로 (인코딩 작업이 필요한 컬럼만)\n",
    "\n",
    "def encode_feature(df):\n",
    "    # 인코딩\n",
    "    features = [\"Cabin\",\"Sex\", \"Embarked\"]\n",
    "    # 위에 지정된 컬럼들에 대해 그냥 기계적으로 단순 종류별로 라벨링\n",
    "    for f in features:\n",
    "        le = LabelEncoder() # 컬럼마다 새로운 인코딩\n",
    "        # f컬럼에 대한 인코딩 기준 체크\n",
    "        le.fit(df.loc[:,f]) # 컬럼 이름으로 df에 접근하는 loc사용\n",
    "        # 인코딩 기준을 바탕으로 숫자로 변환, df업데이트 까지\n",
    "        df.loc[:,f] = le.transform(df.loc[:,f])\n",
    "    # 특정 다른 컬럼을 원핫인코딩 하려면(다르게 기준을 하겠다면) 수정해서 사용하면 됨.     \n",
    "    return df\n"
   ]
  },
  {
   "cell_type": "code",
   "execution_count": 15,
   "id": "dba2aa77",
   "metadata": {},
   "outputs": [
    {
     "name": "stdout",
     "output_type": "stream",
     "text": [
      "<class 'pandas.core.frame.DataFrame'>\n",
      "RangeIndex: 891 entries, 0 to 890\n",
      "Data columns (total 12 columns):\n",
      " #   Column       Non-Null Count  Dtype  \n",
      "---  ------       --------------  -----  \n",
      " 0   PassengerId  891 non-null    int64  \n",
      " 1   Survived     891 non-null    int64  \n",
      " 2   Pclass       891 non-null    int64  \n",
      " 3   Name         891 non-null    object \n",
      " 4   Sex          891 non-null    int32  \n",
      " 5   Age          714 non-null    float64\n",
      " 6   SibSp        891 non-null    int64  \n",
      " 7   Parch        891 non-null    int64  \n",
      " 8   Ticket       891 non-null    object \n",
      " 9   Fare         891 non-null    float64\n",
      " 10  Cabin        891 non-null    int32  \n",
      " 11  Embarked     891 non-null    int32  \n",
      "dtypes: float64(2), int32(3), int64(5), object(2)\n",
      "memory usage: 73.2+ KB\n"
     ]
    }
   ],
   "source": [
    "data_enc = encode_feature(data)\n",
    "data_enc.info()"
   ]
  },
  {
   "cell_type": "markdown",
   "id": "0cf96072",
   "metadata": {},
   "source": [
    "* 널값 채우는 함수"
   ]
  },
  {
   "cell_type": "code",
   "execution_count": 12,
   "id": "62418669",
   "metadata": {},
   "outputs": [],
   "source": [
    "def check_fillna(df):\n",
    "    df[\"Age\"].fillna(df['Age'].mean(), inplace = True)\n",
    "    df[\"Cabin\"].fillna(\"N\", inplace=True)\n",
    "    df[\"Embarked\"].fillna(\"N\", inplace=True)\n",
    "    df[\"Fare\"].fillna(0, inplace=True)\n",
    "    return df\n"
   ]
  },
  {
   "cell_type": "markdown",
   "id": "cd96cd2b",
   "metadata": {},
   "source": [
    "* 불필요한 컬럼을 지우는 함수"
   ]
  },
  {
   "cell_type": "code",
   "execution_count": 13,
   "id": "ec6ef8e9",
   "metadata": {},
   "outputs": [],
   "source": [
    "def drop_features(df):\n",
    "    df.drop([\"PassengerId\", \"Name\", \"Ticket\"], axis = 1, inplace = True)\n",
    "    return df"
   ]
  },
  {
   "cell_type": "markdown",
   "id": "a166f5e8",
   "metadata": {},
   "source": [
    "* 인코딩함수 조금 더 손대보기"
   ]
  },
  {
   "cell_type": "code",
   "execution_count": 14,
   "id": "84da543d",
   "metadata": {},
   "outputs": [],
   "source": [
    "def encode_feature(df):\n",
    "    # 먼저 라벨인코딩을 하려고 해도 그 종류가 너무 많고, 1개짜리 데이터 값들이\n",
    "    # 많으니,,쓸모없이 종류가 늘어남;;;--> 객실에 대한 큰 분류를 기준으로\n",
    "    # 재조정을 하고, 그 종류에 따라서 인코딩을 하려고 함!!!!\n",
    "    df.loc[:,\"Cabin\"] = df.loc[:,\"Cabin\"].apply(lambda x : str(x)[:1])\n",
    "    \n",
    "    # 인코딩 작업을 할 것임!!!!!\n",
    "    features = [\"Cabin\",\"Sex\", \"Embarked\"]\n",
    "    # 위에 지정된 컬럼들에 대해서 그냥 기계적으로 단순 종류별로 라벨링...\n",
    "    # 나중에 컬럼별로 해보시는 개인별.....과제로...\n",
    "    for f in features:\n",
    "        le = LabelEncoder()\n",
    "        # f 컬럼에 대한 인코딩 기준 체크!!!!\n",
    "        le.fit(df.loc[:,f]) # 컬럼 이름으로 df에 접근을 하는 loc 사용\n",
    "        # 인코딩 기준을 바탕으로 숫자로 변환!!!-> df 업데이트까지...\n",
    "        df.loc[:,f] = le.transform(df.loc[:,f])\n",
    "    # 특정 다른 컬럼은 원핫인코딩을 하겠다..다르게 기준을 하겠다면...\n",
    "    # 더 수정을 해서 사용을 하면 됨!!!!\n",
    "    return df\n"
   ]
  },
  {
   "cell_type": "markdown",
   "id": "6723b4d8",
   "metadata": {},
   "source": [
    "* 전처리 함수로 위의 단계들을 묶어두자"
   ]
  },
  {
   "cell_type": "code",
   "execution_count": 15,
   "id": "a07aff66",
   "metadata": {},
   "outputs": [],
   "source": [
    "def titanic_preprocess(df):\n",
    "    df = check_fillna(df)\n",
    "    df = drop_features(df)\n",
    "    df = encode_feature(df)\n",
    "    return df\n"
   ]
  },
  {
   "cell_type": "code",
   "execution_count": 16,
   "id": "d0c26d86",
   "metadata": {},
   "outputs": [
    {
     "data": {
      "text/html": [
       "<div>\n",
       "<style scoped>\n",
       "    .dataframe tbody tr th:only-of-type {\n",
       "        vertical-align: middle;\n",
       "    }\n",
       "\n",
       "    .dataframe tbody tr th {\n",
       "        vertical-align: top;\n",
       "    }\n",
       "\n",
       "    .dataframe thead th {\n",
       "        text-align: right;\n",
       "    }\n",
       "</style>\n",
       "<table border=\"1\" class=\"dataframe\">\n",
       "  <thead>\n",
       "    <tr style=\"text-align: right;\">\n",
       "      <th></th>\n",
       "      <th>PassengerId</th>\n",
       "      <th>Survived</th>\n",
       "      <th>Pclass</th>\n",
       "      <th>Name</th>\n",
       "      <th>Sex</th>\n",
       "      <th>Age</th>\n",
       "      <th>SibSp</th>\n",
       "      <th>Parch</th>\n",
       "      <th>Ticket</th>\n",
       "      <th>Fare</th>\n",
       "      <th>Cabin</th>\n",
       "      <th>Embarked</th>\n",
       "    </tr>\n",
       "  </thead>\n",
       "  <tbody>\n",
       "    <tr>\n",
       "      <th>0</th>\n",
       "      <td>1</td>\n",
       "      <td>0</td>\n",
       "      <td>3</td>\n",
       "      <td>Braund, Mr. Owen Harris</td>\n",
       "      <td>male</td>\n",
       "      <td>22.0</td>\n",
       "      <td>1</td>\n",
       "      <td>0</td>\n",
       "      <td>A/5 21171</td>\n",
       "      <td>7.2500</td>\n",
       "      <td>NaN</td>\n",
       "      <td>S</td>\n",
       "    </tr>\n",
       "    <tr>\n",
       "      <th>1</th>\n",
       "      <td>2</td>\n",
       "      <td>1</td>\n",
       "      <td>1</td>\n",
       "      <td>Cumings, Mrs. John Bradley (Florence Briggs Th...</td>\n",
       "      <td>female</td>\n",
       "      <td>38.0</td>\n",
       "      <td>1</td>\n",
       "      <td>0</td>\n",
       "      <td>PC 17599</td>\n",
       "      <td>71.2833</td>\n",
       "      <td>C85</td>\n",
       "      <td>C</td>\n",
       "    </tr>\n",
       "    <tr>\n",
       "      <th>2</th>\n",
       "      <td>3</td>\n",
       "      <td>1</td>\n",
       "      <td>3</td>\n",
       "      <td>Heikkinen, Miss. Laina</td>\n",
       "      <td>female</td>\n",
       "      <td>26.0</td>\n",
       "      <td>0</td>\n",
       "      <td>0</td>\n",
       "      <td>STON/O2. 3101282</td>\n",
       "      <td>7.9250</td>\n",
       "      <td>NaN</td>\n",
       "      <td>S</td>\n",
       "    </tr>\n",
       "    <tr>\n",
       "      <th>3</th>\n",
       "      <td>4</td>\n",
       "      <td>1</td>\n",
       "      <td>1</td>\n",
       "      <td>Futrelle, Mrs. Jacques Heath (Lily May Peel)</td>\n",
       "      <td>female</td>\n",
       "      <td>35.0</td>\n",
       "      <td>1</td>\n",
       "      <td>0</td>\n",
       "      <td>113803</td>\n",
       "      <td>53.1000</td>\n",
       "      <td>C123</td>\n",
       "      <td>S</td>\n",
       "    </tr>\n",
       "    <tr>\n",
       "      <th>4</th>\n",
       "      <td>5</td>\n",
       "      <td>0</td>\n",
       "      <td>3</td>\n",
       "      <td>Allen, Mr. William Henry</td>\n",
       "      <td>male</td>\n",
       "      <td>35.0</td>\n",
       "      <td>0</td>\n",
       "      <td>0</td>\n",
       "      <td>373450</td>\n",
       "      <td>8.0500</td>\n",
       "      <td>NaN</td>\n",
       "      <td>S</td>\n",
       "    </tr>\n",
       "  </tbody>\n",
       "</table>\n",
       "</div>"
      ],
      "text/plain": [
       "   PassengerId  Survived  Pclass  \\\n",
       "0            1         0       3   \n",
       "1            2         1       1   \n",
       "2            3         1       3   \n",
       "3            4         1       1   \n",
       "4            5         0       3   \n",
       "\n",
       "                                                Name     Sex   Age  SibSp  \\\n",
       "0                            Braund, Mr. Owen Harris    male  22.0      1   \n",
       "1  Cumings, Mrs. John Bradley (Florence Briggs Th...  female  38.0      1   \n",
       "2                             Heikkinen, Miss. Laina  female  26.0      0   \n",
       "3       Futrelle, Mrs. Jacques Heath (Lily May Peel)  female  35.0      1   \n",
       "4                           Allen, Mr. William Henry    male  35.0      0   \n",
       "\n",
       "   Parch            Ticket     Fare Cabin Embarked  \n",
       "0      0         A/5 21171   7.2500   NaN        S  \n",
       "1      0          PC 17599  71.2833   C85        C  \n",
       "2      0  STON/O2. 3101282   7.9250   NaN        S  \n",
       "3      0            113803  53.1000  C123        S  \n",
       "4      0            373450   8.0500   NaN        S  "
      ]
     },
     "execution_count": 16,
     "metadata": {},
     "output_type": "execute_result"
    }
   ],
   "source": [
    "data = pd.read_csv(\"data/titanic_train.csv\") #원본데이터 다시 불러오기\n",
    "data.head()"
   ]
  },
  {
   "cell_type": "code",
   "execution_count": 58,
   "id": "8ffac05a",
   "metadata": {},
   "outputs": [
    {
     "data": {
      "text/plain": [
       "Index(['PassengerId', 'Survived', 'Pclass', 'Name', 'Sex', 'Age', 'SibSp',\n",
       "       'Parch', 'Ticket', 'Fare', 'Cabin', 'Embarked'],\n",
       "      dtype='object')"
      ]
     },
     "execution_count": 58,
     "metadata": {},
     "output_type": "execute_result"
    }
   ],
   "source": [
    "data.columns"
   ]
  },
  {
   "cell_type": "code",
   "execution_count": 17,
   "id": "feda2735",
   "metadata": {},
   "outputs": [],
   "source": [
    "y_titanic = data.loc[:, \"Survived\"]\n",
    "x_titanic = data.drop(\"Survived\", axis = 1)\n"
   ]
  },
  {
   "cell_type": "code",
   "execution_count": 60,
   "id": "727d0176",
   "metadata": {},
   "outputs": [
    {
     "name": "stdout",
     "output_type": "stream",
     "text": [
      "<class 'pandas.core.frame.DataFrame'>\n",
      "RangeIndex: 891 entries, 0 to 890\n",
      "Data columns (total 11 columns):\n",
      " #   Column       Non-Null Count  Dtype  \n",
      "---  ------       --------------  -----  \n",
      " 0   PassengerId  891 non-null    int64  \n",
      " 1   Pclass       891 non-null    int64  \n",
      " 2   Name         891 non-null    object \n",
      " 3   Sex          891 non-null    object \n",
      " 4   Age          714 non-null    float64\n",
      " 5   SibSp        891 non-null    int64  \n",
      " 6   Parch        891 non-null    int64  \n",
      " 7   Ticket       891 non-null    object \n",
      " 8   Fare         891 non-null    float64\n",
      " 9   Cabin        204 non-null    object \n",
      " 10  Embarked     889 non-null    object \n",
      "dtypes: float64(2), int64(4), object(5)\n",
      "memory usage: 76.7+ KB\n"
     ]
    }
   ],
   "source": [
    "x_titanic.info()"
   ]
  },
  {
   "cell_type": "code",
   "execution_count": 18,
   "id": "52fe15c3",
   "metadata": {},
   "outputs": [
    {
     "data": {
      "text/html": [
       "<div>\n",
       "<style scoped>\n",
       "    .dataframe tbody tr th:only-of-type {\n",
       "        vertical-align: middle;\n",
       "    }\n",
       "\n",
       "    .dataframe tbody tr th {\n",
       "        vertical-align: top;\n",
       "    }\n",
       "\n",
       "    .dataframe thead th {\n",
       "        text-align: right;\n",
       "    }\n",
       "</style>\n",
       "<table border=\"1\" class=\"dataframe\">\n",
       "  <thead>\n",
       "    <tr style=\"text-align: right;\">\n",
       "      <th></th>\n",
       "      <th>Pclass</th>\n",
       "      <th>Sex</th>\n",
       "      <th>Age</th>\n",
       "      <th>SibSp</th>\n",
       "      <th>Parch</th>\n",
       "      <th>Fare</th>\n",
       "      <th>Cabin</th>\n",
       "      <th>Embarked</th>\n",
       "    </tr>\n",
       "  </thead>\n",
       "  <tbody>\n",
       "    <tr>\n",
       "      <th>0</th>\n",
       "      <td>3</td>\n",
       "      <td>1</td>\n",
       "      <td>22.000000</td>\n",
       "      <td>1</td>\n",
       "      <td>0</td>\n",
       "      <td>7.2500</td>\n",
       "      <td>7</td>\n",
       "      <td>3</td>\n",
       "    </tr>\n",
       "    <tr>\n",
       "      <th>1</th>\n",
       "      <td>1</td>\n",
       "      <td>0</td>\n",
       "      <td>38.000000</td>\n",
       "      <td>1</td>\n",
       "      <td>0</td>\n",
       "      <td>71.2833</td>\n",
       "      <td>2</td>\n",
       "      <td>0</td>\n",
       "    </tr>\n",
       "    <tr>\n",
       "      <th>2</th>\n",
       "      <td>3</td>\n",
       "      <td>0</td>\n",
       "      <td>26.000000</td>\n",
       "      <td>0</td>\n",
       "      <td>0</td>\n",
       "      <td>7.9250</td>\n",
       "      <td>7</td>\n",
       "      <td>3</td>\n",
       "    </tr>\n",
       "    <tr>\n",
       "      <th>3</th>\n",
       "      <td>1</td>\n",
       "      <td>0</td>\n",
       "      <td>35.000000</td>\n",
       "      <td>1</td>\n",
       "      <td>0</td>\n",
       "      <td>53.1000</td>\n",
       "      <td>2</td>\n",
       "      <td>3</td>\n",
       "    </tr>\n",
       "    <tr>\n",
       "      <th>4</th>\n",
       "      <td>3</td>\n",
       "      <td>1</td>\n",
       "      <td>35.000000</td>\n",
       "      <td>0</td>\n",
       "      <td>0</td>\n",
       "      <td>8.0500</td>\n",
       "      <td>7</td>\n",
       "      <td>3</td>\n",
       "    </tr>\n",
       "    <tr>\n",
       "      <th>...</th>\n",
       "      <td>...</td>\n",
       "      <td>...</td>\n",
       "      <td>...</td>\n",
       "      <td>...</td>\n",
       "      <td>...</td>\n",
       "      <td>...</td>\n",
       "      <td>...</td>\n",
       "      <td>...</td>\n",
       "    </tr>\n",
       "    <tr>\n",
       "      <th>886</th>\n",
       "      <td>2</td>\n",
       "      <td>1</td>\n",
       "      <td>27.000000</td>\n",
       "      <td>0</td>\n",
       "      <td>0</td>\n",
       "      <td>13.0000</td>\n",
       "      <td>7</td>\n",
       "      <td>3</td>\n",
       "    </tr>\n",
       "    <tr>\n",
       "      <th>887</th>\n",
       "      <td>1</td>\n",
       "      <td>0</td>\n",
       "      <td>19.000000</td>\n",
       "      <td>0</td>\n",
       "      <td>0</td>\n",
       "      <td>30.0000</td>\n",
       "      <td>1</td>\n",
       "      <td>3</td>\n",
       "    </tr>\n",
       "    <tr>\n",
       "      <th>888</th>\n",
       "      <td>3</td>\n",
       "      <td>0</td>\n",
       "      <td>29.699118</td>\n",
       "      <td>1</td>\n",
       "      <td>2</td>\n",
       "      <td>23.4500</td>\n",
       "      <td>7</td>\n",
       "      <td>3</td>\n",
       "    </tr>\n",
       "    <tr>\n",
       "      <th>889</th>\n",
       "      <td>1</td>\n",
       "      <td>1</td>\n",
       "      <td>26.000000</td>\n",
       "      <td>0</td>\n",
       "      <td>0</td>\n",
       "      <td>30.0000</td>\n",
       "      <td>2</td>\n",
       "      <td>0</td>\n",
       "    </tr>\n",
       "    <tr>\n",
       "      <th>890</th>\n",
       "      <td>3</td>\n",
       "      <td>1</td>\n",
       "      <td>32.000000</td>\n",
       "      <td>0</td>\n",
       "      <td>0</td>\n",
       "      <td>7.7500</td>\n",
       "      <td>7</td>\n",
       "      <td>2</td>\n",
       "    </tr>\n",
       "  </tbody>\n",
       "</table>\n",
       "<p>891 rows × 8 columns</p>\n",
       "</div>"
      ],
      "text/plain": [
       "     Pclass  Sex        Age  SibSp  Parch     Fare  Cabin  Embarked\n",
       "0         3    1  22.000000      1      0   7.2500      7         3\n",
       "1         1    0  38.000000      1      0  71.2833      2         0\n",
       "2         3    0  26.000000      0      0   7.9250      7         3\n",
       "3         1    0  35.000000      1      0  53.1000      2         3\n",
       "4         3    1  35.000000      0      0   8.0500      7         3\n",
       "..      ...  ...        ...    ...    ...      ...    ...       ...\n",
       "886       2    1  27.000000      0      0  13.0000      7         3\n",
       "887       1    0  19.000000      0      0  30.0000      1         3\n",
       "888       3    0  29.699118      1      2  23.4500      7         3\n",
       "889       1    1  26.000000      0      0  30.0000      2         0\n",
       "890       3    1  32.000000      0      0   7.7500      7         2\n",
       "\n",
       "[891 rows x 8 columns]"
      ]
     },
     "execution_count": 18,
     "metadata": {},
     "output_type": "execute_result"
    }
   ],
   "source": [
    "x_titanic = titanic_preprocess(x_titanic)\n",
    "x_titanic"
   ]
  },
  {
   "cell_type": "code",
   "execution_count": 19,
   "id": "c424a3b2",
   "metadata": {},
   "outputs": [
    {
     "name": "stdout",
     "output_type": "stream",
     "text": [
      "<class 'pandas.core.frame.DataFrame'>\n",
      "RangeIndex: 891 entries, 0 to 890\n",
      "Data columns (total 8 columns):\n",
      " #   Column    Non-Null Count  Dtype  \n",
      "---  ------    --------------  -----  \n",
      " 0   Pclass    891 non-null    int64  \n",
      " 1   Sex       891 non-null    int32  \n",
      " 2   Age       891 non-null    float64\n",
      " 3   SibSp     891 non-null    int64  \n",
      " 4   Parch     891 non-null    int64  \n",
      " 5   Fare      891 non-null    float64\n",
      " 6   Cabin     891 non-null    int32  \n",
      " 7   Embarked  891 non-null    int32  \n",
      "dtypes: float64(2), int32(3), int64(3)\n",
      "memory usage: 45.4 KB\n"
     ]
    }
   ],
   "source": [
    "x_titanic.info()"
   ]
  },
  {
   "cell_type": "markdown",
   "id": "69f2a182",
   "metadata": {},
   "source": [
    "* 데이터 분리"
   ]
  },
  {
   "cell_type": "code",
   "execution_count": 20,
   "id": "62dfdd47",
   "metadata": {},
   "outputs": [],
   "source": [
    "from sklearn.model_selection import train_test_split"
   ]
  },
  {
   "cell_type": "code",
   "execution_count": 21,
   "id": "77a2ef2c",
   "metadata": {},
   "outputs": [],
   "source": [
    "X_train, X_test, y_train, y_test = train_test_split(x_titanic,\n",
    "                                                   y_titanic,\n",
    "                                                   test_size=0.2,\n",
    "                                                   random_state=12)\n",
    "# train, test를 너무 랜덤하게 나눠서 원본데이터랑 비율이 많이 차이나는 경우가 있음.\n",
    "# 그래서  stratify 사용."
   ]
  },
  {
   "cell_type": "code",
   "execution_count": 24,
   "id": "9c9da234",
   "metadata": {},
   "outputs": [
    {
     "data": {
      "text/plain": [
       "0    0.630618\n",
       "1    0.369382\n",
       "Name: Survived, dtype: float64"
      ]
     },
     "execution_count": 24,
     "metadata": {},
     "output_type": "execute_result"
    }
   ],
   "source": [
    "y_train.value_counts() / len(y_train)"
   ]
  },
  {
   "cell_type": "code",
   "execution_count": 67,
   "id": "b4ac6403",
   "metadata": {},
   "outputs": [
    {
     "data": {
      "text/plain": [
       "0    0.558659\n",
       "1    0.441341\n",
       "Name: Survived, dtype: float64"
      ]
     },
     "execution_count": 67,
     "metadata": {},
     "output_type": "execute_result"
    }
   ],
   "source": [
    "y_test.value_counts() / len(y_test)"
   ]
  },
  {
   "cell_type": "code",
   "execution_count": 68,
   "id": "9f06e6aa",
   "metadata": {},
   "outputs": [
    {
     "data": {
      "text/plain": [
       "0    0.616162\n",
       "1    0.383838\n",
       "Name: Survived, dtype: float64"
      ]
     },
     "execution_count": 68,
     "metadata": {},
     "output_type": "execute_result"
    }
   ],
   "source": [
    "y_titanic.value_counts() / len(y_titanic)"
   ]
  },
  {
   "cell_type": "code",
   "execution_count": 22,
   "id": "e1bb4344",
   "metadata": {},
   "outputs": [],
   "source": [
    "X_train, X_test, y_train, y_test = train_test_split(x_titanic,\n",
    "                                                   y_titanic,\n",
    "                                                   test_size=0.2,\n",
    "                                                    stratify= y_titanic,\n",
    "                                                   random_state=12)\n",
    "# stratify 사용해서 비율 맞춤."
   ]
  },
  {
   "cell_type": "code",
   "execution_count": 70,
   "id": "13afe67b",
   "metadata": {},
   "outputs": [
    {
     "data": {
      "text/plain": [
       "0    0.616573\n",
       "1    0.383427\n",
       "Name: Survived, dtype: float64"
      ]
     },
     "execution_count": 70,
     "metadata": {},
     "output_type": "execute_result"
    }
   ],
   "source": [
    "y_train.value_counts() / len(y_train)"
   ]
  },
  {
   "cell_type": "code",
   "execution_count": 71,
   "id": "784e69bd",
   "metadata": {},
   "outputs": [
    {
     "data": {
      "text/plain": [
       "0    0.614525\n",
       "1    0.385475\n",
       "Name: Survived, dtype: float64"
      ]
     },
     "execution_count": 71,
     "metadata": {},
     "output_type": "execute_result"
    }
   ],
   "source": [
    "y_test.value_counts() / len(y_test)"
   ]
  },
  {
   "cell_type": "code",
   "execution_count": 72,
   "id": "af7962d1",
   "metadata": {},
   "outputs": [
    {
     "data": {
      "text/plain": [
       "0    0.616162\n",
       "1    0.383838\n",
       "Name: Survived, dtype: float64"
      ]
     },
     "execution_count": 72,
     "metadata": {},
     "output_type": "execute_result"
    }
   ],
   "source": [
    "y_titanic.value_counts() / len(y_titanic)"
   ]
  },
  {
   "cell_type": "markdown",
   "id": "a8d71113",
   "metadata": {},
   "source": [
    "## k-fold "
   ]
  },
  {
   "cell_type": "code",
   "execution_count": 23,
   "id": "df516278",
   "metadata": {},
   "outputs": [],
   "source": [
    "from sklearn.model_selection import KFold"
   ]
  },
  {
   "cell_type": "code",
   "execution_count": 24,
   "id": "ca2c4384",
   "metadata": {},
   "outputs": [],
   "source": [
    "# k-fold를 나누는 과정\n",
    "kfold = KFold(n_splits=5, random_state=1234, shuffle=True) #랜덤으로 샘플링해서 5번 섞음\n"
   ]
  },
  {
   "cell_type": "code",
   "execution_count": 25,
   "id": "f9bd4f2c",
   "metadata": {},
   "outputs": [
    {
     "name": "stdout",
     "output_type": "stream",
     "text": [
      "0번째 구분 : train용 데이터[ 0  1  2  3  4  5  6  8  9 10], 검증용 데이터[ 7 11 21 24 28 29 58 60 61 64]\n",
      "1번째 구분 : train용 데이터[ 0  1  2  3  4  5  6  7  9 10], 검증용 데이터[ 8 13 20 27 34 39 40 44 47 50]\n",
      "2번째 구분 : train용 데이터[ 1  3  4  5  7  8  9 10 11 12], 검증용 데이터[ 0  2  6 17 19 22 25 33 35 36]\n",
      "3번째 구분 : train용 데이터[ 0  1  2  3  4  6  7  8 10 11], 검증용 데이터[ 5  9 12 16 23 31 32 42 48 49]\n",
      "4번째 구분 : train용 데이터[ 0  2  5  6  7  8  9 11 12 13], 검증용 데이터[ 1  3  4 10 14 15 18 26 30 41]\n"
     ]
    }
   ],
   "source": [
    "for idx, (x_tr, x_val) in enumerate(kfold.split(X_train,y_train )):\n",
    "    print(str(idx) +\"번째 구분 : train용 데이터\" + str(x_tr[:10]) + \", 검증용 데이터\"+str(x_val[:10]))\n"
   ]
  },
  {
   "cell_type": "code",
   "execution_count": 29,
   "id": "b673eb5b",
   "metadata": {},
   "outputs": [
    {
     "data": {
      "text/plain": [
       "0    0.616573\n",
       "1    0.383427\n",
       "Name: Survived, dtype: float64"
      ]
     },
     "execution_count": 29,
     "metadata": {},
     "output_type": "execute_result"
    }
   ],
   "source": [
    "y_train.value_counts(normalize=True) # 원본(정답지)비율\n"
   ]
  },
  {
   "cell_type": "code",
   "execution_count": 30,
   "id": "89f81da6",
   "metadata": {},
   "outputs": [
    {
     "name": "stdout",
     "output_type": "stream",
     "text": [
      "0    0.636364\n",
      "1    0.363636\n",
      "Name: Survived, dtype: float64\n",
      "0    0.643357\n",
      "1    0.356643\n",
      "Name: Survived, dtype: float64\n",
      "0    0.56338\n",
      "1    0.43662\n",
      "Name: Survived, dtype: float64\n",
      "0    0.647887\n",
      "1    0.352113\n",
      "Name: Survived, dtype: float64\n",
      "0    0.591549\n",
      "1    0.408451\n",
      "Name: Survived, dtype: float64\n"
     ]
    }
   ],
   "source": [
    "for idx, (x_tr, x_val) in enumerate(kfold.split(X_train,y_train )):\n",
    "    print(y_train.iloc[x_val].value_counts(normalize=True))\n",
    "# 5번 나눈 결과 비율 다 다름. \n",
    "# 결과 비슷하게 하려면 Stratified K-Fold 하면 됨."
   ]
  },
  {
   "cell_type": "markdown",
   "id": "0c944cc4",
   "metadata": {},
   "source": [
    "## Stratified K-Fold"
   ]
  },
  {
   "cell_type": "code",
   "execution_count": 26,
   "id": "2aa64cce",
   "metadata": {},
   "outputs": [],
   "source": [
    "from sklearn.model_selection import StratifiedKFold"
   ]
  },
  {
   "cell_type": "code",
   "execution_count": 27,
   "id": "292900d6",
   "metadata": {},
   "outputs": [],
   "source": [
    "# 아무것도 하지 않은, 그냥 모델을 불러온 것. k로 나누는 모델\n",
    "str_kfold = StratifiedKFold(n_splits = 5, random_state = 1234, shuffle=True)"
   ]
  },
  {
   "cell_type": "code",
   "execution_count": 33,
   "id": "5366dfc7",
   "metadata": {},
   "outputs": [
    {
     "name": "stdout",
     "output_type": "stream",
     "text": [
      "0    0.615385\n",
      "1    0.384615\n",
      "Name: Survived, dtype: float64\n",
      "0    0.615385\n",
      "1    0.384615\n",
      "Name: Survived, dtype: float64\n",
      "0    0.612676\n",
      "1    0.387324\n",
      "Name: Survived, dtype: float64\n",
      "0    0.619718\n",
      "1    0.380282\n",
      "Name: Survived, dtype: float64\n",
      "0    0.619718\n",
      "1    0.380282\n",
      "Name: Survived, dtype: float64\n"
     ]
    }
   ],
   "source": [
    "for idx, (x_tr, x_val) in enumerate(str_kfold.split(X_train,y_train )):\n",
    "    print(y_train.iloc[x_val].value_counts(normalize=True))\n",
    "# 원본비율이랑 비슷하게 나눔"
   ]
  },
  {
   "cell_type": "markdown",
   "id": "84dc2e94",
   "metadata": {},
   "source": [
    "## Repeated K-Fold"
   ]
  },
  {
   "cell_type": "markdown",
   "id": "f6cf3972",
   "metadata": {},
   "source": [
    "* 기존의 K-Fold는 k로 데이터를 분리하는 것. 이것을 여러번 반복. 보통은 10 이하로 수행"
   ]
  },
  {
   "cell_type": "code",
   "execution_count": 28,
   "id": "7691c26f",
   "metadata": {},
   "outputs": [],
   "source": [
    "from sklearn.model_selection import RepeatedKFold\n",
    "# 데이터 수가 많지 않을 때 활용할 수 있음. "
   ]
  },
  {
   "cell_type": "code",
   "execution_count": 29,
   "id": "37d4d7a1",
   "metadata": {},
   "outputs": [],
   "source": [
    "# kfold -> 몇개로, 섞고 시작?, 랜덤값, 10번반복\n",
    "# --> 해야 할 일이 많아짐, -> 시간 증가.. \n",
    "rkfold = RepeatedKFold(n_splits=5,random_state=1234, n_repeats = 10)"
   ]
  },
  {
   "cell_type": "markdown",
   "id": "96cbdaae",
   "metadata": {},
   "source": [
    "## Repeated Strtified K-Fold"
   ]
  },
  {
   "cell_type": "code",
   "execution_count": 30,
   "id": "1d5f7db9",
   "metadata": {},
   "outputs": [],
   "source": [
    "from sklearn.model_selection import RepeatedStratifiedKFold\n"
   ]
  },
  {
   "cell_type": "code",
   "execution_count": 31,
   "id": "22a98821",
   "metadata": {},
   "outputs": [],
   "source": [
    "rskfold = RepeatedStratifiedKFold(n_splits=5,random_state=1234, n_repeats = 10)"
   ]
  },
  {
   "cell_type": "code",
   "execution_count": null,
   "id": "9600dd6d",
   "metadata": {},
   "outputs": [],
   "source": []
  },
  {
   "cell_type": "markdown",
   "id": "68dddd62",
   "metadata": {},
   "source": [
    "## 모델학습"
   ]
  },
  {
   "cell_type": "code",
   "execution_count": 32,
   "id": "464a17e5",
   "metadata": {},
   "outputs": [],
   "source": [
    "# 하이퍼 파라미터 튜닝 -> gridsearch, randomgridsearch\n",
    "from sklearn.model_selection import RandomizedSearchCV,GridSearchCV\n",
    "# cross-val\n",
    "from sklearn.model_selection import cross_val_score\n",
    "# 평가 -> 정확도\n",
    "from sklearn.metrics import accuracy_score"
   ]
  },
  {
   "cell_type": "markdown",
   "id": "89cd7505",
   "metadata": {},
   "source": [
    "### knn : kfold test"
   ]
  },
  {
   "cell_type": "code",
   "execution_count": 59,
   "id": "1a84d4db",
   "metadata": {},
   "outputs": [],
   "source": [
    "from sklearn.neighbors import KNeighborsClassifier"
   ]
  },
  {
   "cell_type": "code",
   "execution_count": 34,
   "id": "9dfc1f65",
   "metadata": {},
   "outputs": [],
   "source": [
    "knn = KNeighborsClassifier(n_jobs = -1)"
   ]
  },
  {
   "cell_type": "code",
   "execution_count": 41,
   "id": "0582363f",
   "metadata": {},
   "outputs": [
    {
     "name": "stdout",
     "output_type": "stream",
     "text": [
      "knn 0째번 검증 정확도 : 0.6923\n",
      "knn 1째번 검증 정확도 : 0.6783\n",
      "knn 2째번 검증 정확도 : 0.6972\n",
      "knn 3째번 검증 정확도 : 0.6901\n",
      "knn 4째번 검증 정확도 : 0.6690\n",
      "knn의 평균 정확도 : 0.685393479759677\n"
     ]
    }
   ],
   "source": [
    "# 위에 준비한 kfold 모델을 바탕으로 knn\n",
    "# X_train, y_train을 가지고 문제와 정답지\n",
    "# 그냥 하는게 아니라 cv=앞에서 미리 세팅한 k-fold를 가지고 와서 여러번\n",
    "# 여러번의 기준은 accuracy\n",
    "# k번한 accuracy에 대한 값들이 결과.\n",
    "\n",
    "scores = cross_val_score(knn,X_train,y_train, cv=kfold, scoring = \"accuracy\")\n",
    "\n",
    "for iter_count, acc in enumerate(scores):\n",
    "    print(\"knn {0}째번 검증 정확도 : {1:.4f}\".format(iter_count,acc))\n",
    "print(\"knn의 평균 정확도 :\", scores.mean())"
   ]
  },
  {
   "cell_type": "code",
   "execution_count": null,
   "id": "b640b311",
   "metadata": {},
   "outputs": [],
   "source": [
    "'''\n",
    "이 다음에 우리가 해야할 일?\n",
    "- 하이퍼 파라미터 튜닝\n",
    "'''"
   ]
  },
  {
   "cell_type": "markdown",
   "id": "53ae4818",
   "metadata": {},
   "source": [
    "### knn-kfold를 성능 0.69 보다는 좋은 모델을 만들자. knn의 파라미터 조절 : 하이퍼 파리미터 튜닝"
   ]
  },
  {
   "cell_type": "code",
   "execution_count": 42,
   "id": "0def80d1",
   "metadata": {},
   "outputs": [],
   "source": [
    "# 테스트할 파라미터의 조합: 파이썬의 dict & ?\n",
    "\n",
    "# 내가 테스트할 파라미터 이름 : key\n",
    "# 내가 테스트할 값 : value\n",
    "parameters = {\n",
    "    \"n_neighbors\": [1,3,5,7,9]\n",
    "}"
   ]
  },
  {
   "cell_type": "code",
   "execution_count": 43,
   "id": "4a6774d7",
   "metadata": {},
   "outputs": [
    {
     "name": "stderr",
     "output_type": "stream",
     "text": [
      "C:\\ProgramData\\Anaconda3\\lib\\site-packages\\sklearn\\model_selection\\_search.py:285: UserWarning: The total space of parameters 5 is smaller than n_iter=10. Running 5 iterations. For exhaustive searches, use GridSearchCV.\n",
      "  warnings.warn(\n"
     ]
    },
    {
     "name": "stdout",
     "output_type": "stream",
     "text": [
      "Fitting 5 folds for each of 5 candidates, totalling 25 fits\n"
     ]
    },
    {
     "data": {
      "text/plain": [
       "RandomizedSearchCV(cv=KFold(n_splits=5, random_state=1234, shuffle=True),\n",
       "                   estimator=KNeighborsClassifier(n_jobs=-1), n_jobs=-1,\n",
       "                   param_distributions={'n_neighbors': [1, 3, 5, 7, 9]},\n",
       "                   random_state=1234, scoring='accuracy', verbose=2)"
      ]
     },
     "execution_count": 43,
     "metadata": {},
     "output_type": "execute_result"
    }
   ],
   "source": [
    "# 일단 : Random Search CV\n",
    "\n",
    "# 사용모델 : 고정 파라미터 값이 있으면 세팅\n",
    "knn = KNeighborsClassifier(n_jobs = -1)\n",
    "\n",
    "n_iter_search = 10 # 고정값 아님. 10번 반복\n",
    "# RGSCV준비. 분류모델_kfold종류_튜닝모델\n",
    "knn_kf_rgs = RandomizedSearchCV(\n",
    "    knn,\n",
    "    param_distributions = parameters,\n",
    "    cv = kfold,\n",
    "    scoring = \"accuracy\",\n",
    "    n_jobs = -1,\n",
    "    random_state=1234,\n",
    "    n_iter=n_iter_search,\n",
    "    verbose=2\n",
    ")\n",
    "\n",
    "# 실제 데이터를 적용하고 실행\n",
    "# 여기서 시간 많이 걸림\n",
    "knn_kf_rgs.fit(X_train,y_train)\n"
   ]
  },
  {
   "cell_type": "code",
   "execution_count": 60,
   "id": "b6f2e5a6",
   "metadata": {},
   "outputs": [
    {
     "data": {
      "text/plain": [
       "{'mean_fit_time': array([0.01278028, 0.0128686 , 0.01047344, 0.0085763 , 0.00718007]),\n",
       " 'std_fit_time': array([0.0051528 , 0.004725  , 0.00267881, 0.00048825, 0.00146567]),\n",
       " 'mean_score_time': array([0.14208865, 0.14287939, 0.08027115, 0.02775435, 0.01910062]),\n",
       " 'std_score_time': array([0.01155105, 0.01409936, 0.0568722 , 0.00170737, 0.00198605]),\n",
       " 'param_n_neighbors': masked_array(data=[1, 3, 5, 7, 9],\n",
       "              mask=[False, False, False, False, False],\n",
       "        fill_value='?',\n",
       "             dtype=object),\n",
       " 'params': [{'n_neighbors': 1},\n",
       "  {'n_neighbors': 3},\n",
       "  {'n_neighbors': 5},\n",
       "  {'n_neighbors': 7},\n",
       "  {'n_neighbors': 9}],\n",
       " 'split0_test_score': array([0.67832168, 0.71328671, 0.71328671, 0.72727273, 0.73426573]),\n",
       " 'split1_test_score': array([0.67132867, 0.69230769, 0.66433566, 0.71328671, 0.72027972]),\n",
       " 'split2_test_score': array([0.69014085, 0.72535211, 0.71830986, 0.73239437, 0.71126761]),\n",
       " 'split3_test_score': array([0.6971831 , 0.73943662, 0.67605634, 0.70422535, 0.70422535]),\n",
       " 'split4_test_score': array([0.67605634, 0.67605634, 0.6971831 , 0.67605634, 0.66901408]),\n",
       " 'mean_test_score': array([0.68260613, 0.7092879 , 0.69383433, 0.7106471 , 0.7078105 ]),\n",
       " 'std_test_score': array([0.00956763, 0.02269651, 0.02085612, 0.01997039, 0.02184183]),\n",
       " 'rank_test_score': array([5, 2, 4, 1, 3])}"
      ]
     },
     "execution_count": 60,
     "metadata": {},
     "output_type": "execute_result"
    }
   ],
   "source": [
    "knn_kf_rgs.cv_results_"
   ]
  },
  {
   "cell_type": "code",
   "execution_count": 61,
   "id": "d88c7872",
   "metadata": {
    "scrolled": true
   },
   "outputs": [
    {
     "data": {
      "text/plain": [
       "{'n_neighbors': 7}"
      ]
     },
     "execution_count": 61,
     "metadata": {},
     "output_type": "execute_result"
    }
   ],
   "source": [
    "knn_kf_rgs.best_params_"
   ]
  },
  {
   "cell_type": "code",
   "execution_count": 66,
   "id": "e31e9d1e",
   "metadata": {},
   "outputs": [
    {
     "data": {
      "text/plain": [
       "0.7106470993794938"
      ]
     },
     "execution_count": 66,
     "metadata": {},
     "output_type": "execute_result"
    }
   ],
   "source": [
    "knn_kf_rgs.best_score_"
   ]
  },
  {
   "cell_type": "code",
   "execution_count": 103,
   "id": "e15bcd24",
   "metadata": {},
   "outputs": [
    {
     "name": "stdout",
     "output_type": "stream",
     "text": [
      "KNN K-fold X_test Accuracy :  0.6983240223463687\n"
     ]
    }
   ],
   "source": [
    "# 위에 randomsearchCV 여러 번 시행한 결과 중, 제일 좋은 파라미터와 조합에 해당하는 모델을 가져옴.\n",
    "# 성능평가 할것. \n",
    "knn_kf_rgs_best = knn_kf_rgs.best_estimator_\n",
    "knn_kf_rgs_ypred = knn_kf_rgs_best.predict(X_test)\n",
    "knn_kf_rgs_acc = accuracy_score(y_test,knn_kf_rgs_ypred)\n",
    "print(\"KNN K-fold X_test Accuracy : \", knn_kf_rgs_acc)"
   ]
  },
  {
   "cell_type": "markdown",
   "id": "6568ef30",
   "metadata": {},
   "source": [
    "* 그러면 위에서 찾은 neighbor=7 값 주변으로 정밀 탐색을 해보자"
   ]
  },
  {
   "cell_type": "code",
   "execution_count": 67,
   "id": "6be0355d",
   "metadata": {},
   "outputs": [],
   "source": [
    "parameters = {\n",
    "    \"n_neighbors\":[5,7,9] # 이웃의 개수\n",
    "}"
   ]
  },
  {
   "cell_type": "code",
   "execution_count": 68,
   "id": "968fccd7",
   "metadata": {},
   "outputs": [
    {
     "name": "stdout",
     "output_type": "stream",
     "text": [
      "Fitting 5 folds for each of 3 candidates, totalling 15 fits\n"
     ]
    },
    {
     "data": {
      "text/plain": [
       "GridSearchCV(cv=KFold(n_splits=5, random_state=1234, shuffle=True),\n",
       "             estimator=KNeighborsClassifier(n_jobs=-1), n_jobs=-1,\n",
       "             param_grid={'n_neighbors': [5, 7, 9]}, scoring='accuracy',\n",
       "             verbose=2)"
      ]
     },
     "execution_count": 68,
     "metadata": {},
     "output_type": "execute_result"
    }
   ],
   "source": [
    "# 일단 : GridSearch CV\n",
    "\n",
    "# 사용모델 : 고정 파라미터 값이 있으면 세팅\n",
    "knn = KNeighborsClassifier(n_jobs = -1)\n",
    "\n",
    "\n",
    "# RGSCV준비. 분류모델_kfold종류_튜닝모델\n",
    "knn_kf_gs = GridSearchCV(\n",
    "    knn,\n",
    "    # 파라미터명+파라미터 값 조합의 딕셔너리\n",
    "    param_grid = parameters, \n",
    "    \n",
    "    # 교차 검증 폴드 수\n",
    "    cv = kfold,\n",
    "    # 평가방법\n",
    "    scoring = \"accuracy\",\n",
    "    # -1로 하면 모든 코어 다 사용\n",
    "    n_jobs = -1,\n",
    "    # log출력의 level을 조정. 숫자가 클수록 많은 log출력\n",
    "    verbose=2\n",
    ")\n",
    "\n",
    "# 실제 데이터를 적용하고 실행\n",
    "# 여기서 시간 많이 걸림\n",
    "knn_kf_gs.fit(X_train,y_train)\n"
   ]
  },
  {
   "cell_type": "code",
   "execution_count": 69,
   "id": "64e4eacc",
   "metadata": {},
   "outputs": [
    {
     "data": {
      "text/plain": [
       "0.7106470993794938"
      ]
     },
     "execution_count": 69,
     "metadata": {},
     "output_type": "execute_result"
    }
   ],
   "source": [
    "knn_kf_gs.best_score_"
   ]
  },
  {
   "cell_type": "code",
   "execution_count": 70,
   "id": "a7552b37",
   "metadata": {},
   "outputs": [
    {
     "data": {
      "text/plain": [
       "{'n_neighbors': 7}"
      ]
     },
     "execution_count": 70,
     "metadata": {},
     "output_type": "execute_result"
    }
   ],
   "source": [
    "knn_kf_gs.best_params_"
   ]
  },
  {
   "cell_type": "code",
   "execution_count": 71,
   "id": "0d5b8d18",
   "metadata": {},
   "outputs": [
    {
     "data": {
      "text/plain": [
       "{'mean_fit_time': array([0.00968237, 0.00887976, 0.00928745]),\n",
       " 'std_fit_time': array([0.00128859, 0.00156059, 0.00066816]),\n",
       " 'mean_score_time': array([0.11408544, 0.11668496, 0.05358367]),\n",
       " 'std_score_time': array([0.00460557, 0.00807035, 0.04404006]),\n",
       " 'param_n_neighbors': masked_array(data=[5, 7, 9],\n",
       "              mask=[False, False, False],\n",
       "        fill_value='?',\n",
       "             dtype=object),\n",
       " 'params': [{'n_neighbors': 5}, {'n_neighbors': 7}, {'n_neighbors': 9}],\n",
       " 'split0_test_score': array([0.71328671, 0.72727273, 0.73426573]),\n",
       " 'split1_test_score': array([0.66433566, 0.71328671, 0.72027972]),\n",
       " 'split2_test_score': array([0.71830986, 0.73239437, 0.71126761]),\n",
       " 'split3_test_score': array([0.67605634, 0.70422535, 0.70422535]),\n",
       " 'split4_test_score': array([0.6971831 , 0.67605634, 0.66901408]),\n",
       " 'mean_test_score': array([0.69383433, 0.7106471 , 0.7078105 ]),\n",
       " 'std_test_score': array([0.02085612, 0.01997039, 0.02184183]),\n",
       " 'rank_test_score': array([3, 1, 2])}"
      ]
     },
     "execution_count": 71,
     "metadata": {},
     "output_type": "execute_result"
    }
   ],
   "source": [
    "knn_kf_gs.cv_results_"
   ]
  },
  {
   "cell_type": "code",
   "execution_count": 72,
   "id": "c3174465",
   "metadata": {},
   "outputs": [
    {
     "name": "stdout",
     "output_type": "stream",
     "text": [
      "KNN K-fold X_test Accuracy :  0.7150837988826816\n"
     ]
    }
   ],
   "source": [
    "# 평가\n",
    "knn_kf_gs_best = knn_kf_gs.best_estimator_\n",
    "knn_kf_gs_ypred = knn_kf_gs_best.predict(X_test)\n",
    "knn_kf_gs_acc = accuracy_score(y_test,knn_kf_gs_ypred)\n",
    "print(\"KNN K-fold X_test Accuracy : \", knn_kf_gs_acc)"
   ]
  },
  {
   "cell_type": "markdown",
   "id": "8b6fc363",
   "metadata": {},
   "source": [
    "## knn - Stratified kfold"
   ]
  },
  {
   "cell_type": "code",
   "execution_count": 44,
   "id": "879ec56b",
   "metadata": {},
   "outputs": [
    {
     "name": "stdout",
     "output_type": "stream",
     "text": [
      "knn 0째번 검증 정확도 : 0.7133\n",
      "knn 1째번 검증 정확도 : 0.6783\n",
      "knn 2째번 검증 정확도 : 0.5915\n",
      "knn 3째번 검증 정확도 : 0.7465\n",
      "knn 4째번 검증 정확도 : 0.7254\n",
      "knn의 str_kfold 평균 정확도 : 0.6909977346597065\n"
     ]
    }
   ],
   "source": [
    "knn = KNeighborsClassifier(n_jobs=-1)\n",
    "\n",
    "scores = cross_val_score(knn, X_train, y_train, cv=str_kfold,scoring=\"accuracy\")\n",
    "\n",
    "for iter_count, acc in enumerate(scores):\n",
    "    print(\"knn {0}째번 검증 정확도 : {1:.4f}\".format(iter_count, acc))\n",
    "print(\"knn의 str_kfold 평균 정확도 :\", scores.mean())\n"
   ]
  },
  {
   "cell_type": "code",
   "execution_count": 60,
   "id": "cb4bfb6d",
   "metadata": {},
   "outputs": [
    {
     "name": "stderr",
     "output_type": "stream",
     "text": [
      "C:\\ProgramData\\Anaconda3\\lib\\site-packages\\sklearn\\model_selection\\_search.py:285: UserWarning: The total space of parameters 5 is smaller than n_iter=10. Running 5 iterations. For exhaustive searches, use GridSearchCV.\n",
      "  warnings.warn(\n"
     ]
    },
    {
     "name": "stdout",
     "output_type": "stream",
     "text": [
      "Fitting 5 folds for each of 5 candidates, totalling 25 fits\n"
     ]
    },
    {
     "data": {
      "text/plain": [
       "RandomizedSearchCV(cv=StratifiedKFold(n_splits=5, random_state=1234, shuffle=True),\n",
       "                   estimator=KNeighborsClassifier(n_jobs=-1), n_jobs=-1,\n",
       "                   param_distributions={'n_neighbors': [1, 3, 5, 7, 9]},\n",
       "                   random_state=1234, scoring='accuracy', verbose=2)"
      ]
     },
     "execution_count": 60,
     "metadata": {},
     "output_type": "execute_result"
    }
   ],
   "source": [
    "# knn- str_kfold- > RGS\n",
    "parameters ={\n",
    "    \"n_neighbors\" : [1,3,5,7,9]\n",
    "}\n",
    "\n",
    "knn = KNeighborsClassifier(n_jobs=-1)\n",
    "\n",
    "n_iter_search = 10\n",
    "\n",
    "knn_skf_rgs = RandomizedSearchCV(\n",
    "    knn,\n",
    "    param_distributions=parameters,\n",
    "    cv = str_kfold,  ####  변경!!!\n",
    "    scoring=\"accuracy\",\n",
    "    n_jobs= -1, \n",
    "    random_state=1234,\n",
    "    n_iter=n_iter_search,\n",
    "    verbose=2\n",
    ") \n",
    "knn_skf_rgs.fit(X_train, y_train)\n"
   ]
  },
  {
   "cell_type": "code",
   "execution_count": 61,
   "id": "f5f2f059",
   "metadata": {},
   "outputs": [
    {
     "data": {
      "text/plain": [
       "0.7205161036146951"
      ]
     },
     "execution_count": 61,
     "metadata": {},
     "output_type": "execute_result"
    }
   ],
   "source": [
    "knn_skf_rgs.best_score_"
   ]
  },
  {
   "cell_type": "code",
   "execution_count": 62,
   "id": "ac40802a",
   "metadata": {},
   "outputs": [
    {
     "data": {
      "text/plain": [
       "{'n_neighbors': 9}"
      ]
     },
     "execution_count": 62,
     "metadata": {},
     "output_type": "execute_result"
    }
   ],
   "source": [
    "knn_skf_rgs.best_params_"
   ]
  },
  {
   "cell_type": "code",
   "execution_count": 63,
   "id": "c5830fe1",
   "metadata": {},
   "outputs": [
    {
     "name": "stdout",
     "output_type": "stream",
     "text": [
      "0.7318435754189944\n"
     ]
    }
   ],
   "source": [
    "knn_skf_rgs_best = knn_skf_rgs.best_estimator_\n",
    "knn_skf_rgs_ypred = knn_skf_rgs_best.predict(X_test)\n",
    "knn_skf_rgs_acc = accuracy_score(y_test,knn_skf_rgs_ypred)\n",
    "print(knn_skf_rgs_acc)"
   ]
  },
  {
   "cell_type": "markdown",
   "id": "a00f4855",
   "metadata": {},
   "source": [
    "## RF(random forest) 4 종류에 대한 k-fold test"
   ]
  },
  {
   "cell_type": "code",
   "execution_count": 39,
   "id": "29391bb9",
   "metadata": {},
   "outputs": [],
   "source": [
    "from sklearn.ensemble import RandomForestClassifier"
   ]
  },
  {
   "cell_type": "markdown",
   "id": "fcc3dd2d",
   "metadata": {},
   "source": [
    "### RF: k-fold"
   ]
  },
  {
   "cell_type": "code",
   "execution_count": 47,
   "id": "2cc4ee5a",
   "metadata": {},
   "outputs": [],
   "source": [
    "rf = RandomForestClassifier(n_jobs=-1,random_state=1234)"
   ]
  },
  {
   "cell_type": "markdown",
   "id": "106053bd",
   "metadata": {},
   "source": [
    "### 1-1) RF, k-fold,baseline"
   ]
  },
  {
   "cell_type": "code",
   "execution_count": 48,
   "id": "f81e341f",
   "metadata": {},
   "outputs": [
    {
     "name": "stdout",
     "output_type": "stream",
     "text": [
      "RF 0째번 검증 정확도 : 0.7692\n",
      "RF 1째번 검증 정확도 : 0.8252\n",
      "RF 2째번 검증 정확도 : 0.7606\n",
      "RF 3째번 검증 정확도 : 0.8451\n",
      "RF 4째번 검증 정확도 : 0.7958\n",
      "RF의 kfold 평균 정확도 : 0.799162809021964\n"
     ]
    }
   ],
   "source": [
    "scores = cross_val_score(\n",
    "    rf,\n",
    "    X_train,\n",
    "    y_train,\n",
    "    cv=kfold,\n",
    "    scoring=\"accuracy\"\n",
    ")\n",
    "for iter_count, acc in enumerate(scores):\n",
    "    print(\"RF {0}째번 검증 정확도 : {1:.4f}\".format(iter_count, acc))\n",
    "print(\"RF의 kfold 평균 정확도 :\", scores.mean())\n"
   ]
  },
  {
   "cell_type": "markdown",
   "id": "616b4e8c",
   "metadata": {},
   "source": [
    "### RF,k-fold, RGS"
   ]
  },
  {
   "cell_type": "code",
   "execution_count": 49,
   "id": "17ade1b5",
   "metadata": {},
   "outputs": [
    {
     "name": "stdout",
     "output_type": "stream",
     "text": [
      "Fitting 5 folds for each of 10 candidates, totalling 50 fits\n"
     ]
    },
    {
     "data": {
      "text/plain": [
       "RandomizedSearchCV(cv=KFold(n_splits=5, random_state=1234, shuffle=True),\n",
       "                   estimator=RandomForestClassifier(n_jobs=-1,\n",
       "                                                    random_state=1234),\n",
       "                   n_jobs=-1,\n",
       "                   param_distributions={'max_depth': [3, 5, 10, 30, 50],\n",
       "                                        'max_features': ['auto', 'log2',\n",
       "                                                         'sqrt'],\n",
       "                                        'min_samples_leaf': [2, 3, 5, 10],\n",
       "                                        'min_samples_split': [2, 4, 6, 10, 30],\n",
       "                                        'n_estimators': [10, 50, 100, 500, 1000,\n",
       "                                                         3000]},\n",
       "                   random_state=1234, scoring='accuracy', verbose=2)"
      ]
     },
     "execution_count": 49,
     "metadata": {},
     "output_type": "execute_result"
    }
   ],
   "source": [
    "rf = RandomForestClassifier(n_jobs=-1,random_state=1234)\n",
    "\n",
    "parameters={\n",
    "    \"n_estimators\" : [10,50,100,500,1000,3000],\n",
    "    \"max_features\" : [\"auto\",\"log2\",\"sqrt\"],\n",
    "    \"max_depth\" : [3,5,10,30,50],\n",
    "    \"min_samples_split\" : [2,4,6,10,30],\n",
    "    \"min_samples_leaf\" : [2,3,5,10]\n",
    "    \n",
    "}\n",
    "\n",
    "n_iter_search = 10\n",
    "\n",
    "rf_kf_rgs = RandomizedSearchCV(\n",
    "    rf,\n",
    "    param_distributions=parameters,\n",
    "    cv = kfold,  ####  변경!!!\n",
    "    scoring=\"accuracy\",\n",
    "    n_jobs= -1, \n",
    "    random_state=1234,\n",
    "    n_iter=n_iter_search,\n",
    "    verbose=2\n",
    ") \n",
    "rf_kf_rgs.fit(X_train, y_train)\n"
   ]
  },
  {
   "cell_type": "code",
   "execution_count": 83,
   "id": "9fb75203",
   "metadata": {},
   "outputs": [
    {
     "data": {
      "text/plain": [
       "0.8160051216389244"
      ]
     },
     "execution_count": 83,
     "metadata": {},
     "output_type": "execute_result"
    }
   ],
   "source": [
    "rf_kf_rgs.best_score_"
   ]
  },
  {
   "cell_type": "code",
   "execution_count": 84,
   "id": "d00a0e9b",
   "metadata": {},
   "outputs": [
    {
     "data": {
      "text/plain": [
       "{'n_estimators': 500,\n",
       " 'min_samples_split': 2,\n",
       " 'min_samples_leaf': 2,\n",
       " 'max_features': 'auto',\n",
       " 'max_depth': 10}"
      ]
     },
     "execution_count": 84,
     "metadata": {},
     "output_type": "execute_result"
    }
   ],
   "source": [
    "rf_kf_rgs.best_params_"
   ]
  },
  {
   "cell_type": "code",
   "execution_count": 93,
   "id": "4fd9fc64",
   "metadata": {},
   "outputs": [
    {
     "name": "stdout",
     "output_type": "stream",
     "text": [
      "0.8324022346368715\n"
     ]
    }
   ],
   "source": [
    "rf_kf_rgs_best = rf_kf_rgs.best_estimator_\n",
    "rf_kf_rgs_best_ypred = rf_kf_rgs_best.predict(X_test)\n",
    "rf_kf_rgs_best_acc = accuracy_score(y_test,rf_kf_rgs_best_ypred)\n",
    "print(rf_kf_rgs_best_acc)"
   ]
  },
  {
   "cell_type": "markdown",
   "id": "ea624ce4",
   "metadata": {},
   "source": [
    "### RF, kfold,gs"
   ]
  },
  {
   "cell_type": "code",
   "execution_count": 86,
   "id": "f45ca7e9",
   "metadata": {},
   "outputs": [
    {
     "data": {
      "text/plain": [
       "{'n_estimators': 500,\n",
       " 'min_samples_split': 2,\n",
       " 'min_samples_leaf': 2,\n",
       " 'max_features': 'auto',\n",
       " 'max_depth': 10}"
      ]
     },
     "execution_count": 86,
     "metadata": {},
     "output_type": "execute_result"
    }
   ],
   "source": [
    "rf_kf_rgs.best_params_"
   ]
  },
  {
   "cell_type": "code",
   "execution_count": 89,
   "id": "5cbc7952",
   "metadata": {},
   "outputs": [
    {
     "name": "stdout",
     "output_type": "stream",
     "text": [
      "Fitting 5 folds for each of 432 candidates, totalling 2160 fits\n"
     ]
    },
    {
     "data": {
      "text/plain": [
       "GridSearchCV(cv=KFold(n_splits=5, random_state=1234, shuffle=True),\n",
       "             estimator=RandomForestClassifier(n_jobs=-1, random_state=1234),\n",
       "             n_jobs=-1,\n",
       "             param_grid={'max_depth': [8, 9, 10, 11, 12, 20],\n",
       "                         'max_features': ['auto', 'sqrt'],\n",
       "                         'min_samples_leaf': [2, 3, 4],\n",
       "                         'min_samples_split': [2, 3, 4],\n",
       "                         'n_estimators': [500, 200, 1000, 700]},\n",
       "             scoring='accuracy', verbose=2)"
      ]
     },
     "execution_count": 89,
     "metadata": {},
     "output_type": "execute_result"
    }
   ],
   "source": [
    "rf = RandomForestClassifier(n_jobs=-1, random_state=1234)\n",
    "\n",
    "parameters={\n",
    "    \"n_estimators\" : [500, 200, 1000, 700],\n",
    "    \"max_features\" : [\"auto\",\"sqrt\"],\n",
    "    \"max_depth\" : [8,9,10,11,12,20],\n",
    "    \"min_samples_split\" : [2,3,4 ],\n",
    "    \"min_samples_leaf\" : [2,3,4]\n",
    "}\n",
    "\n",
    "rf_kf_gs = GridSearchCV(\n",
    "    rf,\n",
    "    param_grid=parameters,\n",
    "    cv = kfold,  \n",
    "    scoring=\"accuracy\",\n",
    "    n_jobs= -1, \n",
    "    verbose=2\n",
    ") \n",
    "rf_kf_gs.fit(X_train, y_train)\n"
   ]
  },
  {
   "cell_type": "code",
   "execution_count": 90,
   "id": "ebc542c7",
   "metadata": {},
   "outputs": [
    {
     "data": {
      "text/plain": [
       "0.8230375258544272"
      ]
     },
     "execution_count": 90,
     "metadata": {},
     "output_type": "execute_result"
    }
   ],
   "source": [
    "rf_kf_gs.best_score_ "
   ]
  },
  {
   "cell_type": "code",
   "execution_count": 91,
   "id": "d09d1dfb",
   "metadata": {
    "scrolled": true
   },
   "outputs": [
    {
     "data": {
      "text/plain": [
       "{'max_depth': 12,\n",
       " 'max_features': 'auto',\n",
       " 'min_samples_leaf': 2,\n",
       " 'min_samples_split': 2,\n",
       " 'n_estimators': 500}"
      ]
     },
     "execution_count": 91,
     "metadata": {},
     "output_type": "execute_result"
    }
   ],
   "source": [
    "rf_kf_gs.best_params_"
   ]
  },
  {
   "cell_type": "code",
   "execution_count": 93,
   "id": "c8a933e0",
   "metadata": {},
   "outputs": [
    {
     "name": "stdout",
     "output_type": "stream",
     "text": [
      "0.8379888268156425\n"
     ]
    }
   ],
   "source": [
    "rf_kf_gs_best = rf_kf_gs.best_estimator_\n",
    "rf_kf_gs_best_ypred = rf_kf_gs_best.predict(X_test)\n",
    "rf_kf_gs_best_acc = accuracy_score(y_test,rf_kf_gs_best_ypred)\n",
    "print(rf_kf_gs_best_acc)"
   ]
  },
  {
   "cell_type": "code",
   "execution_count": 94,
   "id": "39f4f21b",
   "metadata": {},
   "outputs": [
    {
     "name": "stdout",
     "output_type": "stream",
     "text": [
      "Fitting 5 folds for each of 7 candidates, totalling 35 fits\n"
     ]
    },
    {
     "data": {
      "text/plain": [
       "GridSearchCV(cv=KFold(n_splits=5, random_state=1234, shuffle=True),\n",
       "             estimator=RandomForestClassifier(min_samples_leaf=2,\n",
       "                                              n_estimators=500, n_jobs=-1,\n",
       "                                              random_state=1234),\n",
       "             n_jobs=-1, param_grid={'max_depth': [8, 9, 10, 11, 12, 13, 14]},\n",
       "             scoring='accuracy', verbose=2)"
      ]
     },
     "execution_count": 94,
     "metadata": {},
     "output_type": "execute_result"
    }
   ],
   "source": [
    "rf = RandomForestClassifier(n_jobs=-1, random_state=1234,\n",
    "                            max_features=\"auto\",\n",
    "                           min_samples_leaf = 2,\n",
    "                           min_samples_split=2,n_estimators=500)\n",
    "\n",
    "parameters={\n",
    "    \"max_depth\" : [8,9,10,11,12,13,14],\n",
    "    }\n",
    "\n",
    "rf_kf_rgs = GridSearchCV(\n",
    "    rf,\n",
    "    param_grid=parameters,\n",
    "    cv = kfold,  \n",
    "    scoring=\"accuracy\",\n",
    "    n_jobs= -1, \n",
    "    verbose=2\n",
    ") \n",
    "rf_kf_gs.fit(X_train, y_train)\n"
   ]
  },
  {
   "cell_type": "code",
   "execution_count": 95,
   "id": "22952d00",
   "metadata": {},
   "outputs": [
    {
     "data": {
      "text/plain": [
       "0.8230375258544272"
      ]
     },
     "execution_count": 95,
     "metadata": {},
     "output_type": "execute_result"
    }
   ],
   "source": [
    "rf_kf_gs.best_score_ "
   ]
  },
  {
   "cell_type": "code",
   "execution_count": 96,
   "id": "e7ad0109",
   "metadata": {},
   "outputs": [
    {
     "data": {
      "text/plain": [
       "{'max_depth': 12}"
      ]
     },
     "execution_count": 96,
     "metadata": {},
     "output_type": "execute_result"
    }
   ],
   "source": [
    "rf_kf_gs.best_params_"
   ]
  },
  {
   "cell_type": "code",
   "execution_count": 97,
   "id": "c20bd302",
   "metadata": {},
   "outputs": [
    {
     "name": "stdout",
     "output_type": "stream",
     "text": [
      "0.8379888268156425\n"
     ]
    }
   ],
   "source": [
    "rf_kf_gs_best = rf_kf_gs.best_estimator_\n",
    "rf_kf_gs_best_ypred = rf_kf_gs_best.predict(X_test)\n",
    "rf_kf_gs_best_acc = accuracy_score(y_test,rf_kf_gs_best_ypred)\n",
    "print(rf_kf_gs_best_acc)"
   ]
  },
  {
   "cell_type": "code",
   "execution_count": null,
   "id": "9b018c12",
   "metadata": {},
   "outputs": [],
   "source": []
  },
  {
   "cell_type": "markdown",
   "id": "b50c8c02",
   "metadata": {},
   "source": [
    "## 실습"
   ]
  },
  {
   "cell_type": "code",
   "execution_count": 93,
   "id": "af159436",
   "metadata": {},
   "outputs": [
    {
     "name": "stdout",
     "output_type": "stream",
     "text": [
      "Fitting 5 folds for each of 10 candidates, totalling 50 fits\n"
     ]
    },
    {
     "data": {
      "text/plain": [
       "RandomizedSearchCV(cv=StratifiedKFold(n_splits=5, random_state=1234, shuffle=True),\n",
       "                   estimator=RandomForestClassifier(n_jobs=-1,\n",
       "                                                    random_state=1234),\n",
       "                   n_jobs=-1,\n",
       "                   param_distributions={'max_depth': [8, 9, 10, 11, 12, 20],\n",
       "                                        'max_features': ['auto', 'sqrt'],\n",
       "                                        'min_samples_leaf': [2, 3, 4],\n",
       "                                        'min_samples_split': [2, 3, 4],\n",
       "                                        'n_estimators': [500, 200, 1000, 700]},\n",
       "                   scoring='accuracy', verbose=2)"
      ]
     },
     "execution_count": 93,
     "metadata": {},
     "output_type": "execute_result"
    }
   ],
   "source": [
    "# str_kfold (rgs)\n",
    "rf = RandomForestClassifier(n_jobs=-1, random_state=1234)\n",
    "\n",
    "parameters={\n",
    "    \"n_estimators\" : [500, 200, 1000, 700],\n",
    "    \"max_features\" : [\"auto\",\"sqrt\"],\n",
    "    \"max_depth\" : [8,9,10,11,12,20],\n",
    "    \"min_samples_split\" : [2,3,4 ],\n",
    "    \"min_samples_leaf\" : [2,3,4]\n",
    "}\n",
    "\n",
    "rf_kf_rgs = RandomizedSearchCV(\n",
    "    rf,\n",
    "    param_distributions=parameters,\n",
    "    cv = str_kfold,  \n",
    "    scoring=\"accuracy\",\n",
    "    n_jobs= -1, \n",
    "    verbose=2\n",
    ") \n",
    "rf_kf_rgs.fit(X_train, y_train)\n"
   ]
  },
  {
   "cell_type": "code",
   "execution_count": 94,
   "id": "efe05e2f",
   "metadata": {},
   "outputs": [
    {
     "data": {
      "text/plain": [
       "0.8159952723333006"
      ]
     },
     "execution_count": 94,
     "metadata": {},
     "output_type": "execute_result"
    }
   ],
   "source": [
    "rf_kf_rgs.best_score_ "
   ]
  },
  {
   "cell_type": "code",
   "execution_count": 95,
   "id": "3d5eb00b",
   "metadata": {
    "scrolled": true
   },
   "outputs": [
    {
     "data": {
      "text/plain": [
       "{'n_estimators': 700,\n",
       " 'min_samples_split': 4,\n",
       " 'min_samples_leaf': 2,\n",
       " 'max_features': 'sqrt',\n",
       " 'max_depth': 12}"
      ]
     },
     "execution_count": 95,
     "metadata": {},
     "output_type": "execute_result"
    }
   ],
   "source": [
    "rf_kf_rgs.best_params_"
   ]
  },
  {
   "cell_type": "code",
   "execution_count": 96,
   "id": "1946a008",
   "metadata": {},
   "outputs": [
    {
     "name": "stdout",
     "output_type": "stream",
     "text": [
      "0.8379888268156425\n"
     ]
    }
   ],
   "source": [
    "rf_kf_rgs_best = rf_kf_rgs.best_estimator_\n",
    "rf_kf_rgs_best_ypred = rf_kf_rgs_best.predict(X_test)\n",
    "rf_kf_rgs_best_acc = accuracy_score(y_test,rf_kf_rgs_best_ypred)\n",
    "print(rf_kf_rgs_best_acc)"
   ]
  },
  {
   "cell_type": "code",
   "execution_count": 102,
   "id": "b2ae0899",
   "metadata": {},
   "outputs": [
    {
     "name": "stdout",
     "output_type": "stream",
     "text": [
      "Fitting 5 folds for each of 360 candidates, totalling 1800 fits\n"
     ]
    },
    {
     "data": {
      "text/plain": [
       "GridSearchCV(cv=StratifiedKFold(n_splits=5, random_state=1234, shuffle=True),\n",
       "             estimator=RandomForestClassifier(n_jobs=-1, random_state=1234),\n",
       "             n_jobs=-1,\n",
       "             param_grid={'max_depth': [7, 8, 9, 10, 11],\n",
       "                         'max_features': ['auto', 'sqrt'],\n",
       "                         'min_samples_leaf': [3, 4, 5],\n",
       "                         'min_samples_split': [3, 4, 5],\n",
       "                         'n_estimators': [500, 600, 700, 800]},\n",
       "             scoring='accuracy', verbose=2)"
      ]
     },
     "execution_count": 102,
     "metadata": {},
     "output_type": "execute_result"
    }
   ],
   "source": [
    "# str_kfold (gs)\n",
    "rf = RandomForestClassifier(n_jobs=-1, random_state=1234)\n",
    "\n",
    "parameters={\n",
    "    \"n_estimators\" : [500,600, 700,800],\n",
    "    \"max_features\" : [\"auto\",\"sqrt\"],\n",
    "    \"max_depth\" : [7,8,9,10,11],\n",
    "    \"min_samples_split\" : [3,4,5 ],\n",
    "    \"min_samples_leaf\" : [3,4,5]\n",
    "}\n",
    "\n",
    "rf_kf_gs = GridSearchCV(\n",
    "    rf,\n",
    "    param_grid=parameters,\n",
    "    cv = str_kfold,  \n",
    "    scoring=\"accuracy\",\n",
    "    n_jobs= -1, \n",
    "    verbose=2\n",
    ") \n",
    "rf_kf_gs.fit(X_train, y_train)\n"
   ]
  },
  {
   "cell_type": "code",
   "execution_count": 103,
   "id": "4392c826",
   "metadata": {},
   "outputs": [
    {
     "data": {
      "text/plain": [
       "0.814606520240323"
      ]
     },
     "execution_count": 103,
     "metadata": {},
     "output_type": "execute_result"
    }
   ],
   "source": [
    "rf_kf_gs.best_score_ "
   ]
  },
  {
   "cell_type": "code",
   "execution_count": 104,
   "id": "3df1b66c",
   "metadata": {
    "scrolled": true
   },
   "outputs": [
    {
     "data": {
      "text/plain": [
       "{'max_depth': 9,\n",
       " 'max_features': 'auto',\n",
       " 'min_samples_leaf': 3,\n",
       " 'min_samples_split': 3,\n",
       " 'n_estimators': 600}"
      ]
     },
     "execution_count": 104,
     "metadata": {},
     "output_type": "execute_result"
    }
   ],
   "source": [
    "rf_kf_gs.best_params_"
   ]
  },
  {
   "cell_type": "code",
   "execution_count": 105,
   "id": "7189e069",
   "metadata": {},
   "outputs": [
    {
     "name": "stdout",
     "output_type": "stream",
     "text": [
      "0.8324022346368715\n"
     ]
    }
   ],
   "source": [
    "rf_kf_gs_best = rf_kf_gs.best_estimator_\n",
    "rf_kf_gs_best_ypred = rf_kf_gs_best.predict(X_test)\n",
    "rf_kf_gs_best_acc = accuracy_score(y_test,rf_kf_gs_best_ypred)\n",
    "print(rf_kf_gs_best_acc)"
   ]
  },
  {
   "cell_type": "code",
   "execution_count": 107,
   "id": "3a227c2c",
   "metadata": {},
   "outputs": [
    {
     "name": "stdout",
     "output_type": "stream",
     "text": [
      "Fitting 50 folds for each of 10 candidates, totalling 500 fits\n"
     ]
    },
    {
     "data": {
      "text/plain": [
       "RandomizedSearchCV(cv=RepeatedStratifiedKFold(n_repeats=10, n_splits=5, random_state=1234),\n",
       "                   estimator=RandomForestClassifier(n_jobs=-1,\n",
       "                                                    random_state=1234),\n",
       "                   n_jobs=-1,\n",
       "                   param_distributions={'max_depth': [8, 9, 10, 11, 20],\n",
       "                                        'max_features': ['auto', 'sqrt'],\n",
       "                                        'min_samples_leaf': [3, 4, 5],\n",
       "                                        'min_samples_split': [3, 4, 5],\n",
       "                                        'n_estimators': [500, 600, 700, 1000]},\n",
       "                   scoring='accuracy', verbose=2)"
      ]
     },
     "execution_count": 107,
     "metadata": {},
     "output_type": "execute_result"
    }
   ],
   "source": [
    "#repeated k-fold (rgs)\n",
    "rf = RandomForestClassifier(n_jobs=-1, random_state=1234)\n",
    "\n",
    "parameters={\n",
    "    \"n_estimators\" : [500,600, 700,1000],\n",
    "    \"max_features\" : [\"auto\",\"sqrt\"],\n",
    "    \"max_depth\" : [8,9,10,11,20],\n",
    "    \"min_samples_split\" : [3,4,5 ],\n",
    "    \"min_samples_leaf\" : [3,4,5]\n",
    "}\n",
    "\n",
    "rf_rkf_rgs = RandomizedSearchCV(\n",
    "    rf,\n",
    "    param_distributions=parameters,\n",
    "    cv = rkfold,  \n",
    "    scoring=\"accuracy\",\n",
    "    n_jobs= -1, \n",
    "    verbose=2\n",
    ") \n",
    "rf_rkf_rgs.fit(X_train, y_train)\n"
   ]
  },
  {
   "cell_type": "code",
   "execution_count": 108,
   "id": "6d0b021f",
   "metadata": {},
   "outputs": [
    {
     "data": {
      "text/plain": [
       "0.8172727272727272"
      ]
     },
     "execution_count": 108,
     "metadata": {},
     "output_type": "execute_result"
    }
   ],
   "source": [
    "rf_rkf_rgs.best_score_ "
   ]
  },
  {
   "cell_type": "code",
   "execution_count": 109,
   "id": "d662fdde",
   "metadata": {},
   "outputs": [
    {
     "data": {
      "text/plain": [
       "{'n_estimators': 1000,\n",
       " 'min_samples_split': 5,\n",
       " 'min_samples_leaf': 5,\n",
       " 'max_features': 'auto',\n",
       " 'max_depth': 11}"
      ]
     },
     "execution_count": 109,
     "metadata": {},
     "output_type": "execute_result"
    }
   ],
   "source": [
    "rf_rkf_rgs.best_params_"
   ]
  },
  {
   "cell_type": "code",
   "execution_count": 110,
   "id": "695c75dc",
   "metadata": {},
   "outputs": [
    {
     "name": "stdout",
     "output_type": "stream",
     "text": [
      "0.8435754189944135\n"
     ]
    }
   ],
   "source": [
    "rf_rkf_rgs_best = rf_rkf_rgs.best_estimator_\n",
    "rf_rkf_rgs_best_ypred = rf_rkf_rgs_best.predict(X_test)\n",
    "rf_rkf_rgs_best_acc = accuracy_score(y_test,rf_rkf_rgs_best_ypred)\n",
    "print(rf_rkf_rgs_best_acc)"
   ]
  },
  {
   "cell_type": "code",
   "execution_count": 112,
   "id": "4d71aebb",
   "metadata": {},
   "outputs": [
    {
     "name": "stdout",
     "output_type": "stream",
     "text": [
      "Fitting 50 folds for each of 27 candidates, totalling 1350 fits\n"
     ]
    },
    {
     "data": {
      "text/plain": [
       "GridSearchCV(cv=RepeatedStratifiedKFold(n_repeats=10, n_splits=5, random_state=1234),\n",
       "             estimator=RandomForestClassifier(n_jobs=-1, random_state=1234),\n",
       "             n_jobs=-1,\n",
       "             param_grid={'max_depth': [10, 11, 12], 'max_features': ['auto'],\n",
       "                         'min_samples_leaf': [4, 5, 6],\n",
       "                         'min_samples_split': [4, 5, 6],\n",
       "                         'n_estimators': [1000]},\n",
       "             scoring='accuracy', verbose=2)"
      ]
     },
     "execution_count": 112,
     "metadata": {},
     "output_type": "execute_result"
    }
   ],
   "source": [
    "#repeated k-fold (gs)\n",
    "rf = RandomForestClassifier(n_jobs=-1, random_state=1234)\n",
    "\n",
    "parameters={\n",
    "    \"n_estimators\" : [1000],\n",
    "    \"max_features\" : [\"auto\"],\n",
    "    \"max_depth\" : [10,11,12],\n",
    "    \"min_samples_split\" : [4,5,6 ],\n",
    "    \"min_samples_leaf\" : [4,5,6]\n",
    "}\n",
    "\n",
    "rf_rkf_gs = GridSearchCV(\n",
    "    rf,\n",
    "    param_grid=parameters,\n",
    "    cv = rkfold,  \n",
    "    scoring=\"accuracy\",\n",
    "    n_jobs= -1, \n",
    "    verbose=2\n",
    ") \n",
    "rf_rkf_gs.fit(X_train, y_train)\n"
   ]
  },
  {
   "cell_type": "code",
   "execution_count": 113,
   "id": "f5e60f58",
   "metadata": {},
   "outputs": [
    {
     "data": {
      "text/plain": [
       "0.8172727272727272"
      ]
     },
     "execution_count": 113,
     "metadata": {},
     "output_type": "execute_result"
    }
   ],
   "source": [
    "rf_rkf_gs.best_score_ "
   ]
  },
  {
   "cell_type": "code",
   "execution_count": 114,
   "id": "6bd3d03f",
   "metadata": {},
   "outputs": [
    {
     "data": {
      "text/plain": [
       "{'max_depth': 11,\n",
       " 'max_features': 'auto',\n",
       " 'min_samples_leaf': 5,\n",
       " 'min_samples_split': 4,\n",
       " 'n_estimators': 1000}"
      ]
     },
     "execution_count": 114,
     "metadata": {},
     "output_type": "execute_result"
    }
   ],
   "source": [
    "rf_rkf_gs.best_params_"
   ]
  },
  {
   "cell_type": "code",
   "execution_count": 115,
   "id": "f8ff0572",
   "metadata": {},
   "outputs": [
    {
     "name": "stdout",
     "output_type": "stream",
     "text": [
      "0.8435754189944135\n"
     ]
    }
   ],
   "source": [
    "rf_rkf_gs_best = rf_rkf_gs.best_estimator_\n",
    "rf_rkf_gs_best_ypred = rf_rkf_gs_best.predict(X_test)\n",
    "rf_rkf_gs_best_acc = accuracy_score(y_test,rf_rkf_gs_best_ypred)\n",
    "print(rf_rkf_gs_best_acc)"
   ]
  },
  {
   "cell_type": "code",
   "execution_count": 121,
   "id": "ebbca17a",
   "metadata": {},
   "outputs": [
    {
     "name": "stdout",
     "output_type": "stream",
     "text": [
      "Fitting 50 folds for each of 10 candidates, totalling 500 fits\n"
     ]
    },
    {
     "data": {
      "text/plain": [
       "RandomizedSearchCV(cv=RepeatedStratifiedKFold(n_repeats=10, n_splits=5, random_state=1234),\n",
       "                   estimator=RandomForestClassifier(n_jobs=-1,\n",
       "                                                    random_state=1234),\n",
       "                   n_jobs=-1,\n",
       "                   param_distributions={'max_depth': [9, 10, 11, 20],\n",
       "                                        'max_features': ['auto', 'sqrt'],\n",
       "                                        'min_samples_leaf': [5],\n",
       "                                        'min_samples_split': [5],\n",
       "                                        'n_estimators': [950, 1000, 1050]},\n",
       "                   scoring='accuracy', verbose=2)"
      ]
     },
     "execution_count": 121,
     "metadata": {},
     "output_type": "execute_result"
    }
   ],
   "source": [
    "#repeated stratified k-fold (rgs)\n",
    "rf = RandomForestClassifier(n_jobs=-1, random_state=1234)\n",
    "\n",
    "parameters={\n",
    "    \"n_estimators\" : [950,1000,1050],\n",
    "    \"max_features\" : [\"auto\",\"sqrt\"],\n",
    "    \"max_depth\" : [9,10,11,20],\n",
    "    \"min_samples_split\" : [5 ],\n",
    "    \"min_samples_leaf\" : [5]\n",
    "}\n",
    "\n",
    "rf_rskf_rgs = RandomizedSearchCV(\n",
    "    rf,\n",
    "    param_distributions=parameters,\n",
    "    cv = rskfold,  \n",
    "    scoring=\"accuracy\",\n",
    "    n_jobs= -1, \n",
    "    verbose=2\n",
    ") \n",
    "rf_rskf_rgs.fit(X_train, y_train)\n"
   ]
  },
  {
   "cell_type": "code",
   "execution_count": 122,
   "id": "5bd1882e",
   "metadata": {},
   "outputs": [
    {
     "data": {
      "text/plain": [
       "0.8176923076923077"
      ]
     },
     "execution_count": 122,
     "metadata": {},
     "output_type": "execute_result"
    }
   ],
   "source": [
    "rf_rskf_rgs.best_score_ "
   ]
  },
  {
   "cell_type": "code",
   "execution_count": 123,
   "id": "ed44bfb9",
   "metadata": {},
   "outputs": [
    {
     "data": {
      "text/plain": [
       "{'n_estimators': 1050,\n",
       " 'min_samples_split': 5,\n",
       " 'min_samples_leaf': 5,\n",
       " 'max_features': 'sqrt',\n",
       " 'max_depth': 9}"
      ]
     },
     "execution_count": 123,
     "metadata": {},
     "output_type": "execute_result"
    }
   ],
   "source": [
    "rf_rskf_rgs.best_params_"
   ]
  },
  {
   "cell_type": "code",
   "execution_count": 124,
   "id": "9953efe6",
   "metadata": {},
   "outputs": [
    {
     "name": "stdout",
     "output_type": "stream",
     "text": [
      "0.8379888268156425\n"
     ]
    }
   ],
   "source": [
    "rf_rskf_rgs_best = rf_rskf_rgs.best_estimator_\n",
    "rf_rskf_rgs_best_ypred = rf_rskf_rgs_best.predict(X_test)\n",
    "rf_rskf_rgs_best_acc = accuracy_score(y_test,rf_rskf_rgs_best_ypred)\n",
    "print(rf_rskf_rgs_best_acc)"
   ]
  },
  {
   "cell_type": "code",
   "execution_count": 50,
   "id": "12461b83",
   "metadata": {},
   "outputs": [
    {
     "name": "stdout",
     "output_type": "stream",
     "text": [
      "Fitting 50 folds for each of 4 candidates, totalling 200 fits\n"
     ]
    },
    {
     "data": {
      "text/plain": [
       "GridSearchCV(cv=RepeatedStratifiedKFold(n_repeats=10, n_splits=5, random_state=1234),\n",
       "             estimator=RandomForestClassifier(n_jobs=-1, random_state=1234),\n",
       "             n_jobs=-1,\n",
       "             param_grid={'max_depth': [8, 9], 'max_features': ['auto', 'sqrt'],\n",
       "                         'min_samples_leaf': [5], 'min_samples_split': [5],\n",
       "                         'n_estimators': [1050]},\n",
       "             scoring='accuracy', verbose=2)"
      ]
     },
     "execution_count": 50,
     "metadata": {},
     "output_type": "execute_result"
    }
   ],
   "source": [
    "#repeated stratified k-fold (gs)\n",
    "rf = RandomForestClassifier(n_jobs=-1, random_state=1234)\n",
    "\n",
    "parameters={\n",
    "    \"n_estimators\" : [1050],\n",
    "    \"max_features\" : [\"auto\",\"sqrt\"],\n",
    "    \"max_depth\" : [8,9],\n",
    "    \"min_samples_split\" : [5 ],\n",
    "    \"min_samples_leaf\" : [5]\n",
    "}\n",
    "\n",
    "rf_rskf_gs = GridSearchCV(\n",
    "    rf,\n",
    "    param_grid=parameters,\n",
    "    cv = rskfold,  \n",
    "    scoring=\"accuracy\",\n",
    "    n_jobs= -1, \n",
    "    verbose=2\n",
    ") \n",
    "rf_rskf_gs.fit(X_train, y_train)\n"
   ]
  },
  {
   "cell_type": "code",
   "execution_count": 126,
   "id": "bb148ae3",
   "metadata": {},
   "outputs": [
    {
     "data": {
      "text/plain": [
       "0.8176923076923077"
      ]
     },
     "execution_count": 126,
     "metadata": {},
     "output_type": "execute_result"
    }
   ],
   "source": [
    "rf_rskf_gs.best_score_ "
   ]
  },
  {
   "cell_type": "code",
   "execution_count": 127,
   "id": "2360f8d1",
   "metadata": {},
   "outputs": [
    {
     "data": {
      "text/plain": [
       "{'max_depth': 9,\n",
       " 'max_features': 'auto',\n",
       " 'min_samples_leaf': 5,\n",
       " 'min_samples_split': 5,\n",
       " 'n_estimators': 1050}"
      ]
     },
     "execution_count": 127,
     "metadata": {},
     "output_type": "execute_result"
    }
   ],
   "source": [
    "rf_rskf_gs.best_params_"
   ]
  },
  {
   "cell_type": "code",
   "execution_count": 55,
   "id": "663ed58c",
   "metadata": {
    "scrolled": true
   },
   "outputs": [
    {
     "name": "stdout",
     "output_type": "stream",
     "text": [
      "0.8379888268156425\n"
     ]
    }
   ],
   "source": [
    "rf_rskf_gs_best = rf_rskf_gs.best_estimator_\n",
    "rf_rskf_gs_best_ypred = rf_rskf_gs_best.predict(X_test)\n",
    "rf_rskf_gs_best_acc = accuracy_score(y_test,rf_rskf_gs_best_ypred)\n",
    "print(rf_rskf_gs_best_acc)"
   ]
  },
  {
   "cell_type": "markdown",
   "id": "56cbf7b5",
   "metadata": {},
   "source": [
    "## 만든 모델에 대한 저장, 불러오기"
   ]
  },
  {
   "cell_type": "code",
   "execution_count": 53,
   "id": "8819d1df",
   "metadata": {},
   "outputs": [],
   "source": [
    "import joblib"
   ]
  },
  {
   "cell_type": "markdown",
   "id": "26350a13",
   "metadata": {},
   "source": [
    "* 모델 저장"
   ]
  },
  {
   "cell_type": "code",
   "execution_count": 94,
   "id": "a3469ca8",
   "metadata": {},
   "outputs": [
    {
     "data": {
      "text/plain": [
       "['rf_model_best.pkl']"
      ]
     },
     "execution_count": 94,
     "metadata": {},
     "output_type": "execute_result"
    }
   ],
   "source": [
    "# 어떤 모델을 어디에 저장?\n",
    "joblib.dump(rf_kf_rgs_best,\"rf_model_best.pkl\")"
   ]
  },
  {
   "cell_type": "markdown",
   "id": "ac223ad9",
   "metadata": {},
   "source": [
    "* 모델불러오기"
   ]
  },
  {
   "cell_type": "code",
   "execution_count": 95,
   "id": "7108541a",
   "metadata": {},
   "outputs": [],
   "source": [
    "model_path = \"rf_model_best.pkl\"\n",
    "rf_backup_model = joblib.load(model_path)"
   ]
  },
  {
   "cell_type": "code",
   "execution_count": 96,
   "id": "6c7623fd",
   "metadata": {},
   "outputs": [
    {
     "data": {
      "text/plain": [
       "RandomForestClassifier(max_depth=10, min_samples_leaf=2, n_estimators=500,\n",
       "                       n_jobs=-1, random_state=1234)"
      ]
     },
     "execution_count": 96,
     "metadata": {},
     "output_type": "execute_result"
    }
   ],
   "source": [
    "rf_backup_model"
   ]
  },
  {
   "cell_type": "code",
   "execution_count": 97,
   "id": "5c36ee55",
   "metadata": {},
   "outputs": [
    {
     "data": {
      "text/plain": [
       "array([ True,  True,  True,  True,  True,  True,  True,  True,  True,\n",
       "        True,  True,  True,  True,  True,  True,  True,  True,  True,\n",
       "        True,  True,  True,  True,  True,  True,  True,  True,  True,\n",
       "        True,  True,  True,  True,  True,  True,  True,  True,  True,\n",
       "        True,  True,  True,  True,  True,  True,  True,  True,  True,\n",
       "        True,  True,  True,  True,  True,  True,  True,  True,  True,\n",
       "        True,  True,  True,  True,  True,  True,  True,  True,  True,\n",
       "        True,  True,  True,  True,  True,  True,  True,  True,  True,\n",
       "        True,  True,  True,  True,  True,  True,  True,  True,  True,\n",
       "        True,  True,  True,  True,  True,  True,  True,  True,  True,\n",
       "        True,  True,  True,  True,  True,  True,  True,  True,  True,\n",
       "        True,  True,  True,  True,  True,  True,  True,  True,  True,\n",
       "        True,  True,  True,  True,  True,  True,  True,  True,  True,\n",
       "        True,  True,  True,  True,  True,  True,  True,  True,  True,\n",
       "        True,  True,  True,  True,  True,  True,  True,  True,  True,\n",
       "        True,  True,  True,  True,  True,  True,  True,  True,  True,\n",
       "        True,  True,  True,  True,  True,  True,  True,  True,  True,\n",
       "        True,  True,  True,  True,  True,  True,  True,  True,  True,\n",
       "        True,  True,  True,  True,  True,  True,  True,  True,  True,\n",
       "        True,  True,  True,  True,  True,  True,  True,  True])"
      ]
     },
     "execution_count": 97,
     "metadata": {},
     "output_type": "execute_result"
    }
   ],
   "source": [
    "# 원본과 동일한지 확인\n",
    "rf_backup_model.predict(X_test) == rf_kf_rgs_best.predict(X_test)"
   ]
  },
  {
   "cell_type": "code",
   "execution_count": null,
   "id": "0697e147",
   "metadata": {},
   "outputs": [],
   "source": []
  },
  {
   "cell_type": "markdown",
   "id": "3aab27ad",
   "metadata": {},
   "source": [
    "## SVC : k-fold"
   ]
  },
  {
   "cell_type": "markdown",
   "id": "7d0f74b1",
   "metadata": {},
   "source": [
    "* svm 계열을 사용할 때에는 일반적으로 정규화 작업을 거쳐서 사용.(minMax, Standard scaler)"
   ]
  },
  {
   "cell_type": "code",
   "execution_count": 64,
   "id": "5711d516",
   "metadata": {},
   "outputs": [],
   "source": [
    "from sklearn.svm import SVC"
   ]
  },
  {
   "cell_type": "code",
   "execution_count": 60,
   "id": "903bf176",
   "metadata": {},
   "outputs": [],
   "source": [
    "# 일단 svm대략 어느 정도가 되는지 baseline 찾아보자\n",
    "svm = SVC(max_iter=1000, random_state=1234)"
   ]
  },
  {
   "cell_type": "code",
   "execution_count": 61,
   "id": "ce56d85d",
   "metadata": {},
   "outputs": [
    {
     "name": "stdout",
     "output_type": "stream",
     "text": [
      "SVC 0째번 검증 정확도 : 0.6573\n",
      "SVC 1째번 검증 정확도 : 0.7133\n",
      "SVC 2째번 검증 정확도 : 0.6761\n",
      "SVC 3째번 검증 정확도 : 0.7113\n",
      "SVC 4째번 검증 정확도 : 0.6479\n",
      "SVC의 kfold 평균 정확도 : 0.681168127647001\n"
     ]
    }
   ],
   "source": [
    "scores = cross_val_score(\n",
    "    svm,\n",
    "    X_train,\n",
    "    y_train,\n",
    "    cv=kfold,\n",
    "    scoring=\"accuracy\"\n",
    ")\n",
    "for iter_count, acc in enumerate(scores):\n",
    "    print(\"SVC {0}째번 검증 정확도 : {1:.4f}\".format(iter_count, acc))\n",
    "print(\"SVC의 kfold 평균 정확도 :\", scores.mean())\n"
   ]
  },
  {
   "cell_type": "markdown",
   "id": "665ac3cd",
   "metadata": {},
   "source": [
    "## SVC : RGS"
   ]
  },
  {
   "cell_type": "code",
   "execution_count": 67,
   "id": "ea0dfd18",
   "metadata": {},
   "outputs": [
    {
     "name": "stdout",
     "output_type": "stream",
     "text": [
      "Fitting 5 folds for each of 10 candidates, totalling 50 fits\n"
     ]
    },
    {
     "name": "stderr",
     "output_type": "stream",
     "text": [
      "C:\\ProgramData\\Anaconda3\\lib\\site-packages\\sklearn\\svm\\_base.py:255: ConvergenceWarning: Solver terminated early (max_iter=1000).  Consider pre-processing your data with StandardScaler or MinMaxScaler.\n",
      "  warnings.warn('Solver terminated early (max_iter=%i).'\n"
     ]
    },
    {
     "data": {
      "text/plain": [
       "RandomizedSearchCV(cv=KFold(n_splits=5, random_state=1234, shuffle=True),\n",
       "                   estimator=SVC(max_iter=1000, random_state=1234), n_jobs=-1,\n",
       "                   param_distributions={'C': [0.0001, 0.001, 0.01, 0.1, 1, 10,\n",
       "                                              50, 100],\n",
       "                                        'degree': [2, 3, 4, 5, 6, 7],\n",
       "                                        'gamma': [0.001, 0.01, 0.1, 0.5],\n",
       "                                        'kernel': ['linear', 'poly', 'rbf']},\n",
       "                   random_state=1234, scoring='accuracy', verbose=3)"
      ]
     },
     "execution_count": 67,
     "metadata": {},
     "output_type": "execute_result"
    }
   ],
   "source": [
    "svm = SVC(max_iter=1000, random_state=1234)\n",
    "\n",
    "parameters = {\n",
    "    \"C\" : [0.0001, 0.001, 0.01, 0.1, 1, 10, 50,100],\n",
    "    \"kernel\" : [\"linear\", \"poly\",\"rbf\"],\n",
    "    \"gamma\" : [0.001, 0.01, 0.1, 0.5],\n",
    "    \"degree\" : [2,3,4,5,6,7]\n",
    "}\n",
    "\n",
    "n_iter_search = 10\n",
    "\n",
    "svm_kf_rgs = RandomizedSearchCV(\n",
    "    svm,\n",
    "    param_distributions=parameters,\n",
    "    cv = kfold,  ####  변경!!!\n",
    "    scoring=\"accuracy\",\n",
    "    n_jobs= -1, \n",
    "    random_state=1234,\n",
    "    n_iter=n_iter_search,\n",
    "    verbose=3\n",
    ") \n",
    "svm_kf_rgs.fit(X_train, y_train)\n"
   ]
  },
  {
   "cell_type": "code",
   "execution_count": 68,
   "id": "e663027f",
   "metadata": {},
   "outputs": [
    {
     "data": {
      "text/plain": [
       "0.7514035260514135"
      ]
     },
     "execution_count": 68,
     "metadata": {},
     "output_type": "execute_result"
    }
   ],
   "source": [
    "svm_kf_rgs.best_score_"
   ]
  },
  {
   "cell_type": "code",
   "execution_count": 69,
   "id": "16b99311",
   "metadata": {},
   "outputs": [
    {
     "data": {
      "text/plain": [
       "{'kernel': 'linear', 'gamma': 0.001, 'degree': 4, 'C': 0.01}"
      ]
     },
     "execution_count": 69,
     "metadata": {},
     "output_type": "execute_result"
    }
   ],
   "source": [
    "svm_kf_rgs.best_params_"
   ]
  },
  {
   "cell_type": "code",
   "execution_count": 71,
   "id": "0960b5c8",
   "metadata": {},
   "outputs": [
    {
     "name": "stdout",
     "output_type": "stream",
     "text": [
      "0.7932960893854749\n"
     ]
    }
   ],
   "source": [
    "svm_rgs_best = svm_kf_rgs.best_estimator_\n",
    "svm_rgs_best_ypred = svm_rgs_best.predict(X_test)\n",
    "svm_rgs_best_acc = accuracy_score(y_test,svm_rgs_best_ypred)\n",
    "print(svm_rgs_best_acc)"
   ]
  },
  {
   "cell_type": "markdown",
   "id": "6a570ddf",
   "metadata": {},
   "source": [
    "## SVM , GS"
   ]
  },
  {
   "cell_type": "code",
   "execution_count": 72,
   "id": "c6c5e53d",
   "metadata": {},
   "outputs": [
    {
     "data": {
      "text/plain": [
       "{'kernel': 'linear', 'gamma': 0.001, 'degree': 4, 'C': 0.01}"
      ]
     },
     "execution_count": 72,
     "metadata": {},
     "output_type": "execute_result"
    }
   ],
   "source": [
    "svm_kf_rgs.best_params_"
   ]
  },
  {
   "cell_type": "code",
   "execution_count": 75,
   "id": "6c8c52db",
   "metadata": {},
   "outputs": [
    {
     "name": "stdout",
     "output_type": "stream",
     "text": [
      "Fitting 5 folds for each of 24 candidates, totalling 120 fits\n"
     ]
    },
    {
     "name": "stderr",
     "output_type": "stream",
     "text": [
      "C:\\ProgramData\\Anaconda3\\lib\\site-packages\\sklearn\\svm\\_base.py:255: ConvergenceWarning: Solver terminated early (max_iter=1000).  Consider pre-processing your data with StandardScaler or MinMaxScaler.\n",
      "  warnings.warn('Solver terminated early (max_iter=%i).'\n"
     ]
    },
    {
     "data": {
      "text/plain": [
       "GridSearchCV(cv=KFold(n_splits=5, random_state=1234, shuffle=True),\n",
       "             estimator=SVC(max_iter=1000, random_state=1234), n_jobs=-1,\n",
       "             param_grid={'C': [0.01, 0.02, 0.05, 0.015],\n",
       "                         'gamma': [0.001, 0.01, 0.1],\n",
       "                         'kernel': ['linear', 'rbf']},\n",
       "             scoring='accuracy', verbose=2)"
      ]
     },
     "execution_count": 75,
     "metadata": {},
     "output_type": "execute_result"
    }
   ],
   "source": [
    "svm = SVC(max_iter=1000, random_state=1234)\n",
    "\n",
    "parameters={\n",
    "    \"C\" :[ 0.01, 0.02, 0.05, 0.015],\n",
    "    \"kernel\":[\"linear\", \"rbf\"],\n",
    "    \"gamma\" : [0.001, 0.01, 0.1]\n",
    "}\n",
    "\n",
    "svm_kf_gs = GridSearchCV(\n",
    "    svm,\n",
    "    param_grid=parameters,\n",
    "    cv = kfold,  ####  변경!!!\n",
    "    scoring=\"accuracy\",\n",
    "    n_jobs= -1, \n",
    "    verbose=2\n",
    ") \n",
    "svm_kf_gs.fit(X_train, y_train)\n"
   ]
  },
  {
   "cell_type": "code",
   "execution_count": 76,
   "id": "6114422f",
   "metadata": {},
   "outputs": [
    {
     "data": {
      "text/plain": [
       "0.7780852949867034"
      ]
     },
     "execution_count": 76,
     "metadata": {},
     "output_type": "execute_result"
    }
   ],
   "source": [
    "svm_kf_gs.best_score_"
   ]
  },
  {
   "cell_type": "code",
   "execution_count": 77,
   "id": "40aea0b8",
   "metadata": {},
   "outputs": [
    {
     "data": {
      "text/plain": [
       "{'C': 0.015, 'gamma': 0.001, 'kernel': 'linear'}"
      ]
     },
     "execution_count": 77,
     "metadata": {},
     "output_type": "execute_result"
    }
   ],
   "source": [
    "svm_kf_gs.best_params_"
   ]
  },
  {
   "cell_type": "code",
   "execution_count": 79,
   "id": "008b465d",
   "metadata": {},
   "outputs": [
    {
     "name": "stdout",
     "output_type": "stream",
     "text": [
      "0.7877094972067039\n"
     ]
    }
   ],
   "source": [
    "svm_gs_best = svm_kf_gs.best_estimator_\n",
    "svm_gs_best_ypred = svm_gs_best.predict(X_test)\n",
    "svm_gs_best_acc = accuracy_score(y_test,svm_gs_best_ypred)\n",
    "print(svm_gs_best_acc)"
   ]
  },
  {
   "cell_type": "markdown",
   "id": "48807f7f",
   "metadata": {},
   "source": [
    "## SVM , stratified k-fold, RGS"
   ]
  },
  {
   "cell_type": "code",
   "execution_count": 65,
   "id": "a3b015af",
   "metadata": {},
   "outputs": [
    {
     "name": "stdout",
     "output_type": "stream",
     "text": [
      "Fitting 5 folds for each of 10 candidates, totalling 50 fits\n"
     ]
    },
    {
     "name": "stderr",
     "output_type": "stream",
     "text": [
      "C:\\ProgramData\\Anaconda3\\lib\\site-packages\\sklearn\\svm\\_base.py:255: ConvergenceWarning: Solver terminated early (max_iter=1000).  Consider pre-processing your data with StandardScaler or MinMaxScaler.\n",
      "  warnings.warn('Solver terminated early (max_iter=%i).'\n"
     ]
    },
    {
     "data": {
      "text/plain": [
       "RandomizedSearchCV(cv=StratifiedKFold(n_splits=5, random_state=1234, shuffle=True),\n",
       "                   estimator=SVC(max_iter=1000, random_state=1234), n_jobs=-1,\n",
       "                   param_distributions={'C': [0.01, 0.02, 0.05, 0.015],\n",
       "                                        'degree': [2, 3, 4, 5, 6, 7],\n",
       "                                        'gamma': [0.001, 0.01, 0.1],\n",
       "                                        'kernel': ['linear', 'rbf', 'poly']},\n",
       "                   scoring='accuracy', verbose=2)"
      ]
     },
     "execution_count": 65,
     "metadata": {},
     "output_type": "execute_result"
    }
   ],
   "source": [
    "svm = SVC(max_iter=1000, random_state=1234)\n",
    "\n",
    "parameters={\n",
    "    \"C\" :[ 0.01, 0.02, 0.05, 0.015],\n",
    "    \"kernel\":[\"linear\", \"rbf\",\"poly\"],\n",
    "    \"gamma\" : [0.001, 0.01, 0.1],\n",
    "    \"degree\" : [2,3,4,5,6,7]\n",
    "}\n",
    "\n",
    "n_iter_search = 10\n",
    "\n",
    "svm_skf_rgs = RandomizedSearchCV(\n",
    "    svm,\n",
    "    param_distributions=parameters,\n",
    "    cv = str_kfold,  ####  변경!!!\n",
    "    scoring=\"accuracy\",\n",
    "    n_jobs= -1, \n",
    "    verbose=2\n",
    ") \n",
    "svm_skf_rgs.fit(X_train, y_train)\n"
   ]
  },
  {
   "cell_type": "code",
   "execution_count": 66,
   "id": "7d8c7e32",
   "metadata": {
    "scrolled": true
   },
   "outputs": [
    {
     "data": {
      "text/plain": [
       "0.7569388358120752"
      ]
     },
     "execution_count": 66,
     "metadata": {},
     "output_type": "execute_result"
    }
   ],
   "source": [
    "svm_skf_rgs.best_score_"
   ]
  },
  {
   "cell_type": "code",
   "execution_count": 67,
   "id": "f85027f5",
   "metadata": {},
   "outputs": [
    {
     "data": {
      "text/plain": [
       "{'kernel': 'linear', 'gamma': 0.001, 'degree': 6, 'C': 0.015}"
      ]
     },
     "execution_count": 67,
     "metadata": {},
     "output_type": "execute_result"
    }
   ],
   "source": [
    "svm_skf_rgs.best_params_"
   ]
  },
  {
   "cell_type": "code",
   "execution_count": 68,
   "id": "11b2693d",
   "metadata": {},
   "outputs": [
    {
     "name": "stdout",
     "output_type": "stream",
     "text": [
      "0.7374301675977654\n"
     ]
    }
   ],
   "source": [
    "svm_skf_rgs_best = svm_skf_rgs.best_estimator_\n",
    "svm_skf_rgs_best_ypred = svm_skf_rgs_best.predict(X_test)\n",
    "svm_skf_rgs_best_acc = accuracy_score(y_test,svm_skf_rgs_best_ypred)\n",
    "print(svm_skf_rgs_best_acc)"
   ]
  },
  {
   "cell_type": "markdown",
   "id": "05ad5a6c",
   "metadata": {},
   "source": [
    "## SVM , GS"
   ]
  },
  {
   "cell_type": "code",
   "execution_count": 88,
   "id": "bec45b94",
   "metadata": {},
   "outputs": [
    {
     "name": "stdout",
     "output_type": "stream",
     "text": [
      "Fitting 5 folds for each of 18 candidates, totalling 90 fits\n"
     ]
    },
    {
     "name": "stderr",
     "output_type": "stream",
     "text": [
      "C:\\ProgramData\\Anaconda3\\lib\\site-packages\\sklearn\\svm\\_base.py:255: ConvergenceWarning: Solver terminated early (max_iter=1000).  Consider pre-processing your data with StandardScaler or MinMaxScaler.\n",
      "  warnings.warn('Solver terminated early (max_iter=%i).'\n"
     ]
    },
    {
     "data": {
      "text/plain": [
       "GridSearchCV(cv=KFold(n_splits=5, random_state=1234, shuffle=True),\n",
       "             estimator=SVC(max_iter=1000, random_state=1234), n_jobs=-1,\n",
       "             param_grid={'C': [0.01, 0.02, 0.015], 'gamma': [0.001, 0.01, 0.1],\n",
       "                         'kernel': ['linear', 'rbf']},\n",
       "             scoring='accuracy', verbose=2)"
      ]
     },
     "execution_count": 88,
     "metadata": {},
     "output_type": "execute_result"
    }
   ],
   "source": [
    "svm = SVC(max_iter=1000, random_state=1234)\n",
    "\n",
    "parameters={\n",
    "    \"C\" :[ 0.01, 0.02, 0.015],\n",
    "    \"kernel\":[\"linear\", \"rbf\"],\n",
    "    \"gamma\" : [0.001, 0.01, 0.1]\n",
    "}\n",
    "\n",
    "svm_skf_gs = GridSearchCV(\n",
    "    svm,\n",
    "    param_grid=parameters,\n",
    "    cv = kfold,  ####  변경!!!\n",
    "    scoring=\"accuracy\",\n",
    "    n_jobs= -1, \n",
    "    verbose=2\n",
    ") \n",
    "svm_skf_gs.fit(X_train, y_train)\n"
   ]
  },
  {
   "cell_type": "code",
   "execution_count": 89,
   "id": "44fdfb54",
   "metadata": {},
   "outputs": [
    {
     "data": {
      "text/plain": [
       "0.7780852949867034"
      ]
     },
     "execution_count": 89,
     "metadata": {},
     "output_type": "execute_result"
    }
   ],
   "source": [
    "svm_skf_gs.best_score_"
   ]
  },
  {
   "cell_type": "code",
   "execution_count": 90,
   "id": "5e386fe6",
   "metadata": {},
   "outputs": [
    {
     "data": {
      "text/plain": [
       "{'C': 0.015, 'gamma': 0.001, 'kernel': 'linear'}"
      ]
     },
     "execution_count": 90,
     "metadata": {},
     "output_type": "execute_result"
    }
   ],
   "source": [
    "svm_skf_gs.best_params_"
   ]
  },
  {
   "cell_type": "code",
   "execution_count": 91,
   "id": "2295aae8",
   "metadata": {},
   "outputs": [
    {
     "name": "stdout",
     "output_type": "stream",
     "text": [
      "0.7877094972067039\n"
     ]
    }
   ],
   "source": [
    "svm_skf_gs_best = svm_skf_gs.best_estimator_\n",
    "svm_skf_gs_best_ypred = svm_skf_gs_best.predict(X_test)\n",
    "svm_skf_gs_best_acc = accuracy_score(y_test,svm_skf_gs_best_ypred)\n",
    "print(svm_skf_gs_best_acc)"
   ]
  },
  {
   "cell_type": "markdown",
   "id": "9ef7dc46",
   "metadata": {},
   "source": [
    "## 만든 여러 모델을 활용"
   ]
  },
  {
   "cell_type": "markdown",
   "id": "12035624",
   "metadata": {},
   "source": [
    "### 1인 1표로 다수결 : Hard Voting"
   ]
  },
  {
   "cell_type": "code",
   "execution_count": 35,
   "id": "355adb1a",
   "metadata": {},
   "outputs": [],
   "source": [
    "from sklearn.ensemble import VotingClassifier"
   ]
  },
  {
   "cell_type": "code",
   "execution_count": 104,
   "id": "d1cfd3e3",
   "metadata": {
    "scrolled": true
   },
   "outputs": [
    {
     "data": {
      "text/plain": [
       "KNeighborsClassifier(n_jobs=-1, n_neighbors=9)"
      ]
     },
     "execution_count": 104,
     "metadata": {},
     "output_type": "execute_result"
    }
   ],
   "source": [
    "knn_kf_rgs_best"
   ]
  },
  {
   "cell_type": "code",
   "execution_count": 101,
   "id": "d4820655",
   "metadata": {
    "scrolled": true
   },
   "outputs": [
    {
     "data": {
      "text/plain": [
       "RandomForestClassifier(max_depth=10, min_samples_leaf=2, n_estimators=500,\n",
       "                       n_jobs=-1, random_state=1234)"
      ]
     },
     "execution_count": 101,
     "metadata": {},
     "output_type": "execute_result"
    }
   ],
   "source": [
    "rf_kf_rgs_best"
   ]
  },
  {
   "cell_type": "code",
   "execution_count": 102,
   "id": "10773bfb",
   "metadata": {},
   "outputs": [
    {
     "data": {
      "text/plain": [
       "SVC(C=0.01, degree=4, gamma=0.001, kernel='linear', max_iter=1000,\n",
       "    random_state=1234)"
      ]
     },
     "execution_count": 102,
     "metadata": {},
     "output_type": "execute_result"
    }
   ],
   "source": [
    "svm_rgs_best"
   ]
  },
  {
   "cell_type": "code",
   "execution_count": 107,
   "id": "1c621402",
   "metadata": {},
   "outputs": [
    {
     "name": "stdout",
     "output_type": "stream",
     "text": [
      "knn score 0.6983240223463687\n",
      "rf score 0.8324022346368715\n",
      "svm score 0.7932960893854749\n"
     ]
    }
   ],
   "source": [
    "print(\"knn score\", accuracy_score(y_test,knn_kf_rgs_best.predict(X_test )))\n",
    "print(\"rf score\", accuracy_score(y_test,rf_kf_rgs_best.predict(X_test )))\n",
    "print(\"svm score\", accuracy_score(y_test,svm_rgs_best.predict(X_test )))\n"
   ]
  },
  {
   "cell_type": "code",
   "execution_count": 105,
   "id": "116dc15a",
   "metadata": {},
   "outputs": [],
   "source": [
    "# 기본적으로 여러 모델이 필요함\n",
    "# 여러 모델을 바탕으로 최종 결과물!\n",
    "ensemble_clf = VotingClassifier(\n",
    "    estimators=[ (\"knn\", knn_kf_rgs_best), (\"rf\",rf_kf_rgs_best), (\"svm\",svm_rgs_best )],\n",
    "    voting=\"hard\"\n",
    ")\n"
   ]
  },
  {
   "cell_type": "code",
   "execution_count": 106,
   "id": "b0c6f0e6",
   "metadata": {},
   "outputs": [
    {
     "name": "stdout",
     "output_type": "stream",
     "text": [
      "3 models Voting Results : 0.7932960893854749\n"
     ]
    },
    {
     "name": "stderr",
     "output_type": "stream",
     "text": [
      "C:\\ProgramData\\Anaconda3\\lib\\site-packages\\sklearn\\svm\\_base.py:255: ConvergenceWarning: Solver terminated early (max_iter=1000).  Consider pre-processing your data with StandardScaler or MinMaxScaler.\n",
      "  warnings.warn('Solver terminated early (max_iter=%i).'\n"
     ]
    }
   ],
   "source": [
    "ensemble_clf.fit(X_train,y_train)\n",
    "ensemble_clf_pred = ensemble_clf.predict(X_test)\n",
    "print(\"3 models Voting Results :\", accuracy_score(y_test,ensemble_clf_pred ))\n"
   ]
  },
  {
   "cell_type": "markdown",
   "id": "a1ebee3d",
   "metadata": {},
   "source": [
    "### 1인 다표제 : Soft Voting \n",
    "잘하는 친구(나와 가장 가까운 친구에게 가중치)"
   ]
  },
  {
   "cell_type": "code",
   "execution_count": null,
   "id": "23b2c6f9",
   "metadata": {},
   "outputs": [],
   "source": [
    "rf score 0.8324022346368715"
   ]
  },
  {
   "cell_type": "code",
   "execution_count": 109,
   "id": "5b908554",
   "metadata": {},
   "outputs": [
    {
     "name": "stdout",
     "output_type": "stream",
     "text": [
      "3 models Voting Results : 0.8156424581005587\n"
     ]
    }
   ],
   "source": [
    "ensemble_clf_soft = VotingClassifier(\n",
    "    estimators=[ (\"rf\",rf_kf_rgs_best), (\"knn\",knn_kf_rgs_best)], # SVC는 predic_prob가 없어서 가정한 상태로 판단x 그래서 오류나서 뺌\n",
    "    voting=\"soft\",\n",
    "    weights=[2, 1]\n",
    ")\n",
    "\n",
    "ensemble_clf_soft.fit(X_train,y_train)\n",
    "ensemble_clf_soft_pred = ensemble_clf_soft.predict(X_test)\n",
    "print(\"3 models Voting Results :\", accuracy_score(y_test,ensemble_clf_soft_pred ))\n"
   ]
  },
  {
   "cell_type": "markdown",
   "id": "3a902784",
   "metadata": {},
   "source": [
    "## 직접 수동 handmade"
   ]
  },
  {
   "cell_type": "code",
   "execution_count": 36,
   "id": "16b380b7",
   "metadata": {},
   "outputs": [],
   "source": [
    "import collections\n",
    "import numpy as np"
   ]
  },
  {
   "cell_type": "code",
   "execution_count": 111,
   "id": "9c34bba4",
   "metadata": {},
   "outputs": [
    {
     "data": {
      "text/plain": [
       "Counter({1: 3, 0: 5, 2: 1})"
      ]
     },
     "execution_count": 111,
     "metadata": {},
     "output_type": "execute_result"
    }
   ],
   "source": [
    "collections.Counter([1,0,0,0,0,0,1,2,1])"
   ]
  },
  {
   "cell_type": "code",
   "execution_count": 112,
   "id": "332a50af",
   "metadata": {},
   "outputs": [
    {
     "data": {
      "text/plain": [
       "[(0, 5), (1, 3), (2, 1)]"
      ]
     },
     "execution_count": 112,
     "metadata": {},
     "output_type": "execute_result"
    }
   ],
   "source": [
    "collections.Counter([1,0,0,0,0,0,1,2,1]).most_common()"
   ]
  },
  {
   "cell_type": "code",
   "execution_count": 113,
   "id": "6fc027ce",
   "metadata": {},
   "outputs": [
    {
     "data": {
      "text/plain": [
       "(0, 5)"
      ]
     },
     "execution_count": 113,
     "metadata": {},
     "output_type": "execute_result"
    }
   ],
   "source": [
    "collections.Counter([1,0,0,0,0,0,1,2,1]).most_common()[0]"
   ]
  },
  {
   "cell_type": "code",
   "execution_count": 114,
   "id": "63760c9a",
   "metadata": {},
   "outputs": [
    {
     "data": {
      "text/plain": [
       "0"
      ]
     },
     "execution_count": 114,
     "metadata": {},
     "output_type": "execute_result"
    }
   ],
   "source": [
    "# 어떤 값이 제일 많이 나타났나  -> 최종결론\n",
    "collections.Counter([1,0,0,0,0,0,1,2,1]).most_common()[0][0]"
   ]
  },
  {
   "cell_type": "code",
   "execution_count": 115,
   "id": "944a60d0",
   "metadata": {},
   "outputs": [
    {
     "data": {
      "text/plain": [
       "5"
      ]
     },
     "execution_count": 115,
     "metadata": {},
     "output_type": "execute_result"
    }
   ],
   "source": [
    "# 제일 많이 나타난 값의 출현 횟수  -> 3개 : 1.5보다 큰 값이면 ㅇ\n",
    "collections.Counter([1,0,0,0,0,0,1,2,1]).most_common()[0][1]"
   ]
  },
  {
   "cell_type": "code",
   "execution_count": 116,
   "id": "39ff7ab0",
   "metadata": {},
   "outputs": [],
   "source": [
    "def vote_handmade(x):\n",
    "    p = collections.Counter(x) # M1 : A, M2 : B, M3 : A --> x = [ A, B, A]\n",
    "    if p.most_common()[0][1] >= 2: #내가 3개의 모델을 사용한다는 가정에서 과반 이상\n",
    "        return p.most_common()[0][0]\n",
    "    else:\n",
    "        print(\"check!\")\n",
    "        return x[0]"
   ]
  },
  {
   "cell_type": "code",
   "execution_count": 118,
   "id": "ece2d6a6",
   "metadata": {},
   "outputs": [
    {
     "data": {
      "text/html": [
       "<div>\n",
       "<style scoped>\n",
       "    .dataframe tbody tr th:only-of-type {\n",
       "        vertical-align: middle;\n",
       "    }\n",
       "\n",
       "    .dataframe tbody tr th {\n",
       "        vertical-align: top;\n",
       "    }\n",
       "\n",
       "    .dataframe thead th {\n",
       "        text-align: right;\n",
       "    }\n",
       "</style>\n",
       "<table border=\"1\" class=\"dataframe\">\n",
       "  <thead>\n",
       "    <tr style=\"text-align: right;\">\n",
       "      <th></th>\n",
       "      <th>Pclass</th>\n",
       "      <th>Sex</th>\n",
       "      <th>Age</th>\n",
       "      <th>SibSp</th>\n",
       "      <th>Parch</th>\n",
       "      <th>Fare</th>\n",
       "      <th>Cabin</th>\n",
       "      <th>Embarked</th>\n",
       "      <th>knn_clf</th>\n",
       "      <th>rf_clf</th>\n",
       "      <th>svm_clf</th>\n",
       "    </tr>\n",
       "  </thead>\n",
       "  <tbody>\n",
       "    <tr>\n",
       "      <th>691</th>\n",
       "      <td>3</td>\n",
       "      <td>0</td>\n",
       "      <td>4.0</td>\n",
       "      <td>0</td>\n",
       "      <td>1</td>\n",
       "      <td>13.4167</td>\n",
       "      <td>1</td>\n",
       "      <td>0</td>\n",
       "      <td>1</td>\n",
       "      <td>1</td>\n",
       "      <td>1</td>\n",
       "    </tr>\n",
       "    <tr>\n",
       "      <th>43</th>\n",
       "      <td>2</td>\n",
       "      <td>0</td>\n",
       "      <td>3.0</td>\n",
       "      <td>1</td>\n",
       "      <td>2</td>\n",
       "      <td>41.5792</td>\n",
       "      <td>1</td>\n",
       "      <td>0</td>\n",
       "      <td>0</td>\n",
       "      <td>1</td>\n",
       "      <td>1</td>\n",
       "    </tr>\n",
       "    <tr>\n",
       "      <th>666</th>\n",
       "      <td>2</td>\n",
       "      <td>1</td>\n",
       "      <td>25.0</td>\n",
       "      <td>0</td>\n",
       "      <td>0</td>\n",
       "      <td>13.0000</td>\n",
       "      <td>1</td>\n",
       "      <td>3</td>\n",
       "      <td>0</td>\n",
       "      <td>0</td>\n",
       "      <td>0</td>\n",
       "    </tr>\n",
       "    <tr>\n",
       "      <th>769</th>\n",
       "      <td>3</td>\n",
       "      <td>1</td>\n",
       "      <td>32.0</td>\n",
       "      <td>0</td>\n",
       "      <td>0</td>\n",
       "      <td>8.3625</td>\n",
       "      <td>1</td>\n",
       "      <td>3</td>\n",
       "      <td>0</td>\n",
       "      <td>0</td>\n",
       "      <td>0</td>\n",
       "    </tr>\n",
       "    <tr>\n",
       "      <th>419</th>\n",
       "      <td>3</td>\n",
       "      <td>0</td>\n",
       "      <td>10.0</td>\n",
       "      <td>0</td>\n",
       "      <td>2</td>\n",
       "      <td>24.1500</td>\n",
       "      <td>1</td>\n",
       "      <td>3</td>\n",
       "      <td>1</td>\n",
       "      <td>0</td>\n",
       "      <td>1</td>\n",
       "    </tr>\n",
       "  </tbody>\n",
       "</table>\n",
       "</div>"
      ],
      "text/plain": [
       "     Pclass  Sex   Age  SibSp  Parch     Fare  Cabin  Embarked  knn_clf  \\\n",
       "691       3    0   4.0      0      1  13.4167      1         0        1   \n",
       "43        2    0   3.0      1      2  41.5792      1         0        0   \n",
       "666       2    1  25.0      0      0  13.0000      1         3        0   \n",
       "769       3    1  32.0      0      0   8.3625      1         3        0   \n",
       "419       3    0  10.0      0      2  24.1500      1         3        1   \n",
       "\n",
       "     rf_clf  svm_clf  \n",
       "691       1        1  \n",
       "43        1        1  \n",
       "666       0        0  \n",
       "769       0        0  \n",
       "419       0        1  "
      ]
     },
     "execution_count": 118,
     "metadata": {},
     "output_type": "execute_result"
    }
   ],
   "source": [
    "X_test_model_total = X_test.copy(deep=True) # 복사해서 같은 파일 만들기\n",
    "X_test_model_total[\"knn_clf\"] = knn_kf_rgs_best.predict(X_test)\n",
    "X_test_model_total[\"rf_clf\"] = rf_kf_rgs_best.predict(X_test)\n",
    "X_test_model_total[\"svm_clf\"] = svm_rgs_best.predict(X_test)\n",
    "X_test_model_total.head()# 정답지 붙이기\n"
   ]
  },
  {
   "cell_type": "code",
   "execution_count": 119,
   "id": "4176e03e",
   "metadata": {},
   "outputs": [
    {
     "data": {
      "text/html": [
       "<div>\n",
       "<style scoped>\n",
       "    .dataframe tbody tr th:only-of-type {\n",
       "        vertical-align: middle;\n",
       "    }\n",
       "\n",
       "    .dataframe tbody tr th {\n",
       "        vertical-align: top;\n",
       "    }\n",
       "\n",
       "    .dataframe thead th {\n",
       "        text-align: right;\n",
       "    }\n",
       "</style>\n",
       "<table border=\"1\" class=\"dataframe\">\n",
       "  <thead>\n",
       "    <tr style=\"text-align: right;\">\n",
       "      <th></th>\n",
       "      <th>Pclass</th>\n",
       "      <th>Sex</th>\n",
       "      <th>Age</th>\n",
       "      <th>SibSp</th>\n",
       "      <th>Parch</th>\n",
       "      <th>Fare</th>\n",
       "      <th>Cabin</th>\n",
       "      <th>Embarked</th>\n",
       "      <th>knn_clf</th>\n",
       "      <th>rf_clf</th>\n",
       "      <th>svm_clf</th>\n",
       "      <th>hrad_voting</th>\n",
       "    </tr>\n",
       "  </thead>\n",
       "  <tbody>\n",
       "    <tr>\n",
       "      <th>691</th>\n",
       "      <td>3</td>\n",
       "      <td>0</td>\n",
       "      <td>4.0</td>\n",
       "      <td>0</td>\n",
       "      <td>1</td>\n",
       "      <td>13.4167</td>\n",
       "      <td>1</td>\n",
       "      <td>0</td>\n",
       "      <td>1</td>\n",
       "      <td>1</td>\n",
       "      <td>1</td>\n",
       "      <td>1</td>\n",
       "    </tr>\n",
       "    <tr>\n",
       "      <th>43</th>\n",
       "      <td>2</td>\n",
       "      <td>0</td>\n",
       "      <td>3.0</td>\n",
       "      <td>1</td>\n",
       "      <td>2</td>\n",
       "      <td>41.5792</td>\n",
       "      <td>1</td>\n",
       "      <td>0</td>\n",
       "      <td>0</td>\n",
       "      <td>1</td>\n",
       "      <td>1</td>\n",
       "      <td>1</td>\n",
       "    </tr>\n",
       "    <tr>\n",
       "      <th>666</th>\n",
       "      <td>2</td>\n",
       "      <td>1</td>\n",
       "      <td>25.0</td>\n",
       "      <td>0</td>\n",
       "      <td>0</td>\n",
       "      <td>13.0000</td>\n",
       "      <td>1</td>\n",
       "      <td>3</td>\n",
       "      <td>0</td>\n",
       "      <td>0</td>\n",
       "      <td>0</td>\n",
       "      <td>0</td>\n",
       "    </tr>\n",
       "    <tr>\n",
       "      <th>769</th>\n",
       "      <td>3</td>\n",
       "      <td>1</td>\n",
       "      <td>32.0</td>\n",
       "      <td>0</td>\n",
       "      <td>0</td>\n",
       "      <td>8.3625</td>\n",
       "      <td>1</td>\n",
       "      <td>3</td>\n",
       "      <td>0</td>\n",
       "      <td>0</td>\n",
       "      <td>0</td>\n",
       "      <td>0</td>\n",
       "    </tr>\n",
       "    <tr>\n",
       "      <th>419</th>\n",
       "      <td>3</td>\n",
       "      <td>0</td>\n",
       "      <td>10.0</td>\n",
       "      <td>0</td>\n",
       "      <td>2</td>\n",
       "      <td>24.1500</td>\n",
       "      <td>1</td>\n",
       "      <td>3</td>\n",
       "      <td>1</td>\n",
       "      <td>0</td>\n",
       "      <td>1</td>\n",
       "      <td>1</td>\n",
       "    </tr>\n",
       "  </tbody>\n",
       "</table>\n",
       "</div>"
      ],
      "text/plain": [
       "     Pclass  Sex   Age  SibSp  Parch     Fare  Cabin  Embarked  knn_clf  \\\n",
       "691       3    0   4.0      0      1  13.4167      1         0        1   \n",
       "43        2    0   3.0      1      2  41.5792      1         0        0   \n",
       "666       2    1  25.0      0      0  13.0000      1         3        0   \n",
       "769       3    1  32.0      0      0   8.3625      1         3        0   \n",
       "419       3    0  10.0      0      2  24.1500      1         3        1   \n",
       "\n",
       "     rf_clf  svm_clf  hrad_voting  \n",
       "691       1        1            1  \n",
       "43        1        1            1  \n",
       "666       0        0            0  \n",
       "769       0        0            0  \n",
       "419       0        1            1  "
      ]
     },
     "execution_count": 119,
     "metadata": {},
     "output_type": "execute_result"
    }
   ],
   "source": [
    "X_test_model_total[\"hrad_voting\"]= X_test_model_total.loc[:, [\"knn_clf\", \"rf_clf\",\"svm_clf\"]].apply(lambda x : vote_handmade(x), axis=1)\n",
    "X_test_model_total.head() # 과반수 적용, 살았나 죽었나 라서 0이랑 1만있음\n"
   ]
  },
  {
   "cell_type": "code",
   "execution_count": 121,
   "id": "c3d6869d",
   "metadata": {},
   "outputs": [
    {
     "data": {
      "text/plain": [
       "0.7932960893854749"
      ]
     },
     "execution_count": 121,
     "metadata": {},
     "output_type": "execute_result"
    }
   ],
   "source": [
    "accuracy_score(y_test,X_test_model_total[\"hrad_voting\"])"
   ]
  },
  {
   "cell_type": "markdown",
   "id": "45418d65",
   "metadata": {},
   "source": [
    "## xgboost\n",
    "- https://xgboost.readthedocs.io/en/latest/\n",
    "- https://xgboost.readthedocs.io/en/latest/python/python_api.html#module-xgboost.sklearn\n",
    "- https://github.com/dmlc/xgboost/blob/master/doc/parameter.rst\n"
   ]
  },
  {
   "cell_type": "code",
   "execution_count": 45,
   "id": "67f94997",
   "metadata": {},
   "outputs": [],
   "source": [
    "# 사전에 설치해야 사용 가능\n",
    "from xgboost import XGBClassifier\n"
   ]
  },
  {
   "cell_type": "code",
   "execution_count": 123,
   "id": "265dd77f",
   "metadata": {},
   "outputs": [
    {
     "name": "stdout",
     "output_type": "stream",
     "text": [
      "Xgboost 0째번 검증 정확도 : 0.6573\n",
      "Xgboost 1째번 검증 정확도 : 0.7133\n",
      "Xgboost 2째번 검증 정확도 : 0.6761\n",
      "Xgboost 3째번 검증 정확도 : 0.7113\n",
      "Xgboost 4째번 검증 정확도 : 0.6479\n",
      "Xgboost의 kfold 평균 정확도 : 0.681168127647001\n"
     ]
    }
   ],
   "source": [
    "xgbc = XGBClassifier(n_jobs = -1,\n",
    "                    use_label_encoder=False,\n",
    "                    eval_metric = \"error\",\n",
    "                    objective = \"binary:logistic\",\n",
    "                    random_state = 1234\n",
    "                    )\n",
    "\n",
    "for iter_count, acc in enumerate(scores):\n",
    "    print(\"Xgboost {0}째번 검증 정확도 : {1:.4f}\".format(iter_count, acc))\n",
    "print(\"Xgboost의 kfold 평균 정확도 :\", scores.mean())\n"
   ]
  },
  {
   "cell_type": "code",
   "execution_count": 124,
   "id": "d0d6a794",
   "metadata": {},
   "outputs": [
    {
     "name": "stdout",
     "output_type": "stream",
     "text": [
      "Fitting 5 folds for each of 10 candidates, totalling 50 fits\n"
     ]
    },
    {
     "data": {
      "text/plain": [
       "RandomizedSearchCV(cv=KFold(n_splits=5, random_state=1234, shuffle=True),\n",
       "                   estimator=XGBClassifier(base_score=None, booster=None,\n",
       "                                           colsample_bylevel=None,\n",
       "                                           colsample_bynode=None,\n",
       "                                           colsample_bytree=None,\n",
       "                                           eval_metric='error', gamma=None,\n",
       "                                           gpu_id=None, importance_type='gain',\n",
       "                                           interaction_constraints=None,\n",
       "                                           learning_rate=None,\n",
       "                                           max_delta_step=None, max_depth=None,\n",
       "                                           min_child_...\n",
       "                   param_distributions={'booster': ['gbtree', 'gblinear',\n",
       "                                                    'dart'],\n",
       "                                        'colsample_bytree': [0.3, 0.5, 0.7,\n",
       "                                                             0.9],\n",
       "                                        'learning_rate': [0.1, 0.3, 0.8],\n",
       "                                        'max_depth': [2, 4, 6, 8, 10, 20],\n",
       "                                        'min_child_weight': [0.5, 1, 5],\n",
       "                                        'n_estimators': [10, 50, 100, 200, 500],\n",
       "                                        'reg_alpha': [0, 0.01, 0.1, 0.5, 1, 10,\n",
       "                                                      0.001],\n",
       "                                        'reg_lambda': [0, 0.01, 0.1, 0.5, 1, 10,\n",
       "                                                       0.001],\n",
       "                                        'subsample': [0.3, 0.5, 0.7, 0.9]},\n",
       "                   random_state=1234, scoring='accuracy', verbose=3)"
      ]
     },
     "execution_count": 124,
     "metadata": {},
     "output_type": "execute_result"
    }
   ],
   "source": [
    "xgbc = XGBClassifier(n_jobs = -1,\n",
    "                    use_label_encoder=False,\n",
    "                    eval_metric = \"error\",\n",
    "                    objective = \"binary:logistic\",\n",
    "                    random_state = 1234\n",
    "                    )\n",
    "# xgboost : 에러 줄일때 사용\n",
    "parameters = {\n",
    "    \"booster\": [\"gbtree\",\"gblinear\",\"dart\"],#이어달리기 할 친구 스타일(tree base). \n",
    "    \"n_estimators\":[10,50,100,200,500], #이어달리기 몇명이서\n",
    "    \"learning_rate\" : [0.1,0.3,0.8], # 숫자가 너무 작으면 섬세하게 봐서 시간 오래걸림\n",
    "    \n",
    "    # tree 모델이 가지고 있는 부분 조절 (tree베이스 이기 때문에 overfit 주의)\n",
    "    \"max_depth\": [2,4,6,8,10,20],\n",
    "    \"min_child_weight\":[0.5,1,5],\n",
    "    \"subsample\": [0.3,0.5,0.7,0.9],\n",
    "    \"colsample_bytree\": [0.3,0.5,0.7,0.9],\n",
    "    \n",
    "    # 규약\n",
    "    \"reg_alpha\": [0,0.01,0.1,0.5,1,10,0.001],\n",
    "    \"reg_lambda\": [0,0.01,0.1,0.5,1,10,0.001]\n",
    "    \n",
    "}\n",
    "\n",
    "\n",
    "n_iter_search = 10\n",
    "\n",
    "xgbc_kf_rgs = RandomizedSearchCV(\n",
    "    xgbc,\n",
    "    param_distributions=parameters,\n",
    "    cv = kfold,  ####  변경!!!\n",
    "    scoring=\"accuracy\",\n",
    "    n_jobs= -1, \n",
    "    random_state=1234,\n",
    "    n_iter=n_iter_search,\n",
    "    verbose = 3\n",
    ")\n",
    "\n",
    "# 데이터 타입을 사용하는 버전에 따라 수정이 필요할 수 있음.\n",
    "# np를 사용해서 값만 집어넣어야 가능한 경우가 있음\n",
    "xgbc_kf_rgs.fit(X_train,y_train)\n",
    "\n"
   ]
  },
  {
   "cell_type": "code",
   "execution_count": 125,
   "id": "0f542475",
   "metadata": {},
   "outputs": [
    {
     "data": {
      "text/plain": [
       "0.8230375258544272"
      ]
     },
     "execution_count": 125,
     "metadata": {},
     "output_type": "execute_result"
    }
   ],
   "source": [
    "xgbc_kf_rgs.best_score_"
   ]
  },
  {
   "cell_type": "code",
   "execution_count": 126,
   "id": "99663aa2",
   "metadata": {},
   "outputs": [
    {
     "data": {
      "text/plain": [
       "{'subsample': 0.7,\n",
       " 'reg_lambda': 0.5,\n",
       " 'reg_alpha': 1,\n",
       " 'n_estimators': 100,\n",
       " 'min_child_weight': 0.5,\n",
       " 'max_depth': 6,\n",
       " 'learning_rate': 0.1,\n",
       " 'colsample_bytree': 0.9,\n",
       " 'booster': 'gbtree'}"
      ]
     },
     "execution_count": 126,
     "metadata": {},
     "output_type": "execute_result"
    }
   ],
   "source": [
    "xgbc_kf_rgs.best_params_"
   ]
  },
  {
   "cell_type": "code",
   "execution_count": 128,
   "id": "503352bd",
   "metadata": {},
   "outputs": [
    {
     "name": "stdout",
     "output_type": "stream",
     "text": [
      "0.8379888268156425\n"
     ]
    }
   ],
   "source": [
    "xgbc_kf_rgs_best = xgbc_kf_rgs.best_estimator_\n",
    "xgbc_kf_rgs_best_ypred = xgbc_kf_rgs_best.predict(X_test)\n",
    "xgbc_kf_rgs_best_acc = accuracy_score(y_test,xgbc_kf_rgs_best_ypred)\n",
    "print(xgbc_kf_rgs_best_acc)\n"
   ]
  },
  {
   "cell_type": "code",
   "execution_count": 129,
   "id": "6ad85a70",
   "metadata": {},
   "outputs": [
    {
     "name": "stdout",
     "output_type": "stream",
     "text": [
      "Fitting 5 folds for each of 504000 candidates, totalling 2520000 fits\n"
     ]
    },
    {
     "ename": "KeyboardInterrupt",
     "evalue": "",
     "output_type": "error",
     "traceback": [
      "\u001b[1;31m---------------------------------------------------------------------------\u001b[0m",
      "\u001b[1;31mKeyboardInterrupt\u001b[0m                         Traceback (most recent call last)",
      "\u001b[1;32m<ipython-input-129-b2152b8120b1>\u001b[0m in \u001b[0;36m<module>\u001b[1;34m\u001b[0m\n\u001b[0;32m     34\u001b[0m     \u001b[0mverbose\u001b[0m\u001b[1;33m=\u001b[0m\u001b[1;36m2\u001b[0m\u001b[1;33m\u001b[0m\u001b[1;33m\u001b[0m\u001b[0m\n\u001b[0;32m     35\u001b[0m ) \n\u001b[1;32m---> 36\u001b[1;33m \u001b[0mxgbc_kf_gs\u001b[0m\u001b[1;33m.\u001b[0m\u001b[0mfit\u001b[0m\u001b[1;33m(\u001b[0m\u001b[0mX_train\u001b[0m\u001b[1;33m,\u001b[0m \u001b[0my_train\u001b[0m\u001b[1;33m)\u001b[0m\u001b[1;33m\u001b[0m\u001b[1;33m\u001b[0m\u001b[0m\n\u001b[0m\u001b[0;32m     37\u001b[0m \u001b[1;33m\u001b[0m\u001b[0m\n\u001b[0;32m     38\u001b[0m \u001b[1;33m\u001b[0m\u001b[0m\n",
      "\u001b[1;32mC:\\ProgramData\\Anaconda3\\lib\\site-packages\\sklearn\\utils\\validation.py\u001b[0m in \u001b[0;36minner_f\u001b[1;34m(*args, **kwargs)\u001b[0m\n\u001b[0;32m     61\u001b[0m             \u001b[0mextra_args\u001b[0m \u001b[1;33m=\u001b[0m \u001b[0mlen\u001b[0m\u001b[1;33m(\u001b[0m\u001b[0margs\u001b[0m\u001b[1;33m)\u001b[0m \u001b[1;33m-\u001b[0m \u001b[0mlen\u001b[0m\u001b[1;33m(\u001b[0m\u001b[0mall_args\u001b[0m\u001b[1;33m)\u001b[0m\u001b[1;33m\u001b[0m\u001b[1;33m\u001b[0m\u001b[0m\n\u001b[0;32m     62\u001b[0m             \u001b[1;32mif\u001b[0m \u001b[0mextra_args\u001b[0m \u001b[1;33m<=\u001b[0m \u001b[1;36m0\u001b[0m\u001b[1;33m:\u001b[0m\u001b[1;33m\u001b[0m\u001b[1;33m\u001b[0m\u001b[0m\n\u001b[1;32m---> 63\u001b[1;33m                 \u001b[1;32mreturn\u001b[0m \u001b[0mf\u001b[0m\u001b[1;33m(\u001b[0m\u001b[1;33m*\u001b[0m\u001b[0margs\u001b[0m\u001b[1;33m,\u001b[0m \u001b[1;33m**\u001b[0m\u001b[0mkwargs\u001b[0m\u001b[1;33m)\u001b[0m\u001b[1;33m\u001b[0m\u001b[1;33m\u001b[0m\u001b[0m\n\u001b[0m\u001b[0;32m     64\u001b[0m \u001b[1;33m\u001b[0m\u001b[0m\n\u001b[0;32m     65\u001b[0m             \u001b[1;31m# extra_args > 0\u001b[0m\u001b[1;33m\u001b[0m\u001b[1;33m\u001b[0m\u001b[1;33m\u001b[0m\u001b[0m\n",
      "\u001b[1;32mC:\\ProgramData\\Anaconda3\\lib\\site-packages\\sklearn\\model_selection\\_search.py\u001b[0m in \u001b[0;36mfit\u001b[1;34m(self, X, y, groups, **fit_params)\u001b[0m\n\u001b[0;32m    839\u001b[0m                 \u001b[1;32mreturn\u001b[0m \u001b[0mresults\u001b[0m\u001b[1;33m\u001b[0m\u001b[1;33m\u001b[0m\u001b[0m\n\u001b[0;32m    840\u001b[0m \u001b[1;33m\u001b[0m\u001b[0m\n\u001b[1;32m--> 841\u001b[1;33m             \u001b[0mself\u001b[0m\u001b[1;33m.\u001b[0m\u001b[0m_run_search\u001b[0m\u001b[1;33m(\u001b[0m\u001b[0mevaluate_candidates\u001b[0m\u001b[1;33m)\u001b[0m\u001b[1;33m\u001b[0m\u001b[1;33m\u001b[0m\u001b[0m\n\u001b[0m\u001b[0;32m    842\u001b[0m \u001b[1;33m\u001b[0m\u001b[0m\n\u001b[0;32m    843\u001b[0m             \u001b[1;31m# multimetric is determined here because in the case of a callable\u001b[0m\u001b[1;33m\u001b[0m\u001b[1;33m\u001b[0m\u001b[1;33m\u001b[0m\u001b[0m\n",
      "\u001b[1;32mC:\\ProgramData\\Anaconda3\\lib\\site-packages\\sklearn\\model_selection\\_search.py\u001b[0m in \u001b[0;36m_run_search\u001b[1;34m(self, evaluate_candidates)\u001b[0m\n\u001b[0;32m   1286\u001b[0m     \u001b[1;32mdef\u001b[0m \u001b[0m_run_search\u001b[0m\u001b[1;33m(\u001b[0m\u001b[0mself\u001b[0m\u001b[1;33m,\u001b[0m \u001b[0mevaluate_candidates\u001b[0m\u001b[1;33m)\u001b[0m\u001b[1;33m:\u001b[0m\u001b[1;33m\u001b[0m\u001b[1;33m\u001b[0m\u001b[0m\n\u001b[0;32m   1287\u001b[0m         \u001b[1;34m\"\"\"Search all candidates in param_grid\"\"\"\u001b[0m\u001b[1;33m\u001b[0m\u001b[1;33m\u001b[0m\u001b[0m\n\u001b[1;32m-> 1288\u001b[1;33m         \u001b[0mevaluate_candidates\u001b[0m\u001b[1;33m(\u001b[0m\u001b[0mParameterGrid\u001b[0m\u001b[1;33m(\u001b[0m\u001b[0mself\u001b[0m\u001b[1;33m.\u001b[0m\u001b[0mparam_grid\u001b[0m\u001b[1;33m)\u001b[0m\u001b[1;33m)\u001b[0m\u001b[1;33m\u001b[0m\u001b[1;33m\u001b[0m\u001b[0m\n\u001b[0m\u001b[0;32m   1289\u001b[0m \u001b[1;33m\u001b[0m\u001b[0m\n\u001b[0;32m   1290\u001b[0m \u001b[1;33m\u001b[0m\u001b[0m\n",
      "\u001b[1;32mC:\\ProgramData\\Anaconda3\\lib\\site-packages\\sklearn\\model_selection\\_search.py\u001b[0m in \u001b[0;36mevaluate_candidates\u001b[1;34m(candidate_params, cv, more_results)\u001b[0m\n\u001b[0;32m    793\u001b[0m                               n_splits, n_candidates, n_candidates * n_splits))\n\u001b[0;32m    794\u001b[0m \u001b[1;33m\u001b[0m\u001b[0m\n\u001b[1;32m--> 795\u001b[1;33m                 out = parallel(delayed(_fit_and_score)(clone(base_estimator),\n\u001b[0m\u001b[0;32m    796\u001b[0m                                                        \u001b[0mX\u001b[0m\u001b[1;33m,\u001b[0m \u001b[0my\u001b[0m\u001b[1;33m,\u001b[0m\u001b[1;33m\u001b[0m\u001b[1;33m\u001b[0m\u001b[0m\n\u001b[0;32m    797\u001b[0m                                                        \u001b[0mtrain\u001b[0m\u001b[1;33m=\u001b[0m\u001b[0mtrain\u001b[0m\u001b[1;33m,\u001b[0m \u001b[0mtest\u001b[0m\u001b[1;33m=\u001b[0m\u001b[0mtest\u001b[0m\u001b[1;33m,\u001b[0m\u001b[1;33m\u001b[0m\u001b[1;33m\u001b[0m\u001b[0m\n",
      "\u001b[1;32mC:\\ProgramData\\Anaconda3\\lib\\site-packages\\joblib\\parallel.py\u001b[0m in \u001b[0;36m__call__\u001b[1;34m(self, iterable)\u001b[0m\n\u001b[0;32m   1052\u001b[0m \u001b[1;33m\u001b[0m\u001b[0m\n\u001b[0;32m   1053\u001b[0m             \u001b[1;32mwith\u001b[0m \u001b[0mself\u001b[0m\u001b[1;33m.\u001b[0m\u001b[0m_backend\u001b[0m\u001b[1;33m.\u001b[0m\u001b[0mretrieval_context\u001b[0m\u001b[1;33m(\u001b[0m\u001b[1;33m)\u001b[0m\u001b[1;33m:\u001b[0m\u001b[1;33m\u001b[0m\u001b[1;33m\u001b[0m\u001b[0m\n\u001b[1;32m-> 1054\u001b[1;33m                 \u001b[0mself\u001b[0m\u001b[1;33m.\u001b[0m\u001b[0mretrieve\u001b[0m\u001b[1;33m(\u001b[0m\u001b[1;33m)\u001b[0m\u001b[1;33m\u001b[0m\u001b[1;33m\u001b[0m\u001b[0m\n\u001b[0m\u001b[0;32m   1055\u001b[0m             \u001b[1;31m# Make sure that we get a last message telling us we are done\u001b[0m\u001b[1;33m\u001b[0m\u001b[1;33m\u001b[0m\u001b[1;33m\u001b[0m\u001b[0m\n\u001b[0;32m   1056\u001b[0m             \u001b[0melapsed_time\u001b[0m \u001b[1;33m=\u001b[0m \u001b[0mtime\u001b[0m\u001b[1;33m.\u001b[0m\u001b[0mtime\u001b[0m\u001b[1;33m(\u001b[0m\u001b[1;33m)\u001b[0m \u001b[1;33m-\u001b[0m \u001b[0mself\u001b[0m\u001b[1;33m.\u001b[0m\u001b[0m_start_time\u001b[0m\u001b[1;33m\u001b[0m\u001b[1;33m\u001b[0m\u001b[0m\n",
      "\u001b[1;32mC:\\ProgramData\\Anaconda3\\lib\\site-packages\\joblib\\parallel.py\u001b[0m in \u001b[0;36mretrieve\u001b[1;34m(self)\u001b[0m\n\u001b[0;32m    931\u001b[0m             \u001b[1;32mtry\u001b[0m\u001b[1;33m:\u001b[0m\u001b[1;33m\u001b[0m\u001b[1;33m\u001b[0m\u001b[0m\n\u001b[0;32m    932\u001b[0m                 \u001b[1;32mif\u001b[0m \u001b[0mgetattr\u001b[0m\u001b[1;33m(\u001b[0m\u001b[0mself\u001b[0m\u001b[1;33m.\u001b[0m\u001b[0m_backend\u001b[0m\u001b[1;33m,\u001b[0m \u001b[1;34m'supports_timeout'\u001b[0m\u001b[1;33m,\u001b[0m \u001b[1;32mFalse\u001b[0m\u001b[1;33m)\u001b[0m\u001b[1;33m:\u001b[0m\u001b[1;33m\u001b[0m\u001b[1;33m\u001b[0m\u001b[0m\n\u001b[1;32m--> 933\u001b[1;33m                     \u001b[0mself\u001b[0m\u001b[1;33m.\u001b[0m\u001b[0m_output\u001b[0m\u001b[1;33m.\u001b[0m\u001b[0mextend\u001b[0m\u001b[1;33m(\u001b[0m\u001b[0mjob\u001b[0m\u001b[1;33m.\u001b[0m\u001b[0mget\u001b[0m\u001b[1;33m(\u001b[0m\u001b[0mtimeout\u001b[0m\u001b[1;33m=\u001b[0m\u001b[0mself\u001b[0m\u001b[1;33m.\u001b[0m\u001b[0mtimeout\u001b[0m\u001b[1;33m)\u001b[0m\u001b[1;33m)\u001b[0m\u001b[1;33m\u001b[0m\u001b[1;33m\u001b[0m\u001b[0m\n\u001b[0m\u001b[0;32m    934\u001b[0m                 \u001b[1;32melse\u001b[0m\u001b[1;33m:\u001b[0m\u001b[1;33m\u001b[0m\u001b[1;33m\u001b[0m\u001b[0m\n\u001b[0;32m    935\u001b[0m                     \u001b[0mself\u001b[0m\u001b[1;33m.\u001b[0m\u001b[0m_output\u001b[0m\u001b[1;33m.\u001b[0m\u001b[0mextend\u001b[0m\u001b[1;33m(\u001b[0m\u001b[0mjob\u001b[0m\u001b[1;33m.\u001b[0m\u001b[0mget\u001b[0m\u001b[1;33m(\u001b[0m\u001b[1;33m)\u001b[0m\u001b[1;33m)\u001b[0m\u001b[1;33m\u001b[0m\u001b[1;33m\u001b[0m\u001b[0m\n",
      "\u001b[1;32mC:\\ProgramData\\Anaconda3\\lib\\site-packages\\joblib\\_parallel_backends.py\u001b[0m in \u001b[0;36mwrap_future_result\u001b[1;34m(future, timeout)\u001b[0m\n\u001b[0;32m    540\u001b[0m         AsyncResults.get from multiprocessing.\"\"\"\n\u001b[0;32m    541\u001b[0m         \u001b[1;32mtry\u001b[0m\u001b[1;33m:\u001b[0m\u001b[1;33m\u001b[0m\u001b[1;33m\u001b[0m\u001b[0m\n\u001b[1;32m--> 542\u001b[1;33m             \u001b[1;32mreturn\u001b[0m \u001b[0mfuture\u001b[0m\u001b[1;33m.\u001b[0m\u001b[0mresult\u001b[0m\u001b[1;33m(\u001b[0m\u001b[0mtimeout\u001b[0m\u001b[1;33m=\u001b[0m\u001b[0mtimeout\u001b[0m\u001b[1;33m)\u001b[0m\u001b[1;33m\u001b[0m\u001b[1;33m\u001b[0m\u001b[0m\n\u001b[0m\u001b[0;32m    543\u001b[0m         \u001b[1;32mexcept\u001b[0m \u001b[0mCfTimeoutError\u001b[0m \u001b[1;32mas\u001b[0m \u001b[0me\u001b[0m\u001b[1;33m:\u001b[0m\u001b[1;33m\u001b[0m\u001b[1;33m\u001b[0m\u001b[0m\n\u001b[0;32m    544\u001b[0m             \u001b[1;32mraise\u001b[0m \u001b[0mTimeoutError\u001b[0m \u001b[1;32mfrom\u001b[0m \u001b[0me\u001b[0m\u001b[1;33m\u001b[0m\u001b[1;33m\u001b[0m\u001b[0m\n",
      "\u001b[1;32mC:\\ProgramData\\Anaconda3\\lib\\concurrent\\futures\\_base.py\u001b[0m in \u001b[0;36mresult\u001b[1;34m(self, timeout)\u001b[0m\n\u001b[0;32m    432\u001b[0m                 \u001b[1;32mreturn\u001b[0m \u001b[0mself\u001b[0m\u001b[1;33m.\u001b[0m\u001b[0m__get_result\u001b[0m\u001b[1;33m(\u001b[0m\u001b[1;33m)\u001b[0m\u001b[1;33m\u001b[0m\u001b[1;33m\u001b[0m\u001b[0m\n\u001b[0;32m    433\u001b[0m \u001b[1;33m\u001b[0m\u001b[0m\n\u001b[1;32m--> 434\u001b[1;33m             \u001b[0mself\u001b[0m\u001b[1;33m.\u001b[0m\u001b[0m_condition\u001b[0m\u001b[1;33m.\u001b[0m\u001b[0mwait\u001b[0m\u001b[1;33m(\u001b[0m\u001b[0mtimeout\u001b[0m\u001b[1;33m)\u001b[0m\u001b[1;33m\u001b[0m\u001b[1;33m\u001b[0m\u001b[0m\n\u001b[0m\u001b[0;32m    435\u001b[0m \u001b[1;33m\u001b[0m\u001b[0m\n\u001b[0;32m    436\u001b[0m             \u001b[1;32mif\u001b[0m \u001b[0mself\u001b[0m\u001b[1;33m.\u001b[0m\u001b[0m_state\u001b[0m \u001b[1;32min\u001b[0m \u001b[1;33m[\u001b[0m\u001b[0mCANCELLED\u001b[0m\u001b[1;33m,\u001b[0m \u001b[0mCANCELLED_AND_NOTIFIED\u001b[0m\u001b[1;33m]\u001b[0m\u001b[1;33m:\u001b[0m\u001b[1;33m\u001b[0m\u001b[1;33m\u001b[0m\u001b[0m\n",
      "\u001b[1;32mC:\\ProgramData\\Anaconda3\\lib\\threading.py\u001b[0m in \u001b[0;36mwait\u001b[1;34m(self, timeout)\u001b[0m\n\u001b[0;32m    300\u001b[0m         \u001b[1;32mtry\u001b[0m\u001b[1;33m:\u001b[0m    \u001b[1;31m# restore state no matter what (e.g., KeyboardInterrupt)\u001b[0m\u001b[1;33m\u001b[0m\u001b[1;33m\u001b[0m\u001b[0m\n\u001b[0;32m    301\u001b[0m             \u001b[1;32mif\u001b[0m \u001b[0mtimeout\u001b[0m \u001b[1;32mis\u001b[0m \u001b[1;32mNone\u001b[0m\u001b[1;33m:\u001b[0m\u001b[1;33m\u001b[0m\u001b[1;33m\u001b[0m\u001b[0m\n\u001b[1;32m--> 302\u001b[1;33m                 \u001b[0mwaiter\u001b[0m\u001b[1;33m.\u001b[0m\u001b[0macquire\u001b[0m\u001b[1;33m(\u001b[0m\u001b[1;33m)\u001b[0m\u001b[1;33m\u001b[0m\u001b[1;33m\u001b[0m\u001b[0m\n\u001b[0m\u001b[0;32m    303\u001b[0m                 \u001b[0mgotit\u001b[0m \u001b[1;33m=\u001b[0m \u001b[1;32mTrue\u001b[0m\u001b[1;33m\u001b[0m\u001b[1;33m\u001b[0m\u001b[0m\n\u001b[0;32m    304\u001b[0m             \u001b[1;32melse\u001b[0m\u001b[1;33m:\u001b[0m\u001b[1;33m\u001b[0m\u001b[1;33m\u001b[0m\u001b[0m\n",
      "\u001b[1;31mKeyboardInterrupt\u001b[0m: "
     ]
    }
   ],
   "source": [
    "# 개오래걸림,,\n",
    "xgbc = XGBClassifier(n_jobs=-1,\n",
    "                    use_label_encoder=False,\n",
    "                    eval_metric =\"error\",\n",
    "                    objective = \"binary:logistic\",\n",
    "                    random_state = 1234)\n",
    "\n",
    "parameters = {\n",
    "    # 이어 달리기를 할 친구 스타일!!! -> tree -> overfit!!!!!\n",
    "    \"booster\":[ \"gbtree\", \"gblinear\",\"dart\"],\n",
    "    \n",
    "    # 몇 명을 뽑아서 이어달리기를 할지,\n",
    "    # 이어달리기를 하는 과정을 얼마나 디테일하게 할지...\n",
    "    \"n_estimators\" : [100, 80, 150, 200, 1000],\n",
    "    \"learning_rate\" : [0.1, 0.01 ,0.2],\n",
    "    \n",
    "    # tree 모델이 가지고 있는 부분을 조절!!!!!!!\n",
    "    \"max_depth\":[4,5,6,7,8,13,20],\n",
    "    \"min_child_weight\":[0.1, 0.4, 0.5, 0.6],\n",
    "    \"subsample\":[0.6, 0.65,0.7,0.75],\n",
    "    \"colsample_bytree\":[0.9, 0.91, 0.92, 0.89,0.85],\n",
    "    \n",
    "    # 규약\n",
    "    \"reg_alpha\" : [0,1, 0.9, 1, 1.2],\n",
    "    \"reg_lambda\" :  [0,0.5,0.45, 0.55]\n",
    "    \n",
    "}\n",
    "\n",
    "xgbc_kf_gs = GridSearchCV(\n",
    "    xgbc,\n",
    "    param_grid=parameters,\n",
    "    cv = kfold,  ####  변경!!!\n",
    "    scoring=\"accuracy\",\n",
    "    n_jobs= -1, \n",
    "    verbose=2\n",
    ") \n",
    "xgbc_kf_gs.fit(X_train, y_train)\n",
    "\n",
    "\n",
    "\n",
    "\n"
   ]
  },
  {
   "cell_type": "code",
   "execution_count": null,
   "id": "95ce4a44",
   "metadata": {},
   "outputs": [],
   "source": []
  },
  {
   "cell_type": "markdown",
   "id": "9a828d82",
   "metadata": {},
   "source": [
    "## Light GBM\n",
    "- https://lightgbm.readthedocs.io/en/latest/\n",
    "- https://lightgbm.readthedocs.io/en/latest/pythonapi/lightgbm.LGBMClassifier.html\n",
    "\n"
   ]
  },
  {
   "cell_type": "code",
   "execution_count": 50,
   "id": "78f0bda5",
   "metadata": {},
   "outputs": [],
   "source": [
    "# 사전에 설치\n",
    "from lightgbm import LGBMClassifier\n",
    " "
   ]
  },
  {
   "cell_type": "code",
   "execution_count": 160,
   "id": "ada717a9",
   "metadata": {},
   "outputs": [],
   "source": [
    "lgbm = LGBMClassifier(\n",
    "    random_state=1234,\n",
    "    n_jobs = -1,\n",
    ")"
   ]
  },
  {
   "cell_type": "code",
   "execution_count": 161,
   "id": "8d3ad7ee",
   "metadata": {},
   "outputs": [
    {
     "name": "stdout",
     "output_type": "stream",
     "text": [
      "LGB 0째번 검증 정확도 : 0.8042\n",
      "LGB 1째번 검증 정확도 : 0.8601\n",
      "LGB 2째번 검증 정확도 : 0.7535\n",
      "LGB 3째번 검증 정확도 : 0.8944\n",
      "LGB 4째번 검증 정확도 : 0.8099\n",
      "LGB의 kfold 평균 정확도 : 0.8244164286417807\n"
     ]
    }
   ],
   "source": [
    "scores = cross_val_score(\n",
    "    lgbm,\n",
    "    X_train,\n",
    "    y_train,\n",
    "    cv=kfold,\n",
    "    scoring=\"accuracy\"\n",
    ")\n",
    "for iter_count, acc in enumerate(scores):\n",
    "    print(\"LGB {0}째번 검증 정확도 : {1:.4f}\".format(iter_count, acc))\n",
    "print(\"LGB의 kfold 평균 정확도 :\", scores.mean())\n"
   ]
  },
  {
   "cell_type": "code",
   "execution_count": 162,
   "id": "b1c2ea00",
   "metadata": {},
   "outputs": [
    {
     "name": "stdout",
     "output_type": "stream",
     "text": [
      "Fitting 5 folds for each of 10 candidates, totalling 50 fits\n"
     ]
    },
    {
     "name": "stderr",
     "output_type": "stream",
     "text": [
      "C:\\ProgramData\\Anaconda3\\lib\\site-packages\\sklearn\\model_selection\\_search.py:918: UserWarning: One or more of the test scores are non-finite: [       nan 0.78646705 0.81743327 0.83286713 0.81600512        nan\n",
      " 0.81039102 0.79915296 0.81039102 0.81737418]\n",
      "  warnings.warn(\n"
     ]
    },
    {
     "data": {
      "text/plain": [
       "RandomizedSearchCV(cv=KFold(n_splits=5, random_state=1234, shuffle=True),\n",
       "                   estimator=LGBMClassifier(random_state=1234), n_jobs=-1,\n",
       "                   param_distributions={'boosting_type': ['gbdt', 'goss',\n",
       "                                                          'dart', 'rf'],\n",
       "                                        'min_child_weight': [0.5, 1, 5],\n",
       "                                        'n_estimators': [10, 50, 100, 300, 500],\n",
       "                                        'reg_alpha': [0, 0.01, 0.01, 0.5, 1, 10,\n",
       "                                                      0.0001],\n",
       "                                        'reg_lambda': [0, 0.01, 0.01, 0.5, 1,\n",
       "                                                       10, 0.0001]},\n",
       "                   random_state=1234, scoring='accuracy', verbose=3)"
      ]
     },
     "execution_count": 162,
     "metadata": {},
     "output_type": "execute_result"
    }
   ],
   "source": [
    "lgbm = LGBMClassifier(\n",
    "    random_state=1234,\n",
    "    n_jobs = -1,\n",
    ")\n",
    "\n",
    "parameters = {\n",
    "    # 이어 달리기를 할 친구 스타일!!! -> tree -> overfit!!!!!\n",
    "    \"boosting_type\":[ \"gbdt\", \"goss\",\"dart\", \"rf\"],\n",
    "\n",
    "    \n",
    "    # 몇 명을 뽑아서 이어달리기를 할지,\n",
    "    # 이어달리기를 하는 과정을 얼마나 디테일하게 할지...\n",
    "    \"n_estimators\" : [10,50,100,300,500],\n",
    "     \"min_child_weight\":[0.5, 1, 5],\n",
    "    \n",
    "    # 규약\n",
    "    \"reg_alpha\" : [0,0.01, 0.01, 0.5, 1, 10, 0.0001],\n",
    "    \"reg_lambda\" :  [0,0.01, 0.01, 0.5, 1, 10, 0.0001]\n",
    "    \n",
    "}\n",
    "\n",
    "n_iter_search = 10\n",
    "\n",
    "lgbm_kf_rgs = RandomizedSearchCV(\n",
    "    lgbm,\n",
    "    param_distributions=parameters,\n",
    "    cv = kfold,  ####  변경!!!\n",
    "    scoring=\"accuracy\",\n",
    "    n_jobs= -1, \n",
    "    random_state=1234,\n",
    "    # n_iter = 시도되는 파라미터 설정 수(런타임과 솔루션 품질을 절충)\n",
    "    n_iter=n_iter_search,\n",
    "    verbose=3\n",
    ") \n",
    "\n",
    "lgbm_kf_rgs.fit(X_train,y_train)\n"
   ]
  },
  {
   "cell_type": "code",
   "execution_count": 163,
   "id": "b0b1f1af",
   "metadata": {},
   "outputs": [
    {
     "data": {
      "text/plain": [
       "0.8328671328671329"
      ]
     },
     "execution_count": 163,
     "metadata": {},
     "output_type": "execute_result"
    }
   ],
   "source": [
    "lgbm_kf_rgs.best_score_"
   ]
  },
  {
   "cell_type": "code",
   "execution_count": 164,
   "id": "2d701768",
   "metadata": {
    "scrolled": true
   },
   "outputs": [
    {
     "data": {
      "text/plain": [
       "{'reg_lambda': 0.0001,\n",
       " 'reg_alpha': 0.5,\n",
       " 'n_estimators': 300,\n",
       " 'min_child_weight': 5,\n",
       " 'boosting_type': 'gbdt'}"
      ]
     },
     "execution_count": 164,
     "metadata": {},
     "output_type": "execute_result"
    }
   ],
   "source": [
    "lgbm_kf_rgs.best_params_"
   ]
  },
  {
   "cell_type": "code",
   "execution_count": 165,
   "id": "b2cd430a",
   "metadata": {},
   "outputs": [
    {
     "name": "stdout",
     "output_type": "stream",
     "text": [
      "0.8379888268156425\n"
     ]
    }
   ],
   "source": [
    "lgbm_kf_rgs_best = lgbm_kf_rgs.best_estimator_\n",
    "lgbm_kf_rgs_best_ypred = lgbm_kf_rgs_best.predict(X_test)\n",
    "print(accuracy_score(y_test, lgbm_kf_rgs_best_ypred))\n"
   ]
  },
  {
   "cell_type": "code",
   "execution_count": null,
   "id": "416dddb7",
   "metadata": {},
   "outputs": [],
   "source": []
  },
  {
   "cell_type": "markdown",
   "id": "c4215ab7",
   "metadata": {},
   "source": [
    "## 개인 실습"
   ]
  },
  {
   "cell_type": "markdown",
   "id": "fcbc2a22",
   "metadata": {},
   "source": [
    "#### rf best"
   ]
  },
  {
   "cell_type": "code",
   "execution_count": 40,
   "id": "6d1e88d1",
   "metadata": {},
   "outputs": [
    {
     "name": "stdout",
     "output_type": "stream",
     "text": [
      "Fitting 5 folds for each of 10 candidates, totalling 50 fits\n"
     ]
    },
    {
     "name": "stderr",
     "output_type": "stream",
     "text": [
      "C:\\ProgramData\\Anaconda3\\lib\\site-packages\\sklearn\\model_selection\\_search.py:918: UserWarning: One or more of the test scores are non-finite: [0.81317837        nan        nan        nan 0.80475721 0.81177977\n",
      "        nan 0.81598542        nan        nan]\n",
      "  warnings.warn(\n"
     ]
    },
    {
     "data": {
      "text/plain": [
       "RandomizedSearchCV(cv=StratifiedKFold(n_splits=5, random_state=1234, shuffle=True),\n",
       "                   estimator=RandomForestClassifier(n_jobs=-1,\n",
       "                                                    random_state=1234),\n",
       "                   n_jobs=-1,\n",
       "                   param_distributions={'max_depth': [11, 12, 13],\n",
       "                                        'max_features': ['auto', 'sqrt'],\n",
       "                                        'min_samples_leaf': [0.9, 1, 2],\n",
       "                                        'min_samples_split': [1, 2, 3],\n",
       "                                        'n_estimators': [1000, 1100, 1200]},\n",
       "                   scoring='accuracy', verbose=2)"
      ]
     },
     "execution_count": 40,
     "metadata": {},
     "output_type": "execute_result"
    }
   ],
   "source": [
    "# str_kfold (rgs)\n",
    "rf = RandomForestClassifier(n_jobs=-1, random_state=1234)\n",
    "\n",
    "parameters={\n",
    "    \"n_estimators\" : [1000, 1100,1200],\n",
    "    \"max_features\" : [\"auto\",\"sqrt\"],\n",
    "    \"max_depth\" : [11,12,13],\n",
    "    \"min_samples_split\" : [1,2,3 ],\n",
    "    \"min_samples_leaf\" : [0.9,1,2]\n",
    "}\n",
    "\n",
    "rf_kf_rgs = RandomizedSearchCV(\n",
    "    rf,\n",
    "    param_distributions=parameters,\n",
    "    cv = str_kfold,  \n",
    "    scoring=\"accuracy\",\n",
    "    n_jobs= -1, \n",
    "    verbose=2\n",
    ") \n",
    "rf_kf_rgs.fit(X_train, y_train)\n"
   ]
  },
  {
   "cell_type": "code",
   "execution_count": 41,
   "id": "b9c940fd",
   "metadata": {},
   "outputs": [
    {
     "data": {
      "text/plain": [
       "0.8159854230276766"
      ]
     },
     "execution_count": 41,
     "metadata": {},
     "output_type": "execute_result"
    }
   ],
   "source": [
    "rf_kf_rgs.best_score_"
   ]
  },
  {
   "cell_type": "code",
   "execution_count": 42,
   "id": "4acf94de",
   "metadata": {},
   "outputs": [
    {
     "data": {
      "text/plain": [
       "{'n_estimators': 1200,\n",
       " 'min_samples_split': 3,\n",
       " 'min_samples_leaf': 1,\n",
       " 'max_features': 'auto',\n",
       " 'max_depth': 11}"
      ]
     },
     "execution_count": 42,
     "metadata": {},
     "output_type": "execute_result"
    }
   ],
   "source": [
    "rf_kf_rgs.best_params_"
   ]
  },
  {
   "cell_type": "code",
   "execution_count": 43,
   "id": "7bb89808",
   "metadata": {},
   "outputs": [
    {
     "name": "stdout",
     "output_type": "stream",
     "text": [
      "0.8324022346368715\n"
     ]
    }
   ],
   "source": [
    "rf_kf_rgs_best = rf_kf_rgs.best_estimator_\n",
    "rf_kf_rgs_best_ypred = rf_kf_rgs_best.predict(X_test)\n",
    "rf_kf_rgs_best_acc = accuracy_score(y_test,rf_kf_rgs_best_ypred)\n",
    "print(rf_kf_rgs_best_acc)"
   ]
  },
  {
   "cell_type": "code",
   "execution_count": 44,
   "id": "923798a0",
   "metadata": {},
   "outputs": [],
   "source": [
    "import joblib"
   ]
  },
  {
   "cell_type": "code",
   "execution_count": 142,
   "id": "5d2b16b6",
   "metadata": {},
   "outputs": [
    {
     "data": {
      "text/plain": [
       "['rf_model_best.pkl']"
      ]
     },
     "execution_count": 142,
     "metadata": {},
     "output_type": "execute_result"
    }
   ],
   "source": [
    "# 어떤 모델을 어디에 저장?\n",
    "joblib.dump(rf_kf_rgs_best,\"rf_model_best.pkl\")"
   ]
  },
  {
   "cell_type": "code",
   "execution_count": 143,
   "id": "83564a65",
   "metadata": {},
   "outputs": [],
   "source": [
    "model_path = \"rf_model_best.pkl\"\n",
    "rf_backup_model = joblib.load(model_path)"
   ]
  },
  {
   "cell_type": "code",
   "execution_count": 144,
   "id": "a34a8c9e",
   "metadata": {},
   "outputs": [
    {
     "data": {
      "text/plain": [
       "RandomForestClassifier(max_depth=12, min_samples_leaf=2, min_samples_split=3,\n",
       "                       n_estimators=1100, n_jobs=-1, random_state=1234)"
      ]
     },
     "execution_count": 144,
     "metadata": {},
     "output_type": "execute_result"
    }
   ],
   "source": [
    "rf_backup_model"
   ]
  },
  {
   "cell_type": "code",
   "execution_count": 145,
   "id": "ebd6cda8",
   "metadata": {},
   "outputs": [
    {
     "data": {
      "text/plain": [
       "array([ True,  True,  True,  True,  True,  True,  True,  True,  True,\n",
       "        True,  True,  True,  True,  True,  True,  True,  True,  True,\n",
       "        True,  True,  True,  True,  True,  True,  True,  True,  True,\n",
       "        True,  True,  True,  True,  True,  True,  True,  True,  True,\n",
       "        True,  True,  True,  True,  True,  True,  True,  True,  True,\n",
       "        True,  True,  True,  True,  True,  True,  True,  True,  True,\n",
       "        True,  True,  True,  True,  True,  True,  True,  True,  True,\n",
       "        True,  True,  True,  True,  True,  True,  True,  True,  True,\n",
       "        True,  True,  True,  True,  True,  True,  True,  True,  True,\n",
       "        True,  True,  True,  True,  True,  True,  True,  True,  True,\n",
       "        True,  True,  True,  True,  True,  True,  True,  True,  True,\n",
       "        True,  True,  True,  True,  True,  True,  True,  True,  True,\n",
       "        True,  True,  True,  True,  True,  True,  True,  True,  True,\n",
       "        True,  True,  True,  True,  True,  True,  True,  True,  True,\n",
       "        True,  True,  True,  True,  True,  True,  True,  True,  True,\n",
       "        True,  True,  True,  True,  True,  True,  True,  True,  True,\n",
       "        True,  True,  True,  True,  True,  True,  True,  True,  True,\n",
       "        True,  True,  True,  True,  True,  True,  True,  True,  True,\n",
       "        True,  True,  True,  True,  True,  True,  True,  True,  True,\n",
       "        True,  True,  True,  True,  True,  True,  True,  True])"
      ]
     },
     "execution_count": 145,
     "metadata": {},
     "output_type": "execute_result"
    }
   ],
   "source": [
    "rf_backup_model.predict(X_test) == rf_kf_rgs_best.predict(X_test)"
   ]
  },
  {
   "cell_type": "markdown",
   "id": "018d4bfd",
   "metadata": {},
   "source": [
    "#### xgboost best"
   ]
  },
  {
   "cell_type": "code",
   "execution_count": 46,
   "id": "957feb94",
   "metadata": {},
   "outputs": [
    {
     "name": "stdout",
     "output_type": "stream",
     "text": [
      "Fitting 5 folds for each of 10 candidates, totalling 50 fits\n"
     ]
    },
    {
     "data": {
      "text/plain": [
       "RandomizedSearchCV(cv=KFold(n_splits=5, random_state=1234, shuffle=True),\n",
       "                   estimator=XGBClassifier(base_score=None, booster=None,\n",
       "                                           colsample_bylevel=None,\n",
       "                                           colsample_bynode=None,\n",
       "                                           colsample_bytree=None,\n",
       "                                           eval_metric='error', gamma=None,\n",
       "                                           gpu_id=None, importance_type='gain',\n",
       "                                           interaction_constraints=None,\n",
       "                                           learning_rate=None,\n",
       "                                           max_delta_step=None, max_depth=None,\n",
       "                                           min_child_...\n",
       "                                           verbosity=None),\n",
       "                   n_jobs=-1,\n",
       "                   param_distributions={'booster': ['gbtree', 'gblinear',\n",
       "                                                    'dart'],\n",
       "                                        'colsample_bytree': [0.7, 0.9, 1, 1.5],\n",
       "                                        'learning_rate': [0.05, 0.1, 0.15],\n",
       "                                        'max_depth': [5, 6, 7],\n",
       "                                        'min_child_weight': [0.5, 1, 1.5, 0.8],\n",
       "                                        'n_estimators': [90, 100, 150],\n",
       "                                        'reg_alpha': [0.5, 1, 1.5],\n",
       "                                        'reg_lambda': [0.4, 0.5, 0.6, 1],\n",
       "                                        'subsample': [0.6, 0.7, 0.8]},\n",
       "                   random_state=1234, scoring='accuracy', verbose=3)"
      ]
     },
     "execution_count": 46,
     "metadata": {},
     "output_type": "execute_result"
    }
   ],
   "source": [
    "xgbc = XGBClassifier(n_jobs = -1,\n",
    "                    use_label_encoder=False,\n",
    "                    eval_metric = \"error\",\n",
    "                    objective = \"binary:logistic\",\n",
    "                    random_state = 1234\n",
    "                    )\n",
    "# xgboost : 에러 줄일때 사용\n",
    "parameters = {\n",
    "    \"booster\": [\"gbtree\",\"gblinear\",\"dart\"],#이어달리기 할 친구 스타일(tree base). \n",
    "    \"n_estimators\":[90,100,150], #이어달리기 몇명이서\n",
    "    \"learning_rate\" : [0.05,0.1,0.15], # 숫자가 너무 작으면 섬세하게 봐서 시간 오래걸림\n",
    "    \n",
    "    # tree 모델이 가지고 있는 부분 조절 (tree베이스 이기 때문에 overfit 주의)\n",
    "    \"max_depth\": [5,6,7],\n",
    "    \"min_child_weight\":[0.5,1,1.5,0.8],\n",
    "    \"subsample\": [0.6,0.7,0.8],\n",
    "    \"colsample_bytree\": [0.7,0.9,1,1.5],\n",
    "    \n",
    "    # 규약\n",
    "    \"reg_alpha\": [0.5,1,1.5],\n",
    "    \"reg_lambda\": [0.4,0.5,0.6,1]\n",
    "    \n",
    "}\n",
    "\n",
    "\n",
    "n_iter_search = 10\n",
    "\n",
    "xgbc_kf_rgs = RandomizedSearchCV(\n",
    "    xgbc,\n",
    "    param_distributions=parameters,\n",
    "    cv = kfold,  ####  변경!!!\n",
    "    scoring=\"accuracy\",\n",
    "    n_jobs= -1, \n",
    "    random_state=1234,\n",
    "    n_iter=n_iter_search,\n",
    "    verbose = 3\n",
    ")\n",
    "\n",
    "# 데이터 타입을 사용하는 버전에 따라 수정이 필요할 수 있음.\n",
    "# np를 사용해서 값만 집어넣어야 가능한 경우가 있음\n",
    "xgbc_kf_rgs.fit(X_train,y_train)\n",
    "\n"
   ]
  },
  {
   "cell_type": "code",
   "execution_count": 47,
   "id": "641c5a89",
   "metadata": {},
   "outputs": [
    {
     "data": {
      "text/plain": [
       "0.8286516300600807"
      ]
     },
     "execution_count": 47,
     "metadata": {},
     "output_type": "execute_result"
    }
   ],
   "source": [
    "xgbc_kf_rgs.best_score_"
   ]
  },
  {
   "cell_type": "code",
   "execution_count": 48,
   "id": "32113ded",
   "metadata": {},
   "outputs": [
    {
     "data": {
      "text/plain": [
       "{'subsample': 0.7,\n",
       " 'reg_lambda': 0.6,\n",
       " 'reg_alpha': 1,\n",
       " 'n_estimators': 150,\n",
       " 'min_child_weight': 1,\n",
       " 'max_depth': 7,\n",
       " 'learning_rate': 0.1,\n",
       " 'colsample_bytree': 1,\n",
       " 'booster': 'dart'}"
      ]
     },
     "execution_count": 48,
     "metadata": {},
     "output_type": "execute_result"
    }
   ],
   "source": [
    "xgbc_kf_rgs.best_params_"
   ]
  },
  {
   "cell_type": "code",
   "execution_count": 49,
   "id": "f2112521",
   "metadata": {
    "scrolled": true
   },
   "outputs": [
    {
     "name": "stdout",
     "output_type": "stream",
     "text": [
      "0.8379888268156425\n"
     ]
    }
   ],
   "source": [
    "xgbc_kf_rgs_best = xgbc_kf_rgs.best_estimator_\n",
    "xgbc_kf_rgs_best_ypred = xgbc_kf_rgs_best.predict(X_test)\n",
    "xgbc_kf_rgs_best_acc = accuracy_score(y_test,xgbc_kf_rgs_best_ypred)\n",
    "print(xgbc_kf_rgs_best_acc)"
   ]
  },
  {
   "cell_type": "code",
   "execution_count": 155,
   "id": "3a8c915b",
   "metadata": {},
   "outputs": [
    {
     "data": {
      "text/plain": [
       "['xgboost_model_best.pkl']"
      ]
     },
     "execution_count": 155,
     "metadata": {},
     "output_type": "execute_result"
    }
   ],
   "source": [
    "# 어떤 모델을 어디에 저장?\n",
    "joblib.dump(xgbc_kf_rgs_best,\"xgboost_model_best.pkl\")"
   ]
  },
  {
   "cell_type": "code",
   "execution_count": 156,
   "id": "dae9baa9",
   "metadata": {},
   "outputs": [],
   "source": [
    "model_path = \"xgboost_model_best.pkl\"\n",
    "xgboost_backup_model = joblib.load(model_path)"
   ]
  },
  {
   "cell_type": "code",
   "execution_count": 157,
   "id": "e3cae0c7",
   "metadata": {},
   "outputs": [
    {
     "data": {
      "text/plain": [
       "XGBClassifier(base_score=0.5, booster='dart', colsample_bylevel=1,\n",
       "              colsample_bynode=1, colsample_bytree=0.7, eval_metric='error',\n",
       "              gamma=0, gpu_id=-1, importance_type='gain',\n",
       "              interaction_constraints='', learning_rate=0.15, max_delta_step=0,\n",
       "              max_depth=5, min_child_weight=0.8, missing=nan,\n",
       "              monotone_constraints='()', n_estimators=100, n_jobs=-1,\n",
       "              num_parallel_tree=1, random_state=1234, reg_alpha=1.5,\n",
       "              reg_lambda=0.6, scale_pos_weight=1, subsample=0.6,\n",
       "              tree_method='exact', use_label_encoder=False,\n",
       "              validate_parameters=1, verbosity=None)"
      ]
     },
     "execution_count": 157,
     "metadata": {},
     "output_type": "execute_result"
    }
   ],
   "source": [
    "xgboost_backup_model"
   ]
  },
  {
   "cell_type": "code",
   "execution_count": 158,
   "id": "9a279b3a",
   "metadata": {
    "scrolled": false
   },
   "outputs": [
    {
     "data": {
      "text/plain": [
       "array([ True,  True,  True,  True,  True,  True,  True,  True,  True,\n",
       "        True,  True,  True,  True,  True,  True,  True,  True,  True,\n",
       "        True,  True,  True,  True,  True,  True,  True,  True,  True,\n",
       "        True,  True,  True,  True,  True,  True,  True,  True,  True,\n",
       "        True,  True,  True,  True,  True,  True,  True,  True,  True,\n",
       "        True,  True,  True,  True,  True,  True,  True,  True,  True,\n",
       "        True,  True,  True,  True,  True,  True,  True,  True,  True,\n",
       "        True,  True,  True,  True,  True,  True,  True,  True,  True,\n",
       "        True,  True,  True,  True,  True,  True,  True,  True,  True,\n",
       "        True,  True,  True,  True,  True,  True,  True,  True,  True,\n",
       "        True,  True,  True,  True,  True,  True,  True,  True,  True,\n",
       "        True,  True,  True,  True,  True,  True,  True,  True,  True,\n",
       "        True,  True,  True,  True,  True,  True,  True,  True,  True,\n",
       "        True,  True,  True,  True,  True,  True,  True,  True,  True,\n",
       "        True,  True,  True,  True,  True,  True,  True,  True,  True,\n",
       "        True,  True,  True,  True,  True,  True,  True,  True,  True,\n",
       "        True,  True,  True,  True,  True,  True,  True,  True,  True,\n",
       "        True,  True,  True,  True,  True,  True,  True,  True,  True,\n",
       "        True,  True,  True,  True,  True,  True,  True,  True,  True,\n",
       "        True,  True,  True,  True,  True,  True,  True,  True])"
      ]
     },
     "execution_count": 158,
     "metadata": {},
     "output_type": "execute_result"
    }
   ],
   "source": [
    "xgboost_backup_model.predict(X_test) == xgbc_kf_rgs_best.predict(X_test)"
   ]
  },
  {
   "cell_type": "markdown",
   "id": "4c36d048",
   "metadata": {},
   "source": [
    "#### lightGBM best"
   ]
  },
  {
   "cell_type": "code",
   "execution_count": 51,
   "id": "d0b830d3",
   "metadata": {},
   "outputs": [
    {
     "name": "stdout",
     "output_type": "stream",
     "text": [
      "Fitting 5 folds for each of 10 candidates, totalling 50 fits\n"
     ]
    },
    {
     "name": "stderr",
     "output_type": "stream",
     "text": [
      "C:\\ProgramData\\Anaconda3\\lib\\site-packages\\sklearn\\model_selection\\_search.py:918: UserWarning: One or more of the test scores are non-finite: [       nan 0.82159953 0.81879248 0.82441643 0.82865163 0.81737418\n",
      " 0.81743327        nan 0.81881217 0.82021078]\n",
      "  warnings.warn(\n"
     ]
    },
    {
     "data": {
      "text/plain": [
       "RandomizedSearchCV(cv=KFold(n_splits=5, random_state=1234, shuffle=True),\n",
       "                   estimator=LGBMClassifier(random_state=1234), n_jobs=-1,\n",
       "                   param_distributions={'boosting_type': ['gbdt', 'goss',\n",
       "                                                          'dart', 'rf'],\n",
       "                                        'min_child_weight': [3, 4, 6, 5],\n",
       "                                        'n_estimators': [200, 300, 400, 350],\n",
       "                                        'reg_alpha': [0.4, 0.5, 1, 1.5],\n",
       "                                        'reg_lambda': [0, 0.0001, 0.0005,\n",
       "                                                       5e-05]},\n",
       "                   random_state=1234, scoring='accuracy', verbose=3)"
      ]
     },
     "execution_count": 51,
     "metadata": {},
     "output_type": "execute_result"
    }
   ],
   "source": [
    "lgbm = LGBMClassifier(\n",
    "    random_state=1234,\n",
    "    n_jobs = -1,\n",
    ")\n",
    "\n",
    "parameters = {\n",
    "    # 이어 달리기를 할 친구 스타일!!! -> tree -> overfit!!!!!\n",
    "    \"boosting_type\":[ \"gbdt\", \"goss\",\"dart\", \"rf\"],\n",
    "\n",
    "    \n",
    "    # 몇 명을 뽑아서 이어달리기를 할지,\n",
    "    # 이어달리기를 하는 과정을 얼마나 디테일하게 할지...\n",
    "    \"n_estimators\" : [200,300,400,350],\n",
    "     \"min_child_weight\":[3,4,6, 5],\n",
    "    \n",
    "    # 규약\n",
    "    \"reg_alpha\" : [0.4, 0.5, 1 ,1.5],\n",
    "    \"reg_lambda\" :  [0, 0.0001,0.0005,0.00005]\n",
    "    \n",
    "}\n",
    "\n",
    "n_iter_search = 10\n",
    "\n",
    "lgbm_kf_rgs = RandomizedSearchCV(\n",
    "    lgbm,\n",
    "    param_distributions=parameters,\n",
    "    cv = kfold,  ####  변경!!!\n",
    "    scoring=\"accuracy\",\n",
    "    n_jobs= -1, \n",
    "    random_state=1234,\n",
    "    n_iter=n_iter_search,\n",
    "    verbose=3\n",
    ") \n",
    "\n",
    "lgbm_kf_rgs.fit(X_train,y_train)\n"
   ]
  },
  {
   "cell_type": "code",
   "execution_count": 52,
   "id": "183b5a00",
   "metadata": {},
   "outputs": [
    {
     "data": {
      "text/plain": [
       "0.8286516300600807"
      ]
     },
     "execution_count": 52,
     "metadata": {},
     "output_type": "execute_result"
    }
   ],
   "source": [
    "lgbm_kf_rgs.best_score_"
   ]
  },
  {
   "cell_type": "code",
   "execution_count": 53,
   "id": "3c8ec6ca",
   "metadata": {},
   "outputs": [
    {
     "data": {
      "text/plain": [
       "{'reg_lambda': 0,\n",
       " 'reg_alpha': 1.5,\n",
       " 'n_estimators': 200,\n",
       " 'min_child_weight': 5,\n",
       " 'boosting_type': 'gbdt'}"
      ]
     },
     "execution_count": 53,
     "metadata": {},
     "output_type": "execute_result"
    }
   ],
   "source": [
    "lgbm_kf_rgs.best_params_"
   ]
  },
  {
   "cell_type": "code",
   "execution_count": 54,
   "id": "06aa5260",
   "metadata": {},
   "outputs": [
    {
     "name": "stdout",
     "output_type": "stream",
     "text": [
      "0.8268156424581006\n"
     ]
    }
   ],
   "source": [
    "lgbm_kf_rgs_best = lgbm_kf_rgs.best_estimator_\n",
    "lgbm_kf_rgs_best_ypred = lgbm_kf_rgs_best.predict(X_test)\n",
    "print(accuracy_score(y_test, lgbm_kf_rgs_best_ypred))\n"
   ]
  },
  {
   "cell_type": "code",
   "execution_count": 182,
   "id": "53660f4b",
   "metadata": {},
   "outputs": [
    {
     "data": {
      "text/plain": [
       "['lightgbm_model_best.pkl']"
      ]
     },
     "execution_count": 182,
     "metadata": {},
     "output_type": "execute_result"
    }
   ],
   "source": [
    "# 어떤 모델을 어디에 저장?\n",
    "joblib.dump(lgbm_kf_rgs_best,\"lightgbm_model_best.pkl\")"
   ]
  },
  {
   "cell_type": "code",
   "execution_count": 184,
   "id": "c24a23d4",
   "metadata": {},
   "outputs": [],
   "source": [
    "model_path = \"lightgbm_model_best.pkl\"\n",
    "lightgbm_backup_model = joblib.load(model_path)"
   ]
  },
  {
   "cell_type": "code",
   "execution_count": 185,
   "id": "cfcea030",
   "metadata": {},
   "outputs": [
    {
     "data": {
      "text/plain": [
       "LGBMClassifier(min_child_weight=5, n_estimators=200, random_state=1234,\n",
       "               reg_alpha=1.5, reg_lambda=0)"
      ]
     },
     "execution_count": 185,
     "metadata": {},
     "output_type": "execute_result"
    }
   ],
   "source": [
    "lightgbm_backup_model"
   ]
  },
  {
   "cell_type": "code",
   "execution_count": 186,
   "id": "e9ba7238",
   "metadata": {
    "scrolled": true
   },
   "outputs": [
    {
     "data": {
      "text/plain": [
       "array([ True,  True,  True,  True,  True,  True,  True,  True,  True,\n",
       "        True,  True,  True,  True,  True,  True,  True,  True,  True,\n",
       "        True,  True,  True,  True,  True,  True,  True,  True,  True,\n",
       "        True,  True,  True,  True,  True,  True,  True,  True,  True,\n",
       "        True,  True,  True,  True,  True,  True,  True,  True,  True,\n",
       "        True,  True,  True,  True,  True,  True,  True,  True,  True,\n",
       "        True,  True,  True,  True,  True,  True,  True,  True,  True,\n",
       "        True,  True,  True,  True,  True,  True,  True,  True,  True,\n",
       "        True,  True,  True,  True,  True,  True,  True,  True,  True,\n",
       "        True,  True,  True,  True,  True,  True,  True,  True,  True,\n",
       "        True,  True,  True,  True,  True,  True,  True,  True,  True,\n",
       "        True,  True,  True,  True,  True,  True,  True,  True,  True,\n",
       "        True,  True,  True,  True,  True,  True,  True,  True,  True,\n",
       "        True,  True,  True,  True,  True,  True,  True,  True,  True,\n",
       "        True,  True,  True,  True,  True,  True,  True,  True,  True,\n",
       "        True,  True,  True,  True,  True,  True,  True,  True,  True,\n",
       "        True,  True,  True,  True,  True,  True,  True,  True,  True,\n",
       "        True,  True,  True,  True,  True,  True,  True,  True,  True,\n",
       "        True,  True,  True,  True,  True,  True,  True,  True,  True,\n",
       "        True,  True,  True,  True,  True,  True,  True,  True])"
      ]
     },
     "execution_count": 186,
     "metadata": {},
     "output_type": "execute_result"
    }
   ],
   "source": [
    "lightgbm_backup_model.predict(X_test) == lgbm_kf_rgs_best.predict(X_test)"
   ]
  },
  {
   "cell_type": "markdown",
   "id": "2c11c947",
   "metadata": {},
   "source": [
    "#### hard voting"
   ]
  },
  {
   "cell_type": "code",
   "execution_count": 55,
   "id": "228db042",
   "metadata": {},
   "outputs": [],
   "source": [
    "def vote_handmade(x):\n",
    "    p = collections.Counter(x) # M1 : A, M2 : B, M3 : A --> x = [ A, B, A]\n",
    "    if p.most_common()[0][1] >= 2: #내가 3개의 모델을 사용한다는 가정에서 과반 이상\n",
    "        return p.most_common()[0][0]\n",
    "    else:\n",
    "        print(\"check!\")\n",
    "        return x[0]"
   ]
  },
  {
   "cell_type": "code",
   "execution_count": 75,
   "id": "0d5d788d",
   "metadata": {},
   "outputs": [
    {
     "data": {
      "text/html": [
       "<div>\n",
       "<style scoped>\n",
       "    .dataframe tbody tr th:only-of-type {\n",
       "        vertical-align: middle;\n",
       "    }\n",
       "\n",
       "    .dataframe tbody tr th {\n",
       "        vertical-align: top;\n",
       "    }\n",
       "\n",
       "    .dataframe thead th {\n",
       "        text-align: right;\n",
       "    }\n",
       "</style>\n",
       "<table border=\"1\" class=\"dataframe\">\n",
       "  <thead>\n",
       "    <tr style=\"text-align: right;\">\n",
       "      <th></th>\n",
       "      <th>Pclass</th>\n",
       "      <th>Sex</th>\n",
       "      <th>Age</th>\n",
       "      <th>SibSp</th>\n",
       "      <th>Parch</th>\n",
       "      <th>Fare</th>\n",
       "      <th>Cabin</th>\n",
       "      <th>Embarked</th>\n",
       "      <th>rf_clf</th>\n",
       "      <th>lightgbm_clf</th>\n",
       "      <th>xgboost_clf</th>\n",
       "    </tr>\n",
       "  </thead>\n",
       "  <tbody>\n",
       "    <tr>\n",
       "      <th>691</th>\n",
       "      <td>3</td>\n",
       "      <td>0</td>\n",
       "      <td>4.0</td>\n",
       "      <td>0</td>\n",
       "      <td>1</td>\n",
       "      <td>13.4167</td>\n",
       "      <td>7</td>\n",
       "      <td>0</td>\n",
       "      <td>1</td>\n",
       "      <td>1</td>\n",
       "      <td>1</td>\n",
       "    </tr>\n",
       "    <tr>\n",
       "      <th>43</th>\n",
       "      <td>2</td>\n",
       "      <td>0</td>\n",
       "      <td>3.0</td>\n",
       "      <td>1</td>\n",
       "      <td>2</td>\n",
       "      <td>41.5792</td>\n",
       "      <td>7</td>\n",
       "      <td>0</td>\n",
       "      <td>1</td>\n",
       "      <td>1</td>\n",
       "      <td>1</td>\n",
       "    </tr>\n",
       "    <tr>\n",
       "      <th>666</th>\n",
       "      <td>2</td>\n",
       "      <td>1</td>\n",
       "      <td>25.0</td>\n",
       "      <td>0</td>\n",
       "      <td>0</td>\n",
       "      <td>13.0000</td>\n",
       "      <td>7</td>\n",
       "      <td>3</td>\n",
       "      <td>0</td>\n",
       "      <td>0</td>\n",
       "      <td>0</td>\n",
       "    </tr>\n",
       "    <tr>\n",
       "      <th>769</th>\n",
       "      <td>3</td>\n",
       "      <td>1</td>\n",
       "      <td>32.0</td>\n",
       "      <td>0</td>\n",
       "      <td>0</td>\n",
       "      <td>8.3625</td>\n",
       "      <td>7</td>\n",
       "      <td>3</td>\n",
       "      <td>0</td>\n",
       "      <td>0</td>\n",
       "      <td>0</td>\n",
       "    </tr>\n",
       "    <tr>\n",
       "      <th>419</th>\n",
       "      <td>3</td>\n",
       "      <td>0</td>\n",
       "      <td>10.0</td>\n",
       "      <td>0</td>\n",
       "      <td>2</td>\n",
       "      <td>24.1500</td>\n",
       "      <td>7</td>\n",
       "      <td>3</td>\n",
       "      <td>1</td>\n",
       "      <td>0</td>\n",
       "      <td>0</td>\n",
       "    </tr>\n",
       "  </tbody>\n",
       "</table>\n",
       "</div>"
      ],
      "text/plain": [
       "     Pclass  Sex   Age  SibSp  Parch     Fare  Cabin  Embarked  rf_clf  \\\n",
       "691       3    0   4.0      0      1  13.4167      7         0       1   \n",
       "43        2    0   3.0      1      2  41.5792      7         0       1   \n",
       "666       2    1  25.0      0      0  13.0000      7         3       0   \n",
       "769       3    1  32.0      0      0   8.3625      7         3       0   \n",
       "419       3    0  10.0      0      2  24.1500      7         3       1   \n",
       "\n",
       "     lightgbm_clf  xgboost_clf  \n",
       "691             1            1  \n",
       "43              1            1  \n",
       "666             0            0  \n",
       "769             0            0  \n",
       "419             0            0  "
      ]
     },
     "execution_count": 75,
     "metadata": {},
     "output_type": "execute_result"
    }
   ],
   "source": [
    "X_test_model_total = X_test.copy(deep=True) # 복사해서 같은 파일 만들기\n",
    "X_test_model_total[\"rf_clf\"] = rf_kf_rgs_best.predict(X_test)\n",
    "X_test_model_total[\"lightgbm_clf\"] = lgbm_kf_rgs_best.predict(X_test)\n",
    "X_test_model_total[\"xgboost_clf\"] = xgbc_kf_rgs_best.predict(X_test)\n",
    "X_test_model_total.head()# 정답지 붙이기"
   ]
  },
  {
   "cell_type": "code",
   "execution_count": 76,
   "id": "ec88fcf0",
   "metadata": {},
   "outputs": [
    {
     "data": {
      "text/html": [
       "<div>\n",
       "<style scoped>\n",
       "    .dataframe tbody tr th:only-of-type {\n",
       "        vertical-align: middle;\n",
       "    }\n",
       "\n",
       "    .dataframe tbody tr th {\n",
       "        vertical-align: top;\n",
       "    }\n",
       "\n",
       "    .dataframe thead th {\n",
       "        text-align: right;\n",
       "    }\n",
       "</style>\n",
       "<table border=\"1\" class=\"dataframe\">\n",
       "  <thead>\n",
       "    <tr style=\"text-align: right;\">\n",
       "      <th></th>\n",
       "      <th>Pclass</th>\n",
       "      <th>Sex</th>\n",
       "      <th>Age</th>\n",
       "      <th>SibSp</th>\n",
       "      <th>Parch</th>\n",
       "      <th>Fare</th>\n",
       "      <th>Cabin</th>\n",
       "      <th>Embarked</th>\n",
       "      <th>rf_clf</th>\n",
       "      <th>lightgbm_clf</th>\n",
       "      <th>xgboost_clf</th>\n",
       "      <th>hard_voting</th>\n",
       "    </tr>\n",
       "  </thead>\n",
       "  <tbody>\n",
       "    <tr>\n",
       "      <th>691</th>\n",
       "      <td>3</td>\n",
       "      <td>0</td>\n",
       "      <td>4.0</td>\n",
       "      <td>0</td>\n",
       "      <td>1</td>\n",
       "      <td>13.4167</td>\n",
       "      <td>7</td>\n",
       "      <td>0</td>\n",
       "      <td>1</td>\n",
       "      <td>1</td>\n",
       "      <td>1</td>\n",
       "      <td>1</td>\n",
       "    </tr>\n",
       "    <tr>\n",
       "      <th>43</th>\n",
       "      <td>2</td>\n",
       "      <td>0</td>\n",
       "      <td>3.0</td>\n",
       "      <td>1</td>\n",
       "      <td>2</td>\n",
       "      <td>41.5792</td>\n",
       "      <td>7</td>\n",
       "      <td>0</td>\n",
       "      <td>1</td>\n",
       "      <td>1</td>\n",
       "      <td>1</td>\n",
       "      <td>1</td>\n",
       "    </tr>\n",
       "    <tr>\n",
       "      <th>666</th>\n",
       "      <td>2</td>\n",
       "      <td>1</td>\n",
       "      <td>25.0</td>\n",
       "      <td>0</td>\n",
       "      <td>0</td>\n",
       "      <td>13.0000</td>\n",
       "      <td>7</td>\n",
       "      <td>3</td>\n",
       "      <td>0</td>\n",
       "      <td>0</td>\n",
       "      <td>0</td>\n",
       "      <td>0</td>\n",
       "    </tr>\n",
       "    <tr>\n",
       "      <th>769</th>\n",
       "      <td>3</td>\n",
       "      <td>1</td>\n",
       "      <td>32.0</td>\n",
       "      <td>0</td>\n",
       "      <td>0</td>\n",
       "      <td>8.3625</td>\n",
       "      <td>7</td>\n",
       "      <td>3</td>\n",
       "      <td>0</td>\n",
       "      <td>0</td>\n",
       "      <td>0</td>\n",
       "      <td>0</td>\n",
       "    </tr>\n",
       "    <tr>\n",
       "      <th>419</th>\n",
       "      <td>3</td>\n",
       "      <td>0</td>\n",
       "      <td>10.0</td>\n",
       "      <td>0</td>\n",
       "      <td>2</td>\n",
       "      <td>24.1500</td>\n",
       "      <td>7</td>\n",
       "      <td>3</td>\n",
       "      <td>1</td>\n",
       "      <td>0</td>\n",
       "      <td>0</td>\n",
       "      <td>0</td>\n",
       "    </tr>\n",
       "  </tbody>\n",
       "</table>\n",
       "</div>"
      ],
      "text/plain": [
       "     Pclass  Sex   Age  SibSp  Parch     Fare  Cabin  Embarked  rf_clf  \\\n",
       "691       3    0   4.0      0      1  13.4167      7         0       1   \n",
       "43        2    0   3.0      1      2  41.5792      7         0       1   \n",
       "666       2    1  25.0      0      0  13.0000      7         3       0   \n",
       "769       3    1  32.0      0      0   8.3625      7         3       0   \n",
       "419       3    0  10.0      0      2  24.1500      7         3       1   \n",
       "\n",
       "     lightgbm_clf  xgboost_clf  hard_voting  \n",
       "691             1            1            1  \n",
       "43              1            1            1  \n",
       "666             0            0            0  \n",
       "769             0            0            0  \n",
       "419             0            0            0  "
      ]
     },
     "execution_count": 76,
     "metadata": {},
     "output_type": "execute_result"
    }
   ],
   "source": [
    "X_test_model_total[\"hard_voting\"]= X_test_model_total.loc[:, [\"rf_clf\",\"lightgbm_clf\",\"xgboost_clf\"]].apply(lambda x : vote_handmade(x), axis=1)\n",
    "X_test_model_total.head() # 과반수 적용, 살았나 죽었나 라서 0이랑 1만있음"
   ]
  },
  {
   "cell_type": "code",
   "execution_count": 77,
   "id": "43792472",
   "metadata": {},
   "outputs": [
    {
     "data": {
      "text/plain": [
       "0.8324022346368715"
      ]
     },
     "execution_count": 77,
     "metadata": {},
     "output_type": "execute_result"
    }
   ],
   "source": [
    "accuracy_score(y_test,X_test_model_total[\"hard_voting\"])"
   ]
  },
  {
   "cell_type": "markdown",
   "id": "3be5af01",
   "metadata": {},
   "source": [
    "#### soft voting"
   ]
  },
  {
   "cell_type": "code",
   "execution_count": 78,
   "id": "d6606be5",
   "metadata": {},
   "outputs": [
    {
     "name": "stdout",
     "output_type": "stream",
     "text": [
      "[11:46:51] INFO: D:\\bld\\xgboost-split_1631904903843\\work\\src\\tree\\updater_prune.cc:101: tree pruning end, 40 extra nodes, 0 pruned nodes, max_depth=7\n",
      "[11:46:51] INFO: D:\\bld\\xgboost-split_1631904903843\\work\\src\\gbm\\gbtree.cc:860: drop 0 trees, weight = 1\n",
      "[11:46:51] INFO: D:\\bld\\xgboost-split_1631904903843\\work\\src\\tree\\updater_prune.cc:101: tree pruning end, 34 extra nodes, 0 pruned nodes, max_depth=7\n",
      "[11:46:51] INFO: D:\\bld\\xgboost-split_1631904903843\\work\\src\\gbm\\gbtree.cc:860: drop 0 trees, weight = 1\n",
      "[11:46:51] INFO: D:\\bld\\xgboost-split_1631904903843\\work\\src\\tree\\updater_prune.cc:101: tree pruning end, 36 extra nodes, 0 pruned nodes, max_depth=7\n",
      "[11:46:51] INFO: D:\\bld\\xgboost-split_1631904903843\\work\\src\\gbm\\gbtree.cc:860: drop 0 trees, weight = 1\n",
      "[11:46:51] INFO: D:\\bld\\xgboost-split_1631904903843\\work\\src\\tree\\updater_prune.cc:101: tree pruning end, 28 extra nodes, 0 pruned nodes, max_depth=7\n",
      "[11:46:51] INFO: D:\\bld\\xgboost-split_1631904903843\\work\\src\\gbm\\gbtree.cc:860: drop 0 trees, weight = 1\n",
      "[11:46:51] INFO: D:\\bld\\xgboost-split_1631904903843\\work\\src\\tree\\updater_prune.cc:101: tree pruning end, 32 extra nodes, 0 pruned nodes, max_depth=7\n",
      "[11:46:51] INFO: D:\\bld\\xgboost-split_1631904903843\\work\\src\\gbm\\gbtree.cc:860: drop 0 trees, weight = 1\n",
      "[11:46:51] INFO: D:\\bld\\xgboost-split_1631904903843\\work\\src\\tree\\updater_prune.cc:101: tree pruning end, 44 extra nodes, 0 pruned nodes, max_depth=7\n",
      "[11:46:51] INFO: D:\\bld\\xgboost-split_1631904903843\\work\\src\\gbm\\gbtree.cc:860: drop 0 trees, weight = 1\n",
      "[11:46:51] INFO: D:\\bld\\xgboost-split_1631904903843\\work\\src\\tree\\updater_prune.cc:101: tree pruning end, 38 extra nodes, 0 pruned nodes, max_depth=7\n",
      "[11:46:51] INFO: D:\\bld\\xgboost-split_1631904903843\\work\\src\\gbm\\gbtree.cc:860: drop 0 trees, weight = 1\n",
      "[11:46:51] INFO: D:\\bld\\xgboost-split_1631904903843\\work\\src\\tree\\updater_prune.cc:101: tree pruning end, 36 extra nodes, 0 pruned nodes, max_depth=6\n",
      "[11:46:51] INFO: D:\\bld\\xgboost-split_1631904903843\\work\\src\\gbm\\gbtree.cc:860: drop 0 trees, weight = 1\n",
      "[11:46:51] INFO: D:\\bld\\xgboost-split_1631904903843\\work\\src\\tree\\updater_prune.cc:101: tree pruning end, 42 extra nodes, 0 pruned nodes, max_depth=7\n",
      "[11:46:51] INFO: D:\\bld\\xgboost-split_1631904903843\\work\\src\\gbm\\gbtree.cc:860: drop 0 trees, weight = 1\n",
      "[11:46:51] INFO: D:\\bld\\xgboost-split_1631904903843\\work\\src\\tree\\updater_prune.cc:101: tree pruning end, 52 extra nodes, 0 pruned nodes, max_depth=7\n",
      "[11:46:51] INFO: D:\\bld\\xgboost-split_1631904903843\\work\\src\\gbm\\gbtree.cc:860: drop 0 trees, weight = 1\n",
      "[11:46:51] INFO: D:\\bld\\xgboost-split_1631904903843\\work\\src\\tree\\updater_prune.cc:101: tree pruning end, 34 extra nodes, 0 pruned nodes, max_depth=7\n",
      "[11:46:51] INFO: D:\\bld\\xgboost-split_1631904903843\\work\\src\\gbm\\gbtree.cc:860: drop 0 trees, weight = 1\n",
      "[11:46:51] INFO: D:\\bld\\xgboost-split_1631904903843\\work\\src\\tree\\updater_prune.cc:101: tree pruning end, 42 extra nodes, 0 pruned nodes, max_depth=7\n",
      "[11:46:51] INFO: D:\\bld\\xgboost-split_1631904903843\\work\\src\\gbm\\gbtree.cc:860: drop 0 trees, weight = 1\n",
      "[11:46:51] INFO: D:\\bld\\xgboost-split_1631904903843\\work\\src\\tree\\updater_prune.cc:101: tree pruning end, 50 extra nodes, 0 pruned nodes, max_depth=7\n",
      "[11:46:51] INFO: D:\\bld\\xgboost-split_1631904903843\\work\\src\\gbm\\gbtree.cc:860: drop 0 trees, weight = 1\n",
      "[11:46:51] INFO: D:\\bld\\xgboost-split_1631904903843\\work\\src\\tree\\updater_prune.cc:101: tree pruning end, 46 extra nodes, 0 pruned nodes, max_depth=6\n",
      "[11:46:51] INFO: D:\\bld\\xgboost-split_1631904903843\\work\\src\\gbm\\gbtree.cc:860: drop 0 trees, weight = 1\n",
      "[11:46:51] INFO: D:\\bld\\xgboost-split_1631904903843\\work\\src\\tree\\updater_prune.cc:101: tree pruning end, 38 extra nodes, 0 pruned nodes, max_depth=6\n",
      "[11:46:51] INFO: D:\\bld\\xgboost-split_1631904903843\\work\\src\\gbm\\gbtree.cc:860: drop 0 trees, weight = 1\n",
      "[11:46:51] INFO: D:\\bld\\xgboost-split_1631904903843\\work\\src\\tree\\updater_prune.cc:101: tree pruning end, 50 extra nodes, 0 pruned nodes, max_depth=7\n",
      "[11:46:51] INFO: D:\\bld\\xgboost-split_1631904903843\\work\\src\\gbm\\gbtree.cc:860: drop 0 trees, weight = 1\n",
      "[11:46:51] INFO: D:\\bld\\xgboost-split_1631904903843\\work\\src\\tree\\updater_prune.cc:101: tree pruning end, 52 extra nodes, 0 pruned nodes, max_depth=7\n",
      "[11:46:51] INFO: D:\\bld\\xgboost-split_1631904903843\\work\\src\\gbm\\gbtree.cc:860: drop 0 trees, weight = 1\n",
      "[11:46:51] INFO: D:\\bld\\xgboost-split_1631904903843\\work\\src\\tree\\updater_prune.cc:101: tree pruning end, 54 extra nodes, 0 pruned nodes, max_depth=7\n",
      "[11:46:51] INFO: D:\\bld\\xgboost-split_1631904903843\\work\\src\\gbm\\gbtree.cc:860: drop 0 trees, weight = 1\n",
      "[11:46:51] INFO: D:\\bld\\xgboost-split_1631904903843\\work\\src\\tree\\updater_prune.cc:101: tree pruning end, 54 extra nodes, 0 pruned nodes, max_depth=7\n",
      "[11:46:51] INFO: D:\\bld\\xgboost-split_1631904903843\\work\\src\\gbm\\gbtree.cc:860: drop 0 trees, weight = 1\n",
      "[11:46:51] INFO: D:\\bld\\xgboost-split_1631904903843\\work\\src\\tree\\updater_prune.cc:101: tree pruning end, 58 extra nodes, 0 pruned nodes, max_depth=7\n",
      "[11:46:51] INFO: D:\\bld\\xgboost-split_1631904903843\\work\\src\\gbm\\gbtree.cc:860: drop 0 trees, weight = 1\n",
      "[11:46:51] INFO: D:\\bld\\xgboost-split_1631904903843\\work\\src\\tree\\updater_prune.cc:101: tree pruning end, 38 extra nodes, 0 pruned nodes, max_depth=7\n",
      "[11:46:51] INFO: D:\\bld\\xgboost-split_1631904903843\\work\\src\\gbm\\gbtree.cc:860: drop 0 trees, weight = 1\n",
      "[11:46:51] INFO: D:\\bld\\xgboost-split_1631904903843\\work\\src\\tree\\updater_prune.cc:101: tree pruning end, 50 extra nodes, 0 pruned nodes, max_depth=7\n",
      "[11:46:51] INFO: D:\\bld\\xgboost-split_1631904903843\\work\\src\\gbm\\gbtree.cc:860: drop 0 trees, weight = 1\n",
      "[11:46:51] INFO: D:\\bld\\xgboost-split_1631904903843\\work\\src\\tree\\updater_prune.cc:101: tree pruning end, 42 extra nodes, 0 pruned nodes, max_depth=7\n",
      "[11:46:51] INFO: D:\\bld\\xgboost-split_1631904903843\\work\\src\\gbm\\gbtree.cc:860: drop 0 trees, weight = 1\n",
      "[11:46:51] INFO: D:\\bld\\xgboost-split_1631904903843\\work\\src\\tree\\updater_prune.cc:101: tree pruning end, 36 extra nodes, 0 pruned nodes, max_depth=7\n",
      "[11:46:51] INFO: D:\\bld\\xgboost-split_1631904903843\\work\\src\\gbm\\gbtree.cc:860: drop 0 trees, weight = 1\n",
      "[11:46:51] INFO: D:\\bld\\xgboost-split_1631904903843\\work\\src\\tree\\updater_prune.cc:101: tree pruning end, 42 extra nodes, 0 pruned nodes, max_depth=7\n",
      "[11:46:51] INFO: D:\\bld\\xgboost-split_1631904903843\\work\\src\\gbm\\gbtree.cc:860: drop 0 trees, weight = 1\n",
      "[11:46:51] INFO: D:\\bld\\xgboost-split_1631904903843\\work\\src\\tree\\updater_prune.cc:101: tree pruning end, 46 extra nodes, 0 pruned nodes, max_depth=7\n",
      "[11:46:51] INFO: D:\\bld\\xgboost-split_1631904903843\\work\\src\\gbm\\gbtree.cc:860: drop 0 trees, weight = 1\n",
      "[11:46:51] INFO: D:\\bld\\xgboost-split_1631904903843\\work\\src\\tree\\updater_prune.cc:101: tree pruning end, 36 extra nodes, 0 pruned nodes, max_depth=7\n",
      "[11:46:51] INFO: D:\\bld\\xgboost-split_1631904903843\\work\\src\\gbm\\gbtree.cc:860: drop 0 trees, weight = 1\n",
      "[11:46:51] INFO: D:\\bld\\xgboost-split_1631904903843\\work\\src\\tree\\updater_prune.cc:101: tree pruning end, 24 extra nodes, 0 pruned nodes, max_depth=7\n",
      "[11:46:51] INFO: D:\\bld\\xgboost-split_1631904903843\\work\\src\\gbm\\gbtree.cc:860: drop 0 trees, weight = 1\n",
      "[11:46:51] INFO: D:\\bld\\xgboost-split_1631904903843\\work\\src\\tree\\updater_prune.cc:101: tree pruning end, 44 extra nodes, 0 pruned nodes, max_depth=7\n",
      "[11:46:51] INFO: D:\\bld\\xgboost-split_1631904903843\\work\\src\\gbm\\gbtree.cc:860: drop 0 trees, weight = 1\n",
      "[11:46:51] INFO: D:\\bld\\xgboost-split_1631904903843\\work\\src\\tree\\updater_prune.cc:101: tree pruning end, 58 extra nodes, 0 pruned nodes, max_depth=7\n",
      "[11:46:51] INFO: D:\\bld\\xgboost-split_1631904903843\\work\\src\\gbm\\gbtree.cc:860: drop 0 trees, weight = 1\n",
      "[11:46:51] INFO: D:\\bld\\xgboost-split_1631904903843\\work\\src\\tree\\updater_prune.cc:101: tree pruning end, 42 extra nodes, 0 pruned nodes, max_depth=7\n",
      "[11:46:51] INFO: D:\\bld\\xgboost-split_1631904903843\\work\\src\\gbm\\gbtree.cc:860: drop 0 trees, weight = 1\n",
      "[11:46:51] INFO: D:\\bld\\xgboost-split_1631904903843\\work\\src\\tree\\updater_prune.cc:101: tree pruning end, 56 extra nodes, 0 pruned nodes, max_depth=7\n",
      "[11:46:51] INFO: D:\\bld\\xgboost-split_1631904903843\\work\\src\\gbm\\gbtree.cc:860: drop 0 trees, weight = 1\n",
      "[11:46:51] INFO: D:\\bld\\xgboost-split_1631904903843\\work\\src\\tree\\updater_prune.cc:101: tree pruning end, 58 extra nodes, 0 pruned nodes, max_depth=7\n",
      "[11:46:51] INFO: D:\\bld\\xgboost-split_1631904903843\\work\\src\\gbm\\gbtree.cc:860: drop 0 trees, weight = 1\n",
      "[11:46:51] INFO: D:\\bld\\xgboost-split_1631904903843\\work\\src\\tree\\updater_prune.cc:101: tree pruning end, 36 extra nodes, 0 pruned nodes, max_depth=7\n",
      "[11:46:51] INFO: D:\\bld\\xgboost-split_1631904903843\\work\\src\\gbm\\gbtree.cc:860: drop 0 trees, weight = 1\n",
      "[11:46:51] INFO: D:\\bld\\xgboost-split_1631904903843\\work\\src\\tree\\updater_prune.cc:101: tree pruning end, 58 extra nodes, 0 pruned nodes, max_depth=7\n",
      "[11:46:51] INFO: D:\\bld\\xgboost-split_1631904903843\\work\\src\\gbm\\gbtree.cc:860: drop 0 trees, weight = 1\n",
      "[11:46:51] INFO: D:\\bld\\xgboost-split_1631904903843\\work\\src\\tree\\updater_prune.cc:101: tree pruning end, 54 extra nodes, 0 pruned nodes, max_depth=7\n",
      "[11:46:51] INFO: D:\\bld\\xgboost-split_1631904903843\\work\\src\\gbm\\gbtree.cc:860: drop 0 trees, weight = 1\n",
      "[11:46:51] INFO: D:\\bld\\xgboost-split_1631904903843\\work\\src\\tree\\updater_prune.cc:101: tree pruning end, 40 extra nodes, 0 pruned nodes, max_depth=7\n",
      "[11:46:51] INFO: D:\\bld\\xgboost-split_1631904903843\\work\\src\\gbm\\gbtree.cc:860: drop 0 trees, weight = 1\n",
      "[11:46:51] INFO: D:\\bld\\xgboost-split_1631904903843\\work\\src\\tree\\updater_prune.cc:101: tree pruning end, 46 extra nodes, 0 pruned nodes, max_depth=7\n",
      "[11:46:51] INFO: D:\\bld\\xgboost-split_1631904903843\\work\\src\\gbm\\gbtree.cc:860: drop 0 trees, weight = 1\n",
      "[11:46:51] INFO: D:\\bld\\xgboost-split_1631904903843\\work\\src\\tree\\updater_prune.cc:101: tree pruning end, 46 extra nodes, 0 pruned nodes, max_depth=7\n",
      "[11:46:51] INFO: D:\\bld\\xgboost-split_1631904903843\\work\\src\\gbm\\gbtree.cc:860: drop 0 trees, weight = 1\n",
      "[11:46:51] INFO: D:\\bld\\xgboost-split_1631904903843\\work\\src\\tree\\updater_prune.cc:101: tree pruning end, 48 extra nodes, 0 pruned nodes, max_depth=7\n",
      "[11:46:51] INFO: D:\\bld\\xgboost-split_1631904903843\\work\\src\\gbm\\gbtree.cc:860: drop 0 trees, weight = 1\n",
      "[11:46:51] INFO: D:\\bld\\xgboost-split_1631904903843\\work\\src\\tree\\updater_prune.cc:101: tree pruning end, 38 extra nodes, 0 pruned nodes, max_depth=7\n",
      "[11:46:51] INFO: D:\\bld\\xgboost-split_1631904903843\\work\\src\\gbm\\gbtree.cc:860: drop 0 trees, weight = 1\n",
      "[11:46:51] INFO: D:\\bld\\xgboost-split_1631904903843\\work\\src\\tree\\updater_prune.cc:101: tree pruning end, 50 extra nodes, 0 pruned nodes, max_depth=7\n",
      "[11:46:51] INFO: D:\\bld\\xgboost-split_1631904903843\\work\\src\\gbm\\gbtree.cc:860: drop 0 trees, weight = 1\n",
      "[11:46:51] INFO: D:\\bld\\xgboost-split_1631904903843\\work\\src\\tree\\updater_prune.cc:101: tree pruning end, 52 extra nodes, 0 pruned nodes, max_depth=7\n",
      "[11:46:51] INFO: D:\\bld\\xgboost-split_1631904903843\\work\\src\\gbm\\gbtree.cc:860: drop 0 trees, weight = 1\n",
      "[11:46:51] INFO: D:\\bld\\xgboost-split_1631904903843\\work\\src\\tree\\updater_prune.cc:101: tree pruning end, 52 extra nodes, 0 pruned nodes, max_depth=7\n",
      "[11:46:51] INFO: D:\\bld\\xgboost-split_1631904903843\\work\\src\\gbm\\gbtree.cc:860: drop 0 trees, weight = 1\n",
      "[11:46:51] INFO: D:\\bld\\xgboost-split_1631904903843\\work\\src\\tree\\updater_prune.cc:101: tree pruning end, 40 extra nodes, 0 pruned nodes, max_depth=7\n",
      "[11:46:51] INFO: D:\\bld\\xgboost-split_1631904903843\\work\\src\\gbm\\gbtree.cc:860: drop 0 trees, weight = 1\n",
      "[11:46:51] INFO: D:\\bld\\xgboost-split_1631904903843\\work\\src\\tree\\updater_prune.cc:101: tree pruning end, 34 extra nodes, 0 pruned nodes, max_depth=7\n",
      "[11:46:51] INFO: D:\\bld\\xgboost-split_1631904903843\\work\\src\\gbm\\gbtree.cc:860: drop 0 trees, weight = 1\n",
      "[11:46:51] INFO: D:\\bld\\xgboost-split_1631904903843\\work\\src\\tree\\updater_prune.cc:101: tree pruning end, 46 extra nodes, 0 pruned nodes, max_depth=7\n",
      "[11:46:51] INFO: D:\\bld\\xgboost-split_1631904903843\\work\\src\\gbm\\gbtree.cc:860: drop 0 trees, weight = 1\n",
      "[11:46:51] INFO: D:\\bld\\xgboost-split_1631904903843\\work\\src\\tree\\updater_prune.cc:101: tree pruning end, 30 extra nodes, 0 pruned nodes, max_depth=7\n",
      "[11:46:51] INFO: D:\\bld\\xgboost-split_1631904903843\\work\\src\\gbm\\gbtree.cc:860: drop 0 trees, weight = 1\n",
      "[11:46:51] INFO: D:\\bld\\xgboost-split_1631904903843\\work\\src\\tree\\updater_prune.cc:101: tree pruning end, 38 extra nodes, 0 pruned nodes, max_depth=7\n",
      "[11:46:51] INFO: D:\\bld\\xgboost-split_1631904903843\\work\\src\\gbm\\gbtree.cc:860: drop 0 trees, weight = 1\n",
      "[11:46:51] INFO: D:\\bld\\xgboost-split_1631904903843\\work\\src\\tree\\updater_prune.cc:101: tree pruning end, 38 extra nodes, 0 pruned nodes, max_depth=7\n",
      "[11:46:51] INFO: D:\\bld\\xgboost-split_1631904903843\\work\\src\\gbm\\gbtree.cc:860: drop 0 trees, weight = 1\n",
      "[11:46:51] INFO: D:\\bld\\xgboost-split_1631904903843\\work\\src\\tree\\updater_prune.cc:101: tree pruning end, 54 extra nodes, 0 pruned nodes, max_depth=7\n",
      "[11:46:51] INFO: D:\\bld\\xgboost-split_1631904903843\\work\\src\\gbm\\gbtree.cc:860: drop 0 trees, weight = 1\n",
      "[11:46:51] INFO: D:\\bld\\xgboost-split_1631904903843\\work\\src\\tree\\updater_prune.cc:101: tree pruning end, 46 extra nodes, 0 pruned nodes, max_depth=7\n",
      "[11:46:51] INFO: D:\\bld\\xgboost-split_1631904903843\\work\\src\\gbm\\gbtree.cc:860: drop 0 trees, weight = 1\n",
      "[11:46:51] INFO: D:\\bld\\xgboost-split_1631904903843\\work\\src\\tree\\updater_prune.cc:101: tree pruning end, 40 extra nodes, 0 pruned nodes, max_depth=7\n",
      "[11:46:51] INFO: D:\\bld\\xgboost-split_1631904903843\\work\\src\\gbm\\gbtree.cc:860: drop 0 trees, weight = 1\n",
      "[11:46:51] INFO: D:\\bld\\xgboost-split_1631904903843\\work\\src\\tree\\updater_prune.cc:101: tree pruning end, 46 extra nodes, 0 pruned nodes, max_depth=7\n",
      "[11:46:51] INFO: D:\\bld\\xgboost-split_1631904903843\\work\\src\\gbm\\gbtree.cc:860: drop 0 trees, weight = 1\n",
      "[11:46:51] INFO: D:\\bld\\xgboost-split_1631904903843\\work\\src\\tree\\updater_prune.cc:101: tree pruning end, 36 extra nodes, 0 pruned nodes, max_depth=7\n",
      "[11:46:51] INFO: D:\\bld\\xgboost-split_1631904903843\\work\\src\\gbm\\gbtree.cc:860: drop 0 trees, weight = 1\n",
      "[11:46:51] INFO: D:\\bld\\xgboost-split_1631904903843\\work\\src\\tree\\updater_prune.cc:101: tree pruning end, 48 extra nodes, 0 pruned nodes, max_depth=7\n",
      "[11:46:51] INFO: D:\\bld\\xgboost-split_1631904903843\\work\\src\\gbm\\gbtree.cc:860: drop 0 trees, weight = 1\n",
      "[11:46:51] INFO: D:\\bld\\xgboost-split_1631904903843\\work\\src\\tree\\updater_prune.cc:101: tree pruning end, 42 extra nodes, 0 pruned nodes, max_depth=7\n",
      "[11:46:51] INFO: D:\\bld\\xgboost-split_1631904903843\\work\\src\\gbm\\gbtree.cc:860: drop 0 trees, weight = 1\n",
      "[11:46:51] INFO: D:\\bld\\xgboost-split_1631904903843\\work\\src\\tree\\updater_prune.cc:101: tree pruning end, 36 extra nodes, 0 pruned nodes, max_depth=7\n",
      "[11:46:51] INFO: D:\\bld\\xgboost-split_1631904903843\\work\\src\\gbm\\gbtree.cc:860: drop 0 trees, weight = 1\n",
      "[11:46:51] INFO: D:\\bld\\xgboost-split_1631904903843\\work\\src\\tree\\updater_prune.cc:101: tree pruning end, 54 extra nodes, 0 pruned nodes, max_depth=7\n",
      "[11:46:51] INFO: D:\\bld\\xgboost-split_1631904903843\\work\\src\\gbm\\gbtree.cc:860: drop 0 trees, weight = 1\n",
      "[11:46:51] INFO: D:\\bld\\xgboost-split_1631904903843\\work\\src\\tree\\updater_prune.cc:101: tree pruning end, 42 extra nodes, 0 pruned nodes, max_depth=7\n",
      "[11:46:51] INFO: D:\\bld\\xgboost-split_1631904903843\\work\\src\\gbm\\gbtree.cc:860: drop 0 trees, weight = 1\n",
      "[11:46:51] INFO: D:\\bld\\xgboost-split_1631904903843\\work\\src\\tree\\updater_prune.cc:101: tree pruning end, 46 extra nodes, 0 pruned nodes, max_depth=7\n",
      "[11:46:51] INFO: D:\\bld\\xgboost-split_1631904903843\\work\\src\\gbm\\gbtree.cc:860: drop 0 trees, weight = 1\n",
      "[11:46:51] INFO: D:\\bld\\xgboost-split_1631904903843\\work\\src\\tree\\updater_prune.cc:101: tree pruning end, 44 extra nodes, 0 pruned nodes, max_depth=7\n",
      "[11:46:51] INFO: D:\\bld\\xgboost-split_1631904903843\\work\\src\\gbm\\gbtree.cc:860: drop 0 trees, weight = 1\n",
      "[11:46:51] INFO: D:\\bld\\xgboost-split_1631904903843\\work\\src\\tree\\updater_prune.cc:101: tree pruning end, 40 extra nodes, 0 pruned nodes, max_depth=6\n",
      "[11:46:51] INFO: D:\\bld\\xgboost-split_1631904903843\\work\\src\\gbm\\gbtree.cc:860: drop 0 trees, weight = 1\n",
      "[11:46:51] INFO: D:\\bld\\xgboost-split_1631904903843\\work\\src\\tree\\updater_prune.cc:101: tree pruning end, 50 extra nodes, 0 pruned nodes, max_depth=7\n",
      "[11:46:51] INFO: D:\\bld\\xgboost-split_1631904903843\\work\\src\\gbm\\gbtree.cc:860: drop 0 trees, weight = 1\n",
      "[11:46:51] INFO: D:\\bld\\xgboost-split_1631904903843\\work\\src\\tree\\updater_prune.cc:101: tree pruning end, 46 extra nodes, 0 pruned nodes, max_depth=7\n",
      "[11:46:51] INFO: D:\\bld\\xgboost-split_1631904903843\\work\\src\\gbm\\gbtree.cc:860: drop 0 trees, weight = 1\n",
      "[11:46:51] INFO: D:\\bld\\xgboost-split_1631904903843\\work\\src\\tree\\updater_prune.cc:101: tree pruning end, 60 extra nodes, 0 pruned nodes, max_depth=7\n"
     ]
    },
    {
     "name": "stdout",
     "output_type": "stream",
     "text": [
      "[11:46:51] INFO: D:\\bld\\xgboost-split_1631904903843\\work\\src\\gbm\\gbtree.cc:860: drop 0 trees, weight = 1\n",
      "[11:46:51] INFO: D:\\bld\\xgboost-split_1631904903843\\work\\src\\tree\\updater_prune.cc:101: tree pruning end, 36 extra nodes, 0 pruned nodes, max_depth=7\n",
      "[11:46:51] INFO: D:\\bld\\xgboost-split_1631904903843\\work\\src\\gbm\\gbtree.cc:860: drop 0 trees, weight = 1\n",
      "[11:46:51] INFO: D:\\bld\\xgboost-split_1631904903843\\work\\src\\tree\\updater_prune.cc:101: tree pruning end, 46 extra nodes, 0 pruned nodes, max_depth=7\n",
      "[11:46:51] INFO: D:\\bld\\xgboost-split_1631904903843\\work\\src\\gbm\\gbtree.cc:860: drop 0 trees, weight = 1\n",
      "[11:46:51] INFO: D:\\bld\\xgboost-split_1631904903843\\work\\src\\tree\\updater_prune.cc:101: tree pruning end, 40 extra nodes, 0 pruned nodes, max_depth=7\n",
      "[11:46:51] INFO: D:\\bld\\xgboost-split_1631904903843\\work\\src\\gbm\\gbtree.cc:860: drop 0 trees, weight = 1\n",
      "[11:46:51] INFO: D:\\bld\\xgboost-split_1631904903843\\work\\src\\tree\\updater_prune.cc:101: tree pruning end, 40 extra nodes, 0 pruned nodes, max_depth=7\n",
      "[11:46:51] INFO: D:\\bld\\xgboost-split_1631904903843\\work\\src\\gbm\\gbtree.cc:860: drop 0 trees, weight = 1\n",
      "[11:46:51] INFO: D:\\bld\\xgboost-split_1631904903843\\work\\src\\tree\\updater_prune.cc:101: tree pruning end, 46 extra nodes, 0 pruned nodes, max_depth=7\n",
      "[11:46:51] INFO: D:\\bld\\xgboost-split_1631904903843\\work\\src\\gbm\\gbtree.cc:860: drop 0 trees, weight = 1\n",
      "[11:46:51] INFO: D:\\bld\\xgboost-split_1631904903843\\work\\src\\tree\\updater_prune.cc:101: tree pruning end, 42 extra nodes, 0 pruned nodes, max_depth=7\n",
      "[11:46:51] INFO: D:\\bld\\xgboost-split_1631904903843\\work\\src\\gbm\\gbtree.cc:860: drop 0 trees, weight = 1\n",
      "[11:46:51] INFO: D:\\bld\\xgboost-split_1631904903843\\work\\src\\tree\\updater_prune.cc:101: tree pruning end, 38 extra nodes, 0 pruned nodes, max_depth=7\n",
      "[11:46:51] INFO: D:\\bld\\xgboost-split_1631904903843\\work\\src\\gbm\\gbtree.cc:860: drop 0 trees, weight = 1\n",
      "[11:46:51] INFO: D:\\bld\\xgboost-split_1631904903843\\work\\src\\tree\\updater_prune.cc:101: tree pruning end, 48 extra nodes, 0 pruned nodes, max_depth=7\n",
      "[11:46:51] INFO: D:\\bld\\xgboost-split_1631904903843\\work\\src\\gbm\\gbtree.cc:860: drop 0 trees, weight = 1\n",
      "[11:46:51] INFO: D:\\bld\\xgboost-split_1631904903843\\work\\src\\tree\\updater_prune.cc:101: tree pruning end, 36 extra nodes, 0 pruned nodes, max_depth=7\n",
      "[11:46:51] INFO: D:\\bld\\xgboost-split_1631904903843\\work\\src\\gbm\\gbtree.cc:860: drop 0 trees, weight = 1\n",
      "[11:46:51] INFO: D:\\bld\\xgboost-split_1631904903843\\work\\src\\tree\\updater_prune.cc:101: tree pruning end, 32 extra nodes, 0 pruned nodes, max_depth=5\n",
      "[11:46:51] INFO: D:\\bld\\xgboost-split_1631904903843\\work\\src\\gbm\\gbtree.cc:860: drop 0 trees, weight = 1\n",
      "[11:46:51] INFO: D:\\bld\\xgboost-split_1631904903843\\work\\src\\tree\\updater_prune.cc:101: tree pruning end, 36 extra nodes, 0 pruned nodes, max_depth=7\n",
      "[11:46:51] INFO: D:\\bld\\xgboost-split_1631904903843\\work\\src\\gbm\\gbtree.cc:860: drop 0 trees, weight = 1\n",
      "[11:46:51] INFO: D:\\bld\\xgboost-split_1631904903843\\work\\src\\tree\\updater_prune.cc:101: tree pruning end, 34 extra nodes, 0 pruned nodes, max_depth=7\n",
      "[11:46:51] INFO: D:\\bld\\xgboost-split_1631904903843\\work\\src\\gbm\\gbtree.cc:860: drop 0 trees, weight = 1\n",
      "[11:46:51] INFO: D:\\bld\\xgboost-split_1631904903843\\work\\src\\tree\\updater_prune.cc:101: tree pruning end, 44 extra nodes, 0 pruned nodes, max_depth=7\n",
      "[11:46:51] INFO: D:\\bld\\xgboost-split_1631904903843\\work\\src\\gbm\\gbtree.cc:860: drop 0 trees, weight = 1\n",
      "[11:46:51] INFO: D:\\bld\\xgboost-split_1631904903843\\work\\src\\tree\\updater_prune.cc:101: tree pruning end, 44 extra nodes, 0 pruned nodes, max_depth=7\n",
      "[11:46:51] INFO: D:\\bld\\xgboost-split_1631904903843\\work\\src\\gbm\\gbtree.cc:860: drop 0 trees, weight = 1\n",
      "[11:46:51] INFO: D:\\bld\\xgboost-split_1631904903843\\work\\src\\tree\\updater_prune.cc:101: tree pruning end, 42 extra nodes, 0 pruned nodes, max_depth=7\n",
      "[11:46:51] INFO: D:\\bld\\xgboost-split_1631904903843\\work\\src\\gbm\\gbtree.cc:860: drop 0 trees, weight = 1\n",
      "[11:46:51] INFO: D:\\bld\\xgboost-split_1631904903843\\work\\src\\tree\\updater_prune.cc:101: tree pruning end, 42 extra nodes, 0 pruned nodes, max_depth=7\n",
      "[11:46:51] INFO: D:\\bld\\xgboost-split_1631904903843\\work\\src\\gbm\\gbtree.cc:860: drop 0 trees, weight = 1\n",
      "[11:46:51] INFO: D:\\bld\\xgboost-split_1631904903843\\work\\src\\tree\\updater_prune.cc:101: tree pruning end, 46 extra nodes, 0 pruned nodes, max_depth=7\n",
      "[11:46:51] INFO: D:\\bld\\xgboost-split_1631904903843\\work\\src\\gbm\\gbtree.cc:860: drop 0 trees, weight = 1\n",
      "[11:46:51] INFO: D:\\bld\\xgboost-split_1631904903843\\work\\src\\tree\\updater_prune.cc:101: tree pruning end, 36 extra nodes, 0 pruned nodes, max_depth=7\n",
      "[11:46:51] INFO: D:\\bld\\xgboost-split_1631904903843\\work\\src\\gbm\\gbtree.cc:860: drop 0 trees, weight = 1\n",
      "[11:46:51] INFO: D:\\bld\\xgboost-split_1631904903843\\work\\src\\tree\\updater_prune.cc:101: tree pruning end, 38 extra nodes, 0 pruned nodes, max_depth=7\n",
      "[11:46:51] INFO: D:\\bld\\xgboost-split_1631904903843\\work\\src\\gbm\\gbtree.cc:860: drop 0 trees, weight = 1\n",
      "[11:46:51] INFO: D:\\bld\\xgboost-split_1631904903843\\work\\src\\tree\\updater_prune.cc:101: tree pruning end, 48 extra nodes, 0 pruned nodes, max_depth=6\n",
      "[11:46:51] INFO: D:\\bld\\xgboost-split_1631904903843\\work\\src\\gbm\\gbtree.cc:860: drop 0 trees, weight = 1\n",
      "[11:46:51] INFO: D:\\bld\\xgboost-split_1631904903843\\work\\src\\tree\\updater_prune.cc:101: tree pruning end, 40 extra nodes, 0 pruned nodes, max_depth=7\n",
      "[11:46:51] INFO: D:\\bld\\xgboost-split_1631904903843\\work\\src\\gbm\\gbtree.cc:860: drop 0 trees, weight = 1\n",
      "[11:46:51] INFO: D:\\bld\\xgboost-split_1631904903843\\work\\src\\tree\\updater_prune.cc:101: tree pruning end, 56 extra nodes, 0 pruned nodes, max_depth=7\n",
      "[11:46:51] INFO: D:\\bld\\xgboost-split_1631904903843\\work\\src\\gbm\\gbtree.cc:860: drop 0 trees, weight = 1\n",
      "[11:46:51] INFO: D:\\bld\\xgboost-split_1631904903843\\work\\src\\tree\\updater_prune.cc:101: tree pruning end, 38 extra nodes, 0 pruned nodes, max_depth=7\n",
      "[11:46:51] INFO: D:\\bld\\xgboost-split_1631904903843\\work\\src\\gbm\\gbtree.cc:860: drop 0 trees, weight = 1\n",
      "[11:46:51] INFO: D:\\bld\\xgboost-split_1631904903843\\work\\src\\tree\\updater_prune.cc:101: tree pruning end, 40 extra nodes, 0 pruned nodes, max_depth=7\n",
      "[11:46:51] INFO: D:\\bld\\xgboost-split_1631904903843\\work\\src\\gbm\\gbtree.cc:860: drop 0 trees, weight = 1\n",
      "[11:46:51] INFO: D:\\bld\\xgboost-split_1631904903843\\work\\src\\tree\\updater_prune.cc:101: tree pruning end, 40 extra nodes, 0 pruned nodes, max_depth=7\n",
      "[11:46:51] INFO: D:\\bld\\xgboost-split_1631904903843\\work\\src\\gbm\\gbtree.cc:860: drop 0 trees, weight = 1\n",
      "[11:46:51] INFO: D:\\bld\\xgboost-split_1631904903843\\work\\src\\tree\\updater_prune.cc:101: tree pruning end, 34 extra nodes, 0 pruned nodes, max_depth=6\n",
      "[11:46:51] INFO: D:\\bld\\xgboost-split_1631904903843\\work\\src\\gbm\\gbtree.cc:860: drop 0 trees, weight = 1\n",
      "[11:46:51] INFO: D:\\bld\\xgboost-split_1631904903843\\work\\src\\tree\\updater_prune.cc:101: tree pruning end, 30 extra nodes, 0 pruned nodes, max_depth=7\n",
      "[11:46:51] INFO: D:\\bld\\xgboost-split_1631904903843\\work\\src\\gbm\\gbtree.cc:860: drop 0 trees, weight = 1\n",
      "[11:46:51] INFO: D:\\bld\\xgboost-split_1631904903843\\work\\src\\tree\\updater_prune.cc:101: tree pruning end, 26 extra nodes, 0 pruned nodes, max_depth=6\n",
      "[11:46:51] INFO: D:\\bld\\xgboost-split_1631904903843\\work\\src\\gbm\\gbtree.cc:860: drop 0 trees, weight = 1\n",
      "[11:46:51] INFO: D:\\bld\\xgboost-split_1631904903843\\work\\src\\tree\\updater_prune.cc:101: tree pruning end, 44 extra nodes, 0 pruned nodes, max_depth=7\n",
      "[11:46:51] INFO: D:\\bld\\xgboost-split_1631904903843\\work\\src\\gbm\\gbtree.cc:860: drop 0 trees, weight = 1\n",
      "[11:46:51] INFO: D:\\bld\\xgboost-split_1631904903843\\work\\src\\tree\\updater_prune.cc:101: tree pruning end, 36 extra nodes, 0 pruned nodes, max_depth=7\n",
      "[11:46:51] INFO: D:\\bld\\xgboost-split_1631904903843\\work\\src\\gbm\\gbtree.cc:860: drop 0 trees, weight = 1\n",
      "[11:46:51] INFO: D:\\bld\\xgboost-split_1631904903843\\work\\src\\tree\\updater_prune.cc:101: tree pruning end, 46 extra nodes, 0 pruned nodes, max_depth=7\n",
      "[11:46:51] INFO: D:\\bld\\xgboost-split_1631904903843\\work\\src\\gbm\\gbtree.cc:860: drop 0 trees, weight = 1\n",
      "[11:46:51] INFO: D:\\bld\\xgboost-split_1631904903843\\work\\src\\tree\\updater_prune.cc:101: tree pruning end, 40 extra nodes, 0 pruned nodes, max_depth=7\n",
      "[11:46:51] INFO: D:\\bld\\xgboost-split_1631904903843\\work\\src\\gbm\\gbtree.cc:860: drop 0 trees, weight = 1\n",
      "[11:46:51] INFO: D:\\bld\\xgboost-split_1631904903843\\work\\src\\tree\\updater_prune.cc:101: tree pruning end, 28 extra nodes, 0 pruned nodes, max_depth=7\n",
      "[11:46:51] INFO: D:\\bld\\xgboost-split_1631904903843\\work\\src\\gbm\\gbtree.cc:860: drop 0 trees, weight = 1\n",
      "[11:46:51] INFO: D:\\bld\\xgboost-split_1631904903843\\work\\src\\tree\\updater_prune.cc:101: tree pruning end, 36 extra nodes, 0 pruned nodes, max_depth=7\n",
      "[11:46:51] INFO: D:\\bld\\xgboost-split_1631904903843\\work\\src\\gbm\\gbtree.cc:860: drop 0 trees, weight = 1\n",
      "[11:46:51] INFO: D:\\bld\\xgboost-split_1631904903843\\work\\src\\tree\\updater_prune.cc:101: tree pruning end, 50 extra nodes, 0 pruned nodes, max_depth=7\n",
      "[11:46:51] INFO: D:\\bld\\xgboost-split_1631904903843\\work\\src\\gbm\\gbtree.cc:860: drop 0 trees, weight = 1\n",
      "[11:46:51] INFO: D:\\bld\\xgboost-split_1631904903843\\work\\src\\tree\\updater_prune.cc:101: tree pruning end, 40 extra nodes, 0 pruned nodes, max_depth=7\n",
      "[11:46:51] INFO: D:\\bld\\xgboost-split_1631904903843\\work\\src\\gbm\\gbtree.cc:860: drop 0 trees, weight = 1\n",
      "[11:46:51] INFO: D:\\bld\\xgboost-split_1631904903843\\work\\src\\tree\\updater_prune.cc:101: tree pruning end, 34 extra nodes, 0 pruned nodes, max_depth=7\n",
      "[11:46:51] INFO: D:\\bld\\xgboost-split_1631904903843\\work\\src\\gbm\\gbtree.cc:860: drop 0 trees, weight = 1\n",
      "[11:46:51] INFO: D:\\bld\\xgboost-split_1631904903843\\work\\src\\tree\\updater_prune.cc:101: tree pruning end, 48 extra nodes, 0 pruned nodes, max_depth=7\n",
      "[11:46:51] INFO: D:\\bld\\xgboost-split_1631904903843\\work\\src\\gbm\\gbtree.cc:860: drop 0 trees, weight = 1\n",
      "[11:46:51] INFO: D:\\bld\\xgboost-split_1631904903843\\work\\src\\tree\\updater_prune.cc:101: tree pruning end, 38 extra nodes, 0 pruned nodes, max_depth=7\n",
      "[11:46:51] INFO: D:\\bld\\xgboost-split_1631904903843\\work\\src\\gbm\\gbtree.cc:860: drop 0 trees, weight = 1\n",
      "[11:46:51] INFO: D:\\bld\\xgboost-split_1631904903843\\work\\src\\tree\\updater_prune.cc:101: tree pruning end, 30 extra nodes, 0 pruned nodes, max_depth=7\n",
      "[11:46:51] INFO: D:\\bld\\xgboost-split_1631904903843\\work\\src\\gbm\\gbtree.cc:860: drop 0 trees, weight = 1\n",
      "[11:46:51] INFO: D:\\bld\\xgboost-split_1631904903843\\work\\src\\tree\\updater_prune.cc:101: tree pruning end, 30 extra nodes, 0 pruned nodes, max_depth=7\n",
      "[11:46:51] INFO: D:\\bld\\xgboost-split_1631904903843\\work\\src\\gbm\\gbtree.cc:860: drop 0 trees, weight = 1\n",
      "[11:46:51] INFO: D:\\bld\\xgboost-split_1631904903843\\work\\src\\tree\\updater_prune.cc:101: tree pruning end, 34 extra nodes, 0 pruned nodes, max_depth=6\n",
      "[11:46:51] INFO: D:\\bld\\xgboost-split_1631904903843\\work\\src\\gbm\\gbtree.cc:860: drop 0 trees, weight = 1\n",
      "[11:46:51] INFO: D:\\bld\\xgboost-split_1631904903843\\work\\src\\tree\\updater_prune.cc:101: tree pruning end, 30 extra nodes, 0 pruned nodes, max_depth=7\n",
      "[11:46:51] INFO: D:\\bld\\xgboost-split_1631904903843\\work\\src\\gbm\\gbtree.cc:860: drop 0 trees, weight = 1\n",
      "[11:46:51] INFO: D:\\bld\\xgboost-split_1631904903843\\work\\src\\tree\\updater_prune.cc:101: tree pruning end, 36 extra nodes, 0 pruned nodes, max_depth=7\n",
      "[11:46:51] INFO: D:\\bld\\xgboost-split_1631904903843\\work\\src\\gbm\\gbtree.cc:860: drop 0 trees, weight = 1\n",
      "[11:46:51] INFO: D:\\bld\\xgboost-split_1631904903843\\work\\src\\tree\\updater_prune.cc:101: tree pruning end, 28 extra nodes, 0 pruned nodes, max_depth=7\n",
      "[11:46:51] INFO: D:\\bld\\xgboost-split_1631904903843\\work\\src\\gbm\\gbtree.cc:860: drop 0 trees, weight = 1\n",
      "[11:46:51] INFO: D:\\bld\\xgboost-split_1631904903843\\work\\src\\tree\\updater_prune.cc:101: tree pruning end, 38 extra nodes, 0 pruned nodes, max_depth=7\n",
      "[11:46:51] INFO: D:\\bld\\xgboost-split_1631904903843\\work\\src\\gbm\\gbtree.cc:860: drop 0 trees, weight = 1\n",
      "[11:46:51] INFO: D:\\bld\\xgboost-split_1631904903843\\work\\src\\tree\\updater_prune.cc:101: tree pruning end, 26 extra nodes, 0 pruned nodes, max_depth=7\n",
      "[11:46:51] INFO: D:\\bld\\xgboost-split_1631904903843\\work\\src\\gbm\\gbtree.cc:860: drop 0 trees, weight = 1\n",
      "[11:46:51] INFO: D:\\bld\\xgboost-split_1631904903843\\work\\src\\tree\\updater_prune.cc:101: tree pruning end, 38 extra nodes, 0 pruned nodes, max_depth=6\n",
      "[11:46:51] INFO: D:\\bld\\xgboost-split_1631904903843\\work\\src\\gbm\\gbtree.cc:860: drop 0 trees, weight = 1\n",
      "[11:46:51] INFO: D:\\bld\\xgboost-split_1631904903843\\work\\src\\tree\\updater_prune.cc:101: tree pruning end, 38 extra nodes, 0 pruned nodes, max_depth=7\n",
      "[11:46:51] INFO: D:\\bld\\xgboost-split_1631904903843\\work\\src\\gbm\\gbtree.cc:860: drop 0 trees, weight = 1\n",
      "[11:46:51] INFO: D:\\bld\\xgboost-split_1631904903843\\work\\src\\tree\\updater_prune.cc:101: tree pruning end, 40 extra nodes, 0 pruned nodes, max_depth=7\n",
      "[11:46:51] INFO: D:\\bld\\xgboost-split_1631904903843\\work\\src\\gbm\\gbtree.cc:860: drop 0 trees, weight = 1\n",
      "[11:46:51] INFO: D:\\bld\\xgboost-split_1631904903843\\work\\src\\tree\\updater_prune.cc:101: tree pruning end, 24 extra nodes, 0 pruned nodes, max_depth=7\n",
      "[11:46:51] INFO: D:\\bld\\xgboost-split_1631904903843\\work\\src\\gbm\\gbtree.cc:860: drop 0 trees, weight = 1\n",
      "[11:46:51] INFO: D:\\bld\\xgboost-split_1631904903843\\work\\src\\tree\\updater_prune.cc:101: tree pruning end, 40 extra nodes, 0 pruned nodes, max_depth=7\n",
      "[11:46:51] INFO: D:\\bld\\xgboost-split_1631904903843\\work\\src\\gbm\\gbtree.cc:860: drop 0 trees, weight = 1\n",
      "[11:46:51] INFO: D:\\bld\\xgboost-split_1631904903843\\work\\src\\tree\\updater_prune.cc:101: tree pruning end, 30 extra nodes, 0 pruned nodes, max_depth=5\n",
      "[11:46:51] INFO: D:\\bld\\xgboost-split_1631904903843\\work\\src\\gbm\\gbtree.cc:860: drop 0 trees, weight = 1\n",
      "[11:46:51] INFO: D:\\bld\\xgboost-split_1631904903843\\work\\src\\tree\\updater_prune.cc:101: tree pruning end, 38 extra nodes, 0 pruned nodes, max_depth=7\n",
      "[11:46:51] INFO: D:\\bld\\xgboost-split_1631904903843\\work\\src\\gbm\\gbtree.cc:860: drop 0 trees, weight = 1\n",
      "[11:46:51] INFO: D:\\bld\\xgboost-split_1631904903843\\work\\src\\tree\\updater_prune.cc:101: tree pruning end, 24 extra nodes, 0 pruned nodes, max_depth=6\n",
      "[11:46:51] INFO: D:\\bld\\xgboost-split_1631904903843\\work\\src\\gbm\\gbtree.cc:860: drop 0 trees, weight = 1\n",
      "[11:46:51] INFO: D:\\bld\\xgboost-split_1631904903843\\work\\src\\tree\\updater_prune.cc:101: tree pruning end, 32 extra nodes, 0 pruned nodes, max_depth=6\n",
      "[11:46:51] INFO: D:\\bld\\xgboost-split_1631904903843\\work\\src\\gbm\\gbtree.cc:860: drop 0 trees, weight = 1\n",
      "[11:46:51] INFO: D:\\bld\\xgboost-split_1631904903843\\work\\src\\tree\\updater_prune.cc:101: tree pruning end, 38 extra nodes, 0 pruned nodes, max_depth=7\n",
      "[11:46:51] INFO: D:\\bld\\xgboost-split_1631904903843\\work\\src\\gbm\\gbtree.cc:860: drop 0 trees, weight = 1\n",
      "[11:46:51] INFO: D:\\bld\\xgboost-split_1631904903843\\work\\src\\tree\\updater_prune.cc:101: tree pruning end, 30 extra nodes, 0 pruned nodes, max_depth=7\n"
     ]
    },
    {
     "name": "stdout",
     "output_type": "stream",
     "text": [
      "[11:46:51] INFO: D:\\bld\\xgboost-split_1631904903843\\work\\src\\gbm\\gbtree.cc:860: drop 0 trees, weight = 1\n",
      "[11:46:51] INFO: D:\\bld\\xgboost-split_1631904903843\\work\\src\\tree\\updater_prune.cc:101: tree pruning end, 30 extra nodes, 0 pruned nodes, max_depth=7\n",
      "[11:46:51] INFO: D:\\bld\\xgboost-split_1631904903843\\work\\src\\gbm\\gbtree.cc:860: drop 0 trees, weight = 1\n",
      "[11:46:51] INFO: D:\\bld\\xgboost-split_1631904903843\\work\\src\\tree\\updater_prune.cc:101: tree pruning end, 32 extra nodes, 0 pruned nodes, max_depth=7\n",
      "[11:46:51] INFO: D:\\bld\\xgboost-split_1631904903843\\work\\src\\gbm\\gbtree.cc:860: drop 0 trees, weight = 1\n",
      "[11:46:51] INFO: D:\\bld\\xgboost-split_1631904903843\\work\\src\\tree\\updater_prune.cc:101: tree pruning end, 48 extra nodes, 0 pruned nodes, max_depth=7\n",
      "[11:46:51] INFO: D:\\bld\\xgboost-split_1631904903843\\work\\src\\gbm\\gbtree.cc:860: drop 0 trees, weight = 1\n",
      "[11:46:51] INFO: D:\\bld\\xgboost-split_1631904903843\\work\\src\\tree\\updater_prune.cc:101: tree pruning end, 30 extra nodes, 0 pruned nodes, max_depth=7\n",
      "[11:46:51] INFO: D:\\bld\\xgboost-split_1631904903843\\work\\src\\gbm\\gbtree.cc:860: drop 0 trees, weight = 1\n",
      "[11:46:51] INFO: D:\\bld\\xgboost-split_1631904903843\\work\\src\\tree\\updater_prune.cc:101: tree pruning end, 34 extra nodes, 0 pruned nodes, max_depth=7\n",
      "[11:46:51] INFO: D:\\bld\\xgboost-split_1631904903843\\work\\src\\gbm\\gbtree.cc:860: drop 0 trees, weight = 1\n",
      "[11:46:51] INFO: D:\\bld\\xgboost-split_1631904903843\\work\\src\\tree\\updater_prune.cc:101: tree pruning end, 28 extra nodes, 0 pruned nodes, max_depth=7\n",
      "[11:46:51] INFO: D:\\bld\\xgboost-split_1631904903843\\work\\src\\gbm\\gbtree.cc:860: drop 0 trees, weight = 1\n",
      "[11:46:51] INFO: D:\\bld\\xgboost-split_1631904903843\\work\\src\\tree\\updater_prune.cc:101: tree pruning end, 34 extra nodes, 0 pruned nodes, max_depth=6\n",
      "[11:46:51] INFO: D:\\bld\\xgboost-split_1631904903843\\work\\src\\gbm\\gbtree.cc:860: drop 0 trees, weight = 1\n",
      "[11:46:51] INFO: D:\\bld\\xgboost-split_1631904903843\\work\\src\\tree\\updater_prune.cc:101: tree pruning end, 32 extra nodes, 0 pruned nodes, max_depth=7\n",
      "[11:46:51] INFO: D:\\bld\\xgboost-split_1631904903843\\work\\src\\gbm\\gbtree.cc:860: drop 0 trees, weight = 1\n",
      "[11:46:51] INFO: D:\\bld\\xgboost-split_1631904903843\\work\\src\\tree\\updater_prune.cc:101: tree pruning end, 32 extra nodes, 0 pruned nodes, max_depth=7\n",
      "[11:46:51] INFO: D:\\bld\\xgboost-split_1631904903843\\work\\src\\gbm\\gbtree.cc:860: drop 0 trees, weight = 1\n",
      "[11:46:51] INFO: D:\\bld\\xgboost-split_1631904903843\\work\\src\\tree\\updater_prune.cc:101: tree pruning end, 36 extra nodes, 0 pruned nodes, max_depth=6\n",
      "[11:46:51] INFO: D:\\bld\\xgboost-split_1631904903843\\work\\src\\gbm\\gbtree.cc:860: drop 0 trees, weight = 1\n",
      "[11:46:51] INFO: D:\\bld\\xgboost-split_1631904903843\\work\\src\\tree\\updater_prune.cc:101: tree pruning end, 34 extra nodes, 0 pruned nodes, max_depth=7\n",
      "[11:46:51] INFO: D:\\bld\\xgboost-split_1631904903843\\work\\src\\gbm\\gbtree.cc:860: drop 0 trees, weight = 1\n",
      "[11:46:51] INFO: D:\\bld\\xgboost-split_1631904903843\\work\\src\\tree\\updater_prune.cc:101: tree pruning end, 38 extra nodes, 0 pruned nodes, max_depth=7\n",
      "[11:46:51] INFO: D:\\bld\\xgboost-split_1631904903843\\work\\src\\gbm\\gbtree.cc:860: drop 0 trees, weight = 1\n",
      "[11:46:52] INFO: D:\\bld\\xgboost-split_1631904903843\\work\\src\\tree\\updater_prune.cc:101: tree pruning end, 32 extra nodes, 0 pruned nodes, max_depth=7\n",
      "[11:46:52] INFO: D:\\bld\\xgboost-split_1631904903843\\work\\src\\gbm\\gbtree.cc:860: drop 0 trees, weight = 1\n",
      "[11:46:52] INFO: D:\\bld\\xgboost-split_1631904903843\\work\\src\\tree\\updater_prune.cc:101: tree pruning end, 26 extra nodes, 0 pruned nodes, max_depth=7\n",
      "[11:46:52] INFO: D:\\bld\\xgboost-split_1631904903843\\work\\src\\gbm\\gbtree.cc:860: drop 0 trees, weight = 1\n",
      "[11:46:52] INFO: D:\\bld\\xgboost-split_1631904903843\\work\\src\\tree\\updater_prune.cc:101: tree pruning end, 26 extra nodes, 0 pruned nodes, max_depth=7\n",
      "[11:46:52] INFO: D:\\bld\\xgboost-split_1631904903843\\work\\src\\gbm\\gbtree.cc:860: drop 0 trees, weight = 1\n",
      "[11:46:52] INFO: D:\\bld\\xgboost-split_1631904903843\\work\\src\\tree\\updater_prune.cc:101: tree pruning end, 38 extra nodes, 0 pruned nodes, max_depth=7\n",
      "[11:46:52] INFO: D:\\bld\\xgboost-split_1631904903843\\work\\src\\gbm\\gbtree.cc:860: drop 0 trees, weight = 1\n",
      "[11:46:52] INFO: D:\\bld\\xgboost-split_1631904903843\\work\\src\\tree\\updater_prune.cc:101: tree pruning end, 32 extra nodes, 0 pruned nodes, max_depth=6\n",
      "[11:46:52] INFO: D:\\bld\\xgboost-split_1631904903843\\work\\src\\gbm\\gbtree.cc:860: drop 0 trees, weight = 1\n",
      "[11:46:52] INFO: D:\\bld\\xgboost-split_1631904903843\\work\\src\\tree\\updater_prune.cc:101: tree pruning end, 30 extra nodes, 0 pruned nodes, max_depth=7\n",
      "[11:46:52] INFO: D:\\bld\\xgboost-split_1631904903843\\work\\src\\gbm\\gbtree.cc:860: drop 0 trees, weight = 1\n",
      "[11:46:52] INFO: D:\\bld\\xgboost-split_1631904903843\\work\\src\\tree\\updater_prune.cc:101: tree pruning end, 28 extra nodes, 0 pruned nodes, max_depth=7\n",
      "[11:46:52] INFO: D:\\bld\\xgboost-split_1631904903843\\work\\src\\gbm\\gbtree.cc:860: drop 0 trees, weight = 1\n",
      "[11:46:52] INFO: D:\\bld\\xgboost-split_1631904903843\\work\\src\\tree\\updater_prune.cc:101: tree pruning end, 34 extra nodes, 0 pruned nodes, max_depth=7\n",
      "[11:46:52] INFO: D:\\bld\\xgboost-split_1631904903843\\work\\src\\gbm\\gbtree.cc:860: drop 0 trees, weight = 1\n",
      "[11:46:52] INFO: D:\\bld\\xgboost-split_1631904903843\\work\\src\\tree\\updater_prune.cc:101: tree pruning end, 40 extra nodes, 0 pruned nodes, max_depth=7\n",
      "[11:46:52] INFO: D:\\bld\\xgboost-split_1631904903843\\work\\src\\gbm\\gbtree.cc:860: drop 0 trees, weight = 1\n",
      "[11:46:52] INFO: D:\\bld\\xgboost-split_1631904903843\\work\\src\\tree\\updater_prune.cc:101: tree pruning end, 40 extra nodes, 0 pruned nodes, max_depth=7\n",
      "[11:46:52] INFO: D:\\bld\\xgboost-split_1631904903843\\work\\src\\gbm\\gbtree.cc:860: drop 0 trees, weight = 1\n",
      "[11:46:52] INFO: D:\\bld\\xgboost-split_1631904903843\\work\\src\\tree\\updater_prune.cc:101: tree pruning end, 38 extra nodes, 0 pruned nodes, max_depth=7\n",
      "[11:46:52] INFO: D:\\bld\\xgboost-split_1631904903843\\work\\src\\gbm\\gbtree.cc:860: drop 0 trees, weight = 1\n",
      "[11:46:52] INFO: D:\\bld\\xgboost-split_1631904903843\\work\\src\\tree\\updater_prune.cc:101: tree pruning end, 24 extra nodes, 0 pruned nodes, max_depth=6\n",
      "[11:46:52] INFO: D:\\bld\\xgboost-split_1631904903843\\work\\src\\gbm\\gbtree.cc:860: drop 0 trees, weight = 1\n",
      "[11:46:52] INFO: D:\\bld\\xgboost-split_1631904903843\\work\\src\\tree\\updater_prune.cc:101: tree pruning end, 38 extra nodes, 0 pruned nodes, max_depth=7\n",
      "[11:46:52] INFO: D:\\bld\\xgboost-split_1631904903843\\work\\src\\gbm\\gbtree.cc:860: drop 0 trees, weight = 1\n",
      "[11:46:52] INFO: D:\\bld\\xgboost-split_1631904903843\\work\\src\\tree\\updater_prune.cc:101: tree pruning end, 26 extra nodes, 0 pruned nodes, max_depth=7\n",
      "[11:46:52] INFO: D:\\bld\\xgboost-split_1631904903843\\work\\src\\gbm\\gbtree.cc:860: drop 0 trees, weight = 1\n",
      "[11:46:52] ======== Monitor: Learner ========\n",
      "[11:46:52] Configure: 0.000456s, 1 calls @ 456us\n",
      "\n",
      "[11:46:52] EvalOneIter: 0.000585s, 150 calls @ 585us\n",
      "\n",
      "[11:46:52] GetGradient: 0.001213s, 150 calls @ 1213us\n",
      "\n",
      "[11:46:52] PredictRaw: 0.677441s, 150 calls @ 677441us\n",
      "\n",
      "[11:46:52] UpdateOneIter: 0.76612s, 150 calls @ 766120us\n",
      "\n",
      "[11:46:52] ======== Monitor: GBTree ========\n",
      "[11:46:52] BoostNewTrees: 0.062157s, 150 calls @ 62157us\n",
      "\n",
      "[11:46:52] ======== Monitor: TreePruner ========\n",
      "[11:46:52] PrunerUpdate: 0.012369s, 150 calls @ 12369us\n",
      "\n",
      "3 models Voting Results : 0.8268156424581006\n"
     ]
    }
   ],
   "source": [
    "ensemble_clf_soft = VotingClassifier(\n",
    "    estimators=[ (\"rf\",rf_kf_rgs_best), (\"xgboost\",xgbc_kf_rgs_best),(\"lightgbm\",lgbm_kf_rgs_best)], \n",
    "    voting=\"soft\",\n",
    "    weights=[1, 1,2]\n",
    ")\n",
    "\n",
    "ensemble_clf_soft.fit(X_train,y_train)\n",
    "ensemble_clf_soft_pred = ensemble_clf_soft.predict(X_test)\n",
    "print(\"3 models Voting Results :\", accuracy_score(y_test,ensemble_clf_soft_pred ))"
   ]
  },
  {
   "cell_type": "code",
   "execution_count": null,
   "id": "983b7a99",
   "metadata": {},
   "outputs": [],
   "source": []
  },
  {
   "cell_type": "code",
   "execution_count": null,
   "id": "bcbf7913",
   "metadata": {},
   "outputs": [],
   "source": []
  },
  {
   "cell_type": "markdown",
   "id": "66d2871b",
   "metadata": {},
   "source": [
    "## Stacking_CV_Clf.mlxtend"
   ]
  },
  {
   "cell_type": "markdown",
   "id": "5774161c",
   "metadata": {},
   "source": [
    "- http://rasbt.github.io/mlxtend/\n",
    "- http://rasbt.github.io/mlxtend/user_guide/classifier/StackingCVClassifier/"
   ]
  },
  {
   "cell_type": "code",
   "execution_count": 69,
   "id": "5bab7fb4",
   "metadata": {},
   "outputs": [],
   "source": [
    "from mlxtend.classifier import StackingCVClassifier"
   ]
  },
  {
   "cell_type": "code",
   "execution_count": 70,
   "id": "556a0473",
   "metadata": {
    "scrolled": true
   },
   "outputs": [
    {
     "name": "stdout",
     "output_type": "stream",
     "text": [
      "Fitting 5 folds for each of 16 candidates, totalling 80 fits\n",
      "[10:51:21] DEBUG: D:\\bld\\xgboost-split_1631904903843\\work\\src\\gbm\\gbtree.cc:155: Using tree method: 2\n",
      "[10:51:21] INFO: D:\\bld\\xgboost-split_1631904903843\\work\\src\\tree\\updater_prune.cc:101: tree pruning end, 6 extra nodes, 0 pruned nodes, max_depth=2\n",
      "[10:51:21] INFO: D:\\bld\\xgboost-split_1631904903843\\work\\src\\tree\\updater_prune.cc:101: tree pruning end, 6 extra nodes, 0 pruned nodes, max_depth=2\n",
      "[10:51:21] INFO: D:\\bld\\xgboost-split_1631904903843\\work\\src\\tree\\updater_prune.cc:101: tree pruning end, 6 extra nodes, 0 pruned nodes, max_depth=2\n",
      "[10:51:21] INFO: D:\\bld\\xgboost-split_1631904903843\\work\\src\\tree\\updater_prune.cc:101: tree pruning end, 6 extra nodes, 0 pruned nodes, max_depth=2\n",
      "[10:51:21] INFO: D:\\bld\\xgboost-split_1631904903843\\work\\src\\tree\\updater_prune.cc:101: tree pruning end, 6 extra nodes, 0 pruned nodes, max_depth=2\n",
      "[10:51:21] INFO: D:\\bld\\xgboost-split_1631904903843\\work\\src\\tree\\updater_prune.cc:101: tree pruning end, 6 extra nodes, 0 pruned nodes, max_depth=2\n",
      "[10:51:21] INFO: D:\\bld\\xgboost-split_1631904903843\\work\\src\\tree\\updater_prune.cc:101: tree pruning end, 6 extra nodes, 0 pruned nodes, max_depth=2\n",
      "[10:51:21] INFO: D:\\bld\\xgboost-split_1631904903843\\work\\src\\tree\\updater_prune.cc:101: tree pruning end, 6 extra nodes, 0 pruned nodes, max_depth=2\n",
      "[10:51:21] INFO: D:\\bld\\xgboost-split_1631904903843\\work\\src\\tree\\updater_prune.cc:101: tree pruning end, 6 extra nodes, 0 pruned nodes, max_depth=2\n",
      "[10:51:21] INFO: D:\\bld\\xgboost-split_1631904903843\\work\\src\\tree\\updater_prune.cc:101: tree pruning end, 6 extra nodes, 0 pruned nodes, max_depth=2\n",
      "[10:51:21] ======== Monitor: Learner ========\n",
      "[10:51:21] Configure: 0s, 1 calls @ 0us\n",
      "\n",
      "[10:51:21] EvalOneIter: 2.9e-05s, 10 calls @ 29us\n",
      "\n",
      "[10:51:21] GetGradient: 6e-05s, 10 calls @ 60us\n",
      "\n",
      "[10:51:21] PredictRaw: 0.000579s, 10 calls @ 579us\n",
      "\n",
      "[10:51:21] UpdateOneIter: 0.001748s, 10 calls @ 1748us\n",
      "\n",
      "[10:51:21] ======== Monitor: GBTree ========\n",
      "[10:51:21] BoostNewTrees: 0.001272s, 10 calls @ 1272us\n",
      "\n",
      "[10:51:21] CommitModel: 4e-06s, 10 calls @ 4us\n",
      "\n",
      "[10:51:21] ======== Monitor: TreePruner ========\n",
      "[10:51:21] PrunerUpdate: 0.000493s, 10 calls @ 493us\n",
      "\n"
     ]
    },
    {
     "data": {
      "text/plain": [
       "GridSearchCV(cv=KFold(n_splits=5, random_state=1234, shuffle=True),\n",
       "             estimator=StackingCVClassifier(classifiers=[RandomForestClassifier(n_jobs=-1,\n",
       "                                                                                random_state=1234),\n",
       "                                                         LGBMClassifier(random_state=1234)],\n",
       "                                            meta_classifier=XGBClassifier(base_score=None,\n",
       "                                                                          booster=None,\n",
       "                                                                          colsample_bylevel=None,\n",
       "                                                                          colsample_bynode=None,\n",
       "                                                                          colsample_bytree=None,\n",
       "                                                                          eval_metric='error',\n",
       "                                                                          gamma=No...\n",
       "                                                                          scale_pos_weight=None,\n",
       "                                                                          subsample=None,\n",
       "                                                                          tree_method=None,\n",
       "                                                                          use_label_encoder=False,\n",
       "                                                                          validate_parameters=None,\n",
       "                                                                          verbosity=3),\n",
       "                                            random_state=1234),\n",
       "             n_jobs=-1,\n",
       "             param_grid={'lgbmclassifier__n_estimators': [50, 30],\n",
       "                         'meta_classifier__learning_rate': [0.1, 0.3],\n",
       "                         'meta_classifier__n_estimators': [10, 30],\n",
       "                         'randomforestclassifier__n_estimators': [30, 20]},\n",
       "             scoring='accuracy', verbose=2)"
      ]
     },
     "execution_count": 70,
     "metadata": {},
     "output_type": "execute_result"
    }
   ],
   "source": [
    "# X_train 을 기반으로 학습한 결과의 예측값을 특징으로 가져가기 위한 1번 모델\n",
    "# RF\n",
    "clf_1 = RandomForestClassifier(n_jobs=-1, random_state=1234)\n",
    "\n",
    "# X_train 을 기반으로 학습한 결과의 예측값을 특징으로 가져가기 위한 2번 모델\n",
    "# lightgbm\n",
    "clf_2 = LGBMClassifier(random_state=1234, n_jobs=-1)\n",
    "\n",
    "\n",
    "# 기존의 X_train + clf_1/clf_2 가 예측한 결과값을 특징으로 추가해서\n",
    "# 확장된 X_train을 기반으로 다시 돌리려고 함. -> meta 모델\n",
    "xg = XGBClassifier(n_jobs=-1,use_label_encoder=False,eval_metric =\"error\",objective = \"binary:logistic\",random_state = 1234,verbosity=3)\n",
    "\n",
    "#########################\n",
    "# 위의 모델을 합체해서 1개의 모델로 조립\n",
    "# 앞에서 했던 것처럼 모델 1개 불러왔다고 생각하면 됨. \n",
    "sclf = StackingCVClassifier(classifiers = [clf_1,clf_2],\n",
    "                            meta_classifier=xg, random_state=1234)\n",
    "\n",
    "# 파라미터 조합 찾아서 제일 좋은 모델로 만들어야 함. --> GridSearch 활용\n",
    "# 테스트할 파라미터의 조합 알아야 함. clf_1,clf_2는 이미 알고 있음. 그래서 xg에 대해서만 조절하면 됨\n",
    "params = {\n",
    "    # 메타 모델의 파라미터 조합 설정 : 앞에 meta_classifier__(언더바2개)\n",
    "    \"meta_classifier__n_estimators\" : [10,30], # 랜덤 포레스트에서 결정 트리의 개수\n",
    "    \"meta_classifier__learning_rate\" : [0.1,0.3], #학습률. 적당해야 함. 그래야 최소 지점에 도달할 수 있음. \n",
    "    # meta_classifier의 다른 파라미터 조합을 더 추가해도 됨.\n",
    "    \n",
    "    ################## 개별 모델에 대한 파라미터 설정##############\n",
    "    ## 이미 앞에서 개별 모델의 최적 파라미터를 찾음\n",
    "    ## 일단 그 값을 가지고 몇 가지만 조금 변경해서 test\n",
    "    ## 단, 모델의 이름을 소문자로 변경!\n",
    "    \"randomforestclassifier__n_estimators\" : [30,20],\n",
    "    \"lgbmclassifier__n_estimators\" : [50,30],\n",
    "    \n",
    "}\n",
    "\n",
    "# 스태킹 모델에 대한 gridsearch 모델 설정\n",
    "sclf_gs = GridSearchCV(\n",
    "    estimator = sclf,\n",
    "    param_grid=params,\n",
    "    cv = kfold,\n",
    "    n_jobs = -1,\n",
    "    scoring = \"accuracy\",\n",
    "    verbose = 2\n",
    ")\n",
    "\n",
    "# 스태킹 모델 gridsearch의 실제 학습 수행\n",
    "sclf_gs.fit(X_train,y_train)"
   ]
  },
  {
   "cell_type": "code",
   "execution_count": 71,
   "id": "1c661bdc",
   "metadata": {},
   "outputs": [
    {
     "data": {
      "text/plain": [
       "0.8202501723628484"
      ]
     },
     "execution_count": 71,
     "metadata": {},
     "output_type": "execute_result"
    }
   ],
   "source": [
    "sclf_gs.best_score_"
   ]
  },
  {
   "cell_type": "code",
   "execution_count": 72,
   "id": "19c7f805",
   "metadata": {},
   "outputs": [
    {
     "data": {
      "text/plain": [
       "{'lgbmclassifier__n_estimators': 50,\n",
       " 'meta_classifier__learning_rate': 0.1,\n",
       " 'meta_classifier__n_estimators': 10,\n",
       " 'randomforestclassifier__n_estimators': 20}"
      ]
     },
     "execution_count": 72,
     "metadata": {},
     "output_type": "execute_result"
    }
   ],
   "source": [
    "sclf_gs.best_params_"
   ]
  },
  {
   "cell_type": "code",
   "execution_count": 73,
   "id": "223145fb",
   "metadata": {},
   "outputs": [
    {
     "data": {
      "text/plain": [
       "0.8324022346368715"
      ]
     },
     "execution_count": 73,
     "metadata": {},
     "output_type": "execute_result"
    }
   ],
   "source": [
    "accuracy_score( y_test, sclf_gs.best_estimator_.predict(X_test))\n"
   ]
  },
  {
   "cell_type": "code",
   "execution_count": 74,
   "id": "3d7147aa",
   "metadata": {},
   "outputs": [],
   "source": [
    "best_m4 = sclf_gs.best_estimator_"
   ]
  },
  {
   "cell_type": "markdown",
   "id": "8f31c02d",
   "metadata": {},
   "source": [
    "* 이제 기존의 Rf, xg, lightGBM, stack 보팅!할수있음"
   ]
  },
  {
   "cell_type": "markdown",
   "id": "e99de812",
   "metadata": {},
   "source": [
    "## 개인실습\n"
   ]
  },
  {
   "cell_type": "raw",
   "id": "702e277b",
   "metadata": {},
   "source": [
    "2. 어제 voting한 모델 결과와 Stacking으로 한 모델 결과 비교\n",
    "(X_test에 대한 acc 값)\n",
    "\n",
    "3. stacking도 또 하나의 모델처럼 해서 voting 모델\n",
    "(X_test에 대한 acc값)\n",
    "\n",
    "4. 본인이 지금까지 한 모델별 X_test의 acc의 값을 정리를 하고,\n",
    "어떤 것을 최종 모델로 선정을 하실 것인지 최종 모델을 적어주세요.\n",
    "( model 1 : knn - d~~~ , Acc : 0.90\n",
    " mode 2 :  knn, svm -> sofr voting 2: 1  Acc 0.91\n",
    " model 3 : lg, xg/ meta : rf --stacking    Acc 0.90\n",
    " model 4 : model3 + model2 + model 1 Hard Voting Acc 0.915\n",
    "----> 최종 결정 model 4\n"
   ]
  },
  {
   "cell_type": "code",
   "execution_count": 83,
   "id": "2036670f",
   "metadata": {},
   "outputs": [
    {
     "name": "stdout",
     "output_type": "stream",
     "text": [
      "Fitting 5 folds for each of 54 candidates, totalling 270 fits\n",
      "[12:07:02] DEBUG: D:\\bld\\xgboost-split_1631904903843\\work\\src\\gbm\\gbtree.cc:155: Using tree method: 2\n",
      "[12:07:02] INFO: D:\\bld\\xgboost-split_1631904903843\\work\\src\\tree\\updater_prune.cc:101: tree pruning end, 6 extra nodes, 0 pruned nodes, max_depth=2\n",
      "[12:07:02] INFO: D:\\bld\\xgboost-split_1631904903843\\work\\src\\tree\\updater_prune.cc:101: tree pruning end, 6 extra nodes, 0 pruned nodes, max_depth=2\n",
      "[12:07:02] INFO: D:\\bld\\xgboost-split_1631904903843\\work\\src\\tree\\updater_prune.cc:101: tree pruning end, 6 extra nodes, 0 pruned nodes, max_depth=2\n",
      "[12:07:02] INFO: D:\\bld\\xgboost-split_1631904903843\\work\\src\\tree\\updater_prune.cc:101: tree pruning end, 6 extra nodes, 0 pruned nodes, max_depth=2\n",
      "[12:07:02] INFO: D:\\bld\\xgboost-split_1631904903843\\work\\src\\tree\\updater_prune.cc:101: tree pruning end, 6 extra nodes, 0 pruned nodes, max_depth=2\n",
      "[12:07:02] INFO: D:\\bld\\xgboost-split_1631904903843\\work\\src\\tree\\updater_prune.cc:101: tree pruning end, 6 extra nodes, 0 pruned nodes, max_depth=2\n",
      "[12:07:02] INFO: D:\\bld\\xgboost-split_1631904903843\\work\\src\\tree\\updater_prune.cc:101: tree pruning end, 6 extra nodes, 0 pruned nodes, max_depth=2\n",
      "[12:07:02] INFO: D:\\bld\\xgboost-split_1631904903843\\work\\src\\tree\\updater_prune.cc:101: tree pruning end, 6 extra nodes, 0 pruned nodes, max_depth=2\n",
      "[12:07:02] INFO: D:\\bld\\xgboost-split_1631904903843\\work\\src\\tree\\updater_prune.cc:101: tree pruning end, 6 extra nodes, 0 pruned nodes, max_depth=2\n",
      "[12:07:02] INFO: D:\\bld\\xgboost-split_1631904903843\\work\\src\\tree\\updater_prune.cc:101: tree pruning end, 6 extra nodes, 0 pruned nodes, max_depth=2\n",
      "[12:07:02] INFO: D:\\bld\\xgboost-split_1631904903843\\work\\src\\tree\\updater_prune.cc:101: tree pruning end, 6 extra nodes, 0 pruned nodes, max_depth=2\n",
      "[12:07:02] INFO: D:\\bld\\xgboost-split_1631904903843\\work\\src\\tree\\updater_prune.cc:101: tree pruning end, 6 extra nodes, 0 pruned nodes, max_depth=2\n",
      "[12:07:02] INFO: D:\\bld\\xgboost-split_1631904903843\\work\\src\\tree\\updater_prune.cc:101: tree pruning end, 6 extra nodes, 0 pruned nodes, max_depth=2\n",
      "[12:07:02] INFO: D:\\bld\\xgboost-split_1631904903843\\work\\src\\tree\\updater_prune.cc:101: tree pruning end, 6 extra nodes, 0 pruned nodes, max_depth=2\n",
      "[12:07:02] INFO: D:\\bld\\xgboost-split_1631904903843\\work\\src\\tree\\updater_prune.cc:101: tree pruning end, 6 extra nodes, 0 pruned nodes, max_depth=2\n",
      "[12:07:02] INFO: D:\\bld\\xgboost-split_1631904903843\\work\\src\\tree\\updater_prune.cc:101: tree pruning end, 6 extra nodes, 0 pruned nodes, max_depth=2\n",
      "[12:07:02] INFO: D:\\bld\\xgboost-split_1631904903843\\work\\src\\tree\\updater_prune.cc:101: tree pruning end, 6 extra nodes, 0 pruned nodes, max_depth=2\n",
      "[12:07:02] INFO: D:\\bld\\xgboost-split_1631904903843\\work\\src\\tree\\updater_prune.cc:101: tree pruning end, 6 extra nodes, 0 pruned nodes, max_depth=2\n",
      "[12:07:02] INFO: D:\\bld\\xgboost-split_1631904903843\\work\\src\\tree\\updater_prune.cc:101: tree pruning end, 6 extra nodes, 0 pruned nodes, max_depth=2\n",
      "[12:07:02] INFO: D:\\bld\\xgboost-split_1631904903843\\work\\src\\tree\\updater_prune.cc:101: tree pruning end, 6 extra nodes, 0 pruned nodes, max_depth=2\n",
      "[12:07:02] INFO: D:\\bld\\xgboost-split_1631904903843\\work\\src\\tree\\updater_prune.cc:101: tree pruning end, 6 extra nodes, 0 pruned nodes, max_depth=2\n",
      "[12:07:02] INFO: D:\\bld\\xgboost-split_1631904903843\\work\\src\\tree\\updater_prune.cc:101: tree pruning end, 6 extra nodes, 0 pruned nodes, max_depth=2\n",
      "[12:07:02] INFO: D:\\bld\\xgboost-split_1631904903843\\work\\src\\tree\\updater_prune.cc:101: tree pruning end, 6 extra nodes, 0 pruned nodes, max_depth=2\n",
      "[12:07:02] INFO: D:\\bld\\xgboost-split_1631904903843\\work\\src\\tree\\updater_prune.cc:101: tree pruning end, 6 extra nodes, 0 pruned nodes, max_depth=2\n",
      "[12:07:02] INFO: D:\\bld\\xgboost-split_1631904903843\\work\\src\\tree\\updater_prune.cc:101: tree pruning end, 6 extra nodes, 0 pruned nodes, max_depth=2\n",
      "[12:07:02] INFO: D:\\bld\\xgboost-split_1631904903843\\work\\src\\tree\\updater_prune.cc:101: tree pruning end, 6 extra nodes, 0 pruned nodes, max_depth=2\n",
      "[12:07:02] INFO: D:\\bld\\xgboost-split_1631904903843\\work\\src\\tree\\updater_prune.cc:101: tree pruning end, 6 extra nodes, 0 pruned nodes, max_depth=2\n",
      "[12:07:02] INFO: D:\\bld\\xgboost-split_1631904903843\\work\\src\\tree\\updater_prune.cc:101: tree pruning end, 6 extra nodes, 0 pruned nodes, max_depth=2\n",
      "[12:07:02] INFO: D:\\bld\\xgboost-split_1631904903843\\work\\src\\tree\\updater_prune.cc:101: tree pruning end, 6 extra nodes, 0 pruned nodes, max_depth=2\n",
      "[12:07:02] INFO: D:\\bld\\xgboost-split_1631904903843\\work\\src\\tree\\updater_prune.cc:101: tree pruning end, 6 extra nodes, 0 pruned nodes, max_depth=2\n",
      "[12:07:02] INFO: D:\\bld\\xgboost-split_1631904903843\\work\\src\\tree\\updater_prune.cc:101: tree pruning end, 6 extra nodes, 0 pruned nodes, max_depth=2\n",
      "[12:07:02] INFO: D:\\bld\\xgboost-split_1631904903843\\work\\src\\tree\\updater_prune.cc:101: tree pruning end, 6 extra nodes, 0 pruned nodes, max_depth=2\n",
      "[12:07:02] INFO: D:\\bld\\xgboost-split_1631904903843\\work\\src\\tree\\updater_prune.cc:101: tree pruning end, 6 extra nodes, 0 pruned nodes, max_depth=2\n",
      "[12:07:02] INFO: D:\\bld\\xgboost-split_1631904903843\\work\\src\\tree\\updater_prune.cc:101: tree pruning end, 6 extra nodes, 0 pruned nodes, max_depth=2\n",
      "[12:07:02] INFO: D:\\bld\\xgboost-split_1631904903843\\work\\src\\tree\\updater_prune.cc:101: tree pruning end, 6 extra nodes, 0 pruned nodes, max_depth=2\n",
      "[12:07:02] INFO: D:\\bld\\xgboost-split_1631904903843\\work\\src\\tree\\updater_prune.cc:101: tree pruning end, 6 extra nodes, 0 pruned nodes, max_depth=2\n",
      "[12:07:02] INFO: D:\\bld\\xgboost-split_1631904903843\\work\\src\\tree\\updater_prune.cc:101: tree pruning end, 6 extra nodes, 0 pruned nodes, max_depth=2\n",
      "[12:07:02] INFO: D:\\bld\\xgboost-split_1631904903843\\work\\src\\tree\\updater_prune.cc:101: tree pruning end, 6 extra nodes, 0 pruned nodes, max_depth=2\n",
      "[12:07:02] INFO: D:\\bld\\xgboost-split_1631904903843\\work\\src\\tree\\updater_prune.cc:101: tree pruning end, 6 extra nodes, 0 pruned nodes, max_depth=2\n",
      "[12:07:02] INFO: D:\\bld\\xgboost-split_1631904903843\\work\\src\\tree\\updater_prune.cc:101: tree pruning end, 6 extra nodes, 0 pruned nodes, max_depth=2\n",
      "[12:07:02] INFO: D:\\bld\\xgboost-split_1631904903843\\work\\src\\tree\\updater_prune.cc:101: tree pruning end, 6 extra nodes, 0 pruned nodes, max_depth=2\n",
      "[12:07:02] INFO: D:\\bld\\xgboost-split_1631904903843\\work\\src\\tree\\updater_prune.cc:101: tree pruning end, 6 extra nodes, 0 pruned nodes, max_depth=2\n",
      "[12:07:02] INFO: D:\\bld\\xgboost-split_1631904903843\\work\\src\\tree\\updater_prune.cc:101: tree pruning end, 6 extra nodes, 0 pruned nodes, max_depth=2\n",
      "[12:07:02] INFO: D:\\bld\\xgboost-split_1631904903843\\work\\src\\tree\\updater_prune.cc:101: tree pruning end, 6 extra nodes, 0 pruned nodes, max_depth=2\n",
      "[12:07:02] INFO: D:\\bld\\xgboost-split_1631904903843\\work\\src\\tree\\updater_prune.cc:101: tree pruning end, 6 extra nodes, 0 pruned nodes, max_depth=2\n",
      "[12:07:02] INFO: D:\\bld\\xgboost-split_1631904903843\\work\\src\\tree\\updater_prune.cc:101: tree pruning end, 6 extra nodes, 0 pruned nodes, max_depth=2\n",
      "[12:07:02] INFO: D:\\bld\\xgboost-split_1631904903843\\work\\src\\tree\\updater_prune.cc:101: tree pruning end, 6 extra nodes, 0 pruned nodes, max_depth=2\n",
      "[12:07:02] INFO: D:\\bld\\xgboost-split_1631904903843\\work\\src\\tree\\updater_prune.cc:101: tree pruning end, 6 extra nodes, 0 pruned nodes, max_depth=2\n",
      "[12:07:02] INFO: D:\\bld\\xgboost-split_1631904903843\\work\\src\\tree\\updater_prune.cc:101: tree pruning end, 6 extra nodes, 0 pruned nodes, max_depth=2\n",
      "[12:07:02] INFO: D:\\bld\\xgboost-split_1631904903843\\work\\src\\tree\\updater_prune.cc:101: tree pruning end, 6 extra nodes, 0 pruned nodes, max_depth=2\n",
      "[12:07:02] INFO: D:\\bld\\xgboost-split_1631904903843\\work\\src\\tree\\updater_prune.cc:101: tree pruning end, 6 extra nodes, 0 pruned nodes, max_depth=2\n",
      "[12:07:02] INFO: D:\\bld\\xgboost-split_1631904903843\\work\\src\\tree\\updater_prune.cc:101: tree pruning end, 6 extra nodes, 0 pruned nodes, max_depth=2\n",
      "[12:07:02] INFO: D:\\bld\\xgboost-split_1631904903843\\work\\src\\tree\\updater_prune.cc:101: tree pruning end, 6 extra nodes, 0 pruned nodes, max_depth=2\n",
      "[12:07:02] INFO: D:\\bld\\xgboost-split_1631904903843\\work\\src\\tree\\updater_prune.cc:101: tree pruning end, 6 extra nodes, 0 pruned nodes, max_depth=2\n",
      "[12:07:02] INFO: D:\\bld\\xgboost-split_1631904903843\\work\\src\\tree\\updater_prune.cc:101: tree pruning end, 6 extra nodes, 0 pruned nodes, max_depth=2\n",
      "[12:07:02] INFO: D:\\bld\\xgboost-split_1631904903843\\work\\src\\tree\\updater_prune.cc:101: tree pruning end, 6 extra nodes, 0 pruned nodes, max_depth=2\n",
      "[12:07:02] INFO: D:\\bld\\xgboost-split_1631904903843\\work\\src\\tree\\updater_prune.cc:101: tree pruning end, 6 extra nodes, 0 pruned nodes, max_depth=2\n",
      "[12:07:02] INFO: D:\\bld\\xgboost-split_1631904903843\\work\\src\\tree\\updater_prune.cc:101: tree pruning end, 6 extra nodes, 0 pruned nodes, max_depth=2\n",
      "[12:07:02] INFO: D:\\bld\\xgboost-split_1631904903843\\work\\src\\tree\\updater_prune.cc:101: tree pruning end, 6 extra nodes, 0 pruned nodes, max_depth=2\n",
      "[12:07:02] INFO: D:\\bld\\xgboost-split_1631904903843\\work\\src\\tree\\updater_prune.cc:101: tree pruning end, 6 extra nodes, 0 pruned nodes, max_depth=2\n",
      "[12:07:02] INFO: D:\\bld\\xgboost-split_1631904903843\\work\\src\\tree\\updater_prune.cc:101: tree pruning end, 6 extra nodes, 0 pruned nodes, max_depth=2\n",
      "[12:07:02] INFO: D:\\bld\\xgboost-split_1631904903843\\work\\src\\tree\\updater_prune.cc:101: tree pruning end, 6 extra nodes, 0 pruned nodes, max_depth=2\n",
      "[12:07:02] INFO: D:\\bld\\xgboost-split_1631904903843\\work\\src\\tree\\updater_prune.cc:101: tree pruning end, 6 extra nodes, 0 pruned nodes, max_depth=2\n",
      "[12:07:02] INFO: D:\\bld\\xgboost-split_1631904903843\\work\\src\\tree\\updater_prune.cc:101: tree pruning end, 6 extra nodes, 0 pruned nodes, max_depth=2\n",
      "[12:07:02] INFO: D:\\bld\\xgboost-split_1631904903843\\work\\src\\tree\\updater_prune.cc:101: tree pruning end, 6 extra nodes, 0 pruned nodes, max_depth=2\n",
      "[12:07:02] INFO: D:\\bld\\xgboost-split_1631904903843\\work\\src\\tree\\updater_prune.cc:101: tree pruning end, 6 extra nodes, 0 pruned nodes, max_depth=2\n",
      "[12:07:02] INFO: D:\\bld\\xgboost-split_1631904903843\\work\\src\\tree\\updater_prune.cc:101: tree pruning end, 6 extra nodes, 0 pruned nodes, max_depth=2\n",
      "[12:07:02] INFO: D:\\bld\\xgboost-split_1631904903843\\work\\src\\tree\\updater_prune.cc:101: tree pruning end, 6 extra nodes, 0 pruned nodes, max_depth=2\n",
      "[12:07:02] INFO: D:\\bld\\xgboost-split_1631904903843\\work\\src\\tree\\updater_prune.cc:101: tree pruning end, 6 extra nodes, 0 pruned nodes, max_depth=2\n",
      "[12:07:02] INFO: D:\\bld\\xgboost-split_1631904903843\\work\\src\\tree\\updater_prune.cc:101: tree pruning end, 6 extra nodes, 0 pruned nodes, max_depth=2\n",
      "[12:07:02] INFO: D:\\bld\\xgboost-split_1631904903843\\work\\src\\tree\\updater_prune.cc:101: tree pruning end, 6 extra nodes, 0 pruned nodes, max_depth=2\n",
      "[12:07:02] INFO: D:\\bld\\xgboost-split_1631904903843\\work\\src\\tree\\updater_prune.cc:101: tree pruning end, 6 extra nodes, 0 pruned nodes, max_depth=2\n",
      "[12:07:02] INFO: D:\\bld\\xgboost-split_1631904903843\\work\\src\\tree\\updater_prune.cc:101: tree pruning end, 6 extra nodes, 0 pruned nodes, max_depth=2\n",
      "[12:07:02] INFO: D:\\bld\\xgboost-split_1631904903843\\work\\src\\tree\\updater_prune.cc:101: tree pruning end, 6 extra nodes, 0 pruned nodes, max_depth=2\n",
      "[12:07:02] INFO: D:\\bld\\xgboost-split_1631904903843\\work\\src\\tree\\updater_prune.cc:101: tree pruning end, 6 extra nodes, 0 pruned nodes, max_depth=2\n",
      "[12:07:02] INFO: D:\\bld\\xgboost-split_1631904903843\\work\\src\\tree\\updater_prune.cc:101: tree pruning end, 6 extra nodes, 0 pruned nodes, max_depth=2\n",
      "[12:07:02] INFO: D:\\bld\\xgboost-split_1631904903843\\work\\src\\tree\\updater_prune.cc:101: tree pruning end, 6 extra nodes, 0 pruned nodes, max_depth=2\n",
      "[12:07:02] INFO: D:\\bld\\xgboost-split_1631904903843\\work\\src\\tree\\updater_prune.cc:101: tree pruning end, 6 extra nodes, 0 pruned nodes, max_depth=2\n",
      "[12:07:02] INFO: D:\\bld\\xgboost-split_1631904903843\\work\\src\\tree\\updater_prune.cc:101: tree pruning end, 6 extra nodes, 0 pruned nodes, max_depth=2\n",
      "[12:07:02] INFO: D:\\bld\\xgboost-split_1631904903843\\work\\src\\tree\\updater_prune.cc:101: tree pruning end, 6 extra nodes, 0 pruned nodes, max_depth=2\n",
      "[12:07:02] INFO: D:\\bld\\xgboost-split_1631904903843\\work\\src\\tree\\updater_prune.cc:101: tree pruning end, 6 extra nodes, 0 pruned nodes, max_depth=2\n",
      "[12:07:02] INFO: D:\\bld\\xgboost-split_1631904903843\\work\\src\\tree\\updater_prune.cc:101: tree pruning end, 6 extra nodes, 0 pruned nodes, max_depth=2\n",
      "[12:07:02] INFO: D:\\bld\\xgboost-split_1631904903843\\work\\src\\tree\\updater_prune.cc:101: tree pruning end, 4 extra nodes, 0 pruned nodes, max_depth=2\n",
      "[12:07:02] INFO: D:\\bld\\xgboost-split_1631904903843\\work\\src\\tree\\updater_prune.cc:101: tree pruning end, 4 extra nodes, 0 pruned nodes, max_depth=2\n",
      "[12:07:02] INFO: D:\\bld\\xgboost-split_1631904903843\\work\\src\\tree\\updater_prune.cc:101: tree pruning end, 2 extra nodes, 0 pruned nodes, max_depth=1\n",
      "[12:07:02] INFO: D:\\bld\\xgboost-split_1631904903843\\work\\src\\tree\\updater_prune.cc:101: tree pruning end, 2 extra nodes, 0 pruned nodes, max_depth=1\n",
      "[12:07:02] INFO: D:\\bld\\xgboost-split_1631904903843\\work\\src\\tree\\updater_prune.cc:101: tree pruning end, 2 extra nodes, 0 pruned nodes, max_depth=1\n",
      "[12:07:02] INFO: D:\\bld\\xgboost-split_1631904903843\\work\\src\\tree\\updater_prune.cc:101: tree pruning end, 2 extra nodes, 0 pruned nodes, max_depth=1\n",
      "[12:07:02] INFO: D:\\bld\\xgboost-split_1631904903843\\work\\src\\tree\\updater_prune.cc:101: tree pruning end, 2 extra nodes, 0 pruned nodes, max_depth=1\n",
      "[12:07:02] INFO: D:\\bld\\xgboost-split_1631904903843\\work\\src\\tree\\updater_prune.cc:101: tree pruning end, 2 extra nodes, 0 pruned nodes, max_depth=1\n",
      "[12:07:02] ======== Monitor: Learner ========\n",
      "[12:07:02] Configure: 0.00038s, 1 calls @ 380us\n",
      "\n",
      "[12:07:02] EvalOneIter: 0.000239s, 90 calls @ 239us\n",
      "\n",
      "[12:07:02] GetGradient: 0.000495s, 90 calls @ 495us\n",
      "\n",
      "[12:07:02] PredictRaw: 0.004765s, 90 calls @ 4765us\n",
      "\n",
      "[12:07:02] UpdateOneIter: 0.016687s, 90 calls @ 16687us\n",
      "\n",
      "[12:07:02] ======== Monitor: GBTree ========\n",
      "[12:07:02] BoostNewTrees: 0.010516s, 90 calls @ 10516us\n",
      "\n",
      "[12:07:02] CommitModel: 2.2e-05s, 90 calls @ 22us\n",
      "\n",
      "[12:07:02] ======== Monitor: TreePruner ========\n",
      "[12:07:02] PrunerUpdate: 0.003985s, 90 calls @ 3985us\n",
      "\n"
     ]
    },
    {
     "data": {
      "text/plain": [
       "GridSearchCV(cv=KFold(n_splits=5, random_state=1234, shuffle=True),\n",
       "             estimator=StackingCVClassifier(classifiers=[RandomForestClassifier(n_jobs=-1,\n",
       "                                                                                random_state=1234),\n",
       "                                                         LGBMClassifier(random_state=1234)],\n",
       "                                            meta_classifier=XGBClassifier(base_score=None,\n",
       "                                                                          booster=None,\n",
       "                                                                          colsample_bylevel=None,\n",
       "                                                                          colsample_bynode=None,\n",
       "                                                                          colsample_bytree=None,\n",
       "                                                                          eval_metric='error',\n",
       "                                                                          gamma=No...\n",
       "                                                                          subsample=None,\n",
       "                                                                          tree_method=None,\n",
       "                                                                          use_label_encoder=False,\n",
       "                                                                          validate_parameters=None,\n",
       "                                                                          verbosity=3),\n",
       "                                            random_state=1234),\n",
       "             n_jobs=-1,\n",
       "             param_grid={'lgbmclassifier__n_estimators': [50, 100, 150],\n",
       "                         'meta_classifier__learning_rate': [0.1, 0.15],\n",
       "                         'meta_classifier__n_estimators': [90, 100, 150],\n",
       "                         'randomforestclassifier__n_estimators': [1100, 1000,\n",
       "                                                                  900]},\n",
       "             scoring='accuracy', verbose=2)"
      ]
     },
     "execution_count": 83,
     "metadata": {},
     "output_type": "execute_result"
    }
   ],
   "source": [
    "# X_train 을 기반으로 학습한 결과의 예측값을 특징으로 가져가기 위한 1번 모델\n",
    "# RF\n",
    "clf_1 = RandomForestClassifier(n_jobs=-1, random_state=1234)\n",
    "\n",
    "# X_train 을 기반으로 학습한 결과의 예측값을 특징으로 가져가기 위한 2번 모델\n",
    "# lightgbm\n",
    "clf_2 = LGBMClassifier(random_state=1234, n_jobs=-1)\n",
    "\n",
    "# 기존의 X_train + clf_1/clf_2 가 예측한 결과값을 특징으로 추가해서\n",
    "# 확장된 X_train을 기반으로 다시 돌리려고 함. -> meta 모델\n",
    "xg = XGBClassifier(n_jobs=-1,use_label_encoder=False,eval_metric =\"error\",objective = \"binary:logistic\",random_state = 1234,verbosity=3)\n",
    "\n",
    "#########################\n",
    "# 위의 모델을 합체해서 1개의 모델로 조립\n",
    "# 앞에서 했던 것처럼 모델 1개 불러왔다고 생각하면 됨. \n",
    "sclf = StackingCVClassifier(classifiers = [clf_1,clf_2],\n",
    "                            meta_classifier=xg, random_state=1234)\n",
    "\n",
    "# 파라미터 조합 찾아서 제일 좋은 모델로 만들어야 함. --> GridSearch 활용\n",
    "# 테스트할 파라미터의 조합 알아야 함. clf_1,clf_2는 이미 알고 있음. 그래서 xg에 대해서만 조절하면 됨\n",
    "params = {\n",
    "    # 메타 모델의 파라미터 조합 설정 : 앞에 meta_classifier__(언더바2개)\n",
    "    \"meta_classifier__n_estimators\" : [90,100,150],\n",
    "    \"meta_classifier__learning_rate\" : [0.1,0.15],\n",
    "    # meta_classifier의 다른 파라미터 조합을 더 추가해도 됨.\n",
    "    \n",
    "    ################## 개별 모델에 대한 파라미터 설정##############\n",
    "    ## 이미 앞에서 개별 모델의 최적 파라미터를 찾음\n",
    "    ## 일단 그 값을 가지고 몇 가지만 조금 변경해서 test\n",
    "    ## 단, 모델의 이름을 소문자로 변경!\n",
    "    \"randomforestclassifier__n_estimators\" : [1100,1000,900],\n",
    "    \"lgbmclassifier__n_estimators\" : [50,100,150],\n",
    "    \n",
    "}\n",
    "\n",
    "# 스태킹 모델에 대한 gridsearch 모델 설정\n",
    "sclf_gs = GridSearchCV(\n",
    "    estimator = sclf,\n",
    "    param_grid=params,\n",
    "    cv = kfold,\n",
    "    n_jobs = -1,\n",
    "    scoring = \"accuracy\",\n",
    "    verbose = 2\n",
    ")\n",
    "\n",
    "# 스태킹 모델 gridsearch의 실제 학습 수행\n",
    "sclf_gs.fit(X_train,y_train)"
   ]
  },
  {
   "cell_type": "code",
   "execution_count": 84,
   "id": "77032e3b",
   "metadata": {},
   "outputs": [
    {
     "data": {
      "text/plain": [
       "0.8272136314389836"
      ]
     },
     "execution_count": 84,
     "metadata": {},
     "output_type": "execute_result"
    }
   ],
   "source": [
    "sclf_gs.best_score_"
   ]
  },
  {
   "cell_type": "code",
   "execution_count": 85,
   "id": "98da3305",
   "metadata": {},
   "outputs": [
    {
     "data": {
      "text/plain": [
       "{'lgbmclassifier__n_estimators': 100,\n",
       " 'meta_classifier__learning_rate': 0.1,\n",
       " 'meta_classifier__n_estimators': 90,\n",
       " 'randomforestclassifier__n_estimators': 1100}"
      ]
     },
     "execution_count": 85,
     "metadata": {},
     "output_type": "execute_result"
    }
   ],
   "source": [
    "sclf_gs.best_params_"
   ]
  },
  {
   "cell_type": "code",
   "execution_count": 86,
   "id": "adaebe5e",
   "metadata": {
    "scrolled": true
   },
   "outputs": [
    {
     "data": {
      "text/plain": [
       "0.8156424581005587"
      ]
     },
     "execution_count": 86,
     "metadata": {},
     "output_type": "execute_result"
    }
   ],
   "source": [
    "accuracy_score( y_test, sclf_gs.best_estimator_.predict(X_test))"
   ]
  },
  {
   "cell_type": "code",
   "execution_count": 87,
   "id": "5b092d59",
   "metadata": {},
   "outputs": [],
   "source": [
    "best_m4 = sclf_gs.best_estimator_"
   ]
  },
  {
   "cell_type": "markdown",
   "id": "840a3b40",
   "metadata": {},
   "source": [
    "#### stacking도 하나의 모델로 해서 voting"
   ]
  },
  {
   "cell_type": "markdown",
   "id": "7658432c",
   "metadata": {},
   "source": [
    "* hard voting"
   ]
  },
  {
   "cell_type": "code",
   "execution_count": 88,
   "id": "be9d09b9",
   "metadata": {},
   "outputs": [],
   "source": [
    "def vote_handmade(x):\n",
    "    p = collections.Counter(x) # M1 : A, M2 : B, M3 : A --> x = [ A, B, A]\n",
    "    if p.most_common()[0][1] >= 2: #내가 3개의 모델을 사용한다는 가정에서 과반 이상\n",
    "        return p.most_common()[0][0]\n",
    "    else:\n",
    "        print(\"check!\")\n",
    "        return x[0]"
   ]
  },
  {
   "cell_type": "code",
   "execution_count": 89,
   "id": "f638506b",
   "metadata": {},
   "outputs": [
    {
     "data": {
      "text/html": [
       "<div>\n",
       "<style scoped>\n",
       "    .dataframe tbody tr th:only-of-type {\n",
       "        vertical-align: middle;\n",
       "    }\n",
       "\n",
       "    .dataframe tbody tr th {\n",
       "        vertical-align: top;\n",
       "    }\n",
       "\n",
       "    .dataframe thead th {\n",
       "        text-align: right;\n",
       "    }\n",
       "</style>\n",
       "<table border=\"1\" class=\"dataframe\">\n",
       "  <thead>\n",
       "    <tr style=\"text-align: right;\">\n",
       "      <th></th>\n",
       "      <th>Pclass</th>\n",
       "      <th>Sex</th>\n",
       "      <th>Age</th>\n",
       "      <th>SibSp</th>\n",
       "      <th>Parch</th>\n",
       "      <th>Fare</th>\n",
       "      <th>Cabin</th>\n",
       "      <th>Embarked</th>\n",
       "      <th>rf_clf</th>\n",
       "      <th>lightgbm_clf</th>\n",
       "      <th>xgboost_clf</th>\n",
       "      <th>sclf</th>\n",
       "    </tr>\n",
       "  </thead>\n",
       "  <tbody>\n",
       "    <tr>\n",
       "      <th>691</th>\n",
       "      <td>3</td>\n",
       "      <td>0</td>\n",
       "      <td>4.0</td>\n",
       "      <td>0</td>\n",
       "      <td>1</td>\n",
       "      <td>13.4167</td>\n",
       "      <td>7</td>\n",
       "      <td>0</td>\n",
       "      <td>1</td>\n",
       "      <td>1</td>\n",
       "      <td>1</td>\n",
       "      <td>1</td>\n",
       "    </tr>\n",
       "    <tr>\n",
       "      <th>43</th>\n",
       "      <td>2</td>\n",
       "      <td>0</td>\n",
       "      <td>3.0</td>\n",
       "      <td>1</td>\n",
       "      <td>2</td>\n",
       "      <td>41.5792</td>\n",
       "      <td>7</td>\n",
       "      <td>0</td>\n",
       "      <td>1</td>\n",
       "      <td>1</td>\n",
       "      <td>1</td>\n",
       "      <td>1</td>\n",
       "    </tr>\n",
       "    <tr>\n",
       "      <th>666</th>\n",
       "      <td>2</td>\n",
       "      <td>1</td>\n",
       "      <td>25.0</td>\n",
       "      <td>0</td>\n",
       "      <td>0</td>\n",
       "      <td>13.0000</td>\n",
       "      <td>7</td>\n",
       "      <td>3</td>\n",
       "      <td>0</td>\n",
       "      <td>0</td>\n",
       "      <td>0</td>\n",
       "      <td>0</td>\n",
       "    </tr>\n",
       "    <tr>\n",
       "      <th>769</th>\n",
       "      <td>3</td>\n",
       "      <td>1</td>\n",
       "      <td>32.0</td>\n",
       "      <td>0</td>\n",
       "      <td>0</td>\n",
       "      <td>8.3625</td>\n",
       "      <td>7</td>\n",
       "      <td>3</td>\n",
       "      <td>0</td>\n",
       "      <td>0</td>\n",
       "      <td>0</td>\n",
       "      <td>0</td>\n",
       "    </tr>\n",
       "    <tr>\n",
       "      <th>419</th>\n",
       "      <td>3</td>\n",
       "      <td>0</td>\n",
       "      <td>10.0</td>\n",
       "      <td>0</td>\n",
       "      <td>2</td>\n",
       "      <td>24.1500</td>\n",
       "      <td>7</td>\n",
       "      <td>3</td>\n",
       "      <td>1</td>\n",
       "      <td>0</td>\n",
       "      <td>0</td>\n",
       "      <td>0</td>\n",
       "    </tr>\n",
       "  </tbody>\n",
       "</table>\n",
       "</div>"
      ],
      "text/plain": [
       "     Pclass  Sex   Age  SibSp  Parch     Fare  Cabin  Embarked  rf_clf  \\\n",
       "691       3    0   4.0      0      1  13.4167      7         0       1   \n",
       "43        2    0   3.0      1      2  41.5792      7         0       1   \n",
       "666       2    1  25.0      0      0  13.0000      7         3       0   \n",
       "769       3    1  32.0      0      0   8.3625      7         3       0   \n",
       "419       3    0  10.0      0      2  24.1500      7         3       1   \n",
       "\n",
       "     lightgbm_clf  xgboost_clf  sclf  \n",
       "691             1            1     1  \n",
       "43              1            1     1  \n",
       "666             0            0     0  \n",
       "769             0            0     0  \n",
       "419             0            0     0  "
      ]
     },
     "execution_count": 89,
     "metadata": {},
     "output_type": "execute_result"
    }
   ],
   "source": [
    "X_test_model_total = X_test.copy(deep=True) # 복사해서 같은 파일 만들기\n",
    "X_test_model_total[\"rf_clf\"] = rf_kf_rgs_best.predict(X_test)\n",
    "X_test_model_total[\"lightgbm_clf\"] = lgbm_kf_rgs_best.predict(X_test)\n",
    "X_test_model_total[\"xgboost_clf\"] = xgbc_kf_rgs_best.predict(X_test)\n",
    "X_test_model_total[\"sclf\"] = best_m4.predict(X_test)\n",
    "X_test_model_total.head()# 정답지 붙이기"
   ]
  },
  {
   "cell_type": "code",
   "execution_count": 90,
   "id": "f47bd973",
   "metadata": {},
   "outputs": [
    {
     "data": {
      "text/html": [
       "<div>\n",
       "<style scoped>\n",
       "    .dataframe tbody tr th:only-of-type {\n",
       "        vertical-align: middle;\n",
       "    }\n",
       "\n",
       "    .dataframe tbody tr th {\n",
       "        vertical-align: top;\n",
       "    }\n",
       "\n",
       "    .dataframe thead th {\n",
       "        text-align: right;\n",
       "    }\n",
       "</style>\n",
       "<table border=\"1\" class=\"dataframe\">\n",
       "  <thead>\n",
       "    <tr style=\"text-align: right;\">\n",
       "      <th></th>\n",
       "      <th>Pclass</th>\n",
       "      <th>Sex</th>\n",
       "      <th>Age</th>\n",
       "      <th>SibSp</th>\n",
       "      <th>Parch</th>\n",
       "      <th>Fare</th>\n",
       "      <th>Cabin</th>\n",
       "      <th>Embarked</th>\n",
       "      <th>rf_clf</th>\n",
       "      <th>lightgbm_clf</th>\n",
       "      <th>xgboost_clf</th>\n",
       "      <th>sclf</th>\n",
       "      <th>hard_voting</th>\n",
       "    </tr>\n",
       "  </thead>\n",
       "  <tbody>\n",
       "    <tr>\n",
       "      <th>691</th>\n",
       "      <td>3</td>\n",
       "      <td>0</td>\n",
       "      <td>4.0</td>\n",
       "      <td>0</td>\n",
       "      <td>1</td>\n",
       "      <td>13.4167</td>\n",
       "      <td>7</td>\n",
       "      <td>0</td>\n",
       "      <td>1</td>\n",
       "      <td>1</td>\n",
       "      <td>1</td>\n",
       "      <td>1</td>\n",
       "      <td>1</td>\n",
       "    </tr>\n",
       "    <tr>\n",
       "      <th>43</th>\n",
       "      <td>2</td>\n",
       "      <td>0</td>\n",
       "      <td>3.0</td>\n",
       "      <td>1</td>\n",
       "      <td>2</td>\n",
       "      <td>41.5792</td>\n",
       "      <td>7</td>\n",
       "      <td>0</td>\n",
       "      <td>1</td>\n",
       "      <td>1</td>\n",
       "      <td>1</td>\n",
       "      <td>1</td>\n",
       "      <td>1</td>\n",
       "    </tr>\n",
       "    <tr>\n",
       "      <th>666</th>\n",
       "      <td>2</td>\n",
       "      <td>1</td>\n",
       "      <td>25.0</td>\n",
       "      <td>0</td>\n",
       "      <td>0</td>\n",
       "      <td>13.0000</td>\n",
       "      <td>7</td>\n",
       "      <td>3</td>\n",
       "      <td>0</td>\n",
       "      <td>0</td>\n",
       "      <td>0</td>\n",
       "      <td>0</td>\n",
       "      <td>0</td>\n",
       "    </tr>\n",
       "    <tr>\n",
       "      <th>769</th>\n",
       "      <td>3</td>\n",
       "      <td>1</td>\n",
       "      <td>32.0</td>\n",
       "      <td>0</td>\n",
       "      <td>0</td>\n",
       "      <td>8.3625</td>\n",
       "      <td>7</td>\n",
       "      <td>3</td>\n",
       "      <td>0</td>\n",
       "      <td>0</td>\n",
       "      <td>0</td>\n",
       "      <td>0</td>\n",
       "      <td>0</td>\n",
       "    </tr>\n",
       "    <tr>\n",
       "      <th>419</th>\n",
       "      <td>3</td>\n",
       "      <td>0</td>\n",
       "      <td>10.0</td>\n",
       "      <td>0</td>\n",
       "      <td>2</td>\n",
       "      <td>24.1500</td>\n",
       "      <td>7</td>\n",
       "      <td>3</td>\n",
       "      <td>1</td>\n",
       "      <td>0</td>\n",
       "      <td>0</td>\n",
       "      <td>0</td>\n",
       "      <td>0</td>\n",
       "    </tr>\n",
       "  </tbody>\n",
       "</table>\n",
       "</div>"
      ],
      "text/plain": [
       "     Pclass  Sex   Age  SibSp  Parch     Fare  Cabin  Embarked  rf_clf  \\\n",
       "691       3    0   4.0      0      1  13.4167      7         0       1   \n",
       "43        2    0   3.0      1      2  41.5792      7         0       1   \n",
       "666       2    1  25.0      0      0  13.0000      7         3       0   \n",
       "769       3    1  32.0      0      0   8.3625      7         3       0   \n",
       "419       3    0  10.0      0      2  24.1500      7         3       1   \n",
       "\n",
       "     lightgbm_clf  xgboost_clf  sclf  hard_voting  \n",
       "691             1            1     1            1  \n",
       "43              1            1     1            1  \n",
       "666             0            0     0            0  \n",
       "769             0            0     0            0  \n",
       "419             0            0     0            0  "
      ]
     },
     "execution_count": 90,
     "metadata": {},
     "output_type": "execute_result"
    }
   ],
   "source": [
    "X_test_model_total[\"hard_voting\"]= X_test_model_total.loc[:, [\"rf_clf\",\"lightgbm_clf\",\"xgboost_clf\",\"sclf\"]].apply(lambda x : vote_handmade(x), axis=1)\n",
    "X_test_model_total.head() # 과반수 적용, 살았나 죽었나 라서 0이랑 1만있음"
   ]
  },
  {
   "cell_type": "code",
   "execution_count": 91,
   "id": "c1bf5098",
   "metadata": {},
   "outputs": [
    {
     "data": {
      "text/plain": [
       "0.8324022346368715"
      ]
     },
     "execution_count": 91,
     "metadata": {},
     "output_type": "execute_result"
    }
   ],
   "source": [
    "accuracy_score(y_test,X_test_model_total[\"hard_voting\"])"
   ]
  },
  {
   "cell_type": "markdown",
   "id": "e699f512",
   "metadata": {},
   "source": [
    "* soft voting"
   ]
  },
  {
   "cell_type": "code",
   "execution_count": 92,
   "id": "288e83db",
   "metadata": {},
   "outputs": [
    {
     "name": "stdout",
     "output_type": "stream",
     "text": [
      "[12:16:01] ======== Monitor: Learner ========\n",
      "[12:16:01] Configure: 0.000261s, 1 calls @ 261us\n",
      "\n",
      "[12:16:01] ======== Monitor: GBTree ========\n",
      "[12:16:01] ======== Monitor: TreePruner ========\n",
      "[12:16:03] INFO: D:\\bld\\xgboost-split_1631904903843\\work\\src\\tree\\updater_prune.cc:101: tree pruning end, 40 extra nodes, 0 pruned nodes, max_depth=7\n",
      "[12:16:03] INFO: D:\\bld\\xgboost-split_1631904903843\\work\\src\\gbm\\gbtree.cc:860: drop 0 trees, weight = 1\n",
      "[12:16:03] INFO: D:\\bld\\xgboost-split_1631904903843\\work\\src\\tree\\updater_prune.cc:101: tree pruning end, 34 extra nodes, 0 pruned nodes, max_depth=7\n",
      "[12:16:03] INFO: D:\\bld\\xgboost-split_1631904903843\\work\\src\\gbm\\gbtree.cc:860: drop 0 trees, weight = 1\n",
      "[12:16:03] INFO: D:\\bld\\xgboost-split_1631904903843\\work\\src\\tree\\updater_prune.cc:101: tree pruning end, 36 extra nodes, 0 pruned nodes, max_depth=7\n",
      "[12:16:03] INFO: D:\\bld\\xgboost-split_1631904903843\\work\\src\\gbm\\gbtree.cc:860: drop 0 trees, weight = 1\n",
      "[12:16:03] INFO: D:\\bld\\xgboost-split_1631904903843\\work\\src\\tree\\updater_prune.cc:101: tree pruning end, 28 extra nodes, 0 pruned nodes, max_depth=7\n",
      "[12:16:03] INFO: D:\\bld\\xgboost-split_1631904903843\\work\\src\\gbm\\gbtree.cc:860: drop 0 trees, weight = 1\n",
      "[12:16:03] INFO: D:\\bld\\xgboost-split_1631904903843\\work\\src\\tree\\updater_prune.cc:101: tree pruning end, 32 extra nodes, 0 pruned nodes, max_depth=7\n",
      "[12:16:03] INFO: D:\\bld\\xgboost-split_1631904903843\\work\\src\\gbm\\gbtree.cc:860: drop 0 trees, weight = 1\n",
      "[12:16:03] INFO: D:\\bld\\xgboost-split_1631904903843\\work\\src\\tree\\updater_prune.cc:101: tree pruning end, 44 extra nodes, 0 pruned nodes, max_depth=7\n",
      "[12:16:03] INFO: D:\\bld\\xgboost-split_1631904903843\\work\\src\\gbm\\gbtree.cc:860: drop 0 trees, weight = 1\n",
      "[12:16:03] INFO: D:\\bld\\xgboost-split_1631904903843\\work\\src\\tree\\updater_prune.cc:101: tree pruning end, 38 extra nodes, 0 pruned nodes, max_depth=7\n",
      "[12:16:03] INFO: D:\\bld\\xgboost-split_1631904903843\\work\\src\\gbm\\gbtree.cc:860: drop 0 trees, weight = 1\n",
      "[12:16:03] INFO: D:\\bld\\xgboost-split_1631904903843\\work\\src\\tree\\updater_prune.cc:101: tree pruning end, 36 extra nodes, 0 pruned nodes, max_depth=6\n",
      "[12:16:03] INFO: D:\\bld\\xgboost-split_1631904903843\\work\\src\\gbm\\gbtree.cc:860: drop 0 trees, weight = 1\n",
      "[12:16:03] INFO: D:\\bld\\xgboost-split_1631904903843\\work\\src\\tree\\updater_prune.cc:101: tree pruning end, 42 extra nodes, 0 pruned nodes, max_depth=7\n",
      "[12:16:03] INFO: D:\\bld\\xgboost-split_1631904903843\\work\\src\\gbm\\gbtree.cc:860: drop 0 trees, weight = 1\n",
      "[12:16:03] INFO: D:\\bld\\xgboost-split_1631904903843\\work\\src\\tree\\updater_prune.cc:101: tree pruning end, 52 extra nodes, 0 pruned nodes, max_depth=7\n",
      "[12:16:03] INFO: D:\\bld\\xgboost-split_1631904903843\\work\\src\\gbm\\gbtree.cc:860: drop 0 trees, weight = 1\n",
      "[12:16:03] INFO: D:\\bld\\xgboost-split_1631904903843\\work\\src\\tree\\updater_prune.cc:101: tree pruning end, 34 extra nodes, 0 pruned nodes, max_depth=7\n",
      "[12:16:03] INFO: D:\\bld\\xgboost-split_1631904903843\\work\\src\\gbm\\gbtree.cc:860: drop 0 trees, weight = 1\n",
      "[12:16:03] INFO: D:\\bld\\xgboost-split_1631904903843\\work\\src\\tree\\updater_prune.cc:101: tree pruning end, 42 extra nodes, 0 pruned nodes, max_depth=7\n",
      "[12:16:03] INFO: D:\\bld\\xgboost-split_1631904903843\\work\\src\\gbm\\gbtree.cc:860: drop 0 trees, weight = 1\n",
      "[12:16:03] INFO: D:\\bld\\xgboost-split_1631904903843\\work\\src\\tree\\updater_prune.cc:101: tree pruning end, 50 extra nodes, 0 pruned nodes, max_depth=7\n",
      "[12:16:03] INFO: D:\\bld\\xgboost-split_1631904903843\\work\\src\\gbm\\gbtree.cc:860: drop 0 trees, weight = 1\n",
      "[12:16:03] INFO: D:\\bld\\xgboost-split_1631904903843\\work\\src\\tree\\updater_prune.cc:101: tree pruning end, 46 extra nodes, 0 pruned nodes, max_depth=6\n",
      "[12:16:03] INFO: D:\\bld\\xgboost-split_1631904903843\\work\\src\\gbm\\gbtree.cc:860: drop 0 trees, weight = 1\n",
      "[12:16:03] INFO: D:\\bld\\xgboost-split_1631904903843\\work\\src\\tree\\updater_prune.cc:101: tree pruning end, 38 extra nodes, 0 pruned nodes, max_depth=6\n",
      "[12:16:03] INFO: D:\\bld\\xgboost-split_1631904903843\\work\\src\\gbm\\gbtree.cc:860: drop 0 trees, weight = 1\n",
      "[12:16:03] INFO: D:\\bld\\xgboost-split_1631904903843\\work\\src\\tree\\updater_prune.cc:101: tree pruning end, 50 extra nodes, 0 pruned nodes, max_depth=7\n",
      "[12:16:03] INFO: D:\\bld\\xgboost-split_1631904903843\\work\\src\\gbm\\gbtree.cc:860: drop 0 trees, weight = 1\n",
      "[12:16:03] INFO: D:\\bld\\xgboost-split_1631904903843\\work\\src\\tree\\updater_prune.cc:101: tree pruning end, 52 extra nodes, 0 pruned nodes, max_depth=7\n",
      "[12:16:03] INFO: D:\\bld\\xgboost-split_1631904903843\\work\\src\\gbm\\gbtree.cc:860: drop 0 trees, weight = 1\n",
      "[12:16:03] INFO: D:\\bld\\xgboost-split_1631904903843\\work\\src\\tree\\updater_prune.cc:101: tree pruning end, 54 extra nodes, 0 pruned nodes, max_depth=7\n",
      "[12:16:03] INFO: D:\\bld\\xgboost-split_1631904903843\\work\\src\\gbm\\gbtree.cc:860: drop 0 trees, weight = 1\n",
      "[12:16:03] INFO: D:\\bld\\xgboost-split_1631904903843\\work\\src\\tree\\updater_prune.cc:101: tree pruning end, 54 extra nodes, 0 pruned nodes, max_depth=7\n",
      "[12:16:03] INFO: D:\\bld\\xgboost-split_1631904903843\\work\\src\\gbm\\gbtree.cc:860: drop 0 trees, weight = 1\n",
      "[12:16:03] INFO: D:\\bld\\xgboost-split_1631904903843\\work\\src\\tree\\updater_prune.cc:101: tree pruning end, 58 extra nodes, 0 pruned nodes, max_depth=7\n",
      "[12:16:03] INFO: D:\\bld\\xgboost-split_1631904903843\\work\\src\\gbm\\gbtree.cc:860: drop 0 trees, weight = 1\n",
      "[12:16:03] INFO: D:\\bld\\xgboost-split_1631904903843\\work\\src\\tree\\updater_prune.cc:101: tree pruning end, 38 extra nodes, 0 pruned nodes, max_depth=7\n",
      "[12:16:03] INFO: D:\\bld\\xgboost-split_1631904903843\\work\\src\\gbm\\gbtree.cc:860: drop 0 trees, weight = 1\n",
      "[12:16:03] INFO: D:\\bld\\xgboost-split_1631904903843\\work\\src\\tree\\updater_prune.cc:101: tree pruning end, 50 extra nodes, 0 pruned nodes, max_depth=7\n",
      "[12:16:03] INFO: D:\\bld\\xgboost-split_1631904903843\\work\\src\\gbm\\gbtree.cc:860: drop 0 trees, weight = 1\n",
      "[12:16:03] INFO: D:\\bld\\xgboost-split_1631904903843\\work\\src\\tree\\updater_prune.cc:101: tree pruning end, 42 extra nodes, 0 pruned nodes, max_depth=7\n",
      "[12:16:03] INFO: D:\\bld\\xgboost-split_1631904903843\\work\\src\\gbm\\gbtree.cc:860: drop 0 trees, weight = 1\n",
      "[12:16:03] INFO: D:\\bld\\xgboost-split_1631904903843\\work\\src\\tree\\updater_prune.cc:101: tree pruning end, 36 extra nodes, 0 pruned nodes, max_depth=7\n",
      "[12:16:03] INFO: D:\\bld\\xgboost-split_1631904903843\\work\\src\\gbm\\gbtree.cc:860: drop 0 trees, weight = 1\n",
      "[12:16:03] INFO: D:\\bld\\xgboost-split_1631904903843\\work\\src\\tree\\updater_prune.cc:101: tree pruning end, 42 extra nodes, 0 pruned nodes, max_depth=7\n",
      "[12:16:03] INFO: D:\\bld\\xgboost-split_1631904903843\\work\\src\\gbm\\gbtree.cc:860: drop 0 trees, weight = 1\n",
      "[12:16:03] INFO: D:\\bld\\xgboost-split_1631904903843\\work\\src\\tree\\updater_prune.cc:101: tree pruning end, 46 extra nodes, 0 pruned nodes, max_depth=7\n",
      "[12:16:03] INFO: D:\\bld\\xgboost-split_1631904903843\\work\\src\\gbm\\gbtree.cc:860: drop 0 trees, weight = 1\n",
      "[12:16:03] INFO: D:\\bld\\xgboost-split_1631904903843\\work\\src\\tree\\updater_prune.cc:101: tree pruning end, 36 extra nodes, 0 pruned nodes, max_depth=7\n",
      "[12:16:03] INFO: D:\\bld\\xgboost-split_1631904903843\\work\\src\\gbm\\gbtree.cc:860: drop 0 trees, weight = 1\n",
      "[12:16:03] INFO: D:\\bld\\xgboost-split_1631904903843\\work\\src\\tree\\updater_prune.cc:101: tree pruning end, 24 extra nodes, 0 pruned nodes, max_depth=7\n",
      "[12:16:03] INFO: D:\\bld\\xgboost-split_1631904903843\\work\\src\\gbm\\gbtree.cc:860: drop 0 trees, weight = 1\n",
      "[12:16:03] INFO: D:\\bld\\xgboost-split_1631904903843\\work\\src\\tree\\updater_prune.cc:101: tree pruning end, 44 extra nodes, 0 pruned nodes, max_depth=7\n",
      "[12:16:03] INFO: D:\\bld\\xgboost-split_1631904903843\\work\\src\\gbm\\gbtree.cc:860: drop 0 trees, weight = 1\n",
      "[12:16:03] INFO: D:\\bld\\xgboost-split_1631904903843\\work\\src\\tree\\updater_prune.cc:101: tree pruning end, 58 extra nodes, 0 pruned nodes, max_depth=7\n",
      "[12:16:03] INFO: D:\\bld\\xgboost-split_1631904903843\\work\\src\\gbm\\gbtree.cc:860: drop 0 trees, weight = 1\n",
      "[12:16:03] INFO: D:\\bld\\xgboost-split_1631904903843\\work\\src\\tree\\updater_prune.cc:101: tree pruning end, 42 extra nodes, 0 pruned nodes, max_depth=7\n",
      "[12:16:03] INFO: D:\\bld\\xgboost-split_1631904903843\\work\\src\\gbm\\gbtree.cc:860: drop 0 trees, weight = 1\n",
      "[12:16:03] INFO: D:\\bld\\xgboost-split_1631904903843\\work\\src\\tree\\updater_prune.cc:101: tree pruning end, 56 extra nodes, 0 pruned nodes, max_depth=7\n",
      "[12:16:03] INFO: D:\\bld\\xgboost-split_1631904903843\\work\\src\\gbm\\gbtree.cc:860: drop 0 trees, weight = 1\n",
      "[12:16:03] INFO: D:\\bld\\xgboost-split_1631904903843\\work\\src\\tree\\updater_prune.cc:101: tree pruning end, 58 extra nodes, 0 pruned nodes, max_depth=7\n",
      "[12:16:03] INFO: D:\\bld\\xgboost-split_1631904903843\\work\\src\\gbm\\gbtree.cc:860: drop 0 trees, weight = 1\n",
      "[12:16:03] INFO: D:\\bld\\xgboost-split_1631904903843\\work\\src\\tree\\updater_prune.cc:101: tree pruning end, 36 extra nodes, 0 pruned nodes, max_depth=7\n",
      "[12:16:03] INFO: D:\\bld\\xgboost-split_1631904903843\\work\\src\\gbm\\gbtree.cc:860: drop 0 trees, weight = 1\n",
      "[12:16:03] INFO: D:\\bld\\xgboost-split_1631904903843\\work\\src\\tree\\updater_prune.cc:101: tree pruning end, 58 extra nodes, 0 pruned nodes, max_depth=7\n",
      "[12:16:03] INFO: D:\\bld\\xgboost-split_1631904903843\\work\\src\\gbm\\gbtree.cc:860: drop 0 trees, weight = 1\n",
      "[12:16:03] INFO: D:\\bld\\xgboost-split_1631904903843\\work\\src\\tree\\updater_prune.cc:101: tree pruning end, 54 extra nodes, 0 pruned nodes, max_depth=7\n",
      "[12:16:03] INFO: D:\\bld\\xgboost-split_1631904903843\\work\\src\\gbm\\gbtree.cc:860: drop 0 trees, weight = 1\n",
      "[12:16:03] INFO: D:\\bld\\xgboost-split_1631904903843\\work\\src\\tree\\updater_prune.cc:101: tree pruning end, 40 extra nodes, 0 pruned nodes, max_depth=7\n",
      "[12:16:03] INFO: D:\\bld\\xgboost-split_1631904903843\\work\\src\\gbm\\gbtree.cc:860: drop 0 trees, weight = 1\n",
      "[12:16:03] INFO: D:\\bld\\xgboost-split_1631904903843\\work\\src\\tree\\updater_prune.cc:101: tree pruning end, 46 extra nodes, 0 pruned nodes, max_depth=7\n",
      "[12:16:03] INFO: D:\\bld\\xgboost-split_1631904903843\\work\\src\\gbm\\gbtree.cc:860: drop 0 trees, weight = 1\n",
      "[12:16:03] INFO: D:\\bld\\xgboost-split_1631904903843\\work\\src\\tree\\updater_prune.cc:101: tree pruning end, 46 extra nodes, 0 pruned nodes, max_depth=7\n",
      "[12:16:03] INFO: D:\\bld\\xgboost-split_1631904903843\\work\\src\\gbm\\gbtree.cc:860: drop 0 trees, weight = 1\n",
      "[12:16:03] INFO: D:\\bld\\xgboost-split_1631904903843\\work\\src\\tree\\updater_prune.cc:101: tree pruning end, 48 extra nodes, 0 pruned nodes, max_depth=7\n",
      "[12:16:03] INFO: D:\\bld\\xgboost-split_1631904903843\\work\\src\\gbm\\gbtree.cc:860: drop 0 trees, weight = 1\n",
      "[12:16:03] INFO: D:\\bld\\xgboost-split_1631904903843\\work\\src\\tree\\updater_prune.cc:101: tree pruning end, 38 extra nodes, 0 pruned nodes, max_depth=7\n",
      "[12:16:03] INFO: D:\\bld\\xgboost-split_1631904903843\\work\\src\\gbm\\gbtree.cc:860: drop 0 trees, weight = 1\n",
      "[12:16:03] INFO: D:\\bld\\xgboost-split_1631904903843\\work\\src\\tree\\updater_prune.cc:101: tree pruning end, 50 extra nodes, 0 pruned nodes, max_depth=7\n",
      "[12:16:03] INFO: D:\\bld\\xgboost-split_1631904903843\\work\\src\\gbm\\gbtree.cc:860: drop 0 trees, weight = 1\n",
      "[12:16:03] INFO: D:\\bld\\xgboost-split_1631904903843\\work\\src\\tree\\updater_prune.cc:101: tree pruning end, 52 extra nodes, 0 pruned nodes, max_depth=7\n",
      "[12:16:03] INFO: D:\\bld\\xgboost-split_1631904903843\\work\\src\\gbm\\gbtree.cc:860: drop 0 trees, weight = 1\n",
      "[12:16:03] INFO: D:\\bld\\xgboost-split_1631904903843\\work\\src\\tree\\updater_prune.cc:101: tree pruning end, 52 extra nodes, 0 pruned nodes, max_depth=7\n",
      "[12:16:03] INFO: D:\\bld\\xgboost-split_1631904903843\\work\\src\\gbm\\gbtree.cc:860: drop 0 trees, weight = 1\n",
      "[12:16:03] INFO: D:\\bld\\xgboost-split_1631904903843\\work\\src\\tree\\updater_prune.cc:101: tree pruning end, 40 extra nodes, 0 pruned nodes, max_depth=7\n",
      "[12:16:03] INFO: D:\\bld\\xgboost-split_1631904903843\\work\\src\\gbm\\gbtree.cc:860: drop 0 trees, weight = 1\n",
      "[12:16:03] INFO: D:\\bld\\xgboost-split_1631904903843\\work\\src\\tree\\updater_prune.cc:101: tree pruning end, 34 extra nodes, 0 pruned nodes, max_depth=7\n",
      "[12:16:03] INFO: D:\\bld\\xgboost-split_1631904903843\\work\\src\\gbm\\gbtree.cc:860: drop 0 trees, weight = 1\n",
      "[12:16:03] INFO: D:\\bld\\xgboost-split_1631904903843\\work\\src\\tree\\updater_prune.cc:101: tree pruning end, 46 extra nodes, 0 pruned nodes, max_depth=7\n",
      "[12:16:03] INFO: D:\\bld\\xgboost-split_1631904903843\\work\\src\\gbm\\gbtree.cc:860: drop 0 trees, weight = 1\n",
      "[12:16:03] INFO: D:\\bld\\xgboost-split_1631904903843\\work\\src\\tree\\updater_prune.cc:101: tree pruning end, 30 extra nodes, 0 pruned nodes, max_depth=7\n",
      "[12:16:03] INFO: D:\\bld\\xgboost-split_1631904903843\\work\\src\\gbm\\gbtree.cc:860: drop 0 trees, weight = 1\n",
      "[12:16:03] INFO: D:\\bld\\xgboost-split_1631904903843\\work\\src\\tree\\updater_prune.cc:101: tree pruning end, 38 extra nodes, 0 pruned nodes, max_depth=7\n",
      "[12:16:03] INFO: D:\\bld\\xgboost-split_1631904903843\\work\\src\\gbm\\gbtree.cc:860: drop 0 trees, weight = 1\n",
      "[12:16:03] INFO: D:\\bld\\xgboost-split_1631904903843\\work\\src\\tree\\updater_prune.cc:101: tree pruning end, 38 extra nodes, 0 pruned nodes, max_depth=7\n",
      "[12:16:03] INFO: D:\\bld\\xgboost-split_1631904903843\\work\\src\\gbm\\gbtree.cc:860: drop 0 trees, weight = 1\n",
      "[12:16:03] INFO: D:\\bld\\xgboost-split_1631904903843\\work\\src\\tree\\updater_prune.cc:101: tree pruning end, 54 extra nodes, 0 pruned nodes, max_depth=7\n",
      "[12:16:03] INFO: D:\\bld\\xgboost-split_1631904903843\\work\\src\\gbm\\gbtree.cc:860: drop 0 trees, weight = 1\n",
      "[12:16:03] INFO: D:\\bld\\xgboost-split_1631904903843\\work\\src\\tree\\updater_prune.cc:101: tree pruning end, 46 extra nodes, 0 pruned nodes, max_depth=7\n",
      "[12:16:03] INFO: D:\\bld\\xgboost-split_1631904903843\\work\\src\\gbm\\gbtree.cc:860: drop 0 trees, weight = 1\n",
      "[12:16:03] INFO: D:\\bld\\xgboost-split_1631904903843\\work\\src\\tree\\updater_prune.cc:101: tree pruning end, 40 extra nodes, 0 pruned nodes, max_depth=7\n",
      "[12:16:03] INFO: D:\\bld\\xgboost-split_1631904903843\\work\\src\\gbm\\gbtree.cc:860: drop 0 trees, weight = 1\n",
      "[12:16:03] INFO: D:\\bld\\xgboost-split_1631904903843\\work\\src\\tree\\updater_prune.cc:101: tree pruning end, 46 extra nodes, 0 pruned nodes, max_depth=7\n",
      "[12:16:03] INFO: D:\\bld\\xgboost-split_1631904903843\\work\\src\\gbm\\gbtree.cc:860: drop 0 trees, weight = 1\n",
      "[12:16:03] INFO: D:\\bld\\xgboost-split_1631904903843\\work\\src\\tree\\updater_prune.cc:101: tree pruning end, 36 extra nodes, 0 pruned nodes, max_depth=7\n",
      "[12:16:03] INFO: D:\\bld\\xgboost-split_1631904903843\\work\\src\\gbm\\gbtree.cc:860: drop 0 trees, weight = 1\n",
      "[12:16:03] INFO: D:\\bld\\xgboost-split_1631904903843\\work\\src\\tree\\updater_prune.cc:101: tree pruning end, 48 extra nodes, 0 pruned nodes, max_depth=7\n",
      "[12:16:03] INFO: D:\\bld\\xgboost-split_1631904903843\\work\\src\\gbm\\gbtree.cc:860: drop 0 trees, weight = 1\n",
      "[12:16:03] INFO: D:\\bld\\xgboost-split_1631904903843\\work\\src\\tree\\updater_prune.cc:101: tree pruning end, 42 extra nodes, 0 pruned nodes, max_depth=7\n",
      "[12:16:03] INFO: D:\\bld\\xgboost-split_1631904903843\\work\\src\\gbm\\gbtree.cc:860: drop 0 trees, weight = 1\n",
      "[12:16:03] INFO: D:\\bld\\xgboost-split_1631904903843\\work\\src\\tree\\updater_prune.cc:101: tree pruning end, 36 extra nodes, 0 pruned nodes, max_depth=7\n",
      "[12:16:03] INFO: D:\\bld\\xgboost-split_1631904903843\\work\\src\\gbm\\gbtree.cc:860: drop 0 trees, weight = 1\n",
      "[12:16:03] INFO: D:\\bld\\xgboost-split_1631904903843\\work\\src\\tree\\updater_prune.cc:101: tree pruning end, 54 extra nodes, 0 pruned nodes, max_depth=7\n",
      "[12:16:03] INFO: D:\\bld\\xgboost-split_1631904903843\\work\\src\\gbm\\gbtree.cc:860: drop 0 trees, weight = 1\n",
      "[12:16:03] INFO: D:\\bld\\xgboost-split_1631904903843\\work\\src\\tree\\updater_prune.cc:101: tree pruning end, 42 extra nodes, 0 pruned nodes, max_depth=7\n",
      "[12:16:03] INFO: D:\\bld\\xgboost-split_1631904903843\\work\\src\\gbm\\gbtree.cc:860: drop 0 trees, weight = 1\n",
      "[12:16:03] INFO: D:\\bld\\xgboost-split_1631904903843\\work\\src\\tree\\updater_prune.cc:101: tree pruning end, 46 extra nodes, 0 pruned nodes, max_depth=7\n",
      "[12:16:03] INFO: D:\\bld\\xgboost-split_1631904903843\\work\\src\\gbm\\gbtree.cc:860: drop 0 trees, weight = 1\n",
      "[12:16:03] INFO: D:\\bld\\xgboost-split_1631904903843\\work\\src\\tree\\updater_prune.cc:101: tree pruning end, 44 extra nodes, 0 pruned nodes, max_depth=7\n",
      "[12:16:03] INFO: D:\\bld\\xgboost-split_1631904903843\\work\\src\\gbm\\gbtree.cc:860: drop 0 trees, weight = 1\n",
      "[12:16:03] INFO: D:\\bld\\xgboost-split_1631904903843\\work\\src\\tree\\updater_prune.cc:101: tree pruning end, 40 extra nodes, 0 pruned nodes, max_depth=6\n",
      "[12:16:03] INFO: D:\\bld\\xgboost-split_1631904903843\\work\\src\\gbm\\gbtree.cc:860: drop 0 trees, weight = 1\n",
      "[12:16:03] INFO: D:\\bld\\xgboost-split_1631904903843\\work\\src\\tree\\updater_prune.cc:101: tree pruning end, 50 extra nodes, 0 pruned nodes, max_depth=7\n",
      "[12:16:03] INFO: D:\\bld\\xgboost-split_1631904903843\\work\\src\\gbm\\gbtree.cc:860: drop 0 trees, weight = 1\n",
      "[12:16:03] INFO: D:\\bld\\xgboost-split_1631904903843\\work\\src\\tree\\updater_prune.cc:101: tree pruning end, 46 extra nodes, 0 pruned nodes, max_depth=7\n",
      "[12:16:03] INFO: D:\\bld\\xgboost-split_1631904903843\\work\\src\\gbm\\gbtree.cc:860: drop 0 trees, weight = 1\n",
      "[12:16:03] INFO: D:\\bld\\xgboost-split_1631904903843\\work\\src\\tree\\updater_prune.cc:101: tree pruning end, 60 extra nodes, 0 pruned nodes, max_depth=7\n",
      "[12:16:03] INFO: D:\\bld\\xgboost-split_1631904903843\\work\\src\\gbm\\gbtree.cc:860: drop 0 trees, weight = 1\n",
      "[12:16:03] INFO: D:\\bld\\xgboost-split_1631904903843\\work\\src\\tree\\updater_prune.cc:101: tree pruning end, 36 extra nodes, 0 pruned nodes, max_depth=7\n",
      "[12:16:03] INFO: D:\\bld\\xgboost-split_1631904903843\\work\\src\\gbm\\gbtree.cc:860: drop 0 trees, weight = 1\n",
      "[12:16:03] INFO: D:\\bld\\xgboost-split_1631904903843\\work\\src\\tree\\updater_prune.cc:101: tree pruning end, 46 extra nodes, 0 pruned nodes, max_depth=7\n",
      "[12:16:03] INFO: D:\\bld\\xgboost-split_1631904903843\\work\\src\\gbm\\gbtree.cc:860: drop 0 trees, weight = 1\n",
      "[12:16:03] INFO: D:\\bld\\xgboost-split_1631904903843\\work\\src\\tree\\updater_prune.cc:101: tree pruning end, 40 extra nodes, 0 pruned nodes, max_depth=7\n"
     ]
    },
    {
     "name": "stdout",
     "output_type": "stream",
     "text": [
      "[12:16:03] INFO: D:\\bld\\xgboost-split_1631904903843\\work\\src\\gbm\\gbtree.cc:860: drop 0 trees, weight = 1\n",
      "[12:16:03] INFO: D:\\bld\\xgboost-split_1631904903843\\work\\src\\tree\\updater_prune.cc:101: tree pruning end, 40 extra nodes, 0 pruned nodes, max_depth=7\n",
      "[12:16:03] INFO: D:\\bld\\xgboost-split_1631904903843\\work\\src\\gbm\\gbtree.cc:860: drop 0 trees, weight = 1\n",
      "[12:16:03] INFO: D:\\bld\\xgboost-split_1631904903843\\work\\src\\tree\\updater_prune.cc:101: tree pruning end, 46 extra nodes, 0 pruned nodes, max_depth=7\n",
      "[12:16:03] INFO: D:\\bld\\xgboost-split_1631904903843\\work\\src\\gbm\\gbtree.cc:860: drop 0 trees, weight = 1\n",
      "[12:16:03] INFO: D:\\bld\\xgboost-split_1631904903843\\work\\src\\tree\\updater_prune.cc:101: tree pruning end, 42 extra nodes, 0 pruned nodes, max_depth=7\n",
      "[12:16:03] INFO: D:\\bld\\xgboost-split_1631904903843\\work\\src\\gbm\\gbtree.cc:860: drop 0 trees, weight = 1\n",
      "[12:16:03] INFO: D:\\bld\\xgboost-split_1631904903843\\work\\src\\tree\\updater_prune.cc:101: tree pruning end, 38 extra nodes, 0 pruned nodes, max_depth=7\n",
      "[12:16:03] INFO: D:\\bld\\xgboost-split_1631904903843\\work\\src\\gbm\\gbtree.cc:860: drop 0 trees, weight = 1\n",
      "[12:16:03] INFO: D:\\bld\\xgboost-split_1631904903843\\work\\src\\tree\\updater_prune.cc:101: tree pruning end, 48 extra nodes, 0 pruned nodes, max_depth=7\n",
      "[12:16:03] INFO: D:\\bld\\xgboost-split_1631904903843\\work\\src\\gbm\\gbtree.cc:860: drop 0 trees, weight = 1\n",
      "[12:16:03] INFO: D:\\bld\\xgboost-split_1631904903843\\work\\src\\tree\\updater_prune.cc:101: tree pruning end, 36 extra nodes, 0 pruned nodes, max_depth=7\n",
      "[12:16:03] INFO: D:\\bld\\xgboost-split_1631904903843\\work\\src\\gbm\\gbtree.cc:860: drop 0 trees, weight = 1\n",
      "[12:16:03] INFO: D:\\bld\\xgboost-split_1631904903843\\work\\src\\tree\\updater_prune.cc:101: tree pruning end, 32 extra nodes, 0 pruned nodes, max_depth=5\n",
      "[12:16:03] INFO: D:\\bld\\xgboost-split_1631904903843\\work\\src\\gbm\\gbtree.cc:860: drop 0 trees, weight = 1\n",
      "[12:16:03] INFO: D:\\bld\\xgboost-split_1631904903843\\work\\src\\tree\\updater_prune.cc:101: tree pruning end, 36 extra nodes, 0 pruned nodes, max_depth=7\n",
      "[12:16:03] INFO: D:\\bld\\xgboost-split_1631904903843\\work\\src\\gbm\\gbtree.cc:860: drop 0 trees, weight = 1\n",
      "[12:16:03] INFO: D:\\bld\\xgboost-split_1631904903843\\work\\src\\tree\\updater_prune.cc:101: tree pruning end, 34 extra nodes, 0 pruned nodes, max_depth=7\n",
      "[12:16:03] INFO: D:\\bld\\xgboost-split_1631904903843\\work\\src\\gbm\\gbtree.cc:860: drop 0 trees, weight = 1\n",
      "[12:16:04] INFO: D:\\bld\\xgboost-split_1631904903843\\work\\src\\tree\\updater_prune.cc:101: tree pruning end, 44 extra nodes, 0 pruned nodes, max_depth=7\n",
      "[12:16:04] INFO: D:\\bld\\xgboost-split_1631904903843\\work\\src\\gbm\\gbtree.cc:860: drop 0 trees, weight = 1\n",
      "[12:16:04] INFO: D:\\bld\\xgboost-split_1631904903843\\work\\src\\tree\\updater_prune.cc:101: tree pruning end, 44 extra nodes, 0 pruned nodes, max_depth=7\n",
      "[12:16:04] INFO: D:\\bld\\xgboost-split_1631904903843\\work\\src\\gbm\\gbtree.cc:860: drop 0 trees, weight = 1\n",
      "[12:16:04] INFO: D:\\bld\\xgboost-split_1631904903843\\work\\src\\tree\\updater_prune.cc:101: tree pruning end, 42 extra nodes, 0 pruned nodes, max_depth=7\n",
      "[12:16:04] INFO: D:\\bld\\xgboost-split_1631904903843\\work\\src\\gbm\\gbtree.cc:860: drop 0 trees, weight = 1\n",
      "[12:16:04] INFO: D:\\bld\\xgboost-split_1631904903843\\work\\src\\tree\\updater_prune.cc:101: tree pruning end, 42 extra nodes, 0 pruned nodes, max_depth=7\n",
      "[12:16:04] INFO: D:\\bld\\xgboost-split_1631904903843\\work\\src\\gbm\\gbtree.cc:860: drop 0 trees, weight = 1\n",
      "[12:16:04] INFO: D:\\bld\\xgboost-split_1631904903843\\work\\src\\tree\\updater_prune.cc:101: tree pruning end, 46 extra nodes, 0 pruned nodes, max_depth=7\n",
      "[12:16:04] INFO: D:\\bld\\xgboost-split_1631904903843\\work\\src\\gbm\\gbtree.cc:860: drop 0 trees, weight = 1\n",
      "[12:16:04] INFO: D:\\bld\\xgboost-split_1631904903843\\work\\src\\tree\\updater_prune.cc:101: tree pruning end, 36 extra nodes, 0 pruned nodes, max_depth=7\n",
      "[12:16:04] INFO: D:\\bld\\xgboost-split_1631904903843\\work\\src\\gbm\\gbtree.cc:860: drop 0 trees, weight = 1\n",
      "[12:16:04] INFO: D:\\bld\\xgboost-split_1631904903843\\work\\src\\tree\\updater_prune.cc:101: tree pruning end, 38 extra nodes, 0 pruned nodes, max_depth=7\n",
      "[12:16:04] INFO: D:\\bld\\xgboost-split_1631904903843\\work\\src\\gbm\\gbtree.cc:860: drop 0 trees, weight = 1\n",
      "[12:16:04] INFO: D:\\bld\\xgboost-split_1631904903843\\work\\src\\tree\\updater_prune.cc:101: tree pruning end, 48 extra nodes, 0 pruned nodes, max_depth=6\n",
      "[12:16:04] INFO: D:\\bld\\xgboost-split_1631904903843\\work\\src\\gbm\\gbtree.cc:860: drop 0 trees, weight = 1\n",
      "[12:16:04] INFO: D:\\bld\\xgboost-split_1631904903843\\work\\src\\tree\\updater_prune.cc:101: tree pruning end, 40 extra nodes, 0 pruned nodes, max_depth=7\n",
      "[12:16:04] INFO: D:\\bld\\xgboost-split_1631904903843\\work\\src\\gbm\\gbtree.cc:860: drop 0 trees, weight = 1\n",
      "[12:16:04] INFO: D:\\bld\\xgboost-split_1631904903843\\work\\src\\tree\\updater_prune.cc:101: tree pruning end, 56 extra nodes, 0 pruned nodes, max_depth=7\n",
      "[12:16:04] INFO: D:\\bld\\xgboost-split_1631904903843\\work\\src\\gbm\\gbtree.cc:860: drop 0 trees, weight = 1\n",
      "[12:16:04] INFO: D:\\bld\\xgboost-split_1631904903843\\work\\src\\tree\\updater_prune.cc:101: tree pruning end, 38 extra nodes, 0 pruned nodes, max_depth=7\n",
      "[12:16:04] INFO: D:\\bld\\xgboost-split_1631904903843\\work\\src\\gbm\\gbtree.cc:860: drop 0 trees, weight = 1\n",
      "[12:16:04] INFO: D:\\bld\\xgboost-split_1631904903843\\work\\src\\tree\\updater_prune.cc:101: tree pruning end, 40 extra nodes, 0 pruned nodes, max_depth=7\n",
      "[12:16:04] INFO: D:\\bld\\xgboost-split_1631904903843\\work\\src\\gbm\\gbtree.cc:860: drop 0 trees, weight = 1\n",
      "[12:16:04] INFO: D:\\bld\\xgboost-split_1631904903843\\work\\src\\tree\\updater_prune.cc:101: tree pruning end, 40 extra nodes, 0 pruned nodes, max_depth=7\n",
      "[12:16:04] INFO: D:\\bld\\xgboost-split_1631904903843\\work\\src\\gbm\\gbtree.cc:860: drop 0 trees, weight = 1\n",
      "[12:16:04] INFO: D:\\bld\\xgboost-split_1631904903843\\work\\src\\tree\\updater_prune.cc:101: tree pruning end, 34 extra nodes, 0 pruned nodes, max_depth=6\n",
      "[12:16:04] INFO: D:\\bld\\xgboost-split_1631904903843\\work\\src\\gbm\\gbtree.cc:860: drop 0 trees, weight = 1\n",
      "[12:16:04] INFO: D:\\bld\\xgboost-split_1631904903843\\work\\src\\tree\\updater_prune.cc:101: tree pruning end, 30 extra nodes, 0 pruned nodes, max_depth=7\n",
      "[12:16:04] INFO: D:\\bld\\xgboost-split_1631904903843\\work\\src\\gbm\\gbtree.cc:860: drop 0 trees, weight = 1\n",
      "[12:16:04] INFO: D:\\bld\\xgboost-split_1631904903843\\work\\src\\tree\\updater_prune.cc:101: tree pruning end, 26 extra nodes, 0 pruned nodes, max_depth=6\n",
      "[12:16:04] INFO: D:\\bld\\xgboost-split_1631904903843\\work\\src\\gbm\\gbtree.cc:860: drop 0 trees, weight = 1\n",
      "[12:16:04] INFO: D:\\bld\\xgboost-split_1631904903843\\work\\src\\tree\\updater_prune.cc:101: tree pruning end, 44 extra nodes, 0 pruned nodes, max_depth=7\n",
      "[12:16:04] INFO: D:\\bld\\xgboost-split_1631904903843\\work\\src\\gbm\\gbtree.cc:860: drop 0 trees, weight = 1\n",
      "[12:16:04] INFO: D:\\bld\\xgboost-split_1631904903843\\work\\src\\tree\\updater_prune.cc:101: tree pruning end, 36 extra nodes, 0 pruned nodes, max_depth=7\n",
      "[12:16:04] INFO: D:\\bld\\xgboost-split_1631904903843\\work\\src\\gbm\\gbtree.cc:860: drop 0 trees, weight = 1\n",
      "[12:16:04] INFO: D:\\bld\\xgboost-split_1631904903843\\work\\src\\tree\\updater_prune.cc:101: tree pruning end, 46 extra nodes, 0 pruned nodes, max_depth=7\n",
      "[12:16:04] INFO: D:\\bld\\xgboost-split_1631904903843\\work\\src\\gbm\\gbtree.cc:860: drop 0 trees, weight = 1\n",
      "[12:16:04] INFO: D:\\bld\\xgboost-split_1631904903843\\work\\src\\tree\\updater_prune.cc:101: tree pruning end, 40 extra nodes, 0 pruned nodes, max_depth=7\n",
      "[12:16:04] INFO: D:\\bld\\xgboost-split_1631904903843\\work\\src\\gbm\\gbtree.cc:860: drop 0 trees, weight = 1\n",
      "[12:16:04] INFO: D:\\bld\\xgboost-split_1631904903843\\work\\src\\tree\\updater_prune.cc:101: tree pruning end, 28 extra nodes, 0 pruned nodes, max_depth=7\n",
      "[12:16:04] INFO: D:\\bld\\xgboost-split_1631904903843\\work\\src\\gbm\\gbtree.cc:860: drop 0 trees, weight = 1\n",
      "[12:16:04] INFO: D:\\bld\\xgboost-split_1631904903843\\work\\src\\tree\\updater_prune.cc:101: tree pruning end, 36 extra nodes, 0 pruned nodes, max_depth=7\n",
      "[12:16:04] INFO: D:\\bld\\xgboost-split_1631904903843\\work\\src\\gbm\\gbtree.cc:860: drop 0 trees, weight = 1\n",
      "[12:16:04] INFO: D:\\bld\\xgboost-split_1631904903843\\work\\src\\tree\\updater_prune.cc:101: tree pruning end, 50 extra nodes, 0 pruned nodes, max_depth=7\n",
      "[12:16:04] INFO: D:\\bld\\xgboost-split_1631904903843\\work\\src\\gbm\\gbtree.cc:860: drop 0 trees, weight = 1\n",
      "[12:16:04] INFO: D:\\bld\\xgboost-split_1631904903843\\work\\src\\tree\\updater_prune.cc:101: tree pruning end, 40 extra nodes, 0 pruned nodes, max_depth=7\n",
      "[12:16:04] INFO: D:\\bld\\xgboost-split_1631904903843\\work\\src\\gbm\\gbtree.cc:860: drop 0 trees, weight = 1\n",
      "[12:16:04] INFO: D:\\bld\\xgboost-split_1631904903843\\work\\src\\tree\\updater_prune.cc:101: tree pruning end, 34 extra nodes, 0 pruned nodes, max_depth=7\n",
      "[12:16:04] INFO: D:\\bld\\xgboost-split_1631904903843\\work\\src\\gbm\\gbtree.cc:860: drop 0 trees, weight = 1\n",
      "[12:16:04] INFO: D:\\bld\\xgboost-split_1631904903843\\work\\src\\tree\\updater_prune.cc:101: tree pruning end, 48 extra nodes, 0 pruned nodes, max_depth=7\n",
      "[12:16:04] INFO: D:\\bld\\xgboost-split_1631904903843\\work\\src\\gbm\\gbtree.cc:860: drop 0 trees, weight = 1\n",
      "[12:16:04] INFO: D:\\bld\\xgboost-split_1631904903843\\work\\src\\tree\\updater_prune.cc:101: tree pruning end, 38 extra nodes, 0 pruned nodes, max_depth=7\n",
      "[12:16:04] INFO: D:\\bld\\xgboost-split_1631904903843\\work\\src\\gbm\\gbtree.cc:860: drop 0 trees, weight = 1\n",
      "[12:16:04] INFO: D:\\bld\\xgboost-split_1631904903843\\work\\src\\tree\\updater_prune.cc:101: tree pruning end, 30 extra nodes, 0 pruned nodes, max_depth=7\n",
      "[12:16:04] INFO: D:\\bld\\xgboost-split_1631904903843\\work\\src\\gbm\\gbtree.cc:860: drop 0 trees, weight = 1\n",
      "[12:16:04] INFO: D:\\bld\\xgboost-split_1631904903843\\work\\src\\tree\\updater_prune.cc:101: tree pruning end, 30 extra nodes, 0 pruned nodes, max_depth=7\n",
      "[12:16:04] INFO: D:\\bld\\xgboost-split_1631904903843\\work\\src\\gbm\\gbtree.cc:860: drop 0 trees, weight = 1\n",
      "[12:16:04] INFO: D:\\bld\\xgboost-split_1631904903843\\work\\src\\tree\\updater_prune.cc:101: tree pruning end, 34 extra nodes, 0 pruned nodes, max_depth=6\n",
      "[12:16:04] INFO: D:\\bld\\xgboost-split_1631904903843\\work\\src\\gbm\\gbtree.cc:860: drop 0 trees, weight = 1\n",
      "[12:16:04] INFO: D:\\bld\\xgboost-split_1631904903843\\work\\src\\tree\\updater_prune.cc:101: tree pruning end, 30 extra nodes, 0 pruned nodes, max_depth=7\n",
      "[12:16:04] INFO: D:\\bld\\xgboost-split_1631904903843\\work\\src\\gbm\\gbtree.cc:860: drop 0 trees, weight = 1\n",
      "[12:16:04] INFO: D:\\bld\\xgboost-split_1631904903843\\work\\src\\tree\\updater_prune.cc:101: tree pruning end, 36 extra nodes, 0 pruned nodes, max_depth=7\n",
      "[12:16:04] INFO: D:\\bld\\xgboost-split_1631904903843\\work\\src\\gbm\\gbtree.cc:860: drop 0 trees, weight = 1\n",
      "[12:16:04] INFO: D:\\bld\\xgboost-split_1631904903843\\work\\src\\tree\\updater_prune.cc:101: tree pruning end, 28 extra nodes, 0 pruned nodes, max_depth=7\n",
      "[12:16:04] INFO: D:\\bld\\xgboost-split_1631904903843\\work\\src\\gbm\\gbtree.cc:860: drop 0 trees, weight = 1\n",
      "[12:16:04] INFO: D:\\bld\\xgboost-split_1631904903843\\work\\src\\tree\\updater_prune.cc:101: tree pruning end, 38 extra nodes, 0 pruned nodes, max_depth=7\n",
      "[12:16:04] INFO: D:\\bld\\xgboost-split_1631904903843\\work\\src\\gbm\\gbtree.cc:860: drop 0 trees, weight = 1\n",
      "[12:16:04] INFO: D:\\bld\\xgboost-split_1631904903843\\work\\src\\tree\\updater_prune.cc:101: tree pruning end, 26 extra nodes, 0 pruned nodes, max_depth=7\n",
      "[12:16:04] INFO: D:\\bld\\xgboost-split_1631904903843\\work\\src\\gbm\\gbtree.cc:860: drop 0 trees, weight = 1\n",
      "[12:16:04] INFO: D:\\bld\\xgboost-split_1631904903843\\work\\src\\tree\\updater_prune.cc:101: tree pruning end, 38 extra nodes, 0 pruned nodes, max_depth=6\n",
      "[12:16:04] INFO: D:\\bld\\xgboost-split_1631904903843\\work\\src\\gbm\\gbtree.cc:860: drop 0 trees, weight = 1\n",
      "[12:16:04] INFO: D:\\bld\\xgboost-split_1631904903843\\work\\src\\tree\\updater_prune.cc:101: tree pruning end, 38 extra nodes, 0 pruned nodes, max_depth=7\n",
      "[12:16:04] INFO: D:\\bld\\xgboost-split_1631904903843\\work\\src\\gbm\\gbtree.cc:860: drop 0 trees, weight = 1\n",
      "[12:16:04] INFO: D:\\bld\\xgboost-split_1631904903843\\work\\src\\tree\\updater_prune.cc:101: tree pruning end, 40 extra nodes, 0 pruned nodes, max_depth=7\n",
      "[12:16:04] INFO: D:\\bld\\xgboost-split_1631904903843\\work\\src\\gbm\\gbtree.cc:860: drop 0 trees, weight = 1\n",
      "[12:16:04] INFO: D:\\bld\\xgboost-split_1631904903843\\work\\src\\tree\\updater_prune.cc:101: tree pruning end, 24 extra nodes, 0 pruned nodes, max_depth=7\n",
      "[12:16:04] INFO: D:\\bld\\xgboost-split_1631904903843\\work\\src\\gbm\\gbtree.cc:860: drop 0 trees, weight = 1\n",
      "[12:16:04] INFO: D:\\bld\\xgboost-split_1631904903843\\work\\src\\tree\\updater_prune.cc:101: tree pruning end, 40 extra nodes, 0 pruned nodes, max_depth=7\n",
      "[12:16:04] INFO: D:\\bld\\xgboost-split_1631904903843\\work\\src\\gbm\\gbtree.cc:860: drop 0 trees, weight = 1\n",
      "[12:16:04] INFO: D:\\bld\\xgboost-split_1631904903843\\work\\src\\tree\\updater_prune.cc:101: tree pruning end, 30 extra nodes, 0 pruned nodes, max_depth=5\n",
      "[12:16:04] INFO: D:\\bld\\xgboost-split_1631904903843\\work\\src\\gbm\\gbtree.cc:860: drop 0 trees, weight = 1\n",
      "[12:16:04] INFO: D:\\bld\\xgboost-split_1631904903843\\work\\src\\tree\\updater_prune.cc:101: tree pruning end, 38 extra nodes, 0 pruned nodes, max_depth=7\n",
      "[12:16:04] INFO: D:\\bld\\xgboost-split_1631904903843\\work\\src\\gbm\\gbtree.cc:860: drop 0 trees, weight = 1\n",
      "[12:16:04] INFO: D:\\bld\\xgboost-split_1631904903843\\work\\src\\tree\\updater_prune.cc:101: tree pruning end, 24 extra nodes, 0 pruned nodes, max_depth=6\n",
      "[12:16:04] INFO: D:\\bld\\xgboost-split_1631904903843\\work\\src\\gbm\\gbtree.cc:860: drop 0 trees, weight = 1\n",
      "[12:16:04] INFO: D:\\bld\\xgboost-split_1631904903843\\work\\src\\tree\\updater_prune.cc:101: tree pruning end, 32 extra nodes, 0 pruned nodes, max_depth=6\n",
      "[12:16:04] INFO: D:\\bld\\xgboost-split_1631904903843\\work\\src\\gbm\\gbtree.cc:860: drop 0 trees, weight = 1\n",
      "[12:16:04] INFO: D:\\bld\\xgboost-split_1631904903843\\work\\src\\tree\\updater_prune.cc:101: tree pruning end, 38 extra nodes, 0 pruned nodes, max_depth=7\n",
      "[12:16:04] INFO: D:\\bld\\xgboost-split_1631904903843\\work\\src\\gbm\\gbtree.cc:860: drop 0 trees, weight = 1\n",
      "[12:16:04] INFO: D:\\bld\\xgboost-split_1631904903843\\work\\src\\tree\\updater_prune.cc:101: tree pruning end, 30 extra nodes, 0 pruned nodes, max_depth=7\n",
      "[12:16:04] INFO: D:\\bld\\xgboost-split_1631904903843\\work\\src\\gbm\\gbtree.cc:860: drop 0 trees, weight = 1\n",
      "[12:16:04] INFO: D:\\bld\\xgboost-split_1631904903843\\work\\src\\tree\\updater_prune.cc:101: tree pruning end, 30 extra nodes, 0 pruned nodes, max_depth=7\n",
      "[12:16:04] INFO: D:\\bld\\xgboost-split_1631904903843\\work\\src\\gbm\\gbtree.cc:860: drop 0 trees, weight = 1\n",
      "[12:16:04] INFO: D:\\bld\\xgboost-split_1631904903843\\work\\src\\tree\\updater_prune.cc:101: tree pruning end, 32 extra nodes, 0 pruned nodes, max_depth=7\n",
      "[12:16:04] INFO: D:\\bld\\xgboost-split_1631904903843\\work\\src\\gbm\\gbtree.cc:860: drop 0 trees, weight = 1\n",
      "[12:16:04] INFO: D:\\bld\\xgboost-split_1631904903843\\work\\src\\tree\\updater_prune.cc:101: tree pruning end, 48 extra nodes, 0 pruned nodes, max_depth=7\n"
     ]
    },
    {
     "name": "stdout",
     "output_type": "stream",
     "text": [
      "[12:16:04] INFO: D:\\bld\\xgboost-split_1631904903843\\work\\src\\gbm\\gbtree.cc:860: drop 0 trees, weight = 1\n",
      "[12:16:04] INFO: D:\\bld\\xgboost-split_1631904903843\\work\\src\\tree\\updater_prune.cc:101: tree pruning end, 30 extra nodes, 0 pruned nodes, max_depth=7\n",
      "[12:16:04] INFO: D:\\bld\\xgboost-split_1631904903843\\work\\src\\gbm\\gbtree.cc:860: drop 0 trees, weight = 1\n",
      "[12:16:04] INFO: D:\\bld\\xgboost-split_1631904903843\\work\\src\\tree\\updater_prune.cc:101: tree pruning end, 34 extra nodes, 0 pruned nodes, max_depth=7\n",
      "[12:16:04] INFO: D:\\bld\\xgboost-split_1631904903843\\work\\src\\gbm\\gbtree.cc:860: drop 0 trees, weight = 1\n",
      "[12:16:04] INFO: D:\\bld\\xgboost-split_1631904903843\\work\\src\\tree\\updater_prune.cc:101: tree pruning end, 28 extra nodes, 0 pruned nodes, max_depth=7\n",
      "[12:16:04] INFO: D:\\bld\\xgboost-split_1631904903843\\work\\src\\gbm\\gbtree.cc:860: drop 0 trees, weight = 1\n",
      "[12:16:04] INFO: D:\\bld\\xgboost-split_1631904903843\\work\\src\\tree\\updater_prune.cc:101: tree pruning end, 34 extra nodes, 0 pruned nodes, max_depth=6\n",
      "[12:16:04] INFO: D:\\bld\\xgboost-split_1631904903843\\work\\src\\gbm\\gbtree.cc:860: drop 0 trees, weight = 1\n",
      "[12:16:04] INFO: D:\\bld\\xgboost-split_1631904903843\\work\\src\\tree\\updater_prune.cc:101: tree pruning end, 32 extra nodes, 0 pruned nodes, max_depth=7\n",
      "[12:16:04] INFO: D:\\bld\\xgboost-split_1631904903843\\work\\src\\gbm\\gbtree.cc:860: drop 0 trees, weight = 1\n",
      "[12:16:04] INFO: D:\\bld\\xgboost-split_1631904903843\\work\\src\\tree\\updater_prune.cc:101: tree pruning end, 32 extra nodes, 0 pruned nodes, max_depth=7\n",
      "[12:16:04] INFO: D:\\bld\\xgboost-split_1631904903843\\work\\src\\gbm\\gbtree.cc:860: drop 0 trees, weight = 1\n",
      "[12:16:04] INFO: D:\\bld\\xgboost-split_1631904903843\\work\\src\\tree\\updater_prune.cc:101: tree pruning end, 36 extra nodes, 0 pruned nodes, max_depth=6\n",
      "[12:16:04] INFO: D:\\bld\\xgboost-split_1631904903843\\work\\src\\gbm\\gbtree.cc:860: drop 0 trees, weight = 1\n",
      "[12:16:04] INFO: D:\\bld\\xgboost-split_1631904903843\\work\\src\\tree\\updater_prune.cc:101: tree pruning end, 34 extra nodes, 0 pruned nodes, max_depth=7\n",
      "[12:16:04] INFO: D:\\bld\\xgboost-split_1631904903843\\work\\src\\gbm\\gbtree.cc:860: drop 0 trees, weight = 1\n",
      "[12:16:04] INFO: D:\\bld\\xgboost-split_1631904903843\\work\\src\\tree\\updater_prune.cc:101: tree pruning end, 38 extra nodes, 0 pruned nodes, max_depth=7\n",
      "[12:16:04] INFO: D:\\bld\\xgboost-split_1631904903843\\work\\src\\gbm\\gbtree.cc:860: drop 0 trees, weight = 1\n",
      "[12:16:04] INFO: D:\\bld\\xgboost-split_1631904903843\\work\\src\\tree\\updater_prune.cc:101: tree pruning end, 32 extra nodes, 0 pruned nodes, max_depth=7\n",
      "[12:16:04] INFO: D:\\bld\\xgboost-split_1631904903843\\work\\src\\gbm\\gbtree.cc:860: drop 0 trees, weight = 1\n",
      "[12:16:04] INFO: D:\\bld\\xgboost-split_1631904903843\\work\\src\\tree\\updater_prune.cc:101: tree pruning end, 26 extra nodes, 0 pruned nodes, max_depth=7\n",
      "[12:16:04] INFO: D:\\bld\\xgboost-split_1631904903843\\work\\src\\gbm\\gbtree.cc:860: drop 0 trees, weight = 1\n",
      "[12:16:04] INFO: D:\\bld\\xgboost-split_1631904903843\\work\\src\\tree\\updater_prune.cc:101: tree pruning end, 26 extra nodes, 0 pruned nodes, max_depth=7\n",
      "[12:16:04] INFO: D:\\bld\\xgboost-split_1631904903843\\work\\src\\gbm\\gbtree.cc:860: drop 0 trees, weight = 1\n",
      "[12:16:04] INFO: D:\\bld\\xgboost-split_1631904903843\\work\\src\\tree\\updater_prune.cc:101: tree pruning end, 38 extra nodes, 0 pruned nodes, max_depth=7\n",
      "[12:16:04] INFO: D:\\bld\\xgboost-split_1631904903843\\work\\src\\gbm\\gbtree.cc:860: drop 0 trees, weight = 1\n",
      "[12:16:04] INFO: D:\\bld\\xgboost-split_1631904903843\\work\\src\\tree\\updater_prune.cc:101: tree pruning end, 32 extra nodes, 0 pruned nodes, max_depth=6\n",
      "[12:16:04] INFO: D:\\bld\\xgboost-split_1631904903843\\work\\src\\gbm\\gbtree.cc:860: drop 0 trees, weight = 1\n",
      "[12:16:04] INFO: D:\\bld\\xgboost-split_1631904903843\\work\\src\\tree\\updater_prune.cc:101: tree pruning end, 30 extra nodes, 0 pruned nodes, max_depth=7\n",
      "[12:16:04] INFO: D:\\bld\\xgboost-split_1631904903843\\work\\src\\gbm\\gbtree.cc:860: drop 0 trees, weight = 1\n",
      "[12:16:04] INFO: D:\\bld\\xgboost-split_1631904903843\\work\\src\\tree\\updater_prune.cc:101: tree pruning end, 28 extra nodes, 0 pruned nodes, max_depth=7\n",
      "[12:16:04] INFO: D:\\bld\\xgboost-split_1631904903843\\work\\src\\gbm\\gbtree.cc:860: drop 0 trees, weight = 1\n",
      "[12:16:04] INFO: D:\\bld\\xgboost-split_1631904903843\\work\\src\\tree\\updater_prune.cc:101: tree pruning end, 34 extra nodes, 0 pruned nodes, max_depth=7\n",
      "[12:16:04] INFO: D:\\bld\\xgboost-split_1631904903843\\work\\src\\gbm\\gbtree.cc:860: drop 0 trees, weight = 1\n",
      "[12:16:04] INFO: D:\\bld\\xgboost-split_1631904903843\\work\\src\\tree\\updater_prune.cc:101: tree pruning end, 40 extra nodes, 0 pruned nodes, max_depth=7\n",
      "[12:16:04] INFO: D:\\bld\\xgboost-split_1631904903843\\work\\src\\gbm\\gbtree.cc:860: drop 0 trees, weight = 1\n",
      "[12:16:04] INFO: D:\\bld\\xgboost-split_1631904903843\\work\\src\\tree\\updater_prune.cc:101: tree pruning end, 40 extra nodes, 0 pruned nodes, max_depth=7\n",
      "[12:16:04] INFO: D:\\bld\\xgboost-split_1631904903843\\work\\src\\gbm\\gbtree.cc:860: drop 0 trees, weight = 1\n",
      "[12:16:04] INFO: D:\\bld\\xgboost-split_1631904903843\\work\\src\\tree\\updater_prune.cc:101: tree pruning end, 38 extra nodes, 0 pruned nodes, max_depth=7\n",
      "[12:16:04] INFO: D:\\bld\\xgboost-split_1631904903843\\work\\src\\gbm\\gbtree.cc:860: drop 0 trees, weight = 1\n",
      "[12:16:04] INFO: D:\\bld\\xgboost-split_1631904903843\\work\\src\\tree\\updater_prune.cc:101: tree pruning end, 24 extra nodes, 0 pruned nodes, max_depth=6\n",
      "[12:16:04] INFO: D:\\bld\\xgboost-split_1631904903843\\work\\src\\gbm\\gbtree.cc:860: drop 0 trees, weight = 1\n",
      "[12:16:04] INFO: D:\\bld\\xgboost-split_1631904903843\\work\\src\\tree\\updater_prune.cc:101: tree pruning end, 38 extra nodes, 0 pruned nodes, max_depth=7\n",
      "[12:16:04] INFO: D:\\bld\\xgboost-split_1631904903843\\work\\src\\gbm\\gbtree.cc:860: drop 0 trees, weight = 1\n",
      "[12:16:04] INFO: D:\\bld\\xgboost-split_1631904903843\\work\\src\\tree\\updater_prune.cc:101: tree pruning end, 26 extra nodes, 0 pruned nodes, max_depth=7\n",
      "[12:16:04] INFO: D:\\bld\\xgboost-split_1631904903843\\work\\src\\gbm\\gbtree.cc:860: drop 0 trees, weight = 1\n",
      "[12:16:04] ======== Monitor: Learner ========\n",
      "[12:16:04] Configure: 0.000437s, 1 calls @ 437us\n",
      "\n",
      "[12:16:04] EvalOneIter: 0.00061s, 150 calls @ 610us\n",
      "\n",
      "[12:16:04] GetGradient: 0.001008s, 150 calls @ 1008us\n",
      "\n",
      "[12:16:04] PredictRaw: 0.667311s, 150 calls @ 667311us\n",
      "\n",
      "[12:16:04] UpdateOneIter: 0.752497s, 150 calls @ 752497us\n",
      "\n",
      "[12:16:04] ======== Monitor: GBTree ========\n",
      "[12:16:04] BoostNewTrees: 0.058545s, 150 calls @ 58545us\n",
      "\n",
      "[12:16:04] ======== Monitor: TreePruner ========\n",
      "[12:16:04] PrunerUpdate: 0.012543s, 150 calls @ 12543us\n",
      "\n",
      "[12:16:07] DEBUG: D:\\bld\\xgboost-split_1631904903843\\work\\src\\gbm\\gbtree.cc:155: Using tree method: 2\n",
      "[12:16:07] INFO: D:\\bld\\xgboost-split_1631904903843\\work\\src\\tree\\updater_prune.cc:101: tree pruning end, 6 extra nodes, 0 pruned nodes, max_depth=2\n",
      "[12:16:07] INFO: D:\\bld\\xgboost-split_1631904903843\\work\\src\\tree\\updater_prune.cc:101: tree pruning end, 6 extra nodes, 0 pruned nodes, max_depth=2\n",
      "[12:16:07] INFO: D:\\bld\\xgboost-split_1631904903843\\work\\src\\tree\\updater_prune.cc:101: tree pruning end, 6 extra nodes, 0 pruned nodes, max_depth=2\n",
      "[12:16:07] INFO: D:\\bld\\xgboost-split_1631904903843\\work\\src\\tree\\updater_prune.cc:101: tree pruning end, 6 extra nodes, 0 pruned nodes, max_depth=2\n",
      "[12:16:07] INFO: D:\\bld\\xgboost-split_1631904903843\\work\\src\\tree\\updater_prune.cc:101: tree pruning end, 6 extra nodes, 0 pruned nodes, max_depth=2\n",
      "[12:16:07] INFO: D:\\bld\\xgboost-split_1631904903843\\work\\src\\tree\\updater_prune.cc:101: tree pruning end, 6 extra nodes, 0 pruned nodes, max_depth=2\n",
      "[12:16:07] INFO: D:\\bld\\xgboost-split_1631904903843\\work\\src\\tree\\updater_prune.cc:101: tree pruning end, 6 extra nodes, 0 pruned nodes, max_depth=2\n",
      "[12:16:07] INFO: D:\\bld\\xgboost-split_1631904903843\\work\\src\\tree\\updater_prune.cc:101: tree pruning end, 6 extra nodes, 0 pruned nodes, max_depth=2\n",
      "[12:16:07] INFO: D:\\bld\\xgboost-split_1631904903843\\work\\src\\tree\\updater_prune.cc:101: tree pruning end, 6 extra nodes, 0 pruned nodes, max_depth=2\n",
      "[12:16:07] INFO: D:\\bld\\xgboost-split_1631904903843\\work\\src\\tree\\updater_prune.cc:101: tree pruning end, 6 extra nodes, 0 pruned nodes, max_depth=2\n",
      "[12:16:07] INFO: D:\\bld\\xgboost-split_1631904903843\\work\\src\\tree\\updater_prune.cc:101: tree pruning end, 6 extra nodes, 0 pruned nodes, max_depth=2\n",
      "[12:16:07] INFO: D:\\bld\\xgboost-split_1631904903843\\work\\src\\tree\\updater_prune.cc:101: tree pruning end, 6 extra nodes, 0 pruned nodes, max_depth=2\n",
      "[12:16:07] INFO: D:\\bld\\xgboost-split_1631904903843\\work\\src\\tree\\updater_prune.cc:101: tree pruning end, 6 extra nodes, 0 pruned nodes, max_depth=2\n",
      "[12:16:07] INFO: D:\\bld\\xgboost-split_1631904903843\\work\\src\\tree\\updater_prune.cc:101: tree pruning end, 6 extra nodes, 0 pruned nodes, max_depth=2\n",
      "[12:16:07] INFO: D:\\bld\\xgboost-split_1631904903843\\work\\src\\tree\\updater_prune.cc:101: tree pruning end, 6 extra nodes, 0 pruned nodes, max_depth=2\n",
      "[12:16:07] INFO: D:\\bld\\xgboost-split_1631904903843\\work\\src\\tree\\updater_prune.cc:101: tree pruning end, 6 extra nodes, 0 pruned nodes, max_depth=2\n",
      "[12:16:07] INFO: D:\\bld\\xgboost-split_1631904903843\\work\\src\\tree\\updater_prune.cc:101: tree pruning end, 6 extra nodes, 0 pruned nodes, max_depth=2\n",
      "[12:16:07] INFO: D:\\bld\\xgboost-split_1631904903843\\work\\src\\tree\\updater_prune.cc:101: tree pruning end, 6 extra nodes, 0 pruned nodes, max_depth=2\n",
      "[12:16:07] INFO: D:\\bld\\xgboost-split_1631904903843\\work\\src\\tree\\updater_prune.cc:101: tree pruning end, 6 extra nodes, 0 pruned nodes, max_depth=2\n",
      "[12:16:07] INFO: D:\\bld\\xgboost-split_1631904903843\\work\\src\\tree\\updater_prune.cc:101: tree pruning end, 6 extra nodes, 0 pruned nodes, max_depth=2\n",
      "[12:16:07] INFO: D:\\bld\\xgboost-split_1631904903843\\work\\src\\tree\\updater_prune.cc:101: tree pruning end, 6 extra nodes, 0 pruned nodes, max_depth=2\n",
      "[12:16:07] INFO: D:\\bld\\xgboost-split_1631904903843\\work\\src\\tree\\updater_prune.cc:101: tree pruning end, 6 extra nodes, 0 pruned nodes, max_depth=2\n",
      "[12:16:07] INFO: D:\\bld\\xgboost-split_1631904903843\\work\\src\\tree\\updater_prune.cc:101: tree pruning end, 6 extra nodes, 0 pruned nodes, max_depth=2\n",
      "[12:16:07] INFO: D:\\bld\\xgboost-split_1631904903843\\work\\src\\tree\\updater_prune.cc:101: tree pruning end, 6 extra nodes, 0 pruned nodes, max_depth=2\n",
      "[12:16:07] INFO: D:\\bld\\xgboost-split_1631904903843\\work\\src\\tree\\updater_prune.cc:101: tree pruning end, 6 extra nodes, 0 pruned nodes, max_depth=2\n",
      "[12:16:07] INFO: D:\\bld\\xgboost-split_1631904903843\\work\\src\\tree\\updater_prune.cc:101: tree pruning end, 6 extra nodes, 0 pruned nodes, max_depth=2\n",
      "[12:16:07] INFO: D:\\bld\\xgboost-split_1631904903843\\work\\src\\tree\\updater_prune.cc:101: tree pruning end, 6 extra nodes, 0 pruned nodes, max_depth=2\n",
      "[12:16:07] INFO: D:\\bld\\xgboost-split_1631904903843\\work\\src\\tree\\updater_prune.cc:101: tree pruning end, 6 extra nodes, 0 pruned nodes, max_depth=2\n",
      "[12:16:07] INFO: D:\\bld\\xgboost-split_1631904903843\\work\\src\\tree\\updater_prune.cc:101: tree pruning end, 6 extra nodes, 0 pruned nodes, max_depth=2\n",
      "[12:16:07] INFO: D:\\bld\\xgboost-split_1631904903843\\work\\src\\tree\\updater_prune.cc:101: tree pruning end, 6 extra nodes, 0 pruned nodes, max_depth=2\n",
      "[12:16:07] INFO: D:\\bld\\xgboost-split_1631904903843\\work\\src\\tree\\updater_prune.cc:101: tree pruning end, 6 extra nodes, 0 pruned nodes, max_depth=2\n",
      "[12:16:07] INFO: D:\\bld\\xgboost-split_1631904903843\\work\\src\\tree\\updater_prune.cc:101: tree pruning end, 6 extra nodes, 0 pruned nodes, max_depth=2\n",
      "[12:16:07] INFO: D:\\bld\\xgboost-split_1631904903843\\work\\src\\tree\\updater_prune.cc:101: tree pruning end, 6 extra nodes, 0 pruned nodes, max_depth=2\n",
      "[12:16:07] INFO: D:\\bld\\xgboost-split_1631904903843\\work\\src\\tree\\updater_prune.cc:101: tree pruning end, 6 extra nodes, 0 pruned nodes, max_depth=2\n",
      "[12:16:07] INFO: D:\\bld\\xgboost-split_1631904903843\\work\\src\\tree\\updater_prune.cc:101: tree pruning end, 6 extra nodes, 0 pruned nodes, max_depth=2\n",
      "[12:16:07] INFO: D:\\bld\\xgboost-split_1631904903843\\work\\src\\tree\\updater_prune.cc:101: tree pruning end, 6 extra nodes, 0 pruned nodes, max_depth=2\n",
      "[12:16:07] INFO: D:\\bld\\xgboost-split_1631904903843\\work\\src\\tree\\updater_prune.cc:101: tree pruning end, 6 extra nodes, 0 pruned nodes, max_depth=2\n",
      "[12:16:07] INFO: D:\\bld\\xgboost-split_1631904903843\\work\\src\\tree\\updater_prune.cc:101: tree pruning end, 6 extra nodes, 0 pruned nodes, max_depth=2\n",
      "[12:16:07] INFO: D:\\bld\\xgboost-split_1631904903843\\work\\src\\tree\\updater_prune.cc:101: tree pruning end, 6 extra nodes, 0 pruned nodes, max_depth=2\n",
      "[12:16:07] INFO: D:\\bld\\xgboost-split_1631904903843\\work\\src\\tree\\updater_prune.cc:101: tree pruning end, 6 extra nodes, 0 pruned nodes, max_depth=2\n",
      "[12:16:07] INFO: D:\\bld\\xgboost-split_1631904903843\\work\\src\\tree\\updater_prune.cc:101: tree pruning end, 6 extra nodes, 0 pruned nodes, max_depth=2\n",
      "[12:16:07] INFO: D:\\bld\\xgboost-split_1631904903843\\work\\src\\tree\\updater_prune.cc:101: tree pruning end, 6 extra nodes, 0 pruned nodes, max_depth=2\n",
      "[12:16:07] INFO: D:\\bld\\xgboost-split_1631904903843\\work\\src\\tree\\updater_prune.cc:101: tree pruning end, 6 extra nodes, 0 pruned nodes, max_depth=2\n",
      "[12:16:07] INFO: D:\\bld\\xgboost-split_1631904903843\\work\\src\\tree\\updater_prune.cc:101: tree pruning end, 6 extra nodes, 0 pruned nodes, max_depth=2\n",
      "[12:16:07] INFO: D:\\bld\\xgboost-split_1631904903843\\work\\src\\tree\\updater_prune.cc:101: tree pruning end, 6 extra nodes, 0 pruned nodes, max_depth=2\n",
      "[12:16:07] INFO: D:\\bld\\xgboost-split_1631904903843\\work\\src\\tree\\updater_prune.cc:101: tree pruning end, 6 extra nodes, 0 pruned nodes, max_depth=2\n",
      "[12:16:07] INFO: D:\\bld\\xgboost-split_1631904903843\\work\\src\\tree\\updater_prune.cc:101: tree pruning end, 6 extra nodes, 0 pruned nodes, max_depth=2\n",
      "[12:16:07] INFO: D:\\bld\\xgboost-split_1631904903843\\work\\src\\tree\\updater_prune.cc:101: tree pruning end, 6 extra nodes, 0 pruned nodes, max_depth=2\n",
      "[12:16:07] INFO: D:\\bld\\xgboost-split_1631904903843\\work\\src\\tree\\updater_prune.cc:101: tree pruning end, 6 extra nodes, 0 pruned nodes, max_depth=2\n",
      "[12:16:07] INFO: D:\\bld\\xgboost-split_1631904903843\\work\\src\\tree\\updater_prune.cc:101: tree pruning end, 6 extra nodes, 0 pruned nodes, max_depth=2\n",
      "[12:16:07] INFO: D:\\bld\\xgboost-split_1631904903843\\work\\src\\tree\\updater_prune.cc:101: tree pruning end, 6 extra nodes, 0 pruned nodes, max_depth=2\n",
      "[12:16:07] INFO: D:\\bld\\xgboost-split_1631904903843\\work\\src\\tree\\updater_prune.cc:101: tree pruning end, 6 extra nodes, 0 pruned nodes, max_depth=2\n",
      "[12:16:07] INFO: D:\\bld\\xgboost-split_1631904903843\\work\\src\\tree\\updater_prune.cc:101: tree pruning end, 6 extra nodes, 0 pruned nodes, max_depth=2\n",
      "[12:16:07] INFO: D:\\bld\\xgboost-split_1631904903843\\work\\src\\tree\\updater_prune.cc:101: tree pruning end, 6 extra nodes, 0 pruned nodes, max_depth=2\n",
      "[12:16:07] INFO: D:\\bld\\xgboost-split_1631904903843\\work\\src\\tree\\updater_prune.cc:101: tree pruning end, 6 extra nodes, 0 pruned nodes, max_depth=2\n",
      "[12:16:07] INFO: D:\\bld\\xgboost-split_1631904903843\\work\\src\\tree\\updater_prune.cc:101: tree pruning end, 6 extra nodes, 0 pruned nodes, max_depth=2\n",
      "[12:16:07] INFO: D:\\bld\\xgboost-split_1631904903843\\work\\src\\tree\\updater_prune.cc:101: tree pruning end, 6 extra nodes, 0 pruned nodes, max_depth=2\n",
      "[12:16:07] INFO: D:\\bld\\xgboost-split_1631904903843\\work\\src\\tree\\updater_prune.cc:101: tree pruning end, 6 extra nodes, 0 pruned nodes, max_depth=2\n",
      "[12:16:07] INFO: D:\\bld\\xgboost-split_1631904903843\\work\\src\\tree\\updater_prune.cc:101: tree pruning end, 6 extra nodes, 0 pruned nodes, max_depth=2\n",
      "[12:16:07] INFO: D:\\bld\\xgboost-split_1631904903843\\work\\src\\tree\\updater_prune.cc:101: tree pruning end, 6 extra nodes, 0 pruned nodes, max_depth=2\n",
      "[12:16:07] INFO: D:\\bld\\xgboost-split_1631904903843\\work\\src\\tree\\updater_prune.cc:101: tree pruning end, 6 extra nodes, 0 pruned nodes, max_depth=2\n",
      "[12:16:07] INFO: D:\\bld\\xgboost-split_1631904903843\\work\\src\\tree\\updater_prune.cc:101: tree pruning end, 6 extra nodes, 0 pruned nodes, max_depth=2\n",
      "[12:16:07] INFO: D:\\bld\\xgboost-split_1631904903843\\work\\src\\tree\\updater_prune.cc:101: tree pruning end, 6 extra nodes, 0 pruned nodes, max_depth=2\n",
      "[12:16:07] INFO: D:\\bld\\xgboost-split_1631904903843\\work\\src\\tree\\updater_prune.cc:101: tree pruning end, 6 extra nodes, 0 pruned nodes, max_depth=2\n",
      "[12:16:07] INFO: D:\\bld\\xgboost-split_1631904903843\\work\\src\\tree\\updater_prune.cc:101: tree pruning end, 6 extra nodes, 0 pruned nodes, max_depth=2\n",
      "[12:16:07] INFO: D:\\bld\\xgboost-split_1631904903843\\work\\src\\tree\\updater_prune.cc:101: tree pruning end, 6 extra nodes, 0 pruned nodes, max_depth=2\n",
      "[12:16:07] INFO: D:\\bld\\xgboost-split_1631904903843\\work\\src\\tree\\updater_prune.cc:101: tree pruning end, 6 extra nodes, 0 pruned nodes, max_depth=2\n",
      "[12:16:07] INFO: D:\\bld\\xgboost-split_1631904903843\\work\\src\\tree\\updater_prune.cc:101: tree pruning end, 6 extra nodes, 0 pruned nodes, max_depth=2\n",
      "[12:16:07] INFO: D:\\bld\\xgboost-split_1631904903843\\work\\src\\tree\\updater_prune.cc:101: tree pruning end, 6 extra nodes, 0 pruned nodes, max_depth=2\n",
      "[12:16:07] INFO: D:\\bld\\xgboost-split_1631904903843\\work\\src\\tree\\updater_prune.cc:101: tree pruning end, 6 extra nodes, 0 pruned nodes, max_depth=2\n",
      "[12:16:07] INFO: D:\\bld\\xgboost-split_1631904903843\\work\\src\\tree\\updater_prune.cc:101: tree pruning end, 6 extra nodes, 0 pruned nodes, max_depth=2\n",
      "[12:16:07] INFO: D:\\bld\\xgboost-split_1631904903843\\work\\src\\tree\\updater_prune.cc:101: tree pruning end, 6 extra nodes, 0 pruned nodes, max_depth=2\n",
      "[12:16:07] INFO: D:\\bld\\xgboost-split_1631904903843\\work\\src\\tree\\updater_prune.cc:101: tree pruning end, 6 extra nodes, 0 pruned nodes, max_depth=2\n",
      "[12:16:07] INFO: D:\\bld\\xgboost-split_1631904903843\\work\\src\\tree\\updater_prune.cc:101: tree pruning end, 6 extra nodes, 0 pruned nodes, max_depth=2\n",
      "[12:16:07] INFO: D:\\bld\\xgboost-split_1631904903843\\work\\src\\tree\\updater_prune.cc:101: tree pruning end, 6 extra nodes, 0 pruned nodes, max_depth=2\n",
      "[12:16:07] INFO: D:\\bld\\xgboost-split_1631904903843\\work\\src\\tree\\updater_prune.cc:101: tree pruning end, 6 extra nodes, 0 pruned nodes, max_depth=2\n",
      "[12:16:07] INFO: D:\\bld\\xgboost-split_1631904903843\\work\\src\\tree\\updater_prune.cc:101: tree pruning end, 6 extra nodes, 0 pruned nodes, max_depth=2\n",
      "[12:16:07] INFO: D:\\bld\\xgboost-split_1631904903843\\work\\src\\tree\\updater_prune.cc:101: tree pruning end, 6 extra nodes, 0 pruned nodes, max_depth=2\n",
      "[12:16:07] INFO: D:\\bld\\xgboost-split_1631904903843\\work\\src\\tree\\updater_prune.cc:101: tree pruning end, 6 extra nodes, 0 pruned nodes, max_depth=2\n",
      "[12:16:07] INFO: D:\\bld\\xgboost-split_1631904903843\\work\\src\\tree\\updater_prune.cc:101: tree pruning end, 6 extra nodes, 0 pruned nodes, max_depth=2\n",
      "[12:16:07] INFO: D:\\bld\\xgboost-split_1631904903843\\work\\src\\tree\\updater_prune.cc:101: tree pruning end, 6 extra nodes, 0 pruned nodes, max_depth=2\n",
      "[12:16:07] INFO: D:\\bld\\xgboost-split_1631904903843\\work\\src\\tree\\updater_prune.cc:101: tree pruning end, 6 extra nodes, 0 pruned nodes, max_depth=2\n",
      "[12:16:07] INFO: D:\\bld\\xgboost-split_1631904903843\\work\\src\\tree\\updater_prune.cc:101: tree pruning end, 4 extra nodes, 0 pruned nodes, max_depth=2\n",
      "[12:16:07] INFO: D:\\bld\\xgboost-split_1631904903843\\work\\src\\tree\\updater_prune.cc:101: tree pruning end, 4 extra nodes, 0 pruned nodes, max_depth=2\n",
      "[12:16:07] INFO: D:\\bld\\xgboost-split_1631904903843\\work\\src\\tree\\updater_prune.cc:101: tree pruning end, 2 extra nodes, 0 pruned nodes, max_depth=1\n",
      "[12:16:07] INFO: D:\\bld\\xgboost-split_1631904903843\\work\\src\\tree\\updater_prune.cc:101: tree pruning end, 2 extra nodes, 0 pruned nodes, max_depth=1\n",
      "[12:16:07] INFO: D:\\bld\\xgboost-split_1631904903843\\work\\src\\tree\\updater_prune.cc:101: tree pruning end, 2 extra nodes, 0 pruned nodes, max_depth=1\n",
      "[12:16:07] INFO: D:\\bld\\xgboost-split_1631904903843\\work\\src\\tree\\updater_prune.cc:101: tree pruning end, 2 extra nodes, 0 pruned nodes, max_depth=1\n",
      "[12:16:07] INFO: D:\\bld\\xgboost-split_1631904903843\\work\\src\\tree\\updater_prune.cc:101: tree pruning end, 2 extra nodes, 0 pruned nodes, max_depth=1\n",
      "[12:16:07] INFO: D:\\bld\\xgboost-split_1631904903843\\work\\src\\tree\\updater_prune.cc:101: tree pruning end, 2 extra nodes, 0 pruned nodes, max_depth=1\n",
      "[12:16:07] ======== Monitor: Learner ========\n",
      "[12:16:07] Configure: 0.00036s, 1 calls @ 360us\n",
      "\n",
      "[12:16:07] EvalOneIter: 0.000318s, 90 calls @ 318us\n",
      "\n",
      "[12:16:07] GetGradient: 0.000609s, 90 calls @ 609us\n",
      "\n",
      "[12:16:07] PredictRaw: 0.00499s, 90 calls @ 4990us\n",
      "\n",
      "[12:16:07] UpdateOneIter: 0.017719s, 90 calls @ 17719us\n",
      "\n",
      "[12:16:07] ======== Monitor: GBTree ========\n",
      "[12:16:07] BoostNewTrees: 0.011198s, 90 calls @ 11198us\n",
      "\n",
      "[12:16:07] CommitModel: 2.3e-05s, 90 calls @ 23us\n",
      "\n",
      "[12:16:07] ======== Monitor: TreePruner ========\n",
      "[12:16:07] PrunerUpdate: 0.004371s, 90 calls @ 4371us\n",
      "\n"
     ]
    },
    {
     "name": "stdout",
     "output_type": "stream",
     "text": [
      "3 models Voting Results : 0.8379888268156425\n"
     ]
    }
   ],
   "source": [
    "ensemble_clf_soft = VotingClassifier(\n",
    "    estimators=[ (\"rf\",rf_kf_rgs_best), (\"xgboost\",xgbc_kf_rgs_best),(\"lightgbm\",lgbm_kf_rgs_best),(\"sclf\",best_m4)], \n",
    "    voting=\"soft\",\n",
    "    weights=[2, 2,3,2]\n",
    ")\n",
    "\n",
    "ensemble_clf_soft.fit(X_train,y_train)\n",
    "ensemble_clf_soft_pred = ensemble_clf_soft.predict(X_test)\n",
    "print(\"4 models Voting Results :\", accuracy_score(y_test,ensemble_clf_soft_pred ))"
   ]
  },
  {
   "cell_type": "code",
   "execution_count": null,
   "id": "b20e036a",
   "metadata": {},
   "outputs": [],
   "source": []
  },
  {
   "cell_type": "code",
   "execution_count": null,
   "id": "5f530090",
   "metadata": {},
   "outputs": [],
   "source": []
  }
 ],
 "metadata": {
  "kernelspec": {
   "display_name": "Python 3",
   "language": "python",
   "name": "python3"
  },
  "language_info": {
   "codemirror_mode": {
    "name": "ipython",
    "version": 3
   },
   "file_extension": ".py",
   "mimetype": "text/x-python",
   "name": "python",
   "nbconvert_exporter": "python",
   "pygments_lexer": "ipython3",
   "version": "3.8.8"
  }
 },
 "nbformat": 4,
 "nbformat_minor": 5
}
